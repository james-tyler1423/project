{
 "cells": [
  {
   "cell_type": "code",
   "execution_count": 2,
   "metadata": {},
   "outputs": [],
   "source": [
    "from bs4 import BeautifulSoup\n",
    "from urllib.request import urlopen\n",
    "import pandas as pd\n",
    "import numpy as np\n",
    "\n",
    "from concurrent.futures import ThreadPoolExecutor, as_completed\n",
    "from urllib.error import URLError\n",
    "from tqdm import tqdm\n",
    "import re\n",
    "import json"
   ]
  },
  {
   "cell_type": "markdown",
   "metadata": {},
   "source": [
    "# OWGR Tournament Gathering"
   ]
  },
  {
   "cell_type": "code",
   "execution_count": 3,
   "metadata": {},
   "outputs": [],
   "source": [
    "def process_tournament_owgr(tournament_id):\n",
    "    tournament_id = str(tournament_id)\n",
    "    url = \"https://www.owgr.com/events/\" + tournament_id\n",
    "\n",
    "    try:\n",
    "        # get the Scores:\n",
    "\n",
    "        html = urlopen(url)\n",
    "        soup = BeautifulSoup(html, 'lxml')\n",
    "        \n",
    "        # Find the table\n",
    "        table = soup.find('table')\n",
    "\n",
    "        # Get all rows from the table\n",
    "        rows = table.find_all('tr')\n",
    "\n",
    "        # Initialize a list to store table data\n",
    "        table_data = []\n",
    "\n",
    "        # Iterate through each row\n",
    "        for row in rows:\n",
    "            # Get all cells (both headers and regular data)\n",
    "            cells = row.find_all(['th', 'td'])\n",
    "            \n",
    "            # Initialize a list to store row data\n",
    "            row_data = []\n",
    "            \n",
    "            # Iterate through each cell\n",
    "            for cell in cells:\n",
    "                # Check if the cell contains a link (for player profile)\n",
    "                a_tag = cell.find('a', href=True)\n",
    "                if a_tag:\n",
    "                    # Extract the href attribute (player profile link)\n",
    "                    player_id = a_tag['href'].split('-')[-1]  # Extract player ID (e.g., 'greg-dalziel-28451')\n",
    "                    row_data.append(player_id)    \n",
    "                       \n",
    "                # adding data\n",
    "                text = cell.get_text(strip=True)\n",
    "\n",
    "                # this is special case for first row, want to add in player ids, which we do above by searching a tags\n",
    "                if text == \"NAME\":\n",
    "                    row_data.append(\"player_id\")\n",
    "\n",
    "                # another special case when bonus points are awarded\n",
    "                if \"Bonus Points\" in text:\n",
    "                    row_data.append(\"\")\n",
    "\n",
    "                # always append the text\n",
    "                row_data.append(text)\n",
    "            \n",
    "            # Add non-empty row data to the table_data list\n",
    "            if row_data:\n",
    "                table_data.append(row_data)\n",
    "\n",
    "        # Get metadata:\n",
    "        \n",
    "        # Dictionary to store the event information\n",
    "        event_info = {}\n",
    "\n",
    "        # Find the div containing the week info (span with the specific classes)\n",
    "        week_spans = soup.find_all('span', class_='boldedString_content__bolded__QAKW8')\n",
    "        if week_spans and len(week_spans) >= 2:\n",
    "            week_number = week_spans[0].get_text(strip=True)\n",
    "            week_value = week_spans[1].get_text(strip=True)\n",
    "            event_info['Week'] = f\"{week_number} {week_value}\"\n",
    "\n",
    "        # Find the exact event date by targeting spans with specific text pattern\n",
    "        date_spans = soup.find_all('span', class_='boldedString_content__normal__NreGx')\n",
    "        if date_spans and len(date_spans) >= 2:\n",
    "            # Ensuring that only the relevant spans are captured (month/day/year)\n",
    "            event_date = ' '.join([span.get_text(strip=True) for span in date_spans[:3]])\n",
    "            event_info['Event Date'] = event_date\n",
    "\n",
    "        # Find the div with event title (event name)\n",
    "        event_title = soup.find('div', class_='eventTitleComponent_name__C2ZKJ')\n",
    "        if event_title:\n",
    "            event_info['Event Title'] = event_title.get_text(strip=True)\n",
    "\n",
    "        # Find the div with the field rating\n",
    "        field_rating = soup.find('div', class_='eventTitleComponent_rating__4UcQg')\n",
    "        if field_rating:\n",
    "            event_info['Field Rating'] = re.search(r'\\d+\\.\\d+', field_rating.get_text(strip=True)).group()\n",
    "\n",
    "        event_info[\"tournament_id\"] = tournament_id\n",
    "        # tour information\n",
    "\n",
    "        # Find the script tag with the specific id and type\n",
    "        script_tag = soup.find('script', {'id': '__NEXT_DATA__', 'type': 'application/json'})\n",
    "\n",
    "        # Extract the content inside the tag (which is a JSON string)\n",
    "        json_data = script_tag.string\n",
    "\n",
    "        # Parse the JSON string into a Python dictionary\n",
    "        data = json.loads(json_data)\n",
    "\n",
    "        tour_info = data[\"props\"][\"pageProps\"][\"eventDetailsData\"][\"eventDetails\"][\"tours\"][0]\n",
    "        \n",
    "        merged_dict = dict(event_info, **tour_info)\n",
    "\n",
    "        scores_df = pd.DataFrame(table_data[1:], columns=table_data[0])\n",
    "        scores_df[\"tournament_id\"] = tournament_id\n",
    "\n",
    "        return scores_df, pd.DataFrame([merged_dict])\n",
    "    \n",
    "    except URLError as e:\n",
    "        print(f\"Error opening URL for tournament {tournament_id}: {e}\")\n",
    "        return pd.DataFrame(), pd.DataFrame()  # Return an empty dataframe on error\n",
    "    \n",
    "    except Exception as e:\n",
    "        print(f\"Error processing tournament {tournament_id}: {e}\")\n",
    "        return pd.DataFrame(), pd.DataFrame()  # Return an empty dataframe on any other error\n",
    "\n",
    "def process_tournaments(tournament_ids):\n",
    "    all_table_data = []\n",
    "    all_merged_data = []\n",
    "\n",
    "    # Using ThreadPoolExecutor for multithreading\n",
    "    with ThreadPoolExecutor(max_workers=8) as executor:\n",
    "        futures = {executor.submit(process_tournament_owgr, tid): tid for tid in tournament_ids}\n",
    "\n",
    "        # Use tqdm to show progress\n",
    "        for future in tqdm(as_completed(futures), total=len(futures), desc=\"Processing tournaments\"):\n",
    "            try:\n",
    "                table_data, merged_data = future.result()\n",
    "                all_table_data.append(table_data)\n",
    "                all_merged_data.append(merged_data)\n",
    "            except Exception as e:\n",
    "                print(f\"Error processing tournament: {e}\")\n",
    "\n",
    "    # Concatenate all DataFrames collected\n",
    "    concatenated_table_data = pd.concat(all_table_data, ignore_index=True) if all_table_data else pd.DataFrame()\n",
    "    concatenated_merged_data = pd.concat(all_merged_data, ignore_index=True) if all_merged_data else pd.DataFrame()\n",
    "\n",
    "    return concatenated_table_data, concatenated_merged_data"
   ]
  },
  {
   "cell_type": "code",
   "execution_count": 4,
   "metadata": {},
   "outputs": [
    {
     "name": "stderr",
     "output_type": "stream",
     "text": [
      "Processing tournaments:  13%|█▎        | 1430/10608 [04:15<24:15,  6.30it/s]  "
     ]
    },
    {
     "name": "stdout",
     "output_type": "stream",
     "text": [
      "Error opening URL for tournament 1434: HTTP Error 500: Internal Server Error\n"
     ]
    },
    {
     "name": "stderr",
     "output_type": "stream",
     "text": [
      "Processing tournaments:  21%|██        | 2192/10608 [06:37<18:33,  7.56it/s]  "
     ]
    },
    {
     "name": "stdout",
     "output_type": "stream",
     "text": [
      "Error opening URL for tournament 2195: HTTP Error 500: Internal Server Error\n"
     ]
    },
    {
     "name": "stderr",
     "output_type": "stream",
     "text": [
      "Processing tournaments:  24%|██▍       | 2559/10608 [07:49<37:01,  3.62it/s]"
     ]
    },
    {
     "name": "stdout",
     "output_type": "stream",
     "text": [
      "Error opening URL for tournament 2564: HTTP Error 500: Internal Server Error\n"
     ]
    },
    {
     "name": "stderr",
     "output_type": "stream",
     "text": [
      "Processing tournaments:  25%|██▌       | 2656/10608 [08:09<25:28,  5.20it/s]"
     ]
    },
    {
     "name": "stdout",
     "output_type": "stream",
     "text": [
      "Error opening URL for tournament 2661: HTTP Error 500: Internal Server Error\n"
     ]
    },
    {
     "name": "stderr",
     "output_type": "stream",
     "text": [
      "Processing tournaments:  26%|██▌       | 2752/10608 [08:29<21:34,  6.07it/s]"
     ]
    },
    {
     "name": "stdout",
     "output_type": "stream",
     "text": [
      "Error processing tournament 2757: list index out of range\n"
     ]
    },
    {
     "name": "stderr",
     "output_type": "stream",
     "text": [
      "Processing tournaments:  26%|██▌       | 2763/10608 [08:31<22:23,  5.84it/s]"
     ]
    },
    {
     "name": "stdout",
     "output_type": "stream",
     "text": [
      "Error processing tournament 2766: list index out of range\n"
     ]
    },
    {
     "name": "stderr",
     "output_type": "stream",
     "text": [
      "Processing tournaments:  27%|██▋       | 2887/10608 [08:54<22:02,  5.84it/s]"
     ]
    },
    {
     "name": "stdout",
     "output_type": "stream",
     "text": [
      "Error opening URL for tournament 2890: HTTP Error 500: Internal Server Error\n"
     ]
    },
    {
     "name": "stderr",
     "output_type": "stream",
     "text": [
      "Processing tournaments:  28%|██▊       | 3013/10608 [09:20<16:40,  7.59it/s]"
     ]
    },
    {
     "name": "stdout",
     "output_type": "stream",
     "text": [
      "Error opening URL for tournament 3014: HTTP Error 500: Internal Server Error\n"
     ]
    },
    {
     "name": "stderr",
     "output_type": "stream",
     "text": [
      "Processing tournaments:  34%|███▍      | 3599/10608 [11:26<20:01,  5.83it/s]"
     ]
    },
    {
     "name": "stdout",
     "output_type": "stream",
     "text": [
      "Error opening URL for tournament 3601: HTTP Error 500: Internal Server Error\n"
     ]
    },
    {
     "name": "stderr",
     "output_type": "stream",
     "text": [
      "Processing tournaments:  34%|███▍      | 3604/10608 [11:27<25:18,  4.61it/s]"
     ]
    },
    {
     "name": "stdout",
     "output_type": "stream",
     "text": [
      "Error opening URL for tournament 3609: HTTP Error 500: Internal Server Error\n"
     ]
    },
    {
     "name": "stderr",
     "output_type": "stream",
     "text": [
      "Processing tournaments:  34%|███▍      | 3609/10608 [11:28<18:59,  6.14it/s]"
     ]
    },
    {
     "name": "stdout",
     "output_type": "stream",
     "text": [
      "Error opening URL for tournament 3612: HTTP Error 500: Internal Server Error\n",
      "Error opening URL for tournament 3611: HTTP Error 500: Internal Server Error\n",
      "Error opening URL for tournament 3610: HTTP Error 500: Internal Server Error\n",
      "Error opening URL for tournament 3613: HTTP Error 500: Internal Server Error\n"
     ]
    },
    {
     "name": "stderr",
     "output_type": "stream",
     "text": [
      "Processing tournaments:  35%|███▌      | 3716/10608 [11:53<20:13,  5.68it/s]"
     ]
    },
    {
     "name": "stdout",
     "output_type": "stream",
     "text": [
      "Error opening URL for tournament 3718: HTTP Error 500: Internal Server Error\n"
     ]
    },
    {
     "name": "stderr",
     "output_type": "stream",
     "text": [
      "Processing tournaments:  36%|███▌      | 3778/10608 [12:09<19:58,  5.70it/s]"
     ]
    },
    {
     "name": "stdout",
     "output_type": "stream",
     "text": [
      "Error opening URL for tournament 3780: HTTP Error 500: Internal Server Error\n"
     ]
    },
    {
     "name": "stderr",
     "output_type": "stream",
     "text": [
      "Processing tournaments:  36%|███▌      | 3829/10608 [12:21<16:30,  6.84it/s]"
     ]
    },
    {
     "name": "stdout",
     "output_type": "stream",
     "text": [
      "Error opening URL for tournament 3830: HTTP Error 500: Internal Server Error\n"
     ]
    },
    {
     "name": "stderr",
     "output_type": "stream",
     "text": [
      "Processing tournaments:  36%|███▌      | 3839/10608 [12:23<15:49,  7.13it/s]"
     ]
    },
    {
     "name": "stdout",
     "output_type": "stream",
     "text": [
      "Error opening URL for tournament 3842: HTTP Error 500: Internal Server Error\n"
     ]
    },
    {
     "name": "stderr",
     "output_type": "stream",
     "text": [
      "Processing tournaments:  37%|███▋      | 3881/10608 [12:32<19:07,  5.86it/s]"
     ]
    },
    {
     "name": "stdout",
     "output_type": "stream",
     "text": [
      "Error opening URL for tournament 3885: HTTP Error 500: Internal Server Error\n"
     ]
    },
    {
     "name": "stderr",
     "output_type": "stream",
     "text": [
      "Processing tournaments:  37%|███▋      | 3896/10608 [12:35<17:47,  6.29it/s]"
     ]
    },
    {
     "name": "stdout",
     "output_type": "stream",
     "text": [
      "Error opening URL for tournament 3900: HTTP Error 500: Internal Server Error\n",
      "Error opening URL for tournament 3899: HTTP Error 500: Internal Server Error\n",
      "Error opening URL for tournament 3901: HTTP Error 500: Internal Server Error\n"
     ]
    },
    {
     "name": "stderr",
     "output_type": "stream",
     "text": [
      "Processing tournaments:  37%|███▋      | 3900/10608 [12:36<15:39,  7.14it/s]"
     ]
    },
    {
     "name": "stdout",
     "output_type": "stream",
     "text": [
      "Error opening URL for tournament 3903: HTTP Error 500: Internal Server Error\n",
      "Error opening URL for tournament 3902: HTTP Error 500: Internal Server Error\n"
     ]
    },
    {
     "name": "stderr",
     "output_type": "stream",
     "text": [
      "Processing tournaments:  37%|███▋      | 3902/10608 [12:36<12:40,  8.82it/s]"
     ]
    },
    {
     "name": "stdout",
     "output_type": "stream",
     "text": [
      "Error opening URL for tournament 3905: HTTP Error 500: Internal Server Error\n"
     ]
    },
    {
     "name": "stderr",
     "output_type": "stream",
     "text": [
      "Processing tournaments:  37%|███▋      | 3906/10608 [12:37<15:23,  7.26it/s]"
     ]
    },
    {
     "name": "stdout",
     "output_type": "stream",
     "text": [
      "Error opening URL for tournament 3910: HTTP Error 500: Internal Server Error\n"
     ]
    },
    {
     "name": "stderr",
     "output_type": "stream",
     "text": [
      "Processing tournaments:  37%|███▋      | 3908/10608 [12:37<17:03,  6.54it/s]"
     ]
    },
    {
     "name": "stdout",
     "output_type": "stream",
     "text": [
      "Error opening URL for tournament 3911: HTTP Error 500: Internal Server Error\n"
     ]
    },
    {
     "name": "stderr",
     "output_type": "stream",
     "text": [
      "Processing tournaments:  37%|███▋      | 3912/10608 [12:38<22:57,  4.86it/s]"
     ]
    },
    {
     "name": "stdout",
     "output_type": "stream",
     "text": [
      "Error opening URL for tournament 3918: HTTP Error 500: Internal Server Error\n"
     ]
    },
    {
     "name": "stderr",
     "output_type": "stream",
     "text": [
      "Processing tournaments:  37%|███▋      | 3918/10608 [12:40<30:02,  3.71it/s]"
     ]
    },
    {
     "name": "stdout",
     "output_type": "stream",
     "text": [
      "Error opening URL for tournament 3925: HTTP Error 500: Internal Server Error\n"
     ]
    },
    {
     "name": "stderr",
     "output_type": "stream",
     "text": [
      "Processing tournaments:  37%|███▋      | 3922/10608 [12:40<22:49,  4.88it/s]"
     ]
    },
    {
     "name": "stdout",
     "output_type": "stream",
     "text": [
      "Error opening URL for tournament 3926: HTTP Error 500: Internal Server Error\n",
      "Error opening URL for tournament 3927: HTTP Error 500: Internal Server Error\n"
     ]
    },
    {
     "name": "stderr",
     "output_type": "stream",
     "text": [
      "Processing tournaments:  37%|███▋      | 3934/10608 [12:43<23:17,  4.78it/s]"
     ]
    },
    {
     "name": "stdout",
     "output_type": "stream",
     "text": [
      "Error opening URL for tournament 3939: HTTP Error 500: Internal Server Error\n"
     ]
    },
    {
     "name": "stderr",
     "output_type": "stream",
     "text": [
      "Processing tournaments:  37%|███▋      | 3939/10608 [12:43<15:07,  7.35it/s]"
     ]
    },
    {
     "name": "stdout",
     "output_type": "stream",
     "text": [
      "Error opening URL for tournament 3941: HTTP Error 500: Internal Server Error\n"
     ]
    },
    {
     "name": "stderr",
     "output_type": "stream",
     "text": [
      "Processing tournaments:  37%|███▋      | 3941/10608 [12:44<14:14,  7.80it/s]"
     ]
    },
    {
     "name": "stdout",
     "output_type": "stream",
     "text": [
      "Error opening URL for tournament 3942: HTTP Error 500: Internal Server Error\n",
      "Error opening URL for tournament 3943: HTTP Error 500: Internal Server Error\n"
     ]
    },
    {
     "name": "stderr",
     "output_type": "stream",
     "text": [
      "Processing tournaments:  37%|███▋      | 3943/10608 [12:44<15:40,  7.09it/s]"
     ]
    },
    {
     "name": "stdout",
     "output_type": "stream",
     "text": [
      "Error opening URL for tournament 3944: HTTP Error 500: Internal Server Error\n",
      "Error opening URL for tournament 3945: HTTP Error 500: Internal Server Error\n",
      "Error opening URL for tournament 3947: HTTP Error 500: Internal Server Error\n",
      "Error opening URL for tournament 3946: HTTP Error 500: Internal Server Error\n"
     ]
    },
    {
     "name": "stderr",
     "output_type": "stream",
     "text": [
      "Processing tournaments:  37%|███▋      | 3947/10608 [12:45<15:50,  7.01it/s]"
     ]
    },
    {
     "name": "stdout",
     "output_type": "stream",
     "text": [
      "Error opening URL for tournament 3949: HTTP Error 500: Internal Server Error\n",
      "Error opening URL for tournament 3950: HTTP Error 500: Internal Server Error\n",
      "Error opening URL for tournament 3940: HTTP Error 500: Internal Server Error\n"
     ]
    },
    {
     "name": "stderr",
     "output_type": "stream",
     "text": [
      "Processing tournaments:  37%|███▋      | 3951/10608 [12:45<18:50,  5.89it/s]"
     ]
    },
    {
     "name": "stdout",
     "output_type": "stream",
     "text": [
      "Error opening URL for tournament 3948: HTTP Error 500: Internal Server Error\n"
     ]
    },
    {
     "name": "stderr",
     "output_type": "stream",
     "text": [
      "Processing tournaments:  37%|███▋      | 3954/10608 [12:46<25:25,  4.36it/s]"
     ]
    },
    {
     "name": "stdout",
     "output_type": "stream",
     "text": [
      "Error opening URL for tournament 3959: HTTP Error 500: Internal Server Error\n"
     ]
    },
    {
     "name": "stderr",
     "output_type": "stream",
     "text": [
      "Processing tournaments:  37%|███▋      | 3967/10608 [12:49<14:35,  7.58it/s]"
     ]
    },
    {
     "name": "stdout",
     "output_type": "stream",
     "text": [
      "Error opening URL for tournament 3968: HTTP Error 500: Internal Server Error\n"
     ]
    },
    {
     "name": "stderr",
     "output_type": "stream",
     "text": [
      "Processing tournaments:  38%|███▊      | 3994/10608 [12:56<22:00,  5.01it/s]"
     ]
    },
    {
     "name": "stdout",
     "output_type": "stream",
     "text": [
      "Error opening URL for tournament 3999: HTTP Error 500: Internal Server Error\n"
     ]
    },
    {
     "name": "stderr",
     "output_type": "stream",
     "text": [
      "Processing tournaments:  38%|███▊      | 3998/10608 [12:56<14:28,  7.61it/s]"
     ]
    },
    {
     "name": "stdout",
     "output_type": "stream",
     "text": [
      "Error opening URL for tournament 4000: HTTP Error 500: Internal Server Error\n"
     ]
    },
    {
     "name": "stderr",
     "output_type": "stream",
     "text": [
      "Processing tournaments:  38%|███▊      | 4001/10608 [12:57<16:39,  6.61it/s]"
     ]
    },
    {
     "name": "stdout",
     "output_type": "stream",
     "text": [
      "Error opening URL for tournament 4001: HTTP Error 500: Internal Server Error\n"
     ]
    },
    {
     "name": "stderr",
     "output_type": "stream",
     "text": [
      "Processing tournaments:  38%|███▊      | 4006/10608 [12:59<26:40,  4.13it/s]"
     ]
    },
    {
     "name": "stdout",
     "output_type": "stream",
     "text": [
      "Error opening URL for tournament 4010: HTTP Error 500: Internal Server Error\n"
     ]
    },
    {
     "name": "stderr",
     "output_type": "stream",
     "text": [
      "Processing tournaments:  38%|███▊      | 4011/10608 [13:00<25:14,  4.36it/s]"
     ]
    },
    {
     "name": "stdout",
     "output_type": "stream",
     "text": [
      "Error opening URL for tournament 4015: HTTP Error 500: Internal Server Error\n"
     ]
    },
    {
     "name": "stderr",
     "output_type": "stream",
     "text": [
      "Processing tournaments:  38%|███▊      | 4014/10608 [13:00<25:54,  4.24it/s]"
     ]
    },
    {
     "name": "stdout",
     "output_type": "stream",
     "text": [
      "Error opening URL for tournament 4016: HTTP Error 500: Internal Server Error\n"
     ]
    },
    {
     "name": "stderr",
     "output_type": "stream",
     "text": [
      "Processing tournaments:  38%|███▊      | 4016/10608 [13:01<24:52,  4.42it/s]"
     ]
    },
    {
     "name": "stdout",
     "output_type": "stream",
     "text": [
      "Error opening URL for tournament 4021: HTTP Error 500: Internal Server Error\n",
      "Error opening URL for tournament 4022: HTTP Error 500: Internal Server Error\n"
     ]
    },
    {
     "name": "stderr",
     "output_type": "stream",
     "text": [
      "Processing tournaments:  38%|███▊      | 4020/10608 [13:01<17:29,  6.28it/s]"
     ]
    },
    {
     "name": "stdout",
     "output_type": "stream",
     "text": [
      "Error opening URL for tournament 4023: HTTP Error 500: Internal Server Error\n"
     ]
    },
    {
     "name": "stderr",
     "output_type": "stream",
     "text": [
      "Processing tournaments:  38%|███▊      | 4050/10608 [13:12<15:15,  7.17it/s]  "
     ]
    },
    {
     "name": "stdout",
     "output_type": "stream",
     "text": [
      "Error opening URL for tournament 4053: HTTP Error 500: Internal Server Error\n",
      "Error opening URL for tournament 4054: HTTP Error 500: Internal Server Error\n"
     ]
    },
    {
     "name": "stderr",
     "output_type": "stream",
     "text": [
      "Processing tournaments:  38%|███▊      | 4053/10608 [13:13<21:31,  5.08it/s]"
     ]
    },
    {
     "name": "stdout",
     "output_type": "stream",
     "text": [
      "Error opening URL for tournament 4058: HTTP Error 500: Internal Server Error\n"
     ]
    },
    {
     "name": "stderr",
     "output_type": "stream",
     "text": [
      "Processing tournaments:  39%|███▉      | 4125/10608 [13:31<19:59,  5.40it/s]"
     ]
    },
    {
     "name": "stdout",
     "output_type": "stream",
     "text": [
      "Error opening URL for tournament 4130: HTTP Error 500: Internal Server Error\n"
     ]
    },
    {
     "name": "stderr",
     "output_type": "stream",
     "text": [
      "Processing tournaments:  39%|███▉      | 4135/10608 [13:33<21:31,  5.01it/s]"
     ]
    },
    {
     "name": "stdout",
     "output_type": "stream",
     "text": [
      "Error opening URL for tournament 4137: HTTP Error 500: Internal Server Error\n",
      "Error opening URL for tournament 4139: HTTP Error 500: Internal Server Error\n"
     ]
    },
    {
     "name": "stderr",
     "output_type": "stream",
     "text": [
      "Processing tournaments:  39%|███▉      | 4150/10608 [13:37<21:03,  5.11it/s]"
     ]
    },
    {
     "name": "stdout",
     "output_type": "stream",
     "text": [
      "Error opening URL for tournament 4153: HTTP Error 500: Internal Server Error\n"
     ]
    },
    {
     "name": "stderr",
     "output_type": "stream",
     "text": [
      "Processing tournaments:  39%|███▉      | 4151/10608 [13:38<22:51,  4.71it/s]"
     ]
    },
    {
     "name": "stdout",
     "output_type": "stream",
     "text": [
      "Error opening URL for tournament 4155: HTTP Error 500: Internal Server Error\n"
     ]
    },
    {
     "name": "stderr",
     "output_type": "stream",
     "text": [
      "Processing tournaments:  39%|███▉      | 4157/10608 [13:39<17:28,  6.15it/s]"
     ]
    },
    {
     "name": "stdout",
     "output_type": "stream",
     "text": [
      "Error opening URL for tournament 4160: HTTP Error 500: Internal Server Error\n"
     ]
    },
    {
     "name": "stderr",
     "output_type": "stream",
     "text": [
      "Processing tournaments:  39%|███▉      | 4189/10608 [13:48<26:40,  4.01it/s]"
     ]
    },
    {
     "name": "stdout",
     "output_type": "stream",
     "text": [
      "Error opening URL for tournament 4193: HTTP Error 500: Internal Server Error\n"
     ]
    },
    {
     "name": "stderr",
     "output_type": "stream",
     "text": [
      "Processing tournaments:  40%|███▉      | 4193/10608 [13:49<22:52,  4.68it/s]"
     ]
    },
    {
     "name": "stdout",
     "output_type": "stream",
     "text": [
      "Error opening URL for tournament 4198: HTTP Error 500: Internal Server Error\n"
     ]
    },
    {
     "name": "stderr",
     "output_type": "stream",
     "text": [
      "Processing tournaments:  40%|███▉      | 4197/10608 [13:49<18:28,  5.78it/s]"
     ]
    },
    {
     "name": "stdout",
     "output_type": "stream",
     "text": [
      "Error opening URL for tournament 4200: HTTP Error 500: Internal Server Error\n",
      "Error opening URL for tournament 4199: HTTP Error 500: Internal Server Error\n"
     ]
    },
    {
     "name": "stderr",
     "output_type": "stream",
     "text": [
      "Processing tournaments:  40%|███▉      | 4199/10608 [13:50<26:53,  3.97it/s]"
     ]
    },
    {
     "name": "stdout",
     "output_type": "stream",
     "text": [
      "Error opening URL for tournament 4205: HTTP Error 500: Internal Server Error\n"
     ]
    },
    {
     "name": "stderr",
     "output_type": "stream",
     "text": [
      "Processing tournaments:  40%|████      | 4244/10608 [14:00<18:33,  5.71it/s]"
     ]
    },
    {
     "name": "stdout",
     "output_type": "stream",
     "text": [
      "Error opening URL for tournament 4248: HTTP Error 500: Internal Server Error\n"
     ]
    },
    {
     "name": "stderr",
     "output_type": "stream",
     "text": [
      "Processing tournaments:  40%|████      | 4260/10608 [14:04<34:53,  3.03it/s]"
     ]
    },
    {
     "name": "stdout",
     "output_type": "stream",
     "text": [
      "Error opening URL for tournament 4264: HTTP Error 500: Internal Server Error\n"
     ]
    },
    {
     "name": "stderr",
     "output_type": "stream",
     "text": [
      "Processing tournaments:  40%|████      | 4279/10608 [14:09<24:18,  4.34it/s]"
     ]
    },
    {
     "name": "stdout",
     "output_type": "stream",
     "text": [
      "Error opening URL for tournament 4284: HTTP Error 500: Internal Server Error\n"
     ]
    },
    {
     "name": "stderr",
     "output_type": "stream",
     "text": [
      "Processing tournaments:  40%|████      | 4293/10608 [14:12<17:39,  5.96it/s]"
     ]
    },
    {
     "name": "stdout",
     "output_type": "stream",
     "text": [
      "Error opening URL for tournament 4296: HTTP Error 500: Internal Server Error\n"
     ]
    },
    {
     "name": "stderr",
     "output_type": "stream",
     "text": [
      "Processing tournaments:  40%|████      | 4295/10608 [14:13<28:31,  3.69it/s]"
     ]
    },
    {
     "name": "stdout",
     "output_type": "stream",
     "text": [
      "Error opening URL for tournament 4301: HTTP Error 500: Internal Server Error\n"
     ]
    },
    {
     "name": "stderr",
     "output_type": "stream",
     "text": [
      "Processing tournaments:  41%|████      | 4302/10608 [14:14<16:03,  6.54it/s]"
     ]
    },
    {
     "name": "stdout",
     "output_type": "stream",
     "text": [
      "Error opening URL for tournament 4306: HTTP Error 500: Internal Server Error\n"
     ]
    },
    {
     "name": "stderr",
     "output_type": "stream",
     "text": [
      "Processing tournaments:  41%|████      | 4306/10608 [14:14<18:10,  5.78it/s]"
     ]
    },
    {
     "name": "stdout",
     "output_type": "stream",
     "text": [
      "Error opening URL for tournament 4309: HTTP Error 500: Internal Server Error\n"
     ]
    },
    {
     "name": "stderr",
     "output_type": "stream",
     "text": [
      "Processing tournaments:  41%|████      | 4312/10608 [14:15<15:48,  6.64it/s]"
     ]
    },
    {
     "name": "stdout",
     "output_type": "stream",
     "text": [
      "Error opening URL for tournament 4315: HTTP Error 500: Internal Server Error\n"
     ]
    },
    {
     "name": "stderr",
     "output_type": "stream",
     "text": [
      "Processing tournaments:  41%|████      | 4313/10608 [14:16<22:05,  4.75it/s]"
     ]
    },
    {
     "name": "stdout",
     "output_type": "stream",
     "text": [
      "Error opening URL for tournament 4316: HTTP Error 500: Internal Server Error\n"
     ]
    },
    {
     "name": "stderr",
     "output_type": "stream",
     "text": [
      "Processing tournaments:  41%|████      | 4314/10608 [14:16<25:47,  4.07it/s]"
     ]
    },
    {
     "name": "stdout",
     "output_type": "stream",
     "text": [
      "Error opening URL for tournament 4318: HTTP Error 500: Internal Server Error\n"
     ]
    },
    {
     "name": "stderr",
     "output_type": "stream",
     "text": [
      "Processing tournaments:  41%|████      | 4320/10608 [14:17<15:59,  6.55it/s]"
     ]
    },
    {
     "name": "stdout",
     "output_type": "stream",
     "text": [
      "Error opening URL for tournament 4322: HTTP Error 500: Internal Server Error\n"
     ]
    },
    {
     "name": "stderr",
     "output_type": "stream",
     "text": [
      "Processing tournaments:  41%|████      | 4321/10608 [14:17<23:06,  4.53it/s]"
     ]
    },
    {
     "name": "stdout",
     "output_type": "stream",
     "text": [
      "Error opening URL for tournament 4327: HTTP Error 500: Internal Server Error\n"
     ]
    },
    {
     "name": "stderr",
     "output_type": "stream",
     "text": [
      "Processing tournaments:  41%|████      | 4328/10608 [14:18<15:03,  6.95it/s]"
     ]
    },
    {
     "name": "stdout",
     "output_type": "stream",
     "text": [
      "Error opening URL for tournament 4330: HTTP Error 500: Internal Server Error\n",
      "Error opening URL for tournament 4329: HTTP Error 500: Internal Server Error\n"
     ]
    },
    {
     "name": "stderr",
     "output_type": "stream",
     "text": [
      "Processing tournaments:  41%|████      | 4330/10608 [14:19<20:44,  5.04it/s]"
     ]
    },
    {
     "name": "stdout",
     "output_type": "stream",
     "text": [
      "Error opening URL for tournament 4334: HTTP Error 500: Internal Server Error\n"
     ]
    },
    {
     "name": "stderr",
     "output_type": "stream",
     "text": [
      "Processing tournaments:  41%|████      | 4354/10608 [14:24<15:04,  6.91it/s]"
     ]
    },
    {
     "name": "stdout",
     "output_type": "stream",
     "text": [
      "Error opening URL for tournament 4355: HTTP Error 500: Internal Server Error\n",
      "Error opening URL for tournament 4356: HTTP Error 500: Internal Server Error\n"
     ]
    },
    {
     "name": "stderr",
     "output_type": "stream",
     "text": [
      "Processing tournaments:  41%|████      | 4357/10608 [14:25<14:43,  7.08it/s]"
     ]
    },
    {
     "name": "stdout",
     "output_type": "stream",
     "text": [
      "Error opening URL for tournament 4357: HTTP Error 500: Internal Server Error\n",
      "Error opening URL for tournament 4364: HTTP Error 500: Internal Server Error\n"
     ]
    },
    {
     "name": "stderr",
     "output_type": "stream",
     "text": [
      "Processing tournaments:  41%|████      | 4367/10608 [14:27<18:58,  5.48it/s]"
     ]
    },
    {
     "name": "stdout",
     "output_type": "stream",
     "text": [
      "Error opening URL for tournament 4369: HTTP Error 500: Internal Server Error\n"
     ]
    },
    {
     "name": "stderr",
     "output_type": "stream",
     "text": [
      "Processing tournaments:  41%|████▏     | 4379/10608 [14:30<24:55,  4.17it/s]"
     ]
    },
    {
     "name": "stdout",
     "output_type": "stream",
     "text": [
      "Error opening URL for tournament 4382: HTTP Error 500: Internal Server Error\n"
     ]
    },
    {
     "name": "stderr",
     "output_type": "stream",
     "text": [
      "Processing tournaments:  41%|████▏     | 4386/10608 [14:32<27:00,  3.84it/s]"
     ]
    },
    {
     "name": "stdout",
     "output_type": "stream",
     "text": [
      "Error opening URL for tournament 4390: HTTP Error 500: Internal Server Error\n"
     ]
    },
    {
     "name": "stderr",
     "output_type": "stream",
     "text": [
      "Processing tournaments:  41%|████▏     | 4394/10608 [14:34<17:30,  5.91it/s]"
     ]
    },
    {
     "name": "stdout",
     "output_type": "stream",
     "text": [
      "Error opening URL for tournament 4398: HTTP Error 500: Internal Server Error\n",
      "Error opening URL for tournament 4397: HTTP Error 500: Internal Server Error\n"
     ]
    },
    {
     "name": "stderr",
     "output_type": "stream",
     "text": [
      "Processing tournaments:  41%|████▏     | 4396/10608 [14:34<21:12,  4.88it/s]"
     ]
    },
    {
     "name": "stdout",
     "output_type": "stream",
     "text": [
      "Error opening URL for tournament 4401: HTTP Error 500: Internal Server Error\n"
     ]
    },
    {
     "name": "stderr",
     "output_type": "stream",
     "text": [
      "Processing tournaments:  41%|████▏     | 4399/10608 [14:35<20:39,  5.01it/s]"
     ]
    },
    {
     "name": "stdout",
     "output_type": "stream",
     "text": [
      "Error opening URL for tournament 4404: HTTP Error 500: Internal Server Error\n"
     ]
    },
    {
     "name": "stderr",
     "output_type": "stream",
     "text": [
      "Processing tournaments:  42%|████▏     | 4404/10608 [14:36<23:11,  4.46it/s]"
     ]
    },
    {
     "name": "stdout",
     "output_type": "stream",
     "text": [
      "Error opening URL for tournament 4410: HTTP Error 500: Internal Server Error\n",
      "Error opening URL for tournament 4409: HTTP Error 500: Internal Server Error\n",
      "Error opening URL for tournament 4406: HTTP Error 500: Internal Server Error\n"
     ]
    },
    {
     "name": "stderr",
     "output_type": "stream",
     "text": [
      "Processing tournaments:  42%|████▏     | 4410/10608 [14:37<15:57,  6.48it/s]"
     ]
    },
    {
     "name": "stdout",
     "output_type": "stream",
     "text": [
      "Error opening URL for tournament 4413: HTTP Error 500: Internal Server Error\n"
     ]
    },
    {
     "name": "stderr",
     "output_type": "stream",
     "text": [
      "Processing tournaments:  42%|████▏     | 4411/10608 [14:37<20:21,  5.07it/s]"
     ]
    },
    {
     "name": "stdout",
     "output_type": "stream",
     "text": [
      "Error opening URL for tournament 4415: HTTP Error 500: Internal Server Error\n"
     ]
    },
    {
     "name": "stderr",
     "output_type": "stream",
     "text": [
      "Processing tournaments:  42%|████▏     | 4413/10608 [14:38<21:15,  4.86it/s]"
     ]
    },
    {
     "name": "stdout",
     "output_type": "stream",
     "text": [
      "Error opening URL for tournament 4417: HTTP Error 500: Internal Server Error\n"
     ]
    },
    {
     "name": "stderr",
     "output_type": "stream",
     "text": [
      "Processing tournaments:  42%|████▏     | 4417/10608 [14:38<22:35,  4.57it/s]"
     ]
    },
    {
     "name": "stdout",
     "output_type": "stream",
     "text": [
      "Error opening URL for tournament 4420: HTTP Error 500: Internal Server Error\n"
     ]
    },
    {
     "name": "stderr",
     "output_type": "stream",
     "text": [
      "Processing tournaments:  42%|████▏     | 4421/10608 [14:39<20:23,  5.06it/s]"
     ]
    },
    {
     "name": "stdout",
     "output_type": "stream",
     "text": [
      "Error opening URL for tournament 4427: HTTP Error 500: Internal Server Error\n"
     ]
    },
    {
     "name": "stderr",
     "output_type": "stream",
     "text": [
      "Processing tournaments:  42%|████▏     | 4423/10608 [14:40<20:46,  4.96it/s]"
     ]
    },
    {
     "name": "stdout",
     "output_type": "stream",
     "text": [
      "Error opening URL for tournament 4428: HTTP Error 500: Internal Server Error\n"
     ]
    },
    {
     "name": "stderr",
     "output_type": "stream",
     "text": [
      "Processing tournaments:  42%|████▏     | 4428/10608 [14:41<18:38,  5.52it/s]"
     ]
    },
    {
     "name": "stdout",
     "output_type": "stream",
     "text": [
      "Error opening URL for tournament 4431: HTTP Error 500: Internal Server Error\n"
     ]
    },
    {
     "name": "stderr",
     "output_type": "stream",
     "text": [
      "Processing tournaments:  42%|████▏     | 4434/10608 [14:41<12:02,  8.55it/s]"
     ]
    },
    {
     "name": "stdout",
     "output_type": "stream",
     "text": [
      "Error opening URL for tournament 4432: HTTP Error 500: Internal Server Error\n",
      "Error opening URL for tournament 4434: HTTP Error 500: Internal Server Error\n",
      "Error opening URL for tournament 4435: HTTP Error 500: Internal Server Error\n",
      "Error opening URL for tournament 4436: HTTP Error 500: Internal Server Error\n"
     ]
    },
    {
     "name": "stderr",
     "output_type": "stream",
     "text": [
      "Processing tournaments:  42%|████▏     | 4436/10608 [14:42<16:46,  6.13it/s]"
     ]
    },
    {
     "name": "stdout",
     "output_type": "stream",
     "text": [
      "Error opening URL for tournament 4442: HTTP Error 500: Internal Server Error\n"
     ]
    },
    {
     "name": "stderr",
     "output_type": "stream",
     "text": [
      "Processing tournaments:  42%|████▏     | 4448/10608 [14:45<22:11,  4.63it/s]"
     ]
    },
    {
     "name": "stdout",
     "output_type": "stream",
     "text": [
      "Error opening URL for tournament 4452: HTTP Error 500: Internal Server Error\n"
     ]
    },
    {
     "name": "stderr",
     "output_type": "stream",
     "text": [
      "Processing tournaments:  42%|████▏     | 4451/10608 [14:46<20:41,  4.96it/s]"
     ]
    },
    {
     "name": "stdout",
     "output_type": "stream",
     "text": [
      "Error opening URL for tournament 4456: HTTP Error 500: Internal Server Error\n"
     ]
    },
    {
     "name": "stderr",
     "output_type": "stream",
     "text": [
      "Processing tournaments:  42%|████▏     | 4455/10608 [14:46<17:54,  5.73it/s]"
     ]
    },
    {
     "name": "stdout",
     "output_type": "stream",
     "text": [
      "Error opening URL for tournament 4460: HTTP Error 500: Internal Server Error\n"
     ]
    },
    {
     "name": "stderr",
     "output_type": "stream",
     "text": [
      "Processing tournaments:  42%|████▏     | 4458/10608 [14:47<20:06,  5.10it/s]"
     ]
    },
    {
     "name": "stdout",
     "output_type": "stream",
     "text": [
      "Error opening URL for tournament 4459: HTTP Error 500: Internal Server Error\n"
     ]
    },
    {
     "name": "stderr",
     "output_type": "stream",
     "text": [
      "Processing tournaments:  42%|████▏     | 4474/10608 [14:50<15:43,  6.50it/s]"
     ]
    },
    {
     "name": "stdout",
     "output_type": "stream",
     "text": [
      "Error opening URL for tournament 4477: HTTP Error 500: Internal Server Error\n",
      "Error opening URL for tournament 4476: HTTP Error 500: Internal Server Error\n"
     ]
    },
    {
     "name": "stderr",
     "output_type": "stream",
     "text": [
      "Processing tournaments:  42%|████▏     | 4477/10608 [14:51<12:49,  7.96it/s]"
     ]
    },
    {
     "name": "stdout",
     "output_type": "stream",
     "text": [
      "Error opening URL for tournament 4478: HTTP Error 500: Internal Server Error\n"
     ]
    },
    {
     "name": "stderr",
     "output_type": "stream",
     "text": [
      "Processing tournaments:  42%|████▏     | 4479/10608 [14:51<20:37,  4.95it/s]"
     ]
    },
    {
     "name": "stdout",
     "output_type": "stream",
     "text": [
      "Error opening URL for tournament 4483: HTTP Error 500: Internal Server Error\n"
     ]
    },
    {
     "name": "stderr",
     "output_type": "stream",
     "text": [
      "Processing tournaments:  42%|████▏     | 4482/10608 [14:52<15:23,  6.63it/s]"
     ]
    },
    {
     "name": "stdout",
     "output_type": "stream",
     "text": [
      "Error opening URL for tournament 4485: HTTP Error 500: Internal Server Error\n"
     ]
    },
    {
     "name": "stderr",
     "output_type": "stream",
     "text": [
      "Processing tournaments:  42%|████▏     | 4484/10608 [14:52<17:06,  5.97it/s]"
     ]
    },
    {
     "name": "stdout",
     "output_type": "stream",
     "text": [
      "Error opening URL for tournament 4488: HTTP Error 500: Internal Server Error\n"
     ]
    },
    {
     "name": "stderr",
     "output_type": "stream",
     "text": [
      "Processing tournaments:  42%|████▏     | 4488/10608 [14:53<19:30,  5.23it/s]"
     ]
    },
    {
     "name": "stdout",
     "output_type": "stream",
     "text": [
      "Error opening URL for tournament 4489: HTTP Error 500: Internal Server Error\n",
      "Error opening URL for tournament 4493: HTTP Error 500: Internal Server Error\n"
     ]
    },
    {
     "name": "stderr",
     "output_type": "stream",
     "text": [
      "Processing tournaments:  42%|████▏     | 4505/10608 [14:58<28:31,  3.57it/s]"
     ]
    },
    {
     "name": "stdout",
     "output_type": "stream",
     "text": [
      "Error opening URL for tournament 4511: HTTP Error 500: Internal Server Error\n"
     ]
    },
    {
     "name": "stderr",
     "output_type": "stream",
     "text": [
      "Processing tournaments:  43%|████▎     | 4512/10608 [14:59<15:20,  6.62it/s]"
     ]
    },
    {
     "name": "stdout",
     "output_type": "stream",
     "text": [
      "Error opening URL for tournament 4515: HTTP Error 500: Internal Server Error\n"
     ]
    },
    {
     "name": "stderr",
     "output_type": "stream",
     "text": [
      "Processing tournaments:  43%|████▎     | 4524/10608 [15:02<22:51,  4.44it/s]"
     ]
    },
    {
     "name": "stdout",
     "output_type": "stream",
     "text": [
      "Error opening URL for tournament 4529: HTTP Error 500: Internal Server Error\n"
     ]
    },
    {
     "name": "stderr",
     "output_type": "stream",
     "text": [
      "Processing tournaments:  43%|████▎     | 4531/10608 [15:03<17:03,  5.94it/s]"
     ]
    },
    {
     "name": "stdout",
     "output_type": "stream",
     "text": [
      "Error opening URL for tournament 4534: HTTP Error 500: Internal Server Error\n"
     ]
    },
    {
     "name": "stderr",
     "output_type": "stream",
     "text": [
      "Processing tournaments:  43%|████▎     | 4535/10608 [15:04<19:13,  5.26it/s]"
     ]
    },
    {
     "name": "stdout",
     "output_type": "stream",
     "text": [
      "Error opening URL for tournament 4538: HTTP Error 500: Internal Server Error\n",
      "Error opening URL for tournament 4537: HTTP Error 500: Internal Server Error\n"
     ]
    },
    {
     "name": "stderr",
     "output_type": "stream",
     "text": [
      "Processing tournaments:  43%|████▎     | 4558/10608 [15:10<31:19,  3.22it/s]"
     ]
    },
    {
     "name": "stdout",
     "output_type": "stream",
     "text": [
      "Error opening URL for tournament 4564: HTTP Error 500: Internal Server Error\n"
     ]
    },
    {
     "name": "stderr",
     "output_type": "stream",
     "text": [
      "Processing tournaments:  43%|████▎     | 4587/10608 [15:15<11:08,  9.01it/s]"
     ]
    },
    {
     "name": "stdout",
     "output_type": "stream",
     "text": [
      "Error opening URL for tournament 4588: HTTP Error 500: Internal Server Error\n",
      "Error opening URL for tournament 4586: HTTP Error 500: Internal Server Error\n",
      "Error opening URL for tournament 4587: HTTP Error 500: Internal Server Error\n"
     ]
    },
    {
     "name": "stderr",
     "output_type": "stream",
     "text": [
      "Processing tournaments:  43%|████▎     | 4589/10608 [15:15<11:39,  8.60it/s]"
     ]
    },
    {
     "name": "stdout",
     "output_type": "stream",
     "text": [
      "Error opening URL for tournament 4589: HTTP Error 500: Internal Server Error\n",
      "Error opening URL for tournament 4590: HTTP Error 500: Internal Server Error\n"
     ]
    },
    {
     "name": "stderr",
     "output_type": "stream",
     "text": [
      "Processing tournaments:  43%|████▎     | 4591/10608 [15:16<13:17,  7.55it/s]"
     ]
    },
    {
     "name": "stdout",
     "output_type": "stream",
     "text": [
      "Error opening URL for tournament 4592: HTTP Error 500: Internal Server Error\n",
      "Error opening URL for tournament 4591: HTTP Error 500: Internal Server Error\n",
      "Error opening URL for tournament 4596: HTTP Error 500: Internal Server Error\n"
     ]
    },
    {
     "name": "stderr",
     "output_type": "stream",
     "text": [
      "Processing tournaments:  43%|████▎     | 4594/10608 [15:16<13:04,  7.66it/s]"
     ]
    },
    {
     "name": "stdout",
     "output_type": "stream",
     "text": [
      "Error opening URL for tournament 4598: HTTP Error 500: Internal Server Error\n"
     ]
    },
    {
     "name": "stderr",
     "output_type": "stream",
     "text": [
      "Processing tournaments:  43%|████▎     | 4611/10608 [15:20<23:40,  4.22it/s]"
     ]
    },
    {
     "name": "stdout",
     "output_type": "stream",
     "text": [
      "Error opening URL for tournament 4615: HTTP Error 500: Internal Server Error\n"
     ]
    },
    {
     "name": "stderr",
     "output_type": "stream",
     "text": [
      "Processing tournaments:  44%|████▎     | 4628/10608 [15:24<20:31,  4.86it/s]"
     ]
    },
    {
     "name": "stdout",
     "output_type": "stream",
     "text": [
      "Error opening URL for tournament 4633: HTTP Error 500: Internal Server Error\n"
     ]
    },
    {
     "name": "stderr",
     "output_type": "stream",
     "text": [
      "Processing tournaments:  44%|████▍     | 4668/10608 [15:33<19:14,  5.14it/s]"
     ]
    },
    {
     "name": "stdout",
     "output_type": "stream",
     "text": [
      "Error opening URL for tournament 4673: HTTP Error 500: Internal Server Error\n"
     ]
    },
    {
     "name": "stderr",
     "output_type": "stream",
     "text": [
      "Processing tournaments:  44%|████▍     | 4674/10608 [15:34<24:06,  4.10it/s]"
     ]
    },
    {
     "name": "stdout",
     "output_type": "stream",
     "text": [
      "Error opening URL for tournament 4680: HTTP Error 500: Internal Server Error\n"
     ]
    },
    {
     "name": "stderr",
     "output_type": "stream",
     "text": [
      "Processing tournaments:  44%|████▍     | 4682/10608 [15:36<23:19,  4.23it/s]"
     ]
    },
    {
     "name": "stdout",
     "output_type": "stream",
     "text": [
      "Error opening URL for tournament 4687: HTTP Error 500: Internal Server Error\n"
     ]
    },
    {
     "name": "stderr",
     "output_type": "stream",
     "text": [
      "Processing tournaments:  44%|████▍     | 4687/10608 [15:37<13:33,  7.28it/s]"
     ]
    },
    {
     "name": "stdout",
     "output_type": "stream",
     "text": [
      "Error opening URL for tournament 4689: HTTP Error 500: Internal Server Error\n",
      "Error opening URL for tournament 4690: HTTP Error 500: Internal Server Error\n"
     ]
    },
    {
     "name": "stderr",
     "output_type": "stream",
     "text": [
      "Processing tournaments:  44%|████▍     | 4695/10608 [15:38<16:58,  5.81it/s]"
     ]
    },
    {
     "name": "stdout",
     "output_type": "stream",
     "text": [
      "Error opening URL for tournament 4697: HTTP Error 500: Internal Server Error\n"
     ]
    },
    {
     "name": "stderr",
     "output_type": "stream",
     "text": [
      "Processing tournaments:  44%|████▍     | 4699/10608 [15:39<12:12,  8.06it/s]"
     ]
    },
    {
     "name": "stdout",
     "output_type": "stream",
     "text": [
      "Error opening URL for tournament 4700: HTTP Error 500: Internal Server Error\n",
      "Error opening URL for tournament 4698: HTTP Error 500: Internal Server Error\n"
     ]
    },
    {
     "name": "stderr",
     "output_type": "stream",
     "text": [
      "Processing tournaments:  44%|████▍     | 4701/10608 [15:40<22:52,  4.30it/s]"
     ]
    },
    {
     "name": "stdout",
     "output_type": "stream",
     "text": [
      "Error opening URL for tournament 4707: HTTP Error 500: Internal Server Error\n"
     ]
    },
    {
     "name": "stderr",
     "output_type": "stream",
     "text": [
      "Processing tournaments:  44%|████▍     | 4707/10608 [15:40<14:32,  6.76it/s]"
     ]
    },
    {
     "name": "stdout",
     "output_type": "stream",
     "text": [
      "Error opening URL for tournament 4710: HTTP Error 500: Internal Server Error\n"
     ]
    },
    {
     "name": "stderr",
     "output_type": "stream",
     "text": [
      "Processing tournaments:  44%|████▍     | 4710/10608 [15:41<13:21,  7.35it/s]"
     ]
    },
    {
     "name": "stdout",
     "output_type": "stream",
     "text": [
      "Error opening URL for tournament 4711: HTTP Error 500: Internal Server Error\n",
      "Error opening URL for tournament 4714: HTTP Error 500: Internal Server Error\n"
     ]
    },
    {
     "name": "stderr",
     "output_type": "stream",
     "text": [
      "Processing tournaments:  45%|████▌     | 4782/10608 [15:58<18:31,  5.24it/s]"
     ]
    },
    {
     "name": "stdout",
     "output_type": "stream",
     "text": [
      "Error opening URL for tournament 4785: HTTP Error 500: Internal Server Error\n"
     ]
    },
    {
     "name": "stderr",
     "output_type": "stream",
     "text": [
      "Processing tournaments:  45%|████▌     | 4811/10608 [16:05<21:12,  4.55it/s]"
     ]
    },
    {
     "name": "stdout",
     "output_type": "stream",
     "text": [
      "Error opening URL for tournament 4816: HTTP Error 500: Internal Server Error\n"
     ]
    },
    {
     "name": "stderr",
     "output_type": "stream",
     "text": [
      "Processing tournaments:  46%|████▌     | 4830/10608 [16:08<13:28,  7.15it/s]"
     ]
    },
    {
     "name": "stdout",
     "output_type": "stream",
     "text": [
      "Error opening URL for tournament 4832: HTTP Error 500: Internal Server Error\n"
     ]
    },
    {
     "name": "stderr",
     "output_type": "stream",
     "text": [
      "Processing tournaments:  46%|████▌     | 4842/10608 [16:11<18:10,  5.29it/s]"
     ]
    },
    {
     "name": "stdout",
     "output_type": "stream",
     "text": [
      "Error opening URL for tournament 4846: HTTP Error 500: Internal Server Error\n"
     ]
    },
    {
     "name": "stderr",
     "output_type": "stream",
     "text": [
      "Processing tournaments:  46%|████▌     | 4845/10608 [16:12<15:02,  6.39it/s]"
     ]
    },
    {
     "name": "stdout",
     "output_type": "stream",
     "text": [
      "Error opening URL for tournament 4848: HTTP Error 500: Internal Server Error\n"
     ]
    },
    {
     "name": "stderr",
     "output_type": "stream",
     "text": [
      "Processing tournaments:  46%|████▌     | 4851/10608 [16:13<17:16,  5.56it/s]"
     ]
    },
    {
     "name": "stdout",
     "output_type": "stream",
     "text": [
      "Error opening URL for tournament 4852: HTTP Error 500: Internal Server Error\n"
     ]
    },
    {
     "name": "stderr",
     "output_type": "stream",
     "text": [
      "Processing tournaments:  46%|████▌     | 4859/10608 [16:15<19:12,  4.99it/s]"
     ]
    },
    {
     "name": "stdout",
     "output_type": "stream",
     "text": [
      "Error opening URL for tournament 4863: HTTP Error 500: Internal Server Error\n"
     ]
    },
    {
     "name": "stderr",
     "output_type": "stream",
     "text": [
      "Processing tournaments:  46%|████▋     | 4911/10608 [16:23<12:44,  7.45it/s]"
     ]
    },
    {
     "name": "stdout",
     "output_type": "stream",
     "text": [
      "Error opening URL for tournament 4913: HTTP Error 500: Internal Server Error\n"
     ]
    },
    {
     "name": "stderr",
     "output_type": "stream",
     "text": [
      "Processing tournaments:  47%|████▋     | 4987/10608 [16:40<15:33,  6.02it/s]"
     ]
    },
    {
     "name": "stdout",
     "output_type": "stream",
     "text": [
      "Error opening URL for tournament 4989: HTTP Error 500: Internal Server Error\n"
     ]
    },
    {
     "name": "stderr",
     "output_type": "stream",
     "text": [
      "Processing tournaments:  47%|████▋     | 5036/10608 [16:52<18:51,  4.93it/s]"
     ]
    },
    {
     "name": "stdout",
     "output_type": "stream",
     "text": [
      "Error opening URL for tournament 5041: HTTP Error 500: Internal Server Error\n"
     ]
    },
    {
     "name": "stderr",
     "output_type": "stream",
     "text": [
      "Processing tournaments:  48%|████▊     | 5041/10608 [16:53<13:51,  6.69it/s]"
     ]
    },
    {
     "name": "stdout",
     "output_type": "stream",
     "text": [
      "Error opening URL for tournament 5042: HTTP Error 500: Internal Server Error\n"
     ]
    },
    {
     "name": "stderr",
     "output_type": "stream",
     "text": [
      "Processing tournaments:  48%|████▊     | 5092/10608 [17:05<17:02,  5.39it/s]"
     ]
    },
    {
     "name": "stdout",
     "output_type": "stream",
     "text": [
      "Error opening URL for tournament 5096: HTTP Error 500: Internal Server Error\n"
     ]
    },
    {
     "name": "stderr",
     "output_type": "stream",
     "text": [
      "Processing tournaments:  48%|████▊     | 5103/10608 [17:07<17:29,  5.25it/s]"
     ]
    },
    {
     "name": "stdout",
     "output_type": "stream",
     "text": [
      "Error opening URL for tournament 5107: HTTP Error 500: Internal Server Error\n"
     ]
    },
    {
     "name": "stderr",
     "output_type": "stream",
     "text": [
      "Processing tournaments:  48%|████▊     | 5119/10608 [17:10<16:43,  5.47it/s]"
     ]
    },
    {
     "name": "stdout",
     "output_type": "stream",
     "text": [
      "Error opening URL for tournament 5121: HTTP Error 500: Internal Server Error\n"
     ]
    },
    {
     "name": "stderr",
     "output_type": "stream",
     "text": [
      "Processing tournaments:  49%|████▊     | 5154/10608 [17:17<13:57,  6.51it/s]"
     ]
    },
    {
     "name": "stdout",
     "output_type": "stream",
     "text": [
      "Error opening URL for tournament 5157: HTTP Error 500: Internal Server Error\n"
     ]
    },
    {
     "name": "stderr",
     "output_type": "stream",
     "text": [
      "Processing tournaments:  49%|████▊     | 5161/10608 [17:19<14:47,  6.14it/s]"
     ]
    },
    {
     "name": "stdout",
     "output_type": "stream",
     "text": [
      "Error opening URL for tournament 5163: HTTP Error 500: Internal Server Error\n",
      "Error opening URL for tournament 5164: HTTP Error 500: Internal Server Error\n"
     ]
    },
    {
     "name": "stderr",
     "output_type": "stream",
     "text": [
      "Processing tournaments:  49%|████▊     | 5171/10608 [17:21<19:37,  4.62it/s]"
     ]
    },
    {
     "name": "stdout",
     "output_type": "stream",
     "text": [
      "Error opening URL for tournament 5175: HTTP Error 500: Internal Server Error\n"
     ]
    },
    {
     "name": "stderr",
     "output_type": "stream",
     "text": [
      "Processing tournaments:  49%|████▉     | 5191/10608 [17:25<14:09,  6.38it/s]"
     ]
    },
    {
     "name": "stdout",
     "output_type": "stream",
     "text": [
      "Error opening URL for tournament 5196: HTTP Error 500: Internal Server Error\n"
     ]
    },
    {
     "name": "stderr",
     "output_type": "stream",
     "text": [
      "Processing tournaments:  49%|████▉     | 5193/10608 [17:26<23:15,  3.88it/s]"
     ]
    },
    {
     "name": "stdout",
     "output_type": "stream",
     "text": [
      "Error opening URL for tournament 5200: HTTP Error 500: Internal Server Error\n"
     ]
    },
    {
     "name": "stderr",
     "output_type": "stream",
     "text": [
      "Processing tournaments:  49%|████▉     | 5212/10608 [17:31<14:17,  6.29it/s]"
     ]
    },
    {
     "name": "stdout",
     "output_type": "stream",
     "text": [
      "Error opening URL for tournament 5213: HTTP Error 500: Internal Server Error\n",
      "Error opening URL for tournament 5214: HTTP Error 500: Internal Server Error\n",
      "Error opening URL for tournament 5216: HTTP Error 500: Internal Server Error\n"
     ]
    },
    {
     "name": "stderr",
     "output_type": "stream",
     "text": [
      "Processing tournaments:  49%|████▉     | 5217/10608 [17:32<20:02,  4.48it/s]"
     ]
    },
    {
     "name": "stdout",
     "output_type": "stream",
     "text": [
      "Error opening URL for tournament 5223: HTTP Error 500: Internal Server Error\n"
     ]
    },
    {
     "name": "stderr",
     "output_type": "stream",
     "text": [
      "Processing tournaments:  49%|████▉     | 5224/10608 [17:33<11:55,  7.53it/s]"
     ]
    },
    {
     "name": "stdout",
     "output_type": "stream",
     "text": [
      "Error opening URL for tournament 5225: HTTP Error 500: Internal Server Error\n",
      "Error opening URL for tournament 5227: HTTP Error 500: Internal Server Error\n"
     ]
    },
    {
     "name": "stderr",
     "output_type": "stream",
     "text": [
      "Processing tournaments:  50%|████▉     | 5281/10608 [17:46<20:48,  4.27it/s]"
     ]
    },
    {
     "name": "stdout",
     "output_type": "stream",
     "text": [
      "Error opening URL for tournament 5287: HTTP Error 500: Internal Server Error\n"
     ]
    },
    {
     "name": "stderr",
     "output_type": "stream",
     "text": [
      "Processing tournaments:  50%|████▉     | 5297/10608 [17:50<24:48,  3.57it/s]"
     ]
    },
    {
     "name": "stdout",
     "output_type": "stream",
     "text": [
      "Error opening URL for tournament 5300: HTTP Error 500: Internal Server Error\n"
     ]
    },
    {
     "name": "stderr",
     "output_type": "stream",
     "text": [
      "Processing tournaments:  50%|████▉     | 5302/10608 [17:51<15:23,  5.75it/s]"
     ]
    },
    {
     "name": "stdout",
     "output_type": "stream",
     "text": [
      "Error opening URL for tournament 5303: HTTP Error 500: Internal Server Error\n"
     ]
    },
    {
     "name": "stderr",
     "output_type": "stream",
     "text": [
      "Processing tournaments:  50%|█████     | 5320/10608 [17:55<13:27,  6.55it/s]"
     ]
    },
    {
     "name": "stdout",
     "output_type": "stream",
     "text": [
      "Error opening URL for tournament 5321: HTTP Error 500: Internal Server Error\n"
     ]
    },
    {
     "name": "stderr",
     "output_type": "stream",
     "text": [
      "Processing tournaments:  50%|█████     | 5339/10608 [17:59<20:01,  4.39it/s]"
     ]
    },
    {
     "name": "stdout",
     "output_type": "stream",
     "text": [
      "Error opening URL for tournament 5344: HTTP Error 500: Internal Server Error\n"
     ]
    },
    {
     "name": "stderr",
     "output_type": "stream",
     "text": [
      "Processing tournaments:  50%|█████     | 5353/10608 [18:02<12:42,  6.89it/s]"
     ]
    },
    {
     "name": "stdout",
     "output_type": "stream",
     "text": [
      "Error opening URL for tournament 5357: HTTP Error 500: Internal Server Error\n",
      "Error opening URL for tournament 5356: HTTP Error 500: Internal Server Error\n"
     ]
    },
    {
     "name": "stderr",
     "output_type": "stream",
     "text": [
      "Processing tournaments:  51%|█████     | 5360/10608 [18:03<11:36,  7.53it/s]"
     ]
    },
    {
     "name": "stdout",
     "output_type": "stream",
     "text": [
      "Error opening URL for tournament 5362: HTTP Error 500: Internal Server Error\n",
      "Error opening URL for tournament 5360: HTTP Error 500: Internal Server Error\n"
     ]
    },
    {
     "name": "stderr",
     "output_type": "stream",
     "text": [
      "Processing tournaments:  51%|█████     | 5362/10608 [18:04<19:19,  4.52it/s]"
     ]
    },
    {
     "name": "stdout",
     "output_type": "stream",
     "text": [
      "Error opening URL for tournament 5369: HTTP Error 500: Internal Server Error\n"
     ]
    },
    {
     "name": "stderr",
     "output_type": "stream",
     "text": [
      "Processing tournaments:  51%|█████     | 5367/10608 [18:05<14:36,  5.98it/s]"
     ]
    },
    {
     "name": "stdout",
     "output_type": "stream",
     "text": [
      "Error opening URL for tournament 5370: HTTP Error 500: Internal Server Error\n"
     ]
    },
    {
     "name": "stderr",
     "output_type": "stream",
     "text": [
      "Processing tournaments:  51%|█████     | 5372/10608 [18:06<12:01,  7.26it/s]"
     ]
    },
    {
     "name": "stdout",
     "output_type": "stream",
     "text": [
      "Error opening URL for tournament 5373: HTTP Error 500: Internal Server Error\n",
      "Error opening URL for tournament 5375: HTTP Error 500: Internal Server Error\n"
     ]
    },
    {
     "name": "stderr",
     "output_type": "stream",
     "text": [
      "Processing tournaments:  51%|█████     | 5379/10608 [18:07<12:04,  7.21it/s]"
     ]
    },
    {
     "name": "stdout",
     "output_type": "stream",
     "text": [
      "Error opening URL for tournament 5381: HTTP Error 500: Internal Server Error\n"
     ]
    },
    {
     "name": "stderr",
     "output_type": "stream",
     "text": [
      "Processing tournaments:  51%|█████     | 5381/10608 [18:07<14:08,  6.16it/s]"
     ]
    },
    {
     "name": "stdout",
     "output_type": "stream",
     "text": [
      "Error opening URL for tournament 5385: HTTP Error 500: Internal Server Error\n"
     ]
    },
    {
     "name": "stderr",
     "output_type": "stream",
     "text": [
      "Processing tournaments:  51%|█████     | 5412/10608 [18:14<13:56,  6.21it/s]"
     ]
    },
    {
     "name": "stdout",
     "output_type": "stream",
     "text": [
      "Error opening URL for tournament 5416: HTTP Error 500: Internal Server Error\n"
     ]
    },
    {
     "name": "stderr",
     "output_type": "stream",
     "text": [
      "Processing tournaments:  51%|█████     | 5415/10608 [18:14<16:00,  5.41it/s]"
     ]
    },
    {
     "name": "stdout",
     "output_type": "stream",
     "text": [
      "Error opening URL for tournament 5417: HTTP Error 500: Internal Server Error\n",
      "Error opening URL for tournament 5419: HTTP Error 500: Internal Server Error\n"
     ]
    },
    {
     "name": "stderr",
     "output_type": "stream",
     "text": [
      "Processing tournaments:  51%|█████     | 5421/10608 [18:15<12:56,  6.68it/s]"
     ]
    },
    {
     "name": "stdout",
     "output_type": "stream",
     "text": [
      "Error opening URL for tournament 5422: HTTP Error 500: Internal Server Error\n"
     ]
    },
    {
     "name": "stderr",
     "output_type": "stream",
     "text": [
      "Processing tournaments:  51%|█████     | 5435/10608 [18:19<18:44,  4.60it/s]"
     ]
    },
    {
     "name": "stdout",
     "output_type": "stream",
     "text": [
      "Error opening URL for tournament 5441: HTTP Error 500: Internal Server Error\n"
     ]
    },
    {
     "name": "stderr",
     "output_type": "stream",
     "text": [
      "Processing tournaments:  51%|█████▏    | 5441/10608 [18:19<09:26,  9.11it/s]"
     ]
    },
    {
     "name": "stdout",
     "output_type": "stream",
     "text": [
      "Error opening URL for tournament 5442: HTTP Error 500: Internal Server Error\n"
     ]
    },
    {
     "name": "stderr",
     "output_type": "stream",
     "text": [
      "Processing tournaments:  51%|█████▏    | 5444/10608 [18:20<11:25,  7.53it/s]"
     ]
    },
    {
     "name": "stdout",
     "output_type": "stream",
     "text": [
      "Error opening URL for tournament 5447: HTTP Error 500: Internal Server Error\n",
      "Error opening URL for tournament 5448: HTTP Error 500: Internal Server Error\n"
     ]
    },
    {
     "name": "stderr",
     "output_type": "stream",
     "text": [
      "Processing tournaments:  51%|█████▏    | 5447/10608 [18:20<12:10,  7.07it/s]"
     ]
    },
    {
     "name": "stdout",
     "output_type": "stream",
     "text": [
      "Error opening URL for tournament 5449: HTTP Error 500: Internal Server Error\n"
     ]
    },
    {
     "name": "stderr",
     "output_type": "stream",
     "text": [
      "Processing tournaments:  52%|█████▏    | 5491/10608 [18:30<14:27,  5.90it/s]"
     ]
    },
    {
     "name": "stdout",
     "output_type": "stream",
     "text": [
      "Error opening URL for tournament 5493: HTTP Error 500: Internal Server Error\n"
     ]
    },
    {
     "name": "stderr",
     "output_type": "stream",
     "text": [
      "Processing tournaments:  52%|█████▏    | 5495/10608 [18:32<27:02,  3.15it/s]"
     ]
    },
    {
     "name": "stdout",
     "output_type": "stream",
     "text": [
      "Error opening URL for tournament 5502: HTTP Error 500: Internal Server Error\n"
     ]
    },
    {
     "name": "stderr",
     "output_type": "stream",
     "text": [
      "Processing tournaments:  52%|█████▏    | 5503/10608 [18:33<11:23,  7.47it/s]"
     ]
    },
    {
     "name": "stdout",
     "output_type": "stream",
     "text": [
      "Error opening URL for tournament 5504: HTTP Error 500: Internal Server Error\n"
     ]
    },
    {
     "name": "stderr",
     "output_type": "stream",
     "text": [
      "Processing tournaments:  52%|█████▏    | 5545/10608 [18:42<11:51,  7.12it/s]"
     ]
    },
    {
     "name": "stdout",
     "output_type": "stream",
     "text": [
      "Error opening URL for tournament 5545: HTTP Error 500: Internal Server Error\n",
      "Error opening URL for tournament 5547: HTTP Error 500: Internal Server Error\n"
     ]
    },
    {
     "name": "stderr",
     "output_type": "stream",
     "text": [
      "Processing tournaments:  53%|█████▎    | 5576/10608 [18:51<15:58,  5.25it/s]"
     ]
    },
    {
     "name": "stdout",
     "output_type": "stream",
     "text": [
      "Error opening URL for tournament 5578: HTTP Error 500: Internal Server Error\n"
     ]
    },
    {
     "name": "stderr",
     "output_type": "stream",
     "text": [
      "Processing tournaments:  53%|█████▎    | 5631/10608 [19:04<18:41,  4.44it/s]"
     ]
    },
    {
     "name": "stdout",
     "output_type": "stream",
     "text": [
      "Error opening URL for tournament 5634: HTTP Error 500: Internal Server Error\n"
     ]
    },
    {
     "name": "stderr",
     "output_type": "stream",
     "text": [
      "Processing tournaments:  53%|█████▎    | 5635/10608 [19:05<12:38,  6.55it/s]"
     ]
    },
    {
     "name": "stdout",
     "output_type": "stream",
     "text": [
      "Error opening URL for tournament 5636: HTTP Error 500: Internal Server Error\n"
     ]
    },
    {
     "name": "stderr",
     "output_type": "stream",
     "text": [
      "Processing tournaments:  53%|█████▎    | 5637/10608 [19:05<12:37,  6.57it/s]"
     ]
    },
    {
     "name": "stdout",
     "output_type": "stream",
     "text": [
      "Error opening URL for tournament 5640: HTTP Error 500: Internal Server Error\n"
     ]
    },
    {
     "name": "stderr",
     "output_type": "stream",
     "text": [
      "Processing tournaments:  53%|█████▎    | 5638/10608 [19:05<15:00,  5.52it/s]"
     ]
    },
    {
     "name": "stdout",
     "output_type": "stream",
     "text": [
      "Error opening URL for tournament 5643: HTTP Error 500: Internal Server Error\n"
     ]
    },
    {
     "name": "stderr",
     "output_type": "stream",
     "text": [
      "Processing tournaments:  53%|█████▎    | 5666/10608 [19:11<14:47,  5.57it/s]"
     ]
    },
    {
     "name": "stdout",
     "output_type": "stream",
     "text": [
      "Error opening URL for tournament 5670: HTTP Error 500: Internal Server Error\n"
     ]
    },
    {
     "name": "stderr",
     "output_type": "stream",
     "text": [
      "Processing tournaments:  54%|█████▍    | 5756/10608 [19:32<15:45,  5.13it/s]"
     ]
    },
    {
     "name": "stdout",
     "output_type": "stream",
     "text": [
      "Error opening URL for tournament 5756: HTTP Error 500: Internal Server Error\n"
     ]
    },
    {
     "name": "stderr",
     "output_type": "stream",
     "text": [
      "Processing tournaments:  54%|█████▍    | 5766/10608 [19:34<12:58,  6.22it/s]"
     ]
    },
    {
     "name": "stdout",
     "output_type": "stream",
     "text": [
      "Error opening URL for tournament 5767: HTTP Error 500: Internal Server Error\n",
      "Error opening URL for tournament 5768: HTTP Error 500: Internal Server Error\n"
     ]
    },
    {
     "name": "stderr",
     "output_type": "stream",
     "text": [
      "Processing tournaments:  55%|█████▍    | 5790/10608 [19:41<19:45,  4.06it/s]"
     ]
    },
    {
     "name": "stdout",
     "output_type": "stream",
     "text": [
      "Error opening URL for tournament 5794: HTTP Error 500: Internal Server Error\n"
     ]
    },
    {
     "name": "stderr",
     "output_type": "stream",
     "text": [
      "Processing tournaments:  56%|█████▌    | 5934/10608 [20:16<17:21,  4.49it/s]"
     ]
    },
    {
     "name": "stdout",
     "output_type": "stream",
     "text": [
      "Error opening URL for tournament 5936: HTTP Error 500: Internal Server Error\n"
     ]
    },
    {
     "name": "stderr",
     "output_type": "stream",
     "text": [
      "Processing tournaments:  56%|█████▌    | 5950/10608 [20:19<16:46,  4.63it/s]"
     ]
    },
    {
     "name": "stdout",
     "output_type": "stream",
     "text": [
      "Error opening URL for tournament 5950: HTTP Error 500: Internal Server Error\n"
     ]
    },
    {
     "name": "stderr",
     "output_type": "stream",
     "text": [
      "Processing tournaments:  56%|█████▌    | 5958/10608 [20:21<17:34,  4.41it/s]"
     ]
    },
    {
     "name": "stdout",
     "output_type": "stream",
     "text": [
      "Error opening URL for tournament 5963: HTTP Error 500: Internal Server Error\n"
     ]
    },
    {
     "name": "stderr",
     "output_type": "stream",
     "text": [
      "Processing tournaments:  56%|█████▋    | 5992/10608 [20:31<13:36,  5.65it/s]"
     ]
    },
    {
     "name": "stdout",
     "output_type": "stream",
     "text": [
      "Error opening URL for tournament 5995: HTTP Error 500: Internal Server Error\n"
     ]
    },
    {
     "name": "stderr",
     "output_type": "stream",
     "text": [
      "Processing tournaments:  57%|█████▋    | 6027/10608 [20:38<14:17,  5.34it/s]"
     ]
    },
    {
     "name": "stdout",
     "output_type": "stream",
     "text": [
      "Error opening URL for tournament 6030: HTTP Error 500: Internal Server Error\n"
     ]
    },
    {
     "name": "stderr",
     "output_type": "stream",
     "text": [
      "Processing tournaments:  57%|█████▋    | 6083/10608 [20:50<15:43,  4.79it/s]"
     ]
    },
    {
     "name": "stdout",
     "output_type": "stream",
     "text": [
      "Error opening URL for tournament 6088: HTTP Error 500: Internal Server Error\n"
     ]
    },
    {
     "name": "stderr",
     "output_type": "stream",
     "text": [
      "Processing tournaments:  57%|█████▋    | 6086/10608 [20:51<14:15,  5.29it/s]"
     ]
    },
    {
     "name": "stdout",
     "output_type": "stream",
     "text": [
      "Error opening URL for tournament 6091: HTTP Error 500: Internal Server Error\n"
     ]
    },
    {
     "name": "stderr",
     "output_type": "stream",
     "text": [
      "Processing tournaments:  58%|█████▊    | 6113/10608 [20:57<12:13,  6.13it/s]"
     ]
    },
    {
     "name": "stdout",
     "output_type": "stream",
     "text": [
      "Error opening URL for tournament 6117: HTTP Error 500: Internal Server Error\n"
     ]
    },
    {
     "name": "stderr",
     "output_type": "stream",
     "text": [
      "Processing tournaments:  59%|█████▊    | 6221/10608 [21:24<14:57,  4.89it/s]"
     ]
    },
    {
     "name": "stdout",
     "output_type": "stream",
     "text": [
      "Error opening URL for tournament 6226: HTTP Error 500: Internal Server Error\n"
     ]
    },
    {
     "name": "stderr",
     "output_type": "stream",
     "text": [
      "Processing tournaments:  59%|█████▉    | 6246/10608 [21:31<16:20,  4.45it/s]"
     ]
    },
    {
     "name": "stdout",
     "output_type": "stream",
     "text": [
      "Error opening URL for tournament 6250: HTTP Error 500: Internal Server Error\n"
     ]
    },
    {
     "name": "stderr",
     "output_type": "stream",
     "text": [
      "Processing tournaments:  59%|█████▉    | 6276/10608 [21:38<12:53,  5.60it/s]"
     ]
    },
    {
     "name": "stdout",
     "output_type": "stream",
     "text": [
      "Error opening URL for tournament 6278: HTTP Error 500: Internal Server Error\n"
     ]
    },
    {
     "name": "stderr",
     "output_type": "stream",
     "text": [
      "Processing tournaments:  60%|█████▉    | 6358/10608 [21:58<20:28,  3.46it/s]"
     ]
    },
    {
     "name": "stdout",
     "output_type": "stream",
     "text": [
      "Error opening URL for tournament 6361: HTTP Error 500: Internal Server Error\n"
     ]
    },
    {
     "name": "stderr",
     "output_type": "stream",
     "text": [
      "Processing tournaments:  60%|██████    | 6395/10608 [22:05<14:39,  4.79it/s]"
     ]
    },
    {
     "name": "stdout",
     "output_type": "stream",
     "text": [
      "Error opening URL for tournament 6399: HTTP Error 500: Internal Server Error\n"
     ]
    },
    {
     "name": "stderr",
     "output_type": "stream",
     "text": [
      "Processing tournaments:  60%|██████    | 6407/10608 [22:08<10:39,  6.57it/s]"
     ]
    },
    {
     "name": "stdout",
     "output_type": "stream",
     "text": [
      "Error opening URL for tournament 6408: HTTP Error 500: Internal Server Error\n"
     ]
    },
    {
     "name": "stderr",
     "output_type": "stream",
     "text": [
      "Processing tournaments:  61%|██████    | 6422/10608 [22:11<12:52,  5.42it/s]"
     ]
    },
    {
     "name": "stdout",
     "output_type": "stream",
     "text": [
      "Error opening URL for tournament 6426: HTTP Error 500: Internal Server Error\n"
     ]
    },
    {
     "name": "stderr",
     "output_type": "stream",
     "text": [
      "Processing tournaments:  61%|██████    | 6458/10608 [22:18<12:49,  5.39it/s]"
     ]
    },
    {
     "name": "stdout",
     "output_type": "stream",
     "text": [
      "Error opening URL for tournament 6461: HTTP Error 500: Internal Server Error\n"
     ]
    },
    {
     "name": "stderr",
     "output_type": "stream",
     "text": [
      "Processing tournaments:  61%|██████    | 6470/10608 [22:20<11:38,  5.92it/s]"
     ]
    },
    {
     "name": "stdout",
     "output_type": "stream",
     "text": [
      "Error opening URL for tournament 6472: HTTP Error 500: Internal Server Error\n"
     ]
    },
    {
     "name": "stderr",
     "output_type": "stream",
     "text": [
      "Processing tournaments:  61%|██████    | 6474/10608 [22:21<12:54,  5.33it/s]"
     ]
    },
    {
     "name": "stdout",
     "output_type": "stream",
     "text": [
      "Error opening URL for tournament 6476: HTTP Error 500: Internal Server Error\n",
      "Error opening URL for tournament 6479: HTTP Error 500: Internal Server Error\n"
     ]
    },
    {
     "name": "stderr",
     "output_type": "stream",
     "text": [
      "Processing tournaments:  61%|██████▏   | 6520/10608 [22:32<19:07,  3.56it/s]"
     ]
    },
    {
     "name": "stdout",
     "output_type": "stream",
     "text": [
      "Error opening URL for tournament 6525: HTTP Error 500: Internal Server Error\n"
     ]
    },
    {
     "name": "stderr",
     "output_type": "stream",
     "text": [
      "Processing tournaments:  62%|██████▏   | 6529/10608 [22:34<17:02,  3.99it/s]"
     ]
    },
    {
     "name": "stdout",
     "output_type": "stream",
     "text": [
      "Error opening URL for tournament 6535: HTTP Error 500: Internal Server Error\n"
     ]
    },
    {
     "name": "stderr",
     "output_type": "stream",
     "text": [
      "Processing tournaments:  62%|██████▏   | 6540/10608 [22:37<14:10,  4.78it/s]"
     ]
    },
    {
     "name": "stdout",
     "output_type": "stream",
     "text": [
      "Error opening URL for tournament 6542: HTTP Error 500: Internal Server Error\n"
     ]
    },
    {
     "name": "stderr",
     "output_type": "stream",
     "text": [
      "Processing tournaments:  62%|██████▏   | 6545/10608 [22:38<11:06,  6.09it/s]"
     ]
    },
    {
     "name": "stdout",
     "output_type": "stream",
     "text": [
      "Error opening URL for tournament 6548: HTTP Error 500: Internal Server Error\n"
     ]
    },
    {
     "name": "stderr",
     "output_type": "stream",
     "text": [
      "Processing tournaments:  62%|██████▏   | 6548/10608 [22:38<11:36,  5.83it/s]"
     ]
    },
    {
     "name": "stdout",
     "output_type": "stream",
     "text": [
      "Error opening URL for tournament 6550: HTTP Error 500: Internal Server Error\n"
     ]
    },
    {
     "name": "stderr",
     "output_type": "stream",
     "text": [
      "Processing tournaments:  62%|██████▏   | 6556/10608 [22:40<14:14,  4.74it/s]"
     ]
    },
    {
     "name": "stdout",
     "output_type": "stream",
     "text": [
      "Error opening URL for tournament 6562: HTTP Error 500: Internal Server Error\n"
     ]
    },
    {
     "name": "stderr",
     "output_type": "stream",
     "text": [
      "Processing tournaments:  62%|██████▏   | 6569/10608 [22:43<17:43,  3.80it/s]"
     ]
    },
    {
     "name": "stdout",
     "output_type": "stream",
     "text": [
      "Error opening URL for tournament 6572: HTTP Error 500: Internal Server Error\n"
     ]
    },
    {
     "name": "stderr",
     "output_type": "stream",
     "text": [
      "Processing tournaments:  62%|██████▏   | 6572/10608 [22:44<18:28,  3.64it/s]"
     ]
    },
    {
     "name": "stdout",
     "output_type": "stream",
     "text": [
      "Error opening URL for tournament 6573: HTTP Error 500: Internal Server Error\n"
     ]
    },
    {
     "name": "stderr",
     "output_type": "stream",
     "text": [
      "Processing tournaments:  62%|██████▏   | 6574/10608 [22:45<24:02,  2.80it/s]"
     ]
    },
    {
     "name": "stdout",
     "output_type": "stream",
     "text": [
      "Error opening URL for tournament 6579: HTTP Error 500: Internal Server Error\n"
     ]
    },
    {
     "name": "stderr",
     "output_type": "stream",
     "text": [
      "Processing tournaments:  62%|██████▏   | 6624/10608 [22:58<14:19,  4.64it/s]"
     ]
    },
    {
     "name": "stdout",
     "output_type": "stream",
     "text": [
      "Error opening URL for tournament 6626: HTTP Error 500: Internal Server ErrorError opening URL for tournament 6627: HTTP Error 500: Internal Server Error\n",
      "\n",
      "Error opening URL for tournament 6625: HTTP Error 500: Internal Server Error\n"
     ]
    },
    {
     "name": "stderr",
     "output_type": "stream",
     "text": [
      "Processing tournaments:  63%|██████▎   | 6649/10608 [23:04<13:10,  5.01it/s]"
     ]
    },
    {
     "name": "stdout",
     "output_type": "stream",
     "text": [
      "Error opening URL for tournament 6653: HTTP Error 500: Internal Server Error\n"
     ]
    },
    {
     "name": "stderr",
     "output_type": "stream",
     "text": [
      "Processing tournaments:  63%|██████▎   | 6650/10608 [23:04<13:36,  4.85it/s]"
     ]
    },
    {
     "name": "stdout",
     "output_type": "stream",
     "text": [
      "Error opening URL for tournament 6652: HTTP Error 500: Internal Server Error\n"
     ]
    },
    {
     "name": "stderr",
     "output_type": "stream",
     "text": [
      "Processing tournaments:  63%|██████▎   | 6653/10608 [23:04<10:49,  6.09it/s]"
     ]
    },
    {
     "name": "stdout",
     "output_type": "stream",
     "text": [
      "Error opening URL for tournament 6651: HTTP Error 500: Internal Server Error\n"
     ]
    },
    {
     "name": "stderr",
     "output_type": "stream",
     "text": [
      "Processing tournaments:  63%|██████▎   | 6654/10608 [23:05<13:07,  5.02it/s]"
     ]
    },
    {
     "name": "stdout",
     "output_type": "stream",
     "text": [
      "Error opening URL for tournament 6659: HTTP Error 500: Internal Server Error\n"
     ]
    },
    {
     "name": "stderr",
     "output_type": "stream",
     "text": [
      "Processing tournaments:  63%|██████▎   | 6666/10608 [23:08<17:54,  3.67it/s]"
     ]
    },
    {
     "name": "stdout",
     "output_type": "stream",
     "text": [
      "Error opening URL for tournament 6671: HTTP Error 500: Internal Server Error\n"
     ]
    },
    {
     "name": "stderr",
     "output_type": "stream",
     "text": [
      "Processing tournaments:  63%|██████▎   | 6681/10608 [23:11<13:47,  4.74it/s]"
     ]
    },
    {
     "name": "stdout",
     "output_type": "stream",
     "text": [
      "Error opening URL for tournament 6682: HTTP Error 500: Internal Server Error\n"
     ]
    },
    {
     "name": "stderr",
     "output_type": "stream",
     "text": [
      "Processing tournaments:  63%|██████▎   | 6698/10608 [23:15<10:18,  6.32it/s]"
     ]
    },
    {
     "name": "stdout",
     "output_type": "stream",
     "text": [
      "Error opening URL for tournament 6699: HTTP Error 500: Internal Server Error\n"
     ]
    },
    {
     "name": "stderr",
     "output_type": "stream",
     "text": [
      "Processing tournaments:  63%|██████▎   | 6719/10608 [23:20<16:24,  3.95it/s]"
     ]
    },
    {
     "name": "stdout",
     "output_type": "stream",
     "text": [
      "Error opening URL for tournament 6723: HTTP Error 500: Internal Server Error\n"
     ]
    },
    {
     "name": "stderr",
     "output_type": "stream",
     "text": [
      "Processing tournaments:  64%|██████▍   | 6790/10608 [23:35<11:20,  5.61it/s]"
     ]
    },
    {
     "name": "stdout",
     "output_type": "stream",
     "text": [
      "Error opening URL for tournament 6793: HTTP Error 500: Internal Server Error\n"
     ]
    },
    {
     "name": "stderr",
     "output_type": "stream",
     "text": [
      "Processing tournaments:  64%|██████▍   | 6794/10608 [23:36<08:02,  7.90it/s]"
     ]
    },
    {
     "name": "stdout",
     "output_type": "stream",
     "text": [
      "Error opening URL for tournament 6794: HTTP Error 500: Internal Server Error\n",
      "Error opening URL for tournament 6795: HTTP Error 500: Internal Server Error\n"
     ]
    },
    {
     "name": "stderr",
     "output_type": "stream",
     "text": [
      "Processing tournaments:  64%|██████▍   | 6823/10608 [23:42<15:01,  4.20it/s]"
     ]
    },
    {
     "name": "stdout",
     "output_type": "stream",
     "text": [
      "Error opening URL for tournament 6830: HTTP Error 500: Internal Server Error\n"
     ]
    },
    {
     "name": "stderr",
     "output_type": "stream",
     "text": [
      "Processing tournaments:  64%|██████▍   | 6831/10608 [23:43<09:53,  6.36it/s]"
     ]
    },
    {
     "name": "stdout",
     "output_type": "stream",
     "text": [
      "Error opening URL for tournament 6833: HTTP Error 500: Internal Server Error\n"
     ]
    },
    {
     "name": "stderr",
     "output_type": "stream",
     "text": [
      "Processing tournaments:  65%|██████▍   | 6859/10608 [23:49<06:27,  9.68it/s]"
     ]
    },
    {
     "name": "stdout",
     "output_type": "stream",
     "text": [
      "Error opening URL for tournament 6857: HTTP Error 500: Internal Server Error\n",
      "Error opening URL for tournament 6858: HTTP Error 500: Internal Server Error\n",
      "Error opening URL for tournament 6859: HTTP Error 500: Internal Server Error\n"
     ]
    },
    {
     "name": "stderr",
     "output_type": "stream",
     "text": [
      "Processing tournaments:  65%|██████▍   | 6861/10608 [23:49<05:34, 11.19it/s]"
     ]
    },
    {
     "name": "stdout",
     "output_type": "stream",
     "text": [
      "Error opening URL for tournament 6861: HTTP Error 500: Internal Server Error\n"
     ]
    },
    {
     "name": "stderr",
     "output_type": "stream",
     "text": [
      "Processing tournaments:  65%|██████▍   | 6863/10608 [23:50<11:04,  5.64it/s]"
     ]
    },
    {
     "name": "stdout",
     "output_type": "stream",
     "text": [
      "Error opening URL for tournament 6865: HTTP Error 500: Internal Server Error\n"
     ]
    },
    {
     "name": "stderr",
     "output_type": "stream",
     "text": [
      "Processing tournaments:  65%|██████▍   | 6866/10608 [23:50<13:20,  4.67it/s]"
     ]
    },
    {
     "name": "stdout",
     "output_type": "stream",
     "text": [
      "Error opening URL for tournament 6871: HTTP Error 500: Internal Server Error\n"
     ]
    },
    {
     "name": "stderr",
     "output_type": "stream",
     "text": [
      "Processing tournaments:  65%|██████▍   | 6867/10608 [23:51<13:23,  4.65it/s]"
     ]
    },
    {
     "name": "stdout",
     "output_type": "stream",
     "text": [
      "Error opening URL for tournament 6870: HTTP Error 500: Internal Server Error\n"
     ]
    },
    {
     "name": "stderr",
     "output_type": "stream",
     "text": [
      "Processing tournaments:  65%|██████▍   | 6873/10608 [23:52<14:25,  4.32it/s]"
     ]
    },
    {
     "name": "stdout",
     "output_type": "stream",
     "text": [
      "Error opening URL for tournament 6878: HTTP Error 500: Internal Server Error\n"
     ]
    },
    {
     "name": "stderr",
     "output_type": "stream",
     "text": [
      "Processing tournaments:  65%|██████▍   | 6876/10608 [23:52<11:47,  5.28it/s]"
     ]
    },
    {
     "name": "stdout",
     "output_type": "stream",
     "text": [
      "Error opening URL for tournament 6879: HTTP Error 500: Internal Server Error\n"
     ]
    },
    {
     "name": "stderr",
     "output_type": "stream",
     "text": [
      "Processing tournaments:  65%|██████▌   | 6914/10608 [24:02<11:15,  5.47it/s]"
     ]
    },
    {
     "name": "stdout",
     "output_type": "stream",
     "text": [
      "Error opening URL for tournament 6917: HTTP Error 500: Internal Server Error\n",
      "Error opening URL for tournament 6916: HTTP Error 500: Internal Server Error\n"
     ]
    },
    {
     "name": "stderr",
     "output_type": "stream",
     "text": [
      "Processing tournaments:  65%|██████▌   | 6926/10608 [24:06<16:52,  3.64it/s]"
     ]
    },
    {
     "name": "stdout",
     "output_type": "stream",
     "text": [
      "Error opening URL for tournament 6931: HTTP Error 500: Internal Server Error\n"
     ]
    },
    {
     "name": "stderr",
     "output_type": "stream",
     "text": [
      "Processing tournaments:  66%|██████▌   | 6965/10608 [24:15<11:57,  5.08it/s]"
     ]
    },
    {
     "name": "stdout",
     "output_type": "stream",
     "text": [
      "Error opening URL for tournament 6969: HTTP Error 500: Internal Server Error\n"
     ]
    },
    {
     "name": "stderr",
     "output_type": "stream",
     "text": [
      "Processing tournaments:  66%|██████▌   | 6983/10608 [24:20<18:51,  3.21it/s]"
     ]
    },
    {
     "name": "stdout",
     "output_type": "stream",
     "text": [
      "Error opening URL for tournament 6989: HTTP Error 500: Internal Server Error\n"
     ]
    },
    {
     "name": "stderr",
     "output_type": "stream",
     "text": [
      "Processing tournaments:  67%|██████▋   | 7075/10608 [24:42<10:32,  5.59it/s]"
     ]
    },
    {
     "name": "stdout",
     "output_type": "stream",
     "text": [
      "Error opening URL for tournament 7077: HTTP Error 500: Internal Server Error\n"
     ]
    },
    {
     "name": "stderr",
     "output_type": "stream",
     "text": [
      "Processing tournaments:  67%|██████▋   | 7096/10608 [24:47<13:33,  4.32it/s]"
     ]
    },
    {
     "name": "stdout",
     "output_type": "stream",
     "text": [
      "Error opening URL for tournament 7102: HTTP Error 500: Internal Server Error\n"
     ]
    },
    {
     "name": "stderr",
     "output_type": "stream",
     "text": [
      "Processing tournaments:  67%|██████▋   | 7100/10608 [24:48<12:27,  4.69it/s]"
     ]
    },
    {
     "name": "stdout",
     "output_type": "stream",
     "text": [
      "Error opening URL for tournament 7104: HTTP Error 500: Internal Server Error\n"
     ]
    },
    {
     "name": "stderr",
     "output_type": "stream",
     "text": [
      "Processing tournaments:  67%|██████▋   | 7143/10608 [24:59<15:50,  3.65it/s]"
     ]
    },
    {
     "name": "stdout",
     "output_type": "stream",
     "text": [
      "Error opening URL for tournament 7148: HTTP Error 500: Internal Server Error\n"
     ]
    },
    {
     "name": "stderr",
     "output_type": "stream",
     "text": [
      "Processing tournaments:  67%|██████▋   | 7155/10608 [25:02<10:55,  5.27it/s]"
     ]
    },
    {
     "name": "stdout",
     "output_type": "stream",
     "text": [
      "Error opening URL for tournament 7157: HTTP Error 500: Internal Server Error\n"
     ]
    },
    {
     "name": "stderr",
     "output_type": "stream",
     "text": [
      "Processing tournaments:  68%|██████▊   | 7175/10608 [25:05<09:31,  6.01it/s]"
     ]
    },
    {
     "name": "stdout",
     "output_type": "stream",
     "text": [
      "Error opening URL for tournament 7179: HTTP Error 500: Internal Server Error\n"
     ]
    },
    {
     "name": "stderr",
     "output_type": "stream",
     "text": [
      "Processing tournaments:  68%|██████▊   | 7192/10608 [25:09<07:34,  7.52it/s]"
     ]
    },
    {
     "name": "stdout",
     "output_type": "stream",
     "text": [
      "Error opening URL for tournament 7193: HTTP Error 500: Internal Server Error\n"
     ]
    },
    {
     "name": "stderr",
     "output_type": "stream",
     "text": [
      "Processing tournaments:  68%|██████▊   | 7194/10608 [25:09<11:08,  5.11it/s]"
     ]
    },
    {
     "name": "stdout",
     "output_type": "stream",
     "text": [
      "Error opening URL for tournament 7195: HTTP Error 500: Internal Server Error\n"
     ]
    },
    {
     "name": "stderr",
     "output_type": "stream",
     "text": [
      "Processing tournaments:  69%|██████▊   | 7280/10608 [25:29<13:11,  4.21it/s]"
     ]
    },
    {
     "name": "stdout",
     "output_type": "stream",
     "text": [
      "Error opening URL for tournament 7284: HTTP Error 500: Internal Server Error\n"
     ]
    },
    {
     "name": "stderr",
     "output_type": "stream",
     "text": [
      "Processing tournaments:  69%|██████▊   | 7284/10608 [25:30<10:00,  5.54it/s]"
     ]
    },
    {
     "name": "stdout",
     "output_type": "stream",
     "text": [
      "Error opening URL for tournament 7287: HTTP Error 500: Internal Server Error\n"
     ]
    },
    {
     "name": "stderr",
     "output_type": "stream",
     "text": [
      "Processing tournaments:  69%|██████▊   | 7285/10608 [25:30<10:16,  5.39it/s]"
     ]
    },
    {
     "name": "stdout",
     "output_type": "stream",
     "text": [
      "Error opening URL for tournament 7289: HTTP Error 500: Internal Server Error\n"
     ]
    },
    {
     "name": "stderr",
     "output_type": "stream",
     "text": [
      "Processing tournaments:  69%|██████▉   | 7293/10608 [25:32<14:46,  3.74it/s]"
     ]
    },
    {
     "name": "stdout",
     "output_type": "stream",
     "text": [
      "Error opening URL for tournament 7299: HTTP Error 500: Internal Server Error\n"
     ]
    },
    {
     "name": "stderr",
     "output_type": "stream",
     "text": [
      "Processing tournaments:  69%|██████▉   | 7305/10608 [25:35<12:09,  4.53it/s]"
     ]
    },
    {
     "name": "stdout",
     "output_type": "stream",
     "text": [
      "Error opening URL for tournament 7310: HTTP Error 500: Internal Server Error\n",
      "Error opening URL for tournament 7309: HTTP Error 500: Internal Server Error\n"
     ]
    },
    {
     "name": "stderr",
     "output_type": "stream",
     "text": [
      "Processing tournaments:  69%|██████▉   | 7333/10608 [25:41<08:24,  6.49it/s]"
     ]
    },
    {
     "name": "stdout",
     "output_type": "stream",
     "text": [
      "Error opening URL for tournament 7336: HTTP Error 500: Internal Server Error\n",
      "Error opening URL for tournament 7337: HTTP Error 500: Internal Server Error\n"
     ]
    },
    {
     "name": "stderr",
     "output_type": "stream",
     "text": [
      "Processing tournaments:  69%|██████▉   | 7336/10608 [25:42<09:18,  5.86it/s]"
     ]
    },
    {
     "name": "stdout",
     "output_type": "stream",
     "text": [
      "Error opening URL for tournament 7338: HTTP Error 500: Internal Server Error\n"
     ]
    },
    {
     "name": "stderr",
     "output_type": "stream",
     "text": [
      "Processing tournaments:  69%|██████▉   | 7340/10608 [25:42<07:46,  7.01it/s]"
     ]
    },
    {
     "name": "stdout",
     "output_type": "stream",
     "text": [
      "Error opening URL for tournament 7342: HTTP Error 500: Internal Server ErrorError opening URL for tournament 7340: HTTP Error 500: Internal Server Error\n",
      "\n",
      "Error opening URL for tournament 7341: HTTP Error 500: Internal Server Error\n",
      "Error opening URL for tournament 7339: HTTP Error 500: Internal Server Error\n"
     ]
    },
    {
     "name": "stderr",
     "output_type": "stream",
     "text": [
      "Processing tournaments:  69%|██████▉   | 7343/10608 [25:43<06:22,  8.53it/s]"
     ]
    },
    {
     "name": "stdout",
     "output_type": "stream",
     "text": [
      "Error opening URL for tournament 7344: HTTP Error 500: Internal Server Error\n",
      "Error opening URL for tournament 7343: HTTP Error 500: Internal Server Error\n"
     ]
    },
    {
     "name": "stderr",
     "output_type": "stream",
     "text": [
      "Processing tournaments:  69%|██████▉   | 7345/10608 [25:43<07:39,  7.10it/s]"
     ]
    },
    {
     "name": "stdout",
     "output_type": "stream",
     "text": [
      "Error opening URL for tournament 7345: HTTP Error 500: Internal Server Error\n"
     ]
    },
    {
     "name": "stderr",
     "output_type": "stream",
     "text": [
      "Processing tournaments:  69%|██████▉   | 7356/10608 [25:46<14:15,  3.80it/s]"
     ]
    },
    {
     "name": "stdout",
     "output_type": "stream",
     "text": [
      "Error opening URL for tournament 7358: HTTP Error 500: Internal Server Error\n",
      "Error opening URL for tournament 7357: HTTP Error 500: Internal Server Error\n",
      "Error opening URL for tournament 7356: HTTP Error 500: Internal Server Error\n"
     ]
    },
    {
     "name": "stderr",
     "output_type": "stream",
     "text": [
      "Processing tournaments:  69%|██████▉   | 7363/10608 [25:47<13:04,  4.14it/s]"
     ]
    },
    {
     "name": "stdout",
     "output_type": "stream",
     "text": [
      "Error opening URL for tournament 7368: HTTP Error 500: Internal Server Error\n"
     ]
    },
    {
     "name": "stderr",
     "output_type": "stream",
     "text": [
      "Processing tournaments:  69%|██████▉   | 7370/10608 [25:49<11:35,  4.66it/s]"
     ]
    },
    {
     "name": "stdout",
     "output_type": "stream",
     "text": [
      "Error opening URL for tournament 7376: HTTP Error 500: Internal Server Error\n"
     ]
    },
    {
     "name": "stderr",
     "output_type": "stream",
     "text": [
      "Processing tournaments:  70%|██████▉   | 7399/10608 [25:55<11:30,  4.65it/s]"
     ]
    },
    {
     "name": "stdout",
     "output_type": "stream",
     "text": [
      "Error opening URL for tournament 7405: HTTP Error 500: Internal Server Error\n"
     ]
    },
    {
     "name": "stderr",
     "output_type": "stream",
     "text": [
      "Processing tournaments:  70%|██████▉   | 7418/10608 [25:59<11:04,  4.80it/s]"
     ]
    },
    {
     "name": "stdout",
     "output_type": "stream",
     "text": [
      "Error opening URL for tournament 7423: HTTP Error 500: Internal Server Error\n"
     ]
    },
    {
     "name": "stderr",
     "output_type": "stream",
     "text": [
      "Processing tournaments:  70%|██████▉   | 7425/10608 [26:01<15:32,  3.41it/s]"
     ]
    },
    {
     "name": "stdout",
     "output_type": "stream",
     "text": [
      "Error opening URL for tournament 7431: HTTP Error 500: Internal Server Error\n"
     ]
    },
    {
     "name": "stderr",
     "output_type": "stream",
     "text": [
      "Processing tournaments:  70%|███████   | 7446/10608 [26:07<18:58,  2.78it/s]"
     ]
    },
    {
     "name": "stdout",
     "output_type": "stream",
     "text": [
      "Error opening URL for tournament 7453: HTTP Error 500: Internal Server Error\n"
     ]
    },
    {
     "name": "stderr",
     "output_type": "stream",
     "text": [
      "Processing tournaments:  70%|███████   | 7451/10608 [26:08<08:51,  5.94it/s]"
     ]
    },
    {
     "name": "stdout",
     "output_type": "stream",
     "text": [
      "Error opening URL for tournament 7454: HTTP Error 500: Internal Server Error\n"
     ]
    },
    {
     "name": "stderr",
     "output_type": "stream",
     "text": [
      "Processing tournaments:  70%|███████   | 7454/10608 [26:08<07:46,  6.76it/s]"
     ]
    },
    {
     "name": "stdout",
     "output_type": "stream",
     "text": [
      "Error opening URL for tournament 7455: HTTP Error 500: Internal Server Error\n",
      "Error opening URL for tournament 7456: HTTP Error 500: Internal Server Error\n"
     ]
    },
    {
     "name": "stderr",
     "output_type": "stream",
     "text": [
      "Processing tournaments:  70%|███████   | 7461/10608 [26:11<21:54,  2.39it/s]"
     ]
    },
    {
     "name": "stdout",
     "output_type": "stream",
     "text": [
      "Error opening URL for tournament 7468: HTTP Error 500: Internal Server Error\n"
     ]
    },
    {
     "name": "stderr",
     "output_type": "stream",
     "text": [
      "Processing tournaments:  70%|███████   | 7472/10608 [26:14<15:21,  3.40it/s]"
     ]
    },
    {
     "name": "stdout",
     "output_type": "stream",
     "text": [
      "Error opening URL for tournament 7477: HTTP Error 500: Internal Server Error\n"
     ]
    },
    {
     "name": "stderr",
     "output_type": "stream",
     "text": [
      "Processing tournaments:  71%|███████   | 7505/10608 [26:22<13:40,  3.78it/s]"
     ]
    },
    {
     "name": "stdout",
     "output_type": "stream",
     "text": [
      "Error opening URL for tournament 7511: HTTP Error 500: Internal Server Error\n"
     ]
    },
    {
     "name": "stderr",
     "output_type": "stream",
     "text": [
      "Processing tournaments:  71%|███████   | 7529/10608 [26:29<08:37,  5.95it/s]"
     ]
    },
    {
     "name": "stdout",
     "output_type": "stream",
     "text": [
      "Error opening URL for tournament 7530: HTTP Error 500: Internal Server Error\n"
     ]
    },
    {
     "name": "stderr",
     "output_type": "stream",
     "text": [
      "Processing tournaments:  71%|███████   | 7541/10608 [26:32<11:32,  4.43it/s]"
     ]
    },
    {
     "name": "stdout",
     "output_type": "stream",
     "text": [
      "Error opening URL for tournament 7544: HTTP Error 500: Internal Server Error\n",
      "Error opening URL for tournament 7548: HTTP Error 500: Internal Server Error\n"
     ]
    },
    {
     "name": "stderr",
     "output_type": "stream",
     "text": [
      "Processing tournaments:  71%|███████▏  | 7571/10608 [26:40<17:26,  2.90it/s]"
     ]
    },
    {
     "name": "stdout",
     "output_type": "stream",
     "text": [
      "Error opening URL for tournament 7576: HTTP Error 500: Internal Server Error\n"
     ]
    },
    {
     "name": "stderr",
     "output_type": "stream",
     "text": [
      "Processing tournaments:  72%|███████▏  | 7648/10608 [26:59<13:24,  3.68it/s]"
     ]
    },
    {
     "name": "stdout",
     "output_type": "stream",
     "text": [
      "Error opening URL for tournament 7654: HTTP Error 500: Internal Server Error\n"
     ]
    },
    {
     "name": "stderr",
     "output_type": "stream",
     "text": [
      "Processing tournaments:  72%|███████▏  | 7657/10608 [27:00<07:09,  6.87it/s]"
     ]
    },
    {
     "name": "stdout",
     "output_type": "stream",
     "text": [
      "Error opening URL for tournament 7658: HTTP Error 500: Internal Server Error\n"
     ]
    },
    {
     "name": "stderr",
     "output_type": "stream",
     "text": [
      "Processing tournaments:  73%|███████▎  | 7694/10608 [27:08<09:55,  4.89it/s]"
     ]
    },
    {
     "name": "stdout",
     "output_type": "stream",
     "text": [
      "Error opening URL for tournament 7699: HTTP Error 500: Internal Server Error\n"
     ]
    },
    {
     "name": "stderr",
     "output_type": "stream",
     "text": [
      "Processing tournaments:  73%|███████▎  | 7697/10608 [27:09<08:40,  5.59it/s]"
     ]
    },
    {
     "name": "stdout",
     "output_type": "stream",
     "text": [
      "Error opening URL for tournament 7698: HTTP Error 500: Internal Server Error\n"
     ]
    },
    {
     "name": "stderr",
     "output_type": "stream",
     "text": [
      "Processing tournaments:  73%|███████▎  | 7727/10608 [27:15<07:00,  6.84it/s]"
     ]
    },
    {
     "name": "stdout",
     "output_type": "stream",
     "text": [
      "Error opening URL for tournament 7730: HTTP Error 500: Internal Server Error\n"
     ]
    },
    {
     "name": "stderr",
     "output_type": "stream",
     "text": [
      "Processing tournaments:  73%|███████▎  | 7753/10608 [27:21<12:36,  3.77it/s]"
     ]
    },
    {
     "name": "stdout",
     "output_type": "stream",
     "text": [
      "Error opening URL for tournament 7759: HTTP Error 500: Internal Server Error\n"
     ]
    },
    {
     "name": "stderr",
     "output_type": "stream",
     "text": [
      "Processing tournaments:  73%|███████▎  | 7759/10608 [27:21<07:52,  6.03it/s]"
     ]
    },
    {
     "name": "stdout",
     "output_type": "stream",
     "text": [
      "Error opening URL for tournament 7762: HTTP Error 500: Internal Server Error\n"
     ]
    },
    {
     "name": "stderr",
     "output_type": "stream",
     "text": [
      "Processing tournaments:  74%|███████▎  | 7805/10608 [27:32<10:32,  4.43it/s]"
     ]
    },
    {
     "name": "stdout",
     "output_type": "stream",
     "text": [
      "Error opening URL for tournament 7811: HTTP Error 500: Internal Server Error\n"
     ]
    },
    {
     "name": "stderr",
     "output_type": "stream",
     "text": [
      "Processing tournaments:  74%|███████▎  | 7813/10608 [27:34<08:08,  5.73it/s]"
     ]
    },
    {
     "name": "stdout",
     "output_type": "stream",
     "text": [
      "Error opening URL for tournament 7815: HTTP Error 500: Internal Server Error\n"
     ]
    },
    {
     "name": "stderr",
     "output_type": "stream",
     "text": [
      "Processing tournaments:  74%|███████▍  | 7837/10608 [27:40<07:56,  5.81it/s]"
     ]
    },
    {
     "name": "stdout",
     "output_type": "stream",
     "text": [
      "Error opening URL for tournament 7839: HTTP Error 500: Internal Server Error\n"
     ]
    },
    {
     "name": "stderr",
     "output_type": "stream",
     "text": [
      "Processing tournaments:  74%|███████▍  | 7846/10608 [27:42<07:41,  5.98it/s]"
     ]
    },
    {
     "name": "stdout",
     "output_type": "stream",
     "text": [
      "Error opening URL for tournament 7851: HTTP Error 500: Internal Server Error\n"
     ]
    },
    {
     "name": "stderr",
     "output_type": "stream",
     "text": [
      "Processing tournaments:  74%|███████▍  | 7848/10608 [27:42<08:59,  5.12it/s]"
     ]
    },
    {
     "name": "stdout",
     "output_type": "stream",
     "text": [
      "Error opening URL for tournament 7852: HTTP Error 500: Internal Server Error\n"
     ]
    },
    {
     "name": "stderr",
     "output_type": "stream",
     "text": [
      "Processing tournaments:  74%|███████▍  | 7854/10608 [27:43<04:33, 10.07it/s]"
     ]
    },
    {
     "name": "stdout",
     "output_type": "stream",
     "text": [
      "Error opening URL for tournament 7854: HTTP Error 500: Internal Server Error\n",
      "Error opening URL for tournament 7853: HTTP Error 500: Internal Server Error\n",
      "Error opening URL for tournament 7855: HTTP Error 500: Internal Server Error\n"
     ]
    },
    {
     "name": "stderr",
     "output_type": "stream",
     "text": [
      "Processing tournaments:  74%|███████▍  | 7856/10608 [27:43<06:55,  6.62it/s]"
     ]
    },
    {
     "name": "stdout",
     "output_type": "stream",
     "text": [
      "Error opening URL for tournament 7856: HTTP Error 500: Internal Server Error\n",
      "Error opening URL for tournament 7863: HTTP Error 500: Internal Server Error\n"
     ]
    },
    {
     "name": "stderr",
     "output_type": "stream",
     "text": [
      "Processing tournaments:  74%|███████▍  | 7858/10608 [27:44<09:40,  4.74it/s]"
     ]
    },
    {
     "name": "stdout",
     "output_type": "stream",
     "text": [
      "Error opening URL for tournament 7864: HTTP Error 500: Internal Server Error\n"
     ]
    },
    {
     "name": "stderr",
     "output_type": "stream",
     "text": [
      "Processing tournaments:  74%|███████▍  | 7866/10608 [27:46<09:34,  4.77it/s]"
     ]
    },
    {
     "name": "stdout",
     "output_type": "stream",
     "text": [
      "Error opening URL for tournament 7872: HTTP Error 500: Internal Server Error\n"
     ]
    },
    {
     "name": "stderr",
     "output_type": "stream",
     "text": [
      "Processing tournaments:  74%|███████▍  | 7878/10608 [27:48<08:27,  5.38it/s]"
     ]
    },
    {
     "name": "stdout",
     "output_type": "stream",
     "text": [
      "Error opening URL for tournament 7879: HTTP Error 500: Internal Server Error\n"
     ]
    },
    {
     "name": "stderr",
     "output_type": "stream",
     "text": [
      "Processing tournaments:  74%|███████▍  | 7887/10608 [27:50<06:28,  7.01it/s]"
     ]
    },
    {
     "name": "stdout",
     "output_type": "stream",
     "text": [
      "Error opening URL for tournament 7889: HTTP Error 500: Internal Server Error\n"
     ]
    },
    {
     "name": "stderr",
     "output_type": "stream",
     "text": [
      "Processing tournaments:  74%|███████▍  | 7890/10608 [27:50<07:14,  6.26it/s]"
     ]
    },
    {
     "name": "stdout",
     "output_type": "stream",
     "text": [
      "Error opening URL for tournament 7890: HTTP Error 500: Internal Server Error\n"
     ]
    },
    {
     "name": "stderr",
     "output_type": "stream",
     "text": [
      "Processing tournaments:  74%|███████▍  | 7898/10608 [27:52<06:41,  6.75it/s]"
     ]
    },
    {
     "name": "stdout",
     "output_type": "stream",
     "text": [
      "Error opening URL for tournament 7900: HTTP Error 500: Internal Server Error\n"
     ]
    },
    {
     "name": "stderr",
     "output_type": "stream",
     "text": [
      "Processing tournaments:  75%|███████▍  | 7905/10608 [27:54<08:00,  5.63it/s]"
     ]
    },
    {
     "name": "stdout",
     "output_type": "stream",
     "text": [
      "Error opening URL for tournament 7909: HTTP Error 500: Internal Server Error\n",
      "Error opening URL for tournament 7908: HTTP Error 500: Internal Server Error\n"
     ]
    },
    {
     "name": "stderr",
     "output_type": "stream",
     "text": [
      "Processing tournaments:  75%|███████▍  | 7909/10608 [27:54<05:28,  8.22it/s]"
     ]
    },
    {
     "name": "stdout",
     "output_type": "stream",
     "text": [
      "Error opening URL for tournament 7910: HTTP Error 500: Internal Server Error\n",
      "Error opening URL for tournament 7911: HTTP Error 500: Internal Server Error\n"
     ]
    },
    {
     "name": "stderr",
     "output_type": "stream",
     "text": [
      "Processing tournaments:  75%|███████▍  | 7911/10608 [27:54<04:52,  9.23it/s]"
     ]
    },
    {
     "name": "stdout",
     "output_type": "stream",
     "text": [
      "Error opening URL for tournament 7913: HTTP Error 500: Internal Server Error\n",
      "Error opening URL for tournament 7912: HTTP Error 500: Internal Server Error\n"
     ]
    },
    {
     "name": "stderr",
     "output_type": "stream",
     "text": [
      "Processing tournaments:  75%|███████▍  | 7914/10608 [27:55<09:37,  4.67it/s]"
     ]
    },
    {
     "name": "stdout",
     "output_type": "stream",
     "text": [
      "Error opening URL for tournament 7920: HTTP Error 500: Internal Server Error\n"
     ]
    },
    {
     "name": "stderr",
     "output_type": "stream",
     "text": [
      "Processing tournaments:  75%|███████▍  | 7922/10608 [27:57<11:23,  3.93it/s]"
     ]
    },
    {
     "name": "stdout",
     "output_type": "stream",
     "text": [
      "Error opening URL for tournament 7929: HTTP Error 500: Internal Server Error\n"
     ]
    },
    {
     "name": "stderr",
     "output_type": "stream",
     "text": [
      "Processing tournaments:  75%|███████▍  | 7935/10608 [27:59<08:35,  5.18it/s]"
     ]
    },
    {
     "name": "stdout",
     "output_type": "stream",
     "text": [
      "Error opening URL for tournament 7940: HTTP Error 500: Internal Server Error\n"
     ]
    },
    {
     "name": "stderr",
     "output_type": "stream",
     "text": [
      "Processing tournaments:  75%|███████▍  | 7939/10608 [28:00<06:07,  7.26it/s]"
     ]
    },
    {
     "name": "stdout",
     "output_type": "stream",
     "text": [
      "Error opening URL for tournament 7941: HTTP Error 500: Internal Server Error\n"
     ]
    },
    {
     "name": "stderr",
     "output_type": "stream",
     "text": [
      "Processing tournaments:  75%|███████▍  | 7950/10608 [28:02<05:06,  8.67it/s]"
     ]
    },
    {
     "name": "stdout",
     "output_type": "stream",
     "text": [
      "Error opening URL for tournament 7951: HTTP Error 500: Internal Server Error\n",
      "Error opening URL for tournament 7953: HTTP Error 500: Internal Server Error\n",
      "Error opening URL for tournament 7952: HTTP Error 500: Internal Server Error\n"
     ]
    },
    {
     "name": "stderr",
     "output_type": "stream",
     "text": [
      "Processing tournaments:  75%|███████▍  | 7954/10608 [28:02<04:02, 10.92it/s]"
     ]
    },
    {
     "name": "stdout",
     "output_type": "stream",
     "text": [
      "Error opening URL for tournament 7954: HTTP Error 500: Internal Server Error\n",
      "Error opening URL for tournament 7950: HTTP Error 500: Internal Server Error\n",
      "Error opening URL for tournament 7960: HTTP Error 500: Internal Server Error\n"
     ]
    },
    {
     "name": "stderr",
     "output_type": "stream",
     "text": [
      "Processing tournaments:  75%|███████▌  | 7962/10608 [28:04<07:04,  6.23it/s]"
     ]
    },
    {
     "name": "stdout",
     "output_type": "stream",
     "text": [
      "Error opening URL for tournament 7966: HTTP Error 500: Internal Server Error\n"
     ]
    },
    {
     "name": "stderr",
     "output_type": "stream",
     "text": [
      "Processing tournaments:  75%|███████▌  | 7969/10608 [28:05<05:45,  7.65it/s]"
     ]
    },
    {
     "name": "stdout",
     "output_type": "stream",
     "text": [
      "Error opening URL for tournament 7971: HTTP Error 500: Internal Server Error\n"
     ]
    },
    {
     "name": "stderr",
     "output_type": "stream",
     "text": [
      "Processing tournaments:  75%|███████▌  | 7975/10608 [28:07<11:55,  3.68it/s]"
     ]
    },
    {
     "name": "stdout",
     "output_type": "stream",
     "text": [
      "Error opening URL for tournament 7982: HTTP Error 500: Internal Server Error\n"
     ]
    },
    {
     "name": "stderr",
     "output_type": "stream",
     "text": [
      "Processing tournaments:  75%|███████▌  | 7989/10608 [28:09<06:32,  6.67it/s]"
     ]
    },
    {
     "name": "stdout",
     "output_type": "stream",
     "text": [
      "Error opening URL for tournament 7992: HTTP Error 500: Internal Server Error\n",
      "Error opening URL for tournament 7993: HTTP Error 500: Internal Server Error\n"
     ]
    },
    {
     "name": "stderr",
     "output_type": "stream",
     "text": [
      "Processing tournaments:  75%|███████▌  | 8003/10608 [28:11<08:39,  5.01it/s]"
     ]
    },
    {
     "name": "stdout",
     "output_type": "stream",
     "text": [
      "Error opening URL for tournament 8009: HTTP Error 500: Internal Server Error\n"
     ]
    },
    {
     "name": "stderr",
     "output_type": "stream",
     "text": [
      "Processing tournaments:  75%|███████▌  | 8008/10608 [28:12<05:11,  8.36it/s]"
     ]
    },
    {
     "name": "stdout",
     "output_type": "stream",
     "text": [
      "Error opening URL for tournament 8010: HTTP Error 500: Internal Server Error\n"
     ]
    },
    {
     "name": "stderr",
     "output_type": "stream",
     "text": [
      "Processing tournaments:  76%|███████▌  | 8010/10608 [28:12<07:23,  5.86it/s]"
     ]
    },
    {
     "name": "stdout",
     "output_type": "stream",
     "text": [
      "Error opening URL for tournament 8014: HTTP Error 500: Internal Server Error\n"
     ]
    },
    {
     "name": "stderr",
     "output_type": "stream",
     "text": [
      "Processing tournaments:  76%|███████▌  | 8013/10608 [28:13<08:23,  5.15it/s]"
     ]
    },
    {
     "name": "stdout",
     "output_type": "stream",
     "text": [
      "Error opening URL for tournament 8018: HTTP Error 500: Internal Server Error\n"
     ]
    },
    {
     "name": "stderr",
     "output_type": "stream",
     "text": [
      "Processing tournaments:  76%|███████▌  | 8017/10608 [28:14<06:35,  6.56it/s]"
     ]
    },
    {
     "name": "stdout",
     "output_type": "stream",
     "text": [
      "Error opening URL for tournament 8019: HTTP Error 500: Internal Server Error\n"
     ]
    },
    {
     "name": "stderr",
     "output_type": "stream",
     "text": [
      "Processing tournaments:  76%|███████▌  | 8060/10608 [28:24<09:33,  4.44it/s]"
     ]
    },
    {
     "name": "stdout",
     "output_type": "stream",
     "text": [
      "Error opening URL for tournament 8066: HTTP Error 500: Internal Server Error\n"
     ]
    },
    {
     "name": "stderr",
     "output_type": "stream",
     "text": [
      "Processing tournaments:  76%|███████▌  | 8072/10608 [28:27<07:44,  5.46it/s]"
     ]
    },
    {
     "name": "stdout",
     "output_type": "stream",
     "text": [
      "Error opening URL for tournament 8074: HTTP Error 500: Internal Server Error\n"
     ]
    },
    {
     "name": "stderr",
     "output_type": "stream",
     "text": [
      "Processing tournaments:  76%|███████▋  | 8107/10608 [28:35<08:14,  5.05it/s]"
     ]
    },
    {
     "name": "stdout",
     "output_type": "stream",
     "text": [
      "Error opening URL for tournament 8113: HTTP Error 500: Internal Server Error\n"
     ]
    },
    {
     "name": "stderr",
     "output_type": "stream",
     "text": [
      "Processing tournaments:  77%|███████▋  | 8128/10608 [28:39<06:23,  6.47it/s]"
     ]
    },
    {
     "name": "stdout",
     "output_type": "stream",
     "text": [
      "Error opening URL for tournament 8131: HTTP Error 500: Internal Server Error\n"
     ]
    },
    {
     "name": "stderr",
     "output_type": "stream",
     "text": [
      "Processing tournaments:  77%|███████▋  | 8130/10608 [28:40<06:30,  6.34it/s]"
     ]
    },
    {
     "name": "stdout",
     "output_type": "stream",
     "text": [
      "Error opening URL for tournament 8132: HTTP Error 500: Internal Server Error\n"
     ]
    },
    {
     "name": "stderr",
     "output_type": "stream",
     "text": [
      "Processing tournaments:  77%|███████▋  | 8149/10608 [28:44<06:41,  6.13it/s]"
     ]
    },
    {
     "name": "stdout",
     "output_type": "stream",
     "text": [
      "Error opening URL for tournament 8152: HTTP Error 500: Internal Server Error\n"
     ]
    },
    {
     "name": "stderr",
     "output_type": "stream",
     "text": [
      "Processing tournaments:  77%|███████▋  | 8150/10608 [28:44<07:49,  5.23it/s]"
     ]
    },
    {
     "name": "stdout",
     "output_type": "stream",
     "text": [
      "Error opening URL for tournament 8153: HTTP Error 500: Internal Server Error\n"
     ]
    },
    {
     "name": "stderr",
     "output_type": "stream",
     "text": [
      "Processing tournaments:  77%|███████▋  | 8153/10608 [28:45<09:08,  4.48it/s]"
     ]
    },
    {
     "name": "stdout",
     "output_type": "stream",
     "text": [
      "Error opening URL for tournament 8158: HTTP Error 500: Internal Server Error\n"
     ]
    },
    {
     "name": "stderr",
     "output_type": "stream",
     "text": [
      "Processing tournaments:  77%|███████▋  | 8163/10608 [28:47<07:53,  5.17it/s]"
     ]
    },
    {
     "name": "stdout",
     "output_type": "stream",
     "text": [
      "Error opening URL for tournament 8167: HTTP Error 500: Internal Server Error\n"
     ]
    },
    {
     "name": "stderr",
     "output_type": "stream",
     "text": [
      "Processing tournaments:  77%|███████▋  | 8165/10608 [28:48<10:15,  3.97it/s]"
     ]
    },
    {
     "name": "stdout",
     "output_type": "stream",
     "text": [
      "Error opening URL for tournament 8168: HTTP Error 500: Internal Server Error\n"
     ]
    },
    {
     "name": "stderr",
     "output_type": "stream",
     "text": [
      "Processing tournaments:  77%|███████▋  | 8170/10608 [28:49<10:40,  3.81it/s]"
     ]
    },
    {
     "name": "stdout",
     "output_type": "stream",
     "text": [
      "Error opening URL for tournament 8176: HTTP Error 500: Internal Server Error\n"
     ]
    },
    {
     "name": "stderr",
     "output_type": "stream",
     "text": [
      "Processing tournaments:  77%|███████▋  | 8193/10608 [28:54<05:24,  7.45it/s]"
     ]
    },
    {
     "name": "stdout",
     "output_type": "stream",
     "text": [
      "Error opening URL for tournament 8193: HTTP Error 500: Internal Server Error\n",
      "Error opening URL for tournament 8194: HTTP Error 500: Internal Server Error\n"
     ]
    },
    {
     "name": "stderr",
     "output_type": "stream",
     "text": [
      "Processing tournaments:  77%|███████▋  | 8195/10608 [28:54<04:49,  8.34it/s]"
     ]
    },
    {
     "name": "stdout",
     "output_type": "stream",
     "text": [
      "Error opening URL for tournament 8195: HTTP Error 500: Internal Server Error\n",
      "Error opening URL for tournament 8196: HTTP Error 500: Internal Server Error\n",
      "Error opening URL for tournament 8197: HTTP Error 500: Internal Server Error\n"
     ]
    },
    {
     "name": "stderr",
     "output_type": "stream",
     "text": [
      "Processing tournaments:  77%|███████▋  | 8200/10608 [28:54<03:50, 10.46it/s]"
     ]
    },
    {
     "name": "stdout",
     "output_type": "stream",
     "text": [
      "Error opening URL for tournament 8198: HTTP Error 500: Internal Server Error\n",
      "Error opening URL for tournament 8200: HTTP Error 500: Internal Server Error\n",
      "Error opening URL for tournament 8199: HTTP Error 500: Internal Server Error\n"
     ]
    },
    {
     "name": "stderr",
     "output_type": "stream",
     "text": [
      "Processing tournaments:  77%|███████▋  | 8202/10608 [28:54<03:52, 10.33it/s]"
     ]
    },
    {
     "name": "stdout",
     "output_type": "stream",
     "text": [
      "Error opening URL for tournament 8201: HTTP Error 500: Internal Server Error\n",
      "Error opening URL for tournament 8203: HTTP Error 500: Internal Server Error\n",
      "Error opening URL for tournament 8204: HTTP Error 500: Internal Server Error\n"
     ]
    },
    {
     "name": "stderr",
     "output_type": "stream",
     "text": [
      "Processing tournaments:  77%|███████▋  | 8204/10608 [28:54<03:34, 11.19it/s]"
     ]
    },
    {
     "name": "stdout",
     "output_type": "stream",
     "text": [
      "Error opening URL for tournament 8205: HTTP Error 500: Internal Server Error\n",
      "Error opening URL for tournament 8202: HTTP Error 500: Internal Server Error\n"
     ]
    },
    {
     "name": "stderr",
     "output_type": "stream",
     "text": [
      "Processing tournaments:  77%|███████▋  | 8209/10608 [28:55<03:29, 11.47it/s]"
     ]
    },
    {
     "name": "stdout",
     "output_type": "stream",
     "text": [
      "Error opening URL for tournament 8207: HTTP Error 500: Internal Server ErrorError opening URL for tournament 8206: HTTP Error 500: Internal Server Error\n",
      "\n",
      "Error opening URL for tournament 8208: HTTP Error 500: Internal Server Error\n",
      "Error opening URL for tournament 8209: HTTP Error 500: Internal Server Error\n",
      "Error opening URL for tournament 8210: HTTP Error 500: Internal Server Error\n"
     ]
    },
    {
     "name": "stderr",
     "output_type": "stream",
     "text": [
      "Processing tournaments:  77%|███████▋  | 8211/10608 [28:55<03:48, 10.49it/s]"
     ]
    },
    {
     "name": "stdout",
     "output_type": "stream",
     "text": [
      "Error opening URL for tournament 8212: HTTP Error 500: Internal Server Error\n",
      "Error opening URL for tournament 8211: HTTP Error 500: Internal Server Error\n",
      "Error opening URL for tournament 8213: HTTP Error 500: Internal Server Error\n"
     ]
    },
    {
     "name": "stderr",
     "output_type": "stream",
     "text": [
      "Processing tournaments:  77%|███████▋  | 8216/10608 [28:55<03:13, 12.35it/s]"
     ]
    },
    {
     "name": "stdout",
     "output_type": "stream",
     "text": [
      "Error opening URL for tournament 8214: HTTP Error 500: Internal Server Error\n",
      "Error opening URL for tournament 8216: HTTP Error 500: Internal Server Error\n",
      "Error opening URL for tournament 8215: HTTP Error 500: Internal Server Error\n"
     ]
    },
    {
     "name": "stderr",
     "output_type": "stream",
     "text": [
      "Processing tournaments:  77%|███████▋  | 8218/10608 [28:56<03:59,  9.98it/s]"
     ]
    },
    {
     "name": "stdout",
     "output_type": "stream",
     "text": [
      "Error opening URL for tournament 8218: HTTP Error 500: Internal Server Error\n",
      "Error opening URL for tournament 8217: HTTP Error 500: Internal Server Error\n",
      "Error opening URL for tournament 8220: HTTP Error 500: Internal Server Error\n",
      "Error opening URL for tournament 8219: HTTP Error 500: Internal Server Error\n",
      "Error opening URL for tournament 8221: HTTP Error 500: Internal Server Error\n"
     ]
    },
    {
     "name": "stderr",
     "output_type": "stream",
     "text": [
      "Processing tournaments:  78%|███████▊  | 8222/10608 [28:56<03:09, 12.59it/s]"
     ]
    },
    {
     "name": "stdout",
     "output_type": "stream",
     "text": [
      "Error opening URL for tournament 8223: HTTP Error 500: Internal Server Error\n",
      "Error opening URL for tournament 8222: HTTP Error 500: Internal Server Error\n",
      "Error opening URL for tournament 8224: HTTP Error 500: Internal Server Error\n"
     ]
    },
    {
     "name": "stderr",
     "output_type": "stream",
     "text": [
      "Processing tournaments:  78%|███████▊  | 8225/10608 [28:56<03:39, 10.86it/s]"
     ]
    },
    {
     "name": "stdout",
     "output_type": "stream",
     "text": [
      "Error opening URL for tournament 8225: HTTP Error 500: Internal Server Error\n",
      "Error opening URL for tournament 8226: HTTP Error 500: Internal Server Error\n"
     ]
    },
    {
     "name": "stderr",
     "output_type": "stream",
     "text": [
      "Processing tournaments:  78%|███████▊  | 8230/10608 [28:57<03:38, 10.87it/s]"
     ]
    },
    {
     "name": "stdout",
     "output_type": "stream",
     "text": [
      "Error opening URL for tournament 8228: HTTP Error 500: Internal Server ErrorError opening URL for tournament 8232: HTTP Error 500: Internal Server Error\n",
      "\n",
      "Error opening URL for tournament 8227: HTTP Error 500: Internal Server Error\n",
      "Error opening URL for tournament 8231: HTTP Error 500: Internal Server Error\n",
      "Error opening URL for tournament 8230: HTTP Error 500: Internal Server Error\n"
     ]
    },
    {
     "name": "stderr",
     "output_type": "stream",
     "text": [
      "Processing tournaments:  78%|███████▊  | 8232/10608 [28:57<03:40, 10.76it/s]"
     ]
    },
    {
     "name": "stdout",
     "output_type": "stream",
     "text": [
      "Error opening URL for tournament 8233: HTTP Error 500: Internal Server Error\n",
      "Error opening URL for tournament 8234: HTTP Error 500: Internal Server Error\n"
     ]
    },
    {
     "name": "stderr",
     "output_type": "stream",
     "text": [
      "Processing tournaments:  78%|███████▊  | 8238/10608 [28:57<03:00, 13.11it/s]"
     ]
    },
    {
     "name": "stdout",
     "output_type": "stream",
     "text": [
      "Error opening URL for tournament 8235: HTTP Error 500: Internal Server Error\n",
      "Error opening URL for tournament 8237: HTTP Error 500: Internal Server Error\n",
      "Error opening URL for tournament 8239: HTTP Error 500: Internal Server Error\n",
      "Error opening URL for tournament 8236: HTTP Error 500: Internal Server Error\n",
      "Error opening URL for tournament 8238: HTTP Error 500: Internal Server Error\n",
      "Error opening URL for tournament 8229: HTTP Error 500: Internal Server Error\n"
     ]
    },
    {
     "name": "stderr",
     "output_type": "stream",
     "text": [
      "Processing tournaments:  78%|███████▊  | 8242/10608 [28:58<03:46, 10.44it/s]"
     ]
    },
    {
     "name": "stdout",
     "output_type": "stream",
     "text": [
      "Error opening URL for tournament 8241: HTTP Error 500: Internal Server ErrorError opening URL for tournament 8240: HTTP Error 500: Internal Server Error\n",
      "\n",
      "Error opening URL for tournament 8243: HTTP Error 500: Internal Server Error\n"
     ]
    },
    {
     "name": "stderr",
     "output_type": "stream",
     "text": [
      "Processing tournaments:  78%|███████▊  | 8244/10608 [28:59<05:47,  6.80it/s]"
     ]
    },
    {
     "name": "stdout",
     "output_type": "stream",
     "text": [
      "Error opening URL for tournament 8249: HTTP Error 500: Internal Server Error\n",
      "Error opening URL for tournament 8248: HTTP Error 500: Internal Server Error\n"
     ]
    },
    {
     "name": "stderr",
     "output_type": "stream",
     "text": [
      "Processing tournaments:  78%|███████▊  | 8249/10608 [28:59<05:28,  7.18it/s]"
     ]
    },
    {
     "name": "stdout",
     "output_type": "stream",
     "text": [
      "Error opening URL for tournament 8252: HTTP Error 500: Internal Server Error\n",
      "Error opening URL for tournament 8251: HTTP Error 500: Internal Server Error\n",
      "Error opening URL for tournament 8246: HTTP Error 500: Internal Server Error\n",
      "Error opening URL for tournament 8242: HTTP Error 500: Internal Server Error\n",
      "Error opening URL for tournament 8244: HTTP Error 500: Internal Server Error\n",
      "Error opening URL for tournament 8245: HTTP Error 500: Internal Server Error\n"
     ]
    },
    {
     "name": "stderr",
     "output_type": "stream",
     "text": [
      "Processing tournaments:  78%|███████▊  | 8251/10608 [29:00<05:09,  7.62it/s]"
     ]
    },
    {
     "name": "stdout",
     "output_type": "stream",
     "text": [
      "Error opening URL for tournament 8250: HTTP Error 500: Internal Server Error\n",
      "Error opening URL for tournament 8247: HTTP Error 500: Internal Server Error\n"
     ]
    },
    {
     "name": "stderr",
     "output_type": "stream",
     "text": [
      "Processing tournaments:  78%|███████▊  | 8253/10608 [29:00<05:04,  7.74it/s]"
     ]
    },
    {
     "name": "stdout",
     "output_type": "stream",
     "text": [
      "Error opening URL for tournament 8253: HTTP Error 500: Internal Server Error\n",
      "Error opening URL for tournament 8255: HTTP Error 500: Internal Server Error\n",
      "Error opening URL for tournament 8254: HTTP Error 500: Internal Server Error\n"
     ]
    },
    {
     "name": "stderr",
     "output_type": "stream",
     "text": [
      "Processing tournaments:  78%|███████▊  | 8257/10608 [29:00<04:07,  9.49it/s]"
     ]
    },
    {
     "name": "stdout",
     "output_type": "stream",
     "text": [
      "Error opening URL for tournament 8257: HTTP Error 500: Internal Server Error\n",
      "Error opening URL for tournament 8260: HTTP Error 500: Internal Server Error\n",
      "Error opening URL for tournament 8256: HTTP Error 500: Internal Server Error\n",
      "Error opening URL for tournament 8258: HTTP Error 500: Internal Server Error\n"
     ]
    },
    {
     "name": "stderr",
     "output_type": "stream",
     "text": [
      "Processing tournaments:  78%|███████▊  | 8260/10608 [29:00<03:35, 10.91it/s]"
     ]
    },
    {
     "name": "stdout",
     "output_type": "stream",
     "text": [
      "Error opening URL for tournament 8259: HTTP Error 500: Internal Server Error\n",
      "Error opening URL for tournament 8261: HTTP Error 500: Internal Server Error\n"
     ]
    },
    {
     "name": "stderr",
     "output_type": "stream",
     "text": [
      "Processing tournaments:  78%|███████▊  | 8265/10608 [29:01<03:28, 11.23it/s]"
     ]
    },
    {
     "name": "stdout",
     "output_type": "stream",
     "text": [
      "Error opening URL for tournament 8262: HTTP Error 500: Internal Server Error\n",
      "Error opening URL for tournament 8265: HTTP Error 500: Internal Server Error\n",
      "Error opening URL for tournament 8263: HTTP Error 500: Internal Server Error\n",
      "Error opening URL for tournament 8264: HTTP Error 500: Internal Server Error\n"
     ]
    },
    {
     "name": "stderr",
     "output_type": "stream",
     "text": [
      "Processing tournaments:  78%|███████▊  | 8268/10608 [29:01<03:07, 12.50it/s]"
     ]
    },
    {
     "name": "stdout",
     "output_type": "stream",
     "text": [
      "Error opening URL for tournament 8267: HTTP Error 500: Internal Server Error\n",
      "Error opening URL for tournament 8266: HTTP Error 500: Internal Server Error\n",
      "Error opening URL for tournament 8268: HTTP Error 500: Internal Server Error\n",
      "Error opening URL for tournament 8269: HTTP Error 500: Internal Server Error\n"
     ]
    },
    {
     "name": "stderr",
     "output_type": "stream",
     "text": [
      "Processing tournaments:  78%|███████▊  | 8272/10608 [29:01<03:28, 11.21it/s]"
     ]
    },
    {
     "name": "stdout",
     "output_type": "stream",
     "text": [
      "Error opening URL for tournament 8271: HTTP Error 500: Internal Server Error\n",
      "Error opening URL for tournament 8272: HTTP Error 500: Internal Server Error\n",
      "Error opening URL for tournament 8270: HTTP Error 500: Internal Server Error\n"
     ]
    },
    {
     "name": "stderr",
     "output_type": "stream",
     "text": [
      "Processing tournaments:  78%|███████▊  | 8274/10608 [29:02<03:19, 11.72it/s]"
     ]
    },
    {
     "name": "stdout",
     "output_type": "stream",
     "text": [
      "Error opening URL for tournament 8273: HTTP Error 500: Internal Server Error\n",
      "Error opening URL for tournament 8274: HTTP Error 500: Internal Server Error\n"
     ]
    },
    {
     "name": "stderr",
     "output_type": "stream",
     "text": [
      "Processing tournaments:  78%|███████▊  | 8276/10608 [29:02<03:14, 12.01it/s]"
     ]
    },
    {
     "name": "stdout",
     "output_type": "stream",
     "text": [
      "Error opening URL for tournament 8275: HTTP Error 500: Internal Server Error\n",
      "Error opening URL for tournament 8276: HTTP Error 500: Internal Server Error\n"
     ]
    },
    {
     "name": "stderr",
     "output_type": "stream",
     "text": [
      "Processing tournaments:  78%|███████▊  | 8281/10608 [29:02<02:58, 13.06it/s]"
     ]
    },
    {
     "name": "stdout",
     "output_type": "stream",
     "text": [
      "Error opening URL for tournament 8278: HTTP Error 500: Internal Server ErrorError opening URL for tournament 8277: HTTP Error 500: Internal Server Error\n",
      "\n",
      "Error opening URL for tournament 8279: HTTP Error 500: Internal Server Error\n",
      "Error opening URL for tournament 8280: HTTP Error 500: Internal Server Error\n",
      "Error opening URL for tournament 8281: HTTP Error 500: Internal Server Error\n",
      "Error opening URL for tournament 8282: HTTP Error 500: Internal Server Error\n"
     ]
    },
    {
     "name": "stderr",
     "output_type": "stream",
     "text": [
      "Processing tournaments:  78%|███████▊  | 8283/10608 [29:02<03:03, 12.69it/s]"
     ]
    },
    {
     "name": "stdout",
     "output_type": "stream",
     "text": [
      "Error opening URL for tournament 8284: HTTP Error 500: Internal Server Error\n",
      "Error opening URL for tournament 8283: HTTP Error 500: Internal Server Error\n"
     ]
    },
    {
     "name": "stderr",
     "output_type": "stream",
     "text": [
      "Processing tournaments:  78%|███████▊  | 8288/10608 [29:03<03:17, 11.77it/s]"
     ]
    },
    {
     "name": "stdout",
     "output_type": "stream",
     "text": [
      "Error opening URL for tournament 8286: HTTP Error 500: Internal Server Error\n",
      "Error opening URL for tournament 8285: HTTP Error 500: Internal Server Error\n",
      "Error opening URL for tournament 8289: HTTP Error 500: Internal Server Error\n",
      "Error opening URL for tournament 8288: HTTP Error 500: Internal Server Error\n",
      "Error opening URL for tournament 8292: HTTP Error 500: Internal Server Error\n"
     ]
    },
    {
     "name": "stderr",
     "output_type": "stream",
     "text": [
      "Processing tournaments:  78%|███████▊  | 8291/10608 [29:03<03:24, 11.35it/s]"
     ]
    },
    {
     "name": "stdout",
     "output_type": "stream",
     "text": [
      "Error opening URL for tournament 8287: HTTP Error 500: Internal Server Error\n",
      "Error opening URL for tournament 8291: HTTP Error 500: Internal Server Error\n"
     ]
    },
    {
     "name": "stderr",
     "output_type": "stream",
     "text": [
      "Processing tournaments:  78%|███████▊  | 8293/10608 [29:03<04:23,  8.79it/s]"
     ]
    },
    {
     "name": "stdout",
     "output_type": "stream",
     "text": [
      "Error opening URL for tournament 8296: HTTP Error 500: Internal Server Error\n",
      "Error opening URL for tournament 8295: HTTP Error 500: Internal Server Error\n",
      "Error opening URL for tournament 8294: HTTP Error 500: Internal Server Error\n",
      "Error opening URL for tournament 8293: HTTP Error 500: Internal Server Error\n"
     ]
    },
    {
     "name": "stderr",
     "output_type": "stream",
     "text": [
      "Processing tournaments:  78%|███████▊  | 8296/10608 [29:04<03:53,  9.89it/s]"
     ]
    },
    {
     "name": "stdout",
     "output_type": "stream",
     "text": [
      "Error opening URL for tournament 8290: HTTP Error 500: Internal Server Error\n",
      "Error opening URL for tournament 8297: HTTP Error 500: Internal Server Error\n",
      "Error opening URL for tournament 8298: HTTP Error 500: Internal Server Error\n"
     ]
    },
    {
     "name": "stderr",
     "output_type": "stream",
     "text": [
      "Processing tournaments:  78%|███████▊  | 8299/10608 [29:04<03:59,  9.64it/s]"
     ]
    },
    {
     "name": "stdout",
     "output_type": "stream",
     "text": [
      "Error opening URL for tournament 8299: HTTP Error 500: Internal Server Error\n",
      "Error opening URL for tournament 8300: HTTP Error 500: Internal Server Error\n",
      "Error opening URL for tournament 8301: HTTP Error 500: Internal Server Error\n"
     ]
    },
    {
     "name": "stderr",
     "output_type": "stream",
     "text": [
      "Processing tournaments:  78%|███████▊  | 8302/10608 [29:04<03:35, 10.68it/s]"
     ]
    },
    {
     "name": "stdout",
     "output_type": "stream",
     "text": [
      "Error opening URL for tournament 8303: HTTP Error 500: Internal Server Error\n",
      "Error opening URL for tournament 8302: HTTP Error 500: Internal Server Error\n"
     ]
    },
    {
     "name": "stderr",
     "output_type": "stream",
     "text": [
      "Processing tournaments:  78%|███████▊  | 8306/10608 [29:05<03:23, 11.33it/s]"
     ]
    },
    {
     "name": "stdout",
     "output_type": "stream",
     "text": [
      "Error opening URL for tournament 8304: HTTP Error 500: Internal Server Error\n",
      "Error opening URL for tournament 8305: HTTP Error 500: Internal Server Error\n",
      "Error opening URL for tournament 8306: HTTP Error 500: Internal Server Error\n",
      "Error opening URL for tournament 8307: HTTP Error 500: Internal Server Error\n"
     ]
    },
    {
     "name": "stderr",
     "output_type": "stream",
     "text": [
      "Processing tournaments:  78%|███████▊  | 8308/10608 [29:05<03:09, 12.12it/s]"
     ]
    },
    {
     "name": "stdout",
     "output_type": "stream",
     "text": [
      "Error opening URL for tournament 8308: HTTP Error 500: Internal Server Error\n",
      "Error opening URL for tournament 8310: HTTP Error 500: Internal Server Error\n",
      "Error opening URL for tournament 8309: HTTP Error 500: Internal Server Error\n"
     ]
    },
    {
     "name": "stderr",
     "output_type": "stream",
     "text": [
      "Processing tournaments:  78%|███████▊  | 8312/10608 [29:05<03:55,  9.75it/s]"
     ]
    },
    {
     "name": "stdout",
     "output_type": "stream",
     "text": [
      "Error opening URL for tournament 8313: HTTP Error 500: Internal Server Error\n",
      "Error opening URL for tournament 8312: HTTP Error 500: Internal Server Error\n",
      "Error opening URL for tournament 8311: HTTP Error 500: Internal Server Error\n"
     ]
    },
    {
     "name": "stderr",
     "output_type": "stream",
     "text": [
      "Processing tournaments:  78%|███████▊  | 8314/10608 [29:05<03:35, 10.66it/s]"
     ]
    },
    {
     "name": "stdout",
     "output_type": "stream",
     "text": [
      "Error opening URL for tournament 8315: HTTP Error 500: Internal Server Error\n",
      "Error opening URL for tournament 8314: HTTP Error 500: Internal Server Error\n",
      "Error opening URL for tournament 8316: HTTP Error 500: Internal Server Error\n"
     ]
    },
    {
     "name": "stderr",
     "output_type": "stream",
     "text": [
      "Processing tournaments:  78%|███████▊  | 8319/10608 [29:06<03:25, 11.11it/s]"
     ]
    },
    {
     "name": "stdout",
     "output_type": "stream",
     "text": [
      "Error opening URL for tournament 8318: HTTP Error 500: Internal Server Error\n",
      "Error opening URL for tournament 8317: HTTP Error 500: Internal Server Error\n",
      "Error opening URL for tournament 8319: HTTP Error 500: Internal Server Error\n",
      "Error opening URL for tournament 8320: HTTP Error 500: Internal Server Error\n"
     ]
    },
    {
     "name": "stderr",
     "output_type": "stream",
     "text": [
      "Processing tournaments:  78%|███████▊  | 8324/10608 [29:06<03:04, 12.36it/s]"
     ]
    },
    {
     "name": "stdout",
     "output_type": "stream",
     "text": [
      "Error opening URL for tournament 8321: HTTP Error 500: Internal Server ErrorError opening URL for tournament 8323: HTTP Error 500: Internal Server Error\n",
      "\n",
      "Error opening URL for tournament 8322: HTTP Error 500: Internal Server Error\n",
      "Error opening URL for tournament 8325: HTTP Error 500: Internal Server Error\n",
      "Error opening URL for tournament 8324: HTTP Error 500: Internal Server Error\n"
     ]
    },
    {
     "name": "stderr",
     "output_type": "stream",
     "text": [
      "Processing tournaments:  79%|███████▊  | 8331/10608 [29:07<02:58, 12.76it/s]"
     ]
    },
    {
     "name": "stdout",
     "output_type": "stream",
     "text": [
      "Error opening URL for tournament 8327: HTTP Error 500: Internal Server Error\n",
      "Error opening URL for tournament 8328: HTTP Error 500: Internal Server Error\n",
      "Error opening URL for tournament 8330: HTTP Error 500: Internal Server Error\n",
      "Error opening URL for tournament 8331: HTTP Error 500: Internal Server Error\n",
      "Error opening URL for tournament 8326: HTTP Error 500: Internal Server Error\n",
      "Error opening URL for tournament 8329: HTTP Error 500: Internal Server Error\n",
      "Error opening URL for tournament 8332: HTTP Error 500: Internal Server Error\n"
     ]
    },
    {
     "name": "stderr",
     "output_type": "stream",
     "text": [
      "Processing tournaments:  79%|███████▊  | 8337/10608 [29:08<03:12, 11.80it/s]"
     ]
    },
    {
     "name": "stdout",
     "output_type": "stream",
     "text": [
      "Error opening URL for tournament 8333: HTTP Error 500: Internal Server Error\n",
      "Error opening URL for tournament 8335: HTTP Error 500: Internal Server Error\n",
      "Error opening URL for tournament 8336: HTTP Error 500: Internal Server Error\n",
      "Error opening URL for tournament 8338: HTTP Error 500: Internal Server Error\n",
      "Error opening URL for tournament 8337: HTTP Error 500: Internal Server Error\n",
      "Error opening URL for tournament 8334: HTTP Error 500: Internal Server Error\n"
     ]
    },
    {
     "name": "stderr",
     "output_type": "stream",
     "text": [
      "Processing tournaments:  79%|███████▊  | 8340/10608 [29:08<03:12, 11.76it/s]"
     ]
    },
    {
     "name": "stdout",
     "output_type": "stream",
     "text": [
      "Error opening URL for tournament 8339: HTTP Error 500: Internal Server Error\n",
      "Error opening URL for tournament 8340: HTTP Error 500: Internal Server Error\n"
     ]
    },
    {
     "name": "stderr",
     "output_type": "stream",
     "text": [
      "Processing tournaments:  79%|███████▊  | 8342/10608 [29:08<04:02,  9.36it/s]"
     ]
    },
    {
     "name": "stdout",
     "output_type": "stream",
     "text": [
      "Error opening URL for tournament 8342: HTTP Error 500: Internal Server Error\n",
      "Error opening URL for tournament 8344: HTTP Error 500: Internal Server Error\n",
      "Error opening URL for tournament 8343: HTTP Error 500: Internal Server Error\n",
      "Error opening URL for tournament 8341: HTTP Error 500: Internal Server Error\n",
      "Error opening URL for tournament 8345: HTTP Error 500: Internal Server Error\n"
     ]
    },
    {
     "name": "stderr",
     "output_type": "stream",
     "text": [
      "Processing tournaments:  79%|███████▊  | 8346/10608 [29:08<03:10, 11.85it/s]"
     ]
    },
    {
     "name": "stdout",
     "output_type": "stream",
     "text": [
      "Error opening URL for tournament 8346: HTTP Error 500: Internal Server Error\n",
      "Error opening URL for tournament 8348: HTTP Error 500: Internal Server Error\n"
     ]
    },
    {
     "name": "stderr",
     "output_type": "stream",
     "text": [
      "Processing tournaments:  79%|███████▊  | 8348/10608 [29:09<03:25, 10.97it/s]"
     ]
    },
    {
     "name": "stdout",
     "output_type": "stream",
     "text": [
      "Error opening URL for tournament 8347: HTTP Error 500: Internal Server Error\n",
      "Error opening URL for tournament 8350: HTTP Error 500: Internal Server Error\n"
     ]
    },
    {
     "name": "stderr",
     "output_type": "stream",
     "text": [
      "Processing tournaments:  79%|███████▊  | 8350/10608 [29:09<04:10,  9.02it/s]"
     ]
    },
    {
     "name": "stdout",
     "output_type": "stream",
     "text": [
      "Error opening URL for tournament 8349: HTTP Error 500: Internal Server Error\n",
      "Error opening URL for tournament 8353: HTTP Error 500: Internal Server Error\n"
     ]
    },
    {
     "name": "stderr",
     "output_type": "stream",
     "text": [
      "Processing tournaments:  79%|███████▊  | 8352/10608 [29:09<04:58,  7.55it/s]"
     ]
    },
    {
     "name": "stdout",
     "output_type": "stream",
     "text": [
      "Error opening URL for tournament 8357: HTTP Error 500: Internal Server Error\n",
      "Error opening URL for tournament 8356: HTTP Error 500: Internal Server Error\n",
      "Error opening URL for tournament 8354: HTTP Error 500: Internal Server Error\n"
     ]
    },
    {
     "name": "stderr",
     "output_type": "stream",
     "text": [
      "Processing tournaments:  79%|███████▉  | 8355/10608 [29:10<04:14,  8.84it/s]"
     ]
    },
    {
     "name": "stdout",
     "output_type": "stream",
     "text": [
      "Error opening URL for tournament 8359: HTTP Error 500: Internal Server Error\n",
      "Error opening URL for tournament 8358: HTTP Error 500: Internal Server Error\n"
     ]
    },
    {
     "name": "stderr",
     "output_type": "stream",
     "text": [
      "Processing tournaments:  79%|███████▉  | 8359/10608 [29:10<04:00,  9.36it/s]"
     ]
    },
    {
     "name": "stdout",
     "output_type": "stream",
     "text": [
      "Error opening URL for tournament 8352: HTTP Error 500: Internal Server Error\n",
      "Error opening URL for tournament 8351: HTTP Error 500: Internal Server Error\n",
      "Error opening URL for tournament 8362: HTTP Error 500: Internal Server Error\n"
     ]
    },
    {
     "name": "stderr",
     "output_type": "stream",
     "text": [
      "Processing tournaments:  79%|███████▉  | 8361/10608 [29:10<03:45,  9.94it/s]"
     ]
    },
    {
     "name": "stdout",
     "output_type": "stream",
     "text": [
      "Error opening URL for tournament 8355: HTTP Error 500: Internal Server Error\n",
      "Error opening URL for tournament 8360: HTTP Error 500: Internal Server Error\n",
      "Error opening URL for tournament 8361: HTTP Error 500: Internal Server Error\n"
     ]
    },
    {
     "name": "stderr",
     "output_type": "stream",
     "text": [
      "Processing tournaments:  79%|███████▉  | 8367/10608 [29:11<03:14, 11.55it/s]"
     ]
    },
    {
     "name": "stdout",
     "output_type": "stream",
     "text": [
      "Error opening URL for tournament 8364: HTTP Error 500: Internal Server Error\n",
      "Error opening URL for tournament 8365: HTTP Error 500: Internal Server Error\n",
      "Error opening URL for tournament 8363: HTTP Error 500: Internal Server Error\n",
      "Error opening URL for tournament 8366: HTTP Error 500: Internal Server Error\n",
      "Error opening URL for tournament 8368: HTTP Error 500: Internal Server Error\n"
     ]
    },
    {
     "name": "stderr",
     "output_type": "stream",
     "text": [
      "Processing tournaments:  79%|███████▉  | 8369/10608 [29:11<03:02, 12.29it/s]"
     ]
    },
    {
     "name": "stdout",
     "output_type": "stream",
     "text": [
      "Error opening URL for tournament 8369: HTTP Error 500: Internal Server Error\n",
      "Error opening URL for tournament 8367: HTTP Error 500: Internal Server Error\n"
     ]
    },
    {
     "name": "stderr",
     "output_type": "stream",
     "text": [
      "Processing tournaments:  79%|███████▉  | 8373/10608 [29:11<03:31, 10.56it/s]"
     ]
    },
    {
     "name": "stdout",
     "output_type": "stream",
     "text": [
      "Error opening URL for tournament 8370: HTTP Error 500: Internal Server Error\n",
      "Error opening URL for tournament 8371: HTTP Error 500: Internal Server Error\n",
      "Error opening URL for tournament 8372: HTTP Error 500: Internal Server Error\n",
      "Error opening URL for tournament 8374: HTTP Error 500: Internal Server Error\n"
     ]
    },
    {
     "name": "stderr",
     "output_type": "stream",
     "text": [
      "Processing tournaments:  79%|███████▉  | 8376/10608 [29:11<03:05, 12.00it/s]"
     ]
    },
    {
     "name": "stdout",
     "output_type": "stream",
     "text": [
      "Error opening URL for tournament 8375: HTTP Error 500: Internal Server Error\n",
      "Error opening URL for tournament 8373: HTTP Error 500: Internal Server Error\n",
      "Error opening URL for tournament 8376: HTTP Error 500: Internal Server Error\n",
      "Error opening URL for tournament 8377: HTTP Error 500: Internal Server Error\n"
     ]
    },
    {
     "name": "stderr",
     "output_type": "stream",
     "text": [
      "Processing tournaments:  79%|███████▉  | 8378/10608 [29:12<03:04, 12.09it/s]"
     ]
    },
    {
     "name": "stdout",
     "output_type": "stream",
     "text": [
      "Error opening URL for tournament 8378: HTTP Error 500: Internal Server Error\n"
     ]
    },
    {
     "name": "stderr",
     "output_type": "stream",
     "text": [
      "Processing tournaments:  79%|███████▉  | 8380/10608 [29:12<03:49,  9.72it/s]"
     ]
    },
    {
     "name": "stdout",
     "output_type": "stream",
     "text": [
      "Error opening URL for tournament 8379: HTTP Error 500: Internal Server Error\n",
      "Error opening URL for tournament 8380: HTTP Error 500: Internal Server Error\n",
      "Error opening URL for tournament 8381: HTTP Error 500: Internal Server Error\n",
      "Error opening URL for tournament 8383: HTTP Error 500: Internal Server Error\n",
      "Error opening URL for tournament 8385: HTTP Error 500: Internal Server Error\n"
     ]
    },
    {
     "name": "stderr",
     "output_type": "stream",
     "text": [
      "Processing tournaments:  79%|███████▉  | 8384/10608 [29:12<02:45, 13.42it/s]"
     ]
    },
    {
     "name": "stdout",
     "output_type": "stream",
     "text": [
      "Error opening URL for tournament 8382: HTTP Error 500: Internal Server Error\n",
      "Error opening URL for tournament 8386: HTTP Error 500: Internal Server Error\n"
     ]
    },
    {
     "name": "stderr",
     "output_type": "stream",
     "text": [
      "Processing tournaments:  79%|███████▉  | 8386/10608 [29:12<03:47,  9.77it/s]"
     ]
    },
    {
     "name": "stdout",
     "output_type": "stream",
     "text": [
      "Error opening URL for tournament 8384: HTTP Error 500: Internal Server Error\n",
      "Error opening URL for tournament 8391: HTTP Error 500: Internal Server Error\n",
      "Error opening URL for tournament 8392: HTTP Error 500: Internal Server Error\n"
     ]
    },
    {
     "name": "stderr",
     "output_type": "stream",
     "text": [
      "Processing tournaments:  79%|███████▉  | 8392/10608 [29:13<02:37, 14.10it/s]"
     ]
    },
    {
     "name": "stdout",
     "output_type": "stream",
     "text": [
      "Error opening URL for tournament 8390: HTTP Error 500: Internal Server ErrorError opening URL for tournament 8387: HTTP Error 500: Internal Server Error\n",
      "\n",
      "Error opening URL for tournament 8388: HTTP Error 500: Internal Server Error\n",
      "Error opening URL for tournament 8389: HTTP Error 500: Internal Server Error\n"
     ]
    },
    {
     "name": "stderr",
     "output_type": "stream",
     "text": [
      "Processing tournaments:  79%|███████▉  | 8394/10608 [29:13<03:16, 11.25it/s]"
     ]
    },
    {
     "name": "stdout",
     "output_type": "stream",
     "text": [
      "Error opening URL for tournament 8393: HTTP Error 500: Internal Server Error\n",
      "Error opening URL for tournament 8394: HTTP Error 500: Internal Server Error\n"
     ]
    },
    {
     "name": "stderr",
     "output_type": "stream",
     "text": [
      "Processing tournaments:  79%|███████▉  | 8396/10608 [29:13<03:58,  9.28it/s]"
     ]
    },
    {
     "name": "stdout",
     "output_type": "stream",
     "text": [
      "Error opening URL for tournament 8397: HTTP Error 500: Internal Server Error\n",
      "Error opening URL for tournament 8398: HTTP Error 500: Internal Server Error\n",
      "Error opening URL for tournament 8399: HTTP Error 500: Internal Server Error\n",
      "Error opening URL for tournament 8395: HTTP Error 500: Internal Server Error\n",
      "Error opening URL for tournament 8396: HTTP Error 500: Internal Server Error\n"
     ]
    },
    {
     "name": "stderr",
     "output_type": "stream",
     "text": [
      "Processing tournaments:  79%|███████▉  | 8400/10608 [29:14<03:30, 10.51it/s]"
     ]
    },
    {
     "name": "stdout",
     "output_type": "stream",
     "text": [
      "Error opening URL for tournament 8400: HTTP Error 500: Internal Server Error\n",
      "Error opening URL for tournament 8401: HTTP Error 500: Internal Server Error\n",
      "Error opening URL for tournament 8402: HTTP Error 500: Internal Server Error\n"
     ]
    },
    {
     "name": "stderr",
     "output_type": "stream",
     "text": [
      "Processing tournaments:  79%|███████▉  | 8405/10608 [29:14<03:54,  9.40it/s]"
     ]
    },
    {
     "name": "stdout",
     "output_type": "stream",
     "text": [
      "Error opening URL for tournament 8407: HTTP Error 500: Internal Server Error\n",
      "Error opening URL for tournament 8405: HTTP Error 500: Internal Server Error\n",
      "Error opening URL for tournament 8408: HTTP Error 500: Internal Server Error\n",
      "Error opening URL for tournament 8403: HTTP Error 500: Internal Server Error\n"
     ]
    },
    {
     "name": "stderr",
     "output_type": "stream",
     "text": [
      "Processing tournaments:  79%|███████▉  | 8409/10608 [29:14<02:47, 13.11it/s]"
     ]
    },
    {
     "name": "stdout",
     "output_type": "stream",
     "text": [
      "Error opening URL for tournament 8404: HTTP Error 500: Internal Server Error\n",
      "Error opening URL for tournament 8406: HTTP Error 500: Internal Server Error\n",
      "Error opening URL for tournament 8409: HTTP Error 500: Internal Server Error\n"
     ]
    },
    {
     "name": "stderr",
     "output_type": "stream",
     "text": [
      "Processing tournaments:  79%|███████▉  | 8411/10608 [29:15<03:30, 10.46it/s]"
     ]
    },
    {
     "name": "stdout",
     "output_type": "stream",
     "text": [
      "Error opening URL for tournament 8410: HTTP Error 500: Internal Server Error\n",
      "Error opening URL for tournament 8411: HTTP Error 500: Internal Server Error\n"
     ]
    },
    {
     "name": "stderr",
     "output_type": "stream",
     "text": [
      "Processing tournaments:  79%|███████▉  | 8413/10608 [29:15<04:13,  8.67it/s]"
     ]
    },
    {
     "name": "stdout",
     "output_type": "stream",
     "text": [
      "Error opening URL for tournament 8414: HTTP Error 500: Internal Server Error\n",
      "Error opening URL for tournament 8413: HTTP Error 500: Internal Server Error\n",
      "Error opening URL for tournament 8417: HTTP Error 500: Internal Server Error\n"
     ]
    },
    {
     "name": "stderr",
     "output_type": "stream",
     "text": [
      "Processing tournaments:  79%|███████▉  | 8415/10608 [29:15<03:45,  9.72it/s]"
     ]
    },
    {
     "name": "stdout",
     "output_type": "stream",
     "text": [
      "Error opening URL for tournament 8412: HTTP Error 500: Internal Server Error\n",
      "Error opening URL for tournament 8415: HTTP Error 500: Internal Server Error\n"
     ]
    },
    {
     "name": "stderr",
     "output_type": "stream",
     "text": [
      "Processing tournaments:  79%|███████▉  | 8417/10608 [29:15<03:45,  9.71it/s]"
     ]
    },
    {
     "name": "stdout",
     "output_type": "stream",
     "text": [
      "Error opening URL for tournament 8416: HTTP Error 500: Internal Server Error\n",
      "Error opening URL for tournament 8418: HTTP Error 500: Internal Server Error\n",
      "Error opening URL for tournament 8419: HTTP Error 500: Internal Server Error\n"
     ]
    },
    {
     "name": "stderr",
     "output_type": "stream",
     "text": [
      "Processing tournaments:  79%|███████▉  | 8422/10608 [29:16<03:12, 11.36it/s]"
     ]
    },
    {
     "name": "stdout",
     "output_type": "stream",
     "text": [
      "Error opening URL for tournament 8421: HTTP Error 500: Internal Server Error\n",
      "Error opening URL for tournament 8420: HTTP Error 500: Internal Server Error\n",
      "Error opening URL for tournament 8422: HTTP Error 500: Internal Server Error\n"
     ]
    },
    {
     "name": "stderr",
     "output_type": "stream",
     "text": [
      "Processing tournaments:  79%|███████▉  | 8424/10608 [29:16<03:09, 11.52it/s]"
     ]
    },
    {
     "name": "stdout",
     "output_type": "stream",
     "text": [
      "Error opening URL for tournament 8424: HTTP Error 500: Internal Server Error\n",
      "Error opening URL for tournament 8423: HTTP Error 500: Internal Server Error\n",
      "Error opening URL for tournament 8425: HTTP Error 500: Internal Server Error\n"
     ]
    },
    {
     "name": "stderr",
     "output_type": "stream",
     "text": [
      "Processing tournaments:  79%|███████▉  | 8428/10608 [29:17<03:38,  9.98it/s]"
     ]
    },
    {
     "name": "stdout",
     "output_type": "stream",
     "text": [
      "Error opening URL for tournament 8426: HTTP Error 500: Internal Server Error\n",
      "Error opening URL for tournament 8427: HTTP Error 500: Internal Server Error\n",
      "Error opening URL for tournament 8429: HTTP Error 500: Internal Server Error\n",
      "Error opening URL for tournament 8428: HTTP Error 500: Internal Server Error\n"
     ]
    },
    {
     "name": "stderr",
     "output_type": "stream",
     "text": [
      "Processing tournaments:  79%|███████▉  | 8432/10608 [29:17<03:54,  9.28it/s]"
     ]
    },
    {
     "name": "stdout",
     "output_type": "stream",
     "text": [
      "Error opening URL for tournament 8432: HTTP Error 500: Internal Server Error\n",
      "Error opening URL for tournament 8430: HTTP Error 500: Internal Server Error\n",
      "Error opening URL for tournament 8433: HTTP Error 500: Internal Server Error\n",
      "Error opening URL for tournament 8431: HTTP Error 500: Internal Server Error\n",
      "Error opening URL for tournament 8436: HTTP Error 500: Internal Server Error\n",
      "Error opening URL for tournament 8434: HTTP Error 500: Internal Server Error\n"
     ]
    },
    {
     "name": "stderr",
     "output_type": "stream",
     "text": [
      "Processing tournaments:  80%|███████▉  | 8436/10608 [29:17<02:53, 12.50it/s]"
     ]
    },
    {
     "name": "stdout",
     "output_type": "stream",
     "text": [
      "Error opening URL for tournament 8437: HTTP Error 500: Internal Server Error\n",
      "Error opening URL for tournament 8435: HTTP Error 500: Internal Server Error\n"
     ]
    },
    {
     "name": "stderr",
     "output_type": "stream",
     "text": [
      "Processing tournaments:  80%|███████▉  | 8440/10608 [29:18<03:46,  9.56it/s]"
     ]
    },
    {
     "name": "stdout",
     "output_type": "stream",
     "text": [
      "Error opening URL for tournament 8438: HTTP Error 500: Internal Server Error\n",
      "Error opening URL for tournament 8440: HTTP Error 500: Internal Server Error\n",
      "Error opening URL for tournament 8439: HTTP Error 500: Internal Server Error\n"
     ]
    },
    {
     "name": "stderr",
     "output_type": "stream",
     "text": [
      "Processing tournaments:  80%|███████▉  | 8444/10608 [29:18<03:42,  9.73it/s]"
     ]
    },
    {
     "name": "stdout",
     "output_type": "stream",
     "text": [
      "Error opening URL for tournament 8441: HTTP Error 500: Internal Server ErrorError opening URL for tournament 8442: HTTP Error 500: Internal Server Error\n",
      "\n",
      "Error opening URL for tournament 8443: HTTP Error 500: Internal Server Error\n",
      "Error opening URL for tournament 8444: HTTP Error 500: Internal Server Error\n"
     ]
    },
    {
     "name": "stderr",
     "output_type": "stream",
     "text": [
      "Processing tournaments:  80%|███████▉  | 8448/10608 [29:18<03:00, 11.98it/s]"
     ]
    },
    {
     "name": "stdout",
     "output_type": "stream",
     "text": [
      "Error opening URL for tournament 8445: HTTP Error 500: Internal Server Error\n",
      "Error opening URL for tournament 8446: HTTP Error 500: Internal Server Error\n",
      "Error opening URL for tournament 8447: HTTP Error 500: Internal Server Error\n",
      "Error opening URL for tournament 8448: HTTP Error 500: Internal Server Error\n"
     ]
    },
    {
     "name": "stderr",
     "output_type": "stream",
     "text": [
      "Processing tournaments:  80%|███████▉  | 8450/10608 [29:19<03:23, 10.58it/s]"
     ]
    },
    {
     "name": "stdout",
     "output_type": "stream",
     "text": [
      "Error opening URL for tournament 8449: HTTP Error 500: Internal Server Error\n",
      "Error opening URL for tournament 8451: HTTP Error 500: Internal Server Error\n",
      "Error opening URL for tournament 8450: HTTP Error 500: Internal Server Error\n"
     ]
    },
    {
     "name": "stderr",
     "output_type": "stream",
     "text": [
      "Processing tournaments:  80%|███████▉  | 8454/10608 [29:19<03:24, 10.55it/s]"
     ]
    },
    {
     "name": "stdout",
     "output_type": "stream",
     "text": [
      "Error opening URL for tournament 8452: HTTP Error 500: Internal Server Error\n",
      "Error opening URL for tournament 8453: HTTP Error 500: Internal Server Error\n",
      "Error opening URL for tournament 8454: HTTP Error 500: Internal Server Error\n"
     ]
    },
    {
     "name": "stderr",
     "output_type": "stream",
     "text": [
      "Processing tournaments:  80%|███████▉  | 8456/10608 [29:19<03:13, 11.09it/s]"
     ]
    },
    {
     "name": "stdout",
     "output_type": "stream",
     "text": [
      "Error opening URL for tournament 8456: HTTP Error 500: Internal Server Error\n",
      "Error opening URL for tournament 8455: HTTP Error 500: Internal Server Error\n"
     ]
    },
    {
     "name": "stderr",
     "output_type": "stream",
     "text": [
      "Processing tournaments:  80%|███████▉  | 8461/10608 [29:20<02:52, 12.44it/s]"
     ]
    },
    {
     "name": "stdout",
     "output_type": "stream",
     "text": [
      "Error opening URL for tournament 8458: HTTP Error 500: Internal Server Error\n",
      "Error opening URL for tournament 8457: HTTP Error 500: Internal Server Error\n",
      "Error opening URL for tournament 8461: HTTP Error 500: Internal Server Error\n",
      "Error opening URL for tournament 8460: HTTP Error 500: Internal Server Error\n",
      "Error opening URL for tournament 8459: HTTP Error 500: Internal Server Error\n",
      "Error opening URL for tournament 8463: HTTP Error 500: Internal Server Error\n"
     ]
    },
    {
     "name": "stderr",
     "output_type": "stream",
     "text": [
      "Processing tournaments:  80%|███████▉  | 8465/10608 [29:20<03:36,  9.89it/s]"
     ]
    },
    {
     "name": "stdout",
     "output_type": "stream",
     "text": [
      "Error opening URL for tournament 8464: HTTP Error 500: Internal Server Error\n",
      "Error opening URL for tournament 8462: HTTP Error 500: Internal Server Error\n",
      "Error opening URL for tournament 8465: HTTP Error 500: Internal Server Error\n",
      "Error opening URL for tournament 8466: HTTP Error 500: Internal Server Error\n",
      "Error opening URL for tournament 8468: HTTP Error 500: Internal Server Error\n",
      "Error opening URL for tournament 8467: HTTP Error 500: Internal Server Error\n"
     ]
    },
    {
     "name": "stderr",
     "output_type": "stream",
     "text": [
      "Processing tournaments:  80%|███████▉  | 8469/10608 [29:20<02:27, 14.48it/s]"
     ]
    },
    {
     "name": "stdout",
     "output_type": "stream",
     "text": [
      "Error opening URL for tournament 8469: HTTP Error 500: Internal Server Error\n",
      "Error opening URL for tournament 8470: HTTP Error 500: Internal Server Error\n"
     ]
    },
    {
     "name": "stderr",
     "output_type": "stream",
     "text": [
      "Processing tournaments:  80%|███████▉  | 8472/10608 [29:21<03:55,  9.08it/s]"
     ]
    },
    {
     "name": "stdout",
     "output_type": "stream",
     "text": [
      "Error opening URL for tournament 8471: HTTP Error 500: Internal Server Error\n",
      "Error opening URL for tournament 8472: HTTP Error 500: Internal Server Error\n",
      "Error opening URL for tournament 8475: HTTP Error 500: Internal Server Error\n",
      "Error opening URL for tournament 8473: HTTP Error 500: Internal Server Error\n"
     ]
    },
    {
     "name": "stderr",
     "output_type": "stream",
     "text": [
      "Processing tournaments:  80%|███████▉  | 8475/10608 [29:21<03:08, 11.32it/s]"
     ]
    },
    {
     "name": "stdout",
     "output_type": "stream",
     "text": [
      "Error opening URL for tournament 8476: HTTP Error 500: Internal Server Error\n",
      "Error opening URL for tournament 8477: HTTP Error 500: Internal Server Error\n",
      "Error opening URL for tournament 8478: HTTP Error 500: Internal Server Error\n",
      "Error opening URL for tournament 8474: HTTP Error 500: Internal Server Error\n"
     ]
    },
    {
     "name": "stderr",
     "output_type": "stream",
     "text": [
      "Processing tournaments:  80%|███████▉  | 8480/10608 [29:22<03:31, 10.08it/s]"
     ]
    },
    {
     "name": "stdout",
     "output_type": "stream",
     "text": [
      "Error opening URL for tournament 8480: HTTP Error 500: Internal Server Error\n",
      "Error opening URL for tournament 8479: HTTP Error 500: Internal Server Error\n",
      "Error opening URL for tournament 8482: HTTP Error 500: Internal Server Error\n"
     ]
    },
    {
     "name": "stderr",
     "output_type": "stream",
     "text": [
      "Processing tournaments:  80%|███████▉  | 8484/10608 [29:22<03:20, 10.62it/s]"
     ]
    },
    {
     "name": "stdout",
     "output_type": "stream",
     "text": [
      "Error opening URL for tournament 8481: HTTP Error 500: Internal Server Error\n",
      "Error opening URL for tournament 8483: HTTP Error 500: Internal Server Error\n",
      "Error opening URL for tournament 8485: HTTP Error 500: Internal Server Error\n"
     ]
    },
    {
     "name": "stderr",
     "output_type": "stream",
     "text": [
      "Processing tournaments:  80%|███████▉  | 8486/10608 [29:22<03:15, 10.86it/s]"
     ]
    },
    {
     "name": "stdout",
     "output_type": "stream",
     "text": [
      "Error opening URL for tournament 8486: HTTP Error 500: Internal Server Error\n",
      "Error opening URL for tournament 8487: HTTP Error 500: Internal Server Error\n"
     ]
    },
    {
     "name": "stderr",
     "output_type": "stream",
     "text": [
      "Processing tournaments:  80%|████████  | 8488/10608 [29:22<03:31, 10.03it/s]"
     ]
    },
    {
     "name": "stdout",
     "output_type": "stream",
     "text": [
      "Error opening URL for tournament 8489: HTTP Error 500: Internal Server Error\n",
      "Error opening URL for tournament 8488: HTTP Error 500: Internal Server Error\n",
      "Error opening URL for tournament 8491: HTTP Error 500: Internal Server Error\n",
      "Error opening URL for tournament 8484: HTTP Error 500: Internal Server Error\n",
      "Error opening URL for tournament 8490: HTTP Error 500: Internal Server Error\n"
     ]
    },
    {
     "name": "stderr",
     "output_type": "stream",
     "text": [
      "Processing tournaments:  80%|████████  | 8492/10608 [29:23<03:01, 11.68it/s]"
     ]
    },
    {
     "name": "stdout",
     "output_type": "stream",
     "text": [
      "Error opening URL for tournament 8492: HTTP Error 500: Internal Server Error\n",
      "Error opening URL for tournament 8493: HTTP Error 500: Internal Server Error\n"
     ]
    },
    {
     "name": "stderr",
     "output_type": "stream",
     "text": [
      "Processing tournaments:  80%|████████  | 8496/10608 [29:23<02:59, 11.74it/s]"
     ]
    },
    {
     "name": "stdout",
     "output_type": "stream",
     "text": [
      "Error opening URL for tournament 8495: HTTP Error 500: Internal Server Error\n",
      "Error opening URL for tournament 8494: HTTP Error 500: Internal Server Error\n",
      "Error opening URL for tournament 8497: HTTP Error 500: Internal Server Error\n"
     ]
    },
    {
     "name": "stderr",
     "output_type": "stream",
     "text": [
      "Processing tournaments:  80%|████████  | 8498/10608 [29:23<02:49, 12.44it/s]"
     ]
    },
    {
     "name": "stdout",
     "output_type": "stream",
     "text": [
      "Error opening URL for tournament 8499: HTTP Error 500: Internal Server Error\n",
      "Error opening URL for tournament 8496: HTTP Error 500: Internal Server Error\n",
      "Error opening URL for tournament 8498: HTTP Error 500: Internal Server Error\n"
     ]
    },
    {
     "name": "stderr",
     "output_type": "stream",
     "text": [
      "Processing tournaments:  80%|████████  | 8502/10608 [29:24<03:15, 10.77it/s]"
     ]
    },
    {
     "name": "stdout",
     "output_type": "stream",
     "text": [
      "Error opening URL for tournament 8503: HTTP Error 500: Internal Server Error\n",
      "Error opening URL for tournament 8501: HTTP Error 500: Internal Server Error\n",
      "Error opening URL for tournament 8500: HTTP Error 500: Internal Server Error\n",
      "Error opening URL for tournament 8502: HTTP Error 500: Internal Server Error\n"
     ]
    },
    {
     "name": "stderr",
     "output_type": "stream",
     "text": [
      "Processing tournaments:  80%|████████  | 8506/10608 [29:24<03:00, 11.62it/s]"
     ]
    },
    {
     "name": "stdout",
     "output_type": "stream",
     "text": [
      "Error opening URL for tournament 8506: HTTP Error 500: Internal Server Error\n",
      "Error opening URL for tournament 8505: HTTP Error 500: Internal Server Error\n",
      "Error opening URL for tournament 8504: HTTP Error 500: Internal Server Error\n"
     ]
    },
    {
     "name": "stderr",
     "output_type": "stream",
     "text": [
      "Processing tournaments:  80%|████████  | 8508/10608 [29:24<03:12, 10.88it/s]"
     ]
    },
    {
     "name": "stdout",
     "output_type": "stream",
     "text": [
      "Error opening URL for tournament 8507: HTTP Error 500: Internal Server Error\n",
      "Error opening URL for tournament 8508: HTTP Error 500: Internal Server Error\n",
      "Error opening URL for tournament 8509: HTTP Error 500: Internal Server Error\n"
     ]
    },
    {
     "name": "stderr",
     "output_type": "stream",
     "text": [
      "Processing tournaments:  80%|████████  | 8510/10608 [29:24<02:47, 12.55it/s]"
     ]
    },
    {
     "name": "stdout",
     "output_type": "stream",
     "text": [
      "Error opening URL for tournament 8511: HTTP Error 500: Internal Server Error\n",
      "Error opening URL for tournament 8510: HTTP Error 500: Internal Server Error\n"
     ]
    },
    {
     "name": "stderr",
     "output_type": "stream",
     "text": [
      "Processing tournaments:  80%|████████  | 8514/10608 [29:25<03:09, 11.07it/s]"
     ]
    },
    {
     "name": "stdout",
     "output_type": "stream",
     "text": [
      "Error opening URL for tournament 8512: HTTP Error 500: Internal Server Error\n",
      "Error opening URL for tournament 8513: HTTP Error 500: Internal Server Error\n",
      "Error opening URL for tournament 8514: HTTP Error 500: Internal Server Error\n"
     ]
    },
    {
     "name": "stderr",
     "output_type": "stream",
     "text": [
      "Processing tournaments:  80%|████████  | 8516/10608 [29:25<03:32,  9.86it/s]"
     ]
    },
    {
     "name": "stdout",
     "output_type": "stream",
     "text": [
      "Error opening URL for tournament 8515: HTTP Error 500: Internal Server Error\n",
      "Error opening URL for tournament 8518: HTTP Error 500: Internal Server Error\n",
      "Error opening URL for tournament 8516: HTTP Error 500: Internal Server Error\n",
      "Error opening URL for tournament 8517: HTTP Error 500: Internal Server Error\n"
     ]
    },
    {
     "name": "stderr",
     "output_type": "stream",
     "text": [
      "Processing tournaments:  80%|████████  | 8521/10608 [29:25<03:06, 11.16it/s]"
     ]
    },
    {
     "name": "stdout",
     "output_type": "stream",
     "text": [
      "Error opening URL for tournament 8520: HTTP Error 500: Internal Server Error\n",
      "Error opening URL for tournament 8519: HTTP Error 500: Internal Server Error\n",
      "Error opening URL for tournament 8521: HTTP Error 500: Internal Server Error\n",
      "Error opening URL for tournament 8522: HTTP Error 500: Internal Server Error\n"
     ]
    },
    {
     "name": "stderr",
     "output_type": "stream",
     "text": [
      "Processing tournaments:  80%|████████  | 8523/10608 [29:25<02:44, 12.67it/s]"
     ]
    },
    {
     "name": "stdout",
     "output_type": "stream",
     "text": [
      "Error opening URL for tournament 8523: HTTP Error 500: Internal Server Error\n",
      "Error opening URL for tournament 8524: HTTP Error 500: Internal Server Error\n"
     ]
    },
    {
     "name": "stderr",
     "output_type": "stream",
     "text": [
      "Processing tournaments:  80%|████████  | 8527/10608 [29:26<03:00, 11.55it/s]"
     ]
    },
    {
     "name": "stdout",
     "output_type": "stream",
     "text": [
      "Error opening URL for tournament 8526: HTTP Error 500: Internal Server Error\n",
      "Error opening URL for tournament 8525: HTTP Error 500: Internal Server Error\n",
      "Error opening URL for tournament 8527: HTTP Error 500: Internal Server Error\n"
     ]
    },
    {
     "name": "stderr",
     "output_type": "stream",
     "text": [
      "Processing tournaments:  80%|████████  | 8529/10608 [29:26<02:47, 12.38it/s]"
     ]
    },
    {
     "name": "stdout",
     "output_type": "stream",
     "text": [
      "Error opening URL for tournament 8528: HTTP Error 500: Internal Server Error\n",
      "Error opening URL for tournament 8529: HTTP Error 500: Internal Server Error\n",
      "Error opening URL for tournament 8530: HTTP Error 500: Internal Server Error\n"
     ]
    },
    {
     "name": "stderr",
     "output_type": "stream",
     "text": [
      "Processing tournaments:  80%|████████  | 8531/10608 [29:26<02:55, 11.84it/s]"
     ]
    },
    {
     "name": "stdout",
     "output_type": "stream",
     "text": [
      "Error opening URL for tournament 8531: HTTP Error 500: Internal Server Error\n",
      "Error opening URL for tournament 8532: HTTP Error 500: Internal Server Error\n"
     ]
    },
    {
     "name": "stderr",
     "output_type": "stream",
     "text": [
      "Processing tournaments:  80%|████████  | 8535/10608 [29:27<03:00, 11.46it/s]"
     ]
    },
    {
     "name": "stdout",
     "output_type": "stream",
     "text": [
      "Error opening URL for tournament 8533: HTTP Error 500: Internal Server Error\n",
      "Error opening URL for tournament 8537: HTTP Error 500: Internal Server Error\n",
      "Error opening URL for tournament 8536: HTTP Error 500: Internal Server Error\n"
     ]
    },
    {
     "name": "stderr",
     "output_type": "stream",
     "text": [
      "Processing tournaments:  80%|████████  | 8537/10608 [29:27<03:11, 10.84it/s]"
     ]
    },
    {
     "name": "stdout",
     "output_type": "stream",
     "text": [
      "Error opening URL for tournament 8538: HTTP Error 500: Internal Server Error\n",
      "Error opening URL for tournament 8539: HTTP Error 500: Internal Server Error\n"
     ]
    },
    {
     "name": "stderr",
     "output_type": "stream",
     "text": [
      "Processing tournaments:  80%|████████  | 8539/10608 [29:27<04:49,  7.16it/s]"
     ]
    },
    {
     "name": "stdout",
     "output_type": "stream",
     "text": [
      "Error opening URL for tournament 8543: HTTP Error 500: Internal Server Error\n",
      "Error opening URL for tournament 8540: HTTP Error 500: Internal Server Error\n",
      "Error opening URL for tournament 8542: HTTP Error 500: Internal Server Error\n"
     ]
    },
    {
     "name": "stderr",
     "output_type": "stream",
     "text": [
      "Processing tournaments:  81%|████████  | 8543/10608 [29:27<03:20, 10.28it/s]"
     ]
    },
    {
     "name": "stdout",
     "output_type": "stream",
     "text": [
      "Error opening URL for tournament 8541: HTTP Error 500: Internal Server Error\n",
      "Error opening URL for tournament 8545: HTTP Error 500: Internal Server Error\n",
      "Error opening URL for tournament 8534: HTTP Error 500: Internal Server Error\n",
      "Error opening URL for tournament 8535: HTTP Error 500: Internal Server Error\n",
      "Error opening URL for tournament 8544: HTTP Error 500: Internal Server Error\n"
     ]
    },
    {
     "name": "stderr",
     "output_type": "stream",
     "text": [
      "Processing tournaments:  81%|████████  | 8546/10608 [29:28<03:21, 10.21it/s]"
     ]
    },
    {
     "name": "stdout",
     "output_type": "stream",
     "text": [
      "Error opening URL for tournament 8546: HTTP Error 500: Internal Server Error\n"
     ]
    },
    {
     "name": "stderr",
     "output_type": "stream",
     "text": [
      "Processing tournaments:  81%|████████  | 8550/10608 [29:28<03:16, 10.46it/s]"
     ]
    },
    {
     "name": "stdout",
     "output_type": "stream",
     "text": [
      "Error opening URL for tournament 8547: HTTP Error 500: Internal Server Error\n",
      "Error opening URL for tournament 8548: HTTP Error 500: Internal Server Error\n",
      "Error opening URL for tournament 8551: HTTP Error 500: Internal Server Error\n",
      "Error opening URL for tournament 8549: HTTP Error 500: Internal Server Error\n",
      "Error opening URL for tournament 8552: HTTP Error 500: Internal Server Error\n"
     ]
    },
    {
     "name": "stderr",
     "output_type": "stream",
     "text": [
      "Processing tournaments:  81%|████████  | 8552/10608 [29:28<02:55, 11.73it/s]"
     ]
    },
    {
     "name": "stdout",
     "output_type": "stream",
     "text": [
      "Error opening URL for tournament 8553: HTTP Error 500: Internal Server Error\n",
      "Error opening URL for tournament 8550: HTTP Error 500: Internal Server Error\n",
      "Error opening URL for tournament 8554: HTTP Error 500: Internal Server Error\n"
     ]
    },
    {
     "name": "stderr",
     "output_type": "stream",
     "text": [
      "Processing tournaments:  81%|████████  | 8558/10608 [29:29<03:23, 10.05it/s]"
     ]
    },
    {
     "name": "stdout",
     "output_type": "stream",
     "text": [
      "Error opening URL for tournament 8555: HTTP Error 500: Internal Server Error\n",
      "Error opening URL for tournament 8560: HTTP Error 500: Internal Server Error\n",
      "Error opening URL for tournament 8557: HTTP Error 500: Internal Server Error\n",
      "Error opening URL for tournament 8559: HTTP Error 500: Internal Server Error\n",
      "Error opening URL for tournament 8556: HTTP Error 500: Internal Server Error\n"
     ]
    },
    {
     "name": "stderr",
     "output_type": "stream",
     "text": [
      "Processing tournaments:  81%|████████  | 8561/10608 [29:29<03:10, 10.77it/s]"
     ]
    },
    {
     "name": "stdout",
     "output_type": "stream",
     "text": [
      "Error opening URL for tournament 8558: HTTP Error 500: Internal Server Error\n",
      "Error opening URL for tournament 8561: HTTP Error 500: Internal Server Error\n",
      "Error opening URL for tournament 8562: HTTP Error 500: Internal Server Error\n"
     ]
    },
    {
     "name": "stderr",
     "output_type": "stream",
     "text": [
      "Processing tournaments:  81%|████████  | 8565/10608 [29:30<03:16, 10.37it/s]"
     ]
    },
    {
     "name": "stdout",
     "output_type": "stream",
     "text": [
      "Error opening URL for tournament 8563: HTTP Error 500: Internal Server Error\n",
      "Error opening URL for tournament 8564: HTTP Error 500: Internal Server Error\n",
      "Error opening URL for tournament 8567: HTTP Error 500: Internal Server Error\n",
      "Error opening URL for tournament 8568: HTTP Error 500: Internal Server Error\n",
      "Error opening URL for tournament 8566: HTTP Error 500: Internal Server Error\n"
     ]
    },
    {
     "name": "stderr",
     "output_type": "stream",
     "text": [
      "Processing tournaments:  81%|████████  | 8570/10608 [29:30<03:09, 10.76it/s]"
     ]
    },
    {
     "name": "stdout",
     "output_type": "stream",
     "text": [
      "Error opening URL for tournament 8565: HTTP Error 500: Internal Server Error\n",
      "Error opening URL for tournament 8569: HTTP Error 500: Internal Server Error\n",
      "Error opening URL for tournament 8570: HTTP Error 500: Internal Server Error\n"
     ]
    },
    {
     "name": "stderr",
     "output_type": "stream",
     "text": [
      "Processing tournaments:  81%|████████  | 8572/10608 [29:30<03:39,  9.26it/s]"
     ]
    },
    {
     "name": "stdout",
     "output_type": "stream",
     "text": [
      "Error opening URL for tournament 8573: HTTP Error 500: Internal Server Error\n",
      "Error opening URL for tournament 8574: HTTP Error 500: Internal Server Error\n",
      "Error opening URL for tournament 8572: HTTP Error 500: Internal Server Error\n"
     ]
    },
    {
     "name": "stderr",
     "output_type": "stream",
     "text": [
      "Processing tournaments:  81%|████████  | 8574/10608 [29:31<03:18, 10.24it/s]"
     ]
    },
    {
     "name": "stdout",
     "output_type": "stream",
     "text": [
      "Error opening URL for tournament 8575: HTTP Error 500: Internal Server Error\n",
      "Error opening URL for tournament 8571: HTTP Error 500: Internal Server Error\n"
     ]
    },
    {
     "name": "stderr",
     "output_type": "stream",
     "text": [
      "Processing tournaments:  81%|████████  | 8576/10608 [29:31<04:48,  7.05it/s]"
     ]
    },
    {
     "name": "stdout",
     "output_type": "stream",
     "text": [
      "Error opening URL for tournament 8578: HTTP Error 500: Internal Server Error\n",
      "Error opening URL for tournament 8579: HTTP Error 500: Internal Server Error\n",
      "Error opening URL for tournament 8576: HTTP Error 500: Internal Server Error\n",
      "Error opening URL for tournament 8577: HTTP Error 500: Internal Server Error\n"
     ]
    },
    {
     "name": "stderr",
     "output_type": "stream",
     "text": [
      "Processing tournaments:  81%|████████  | 8582/10608 [29:31<03:17, 10.24it/s]"
     ]
    },
    {
     "name": "stdout",
     "output_type": "stream",
     "text": [
      "Error opening URL for tournament 8582: HTTP Error 500: Internal Server Error\n",
      "Error opening URL for tournament 8580: HTTP Error 500: Internal Server Error\n",
      "Error opening URL for tournament 8581: HTTP Error 500: Internal Server Error\n"
     ]
    },
    {
     "name": "stderr",
     "output_type": "stream",
     "text": [
      "Processing tournaments:  81%|████████  | 8584/10608 [29:32<04:26,  7.61it/s]"
     ]
    },
    {
     "name": "stdout",
     "output_type": "stream",
     "text": [
      "Error opening URL for tournament 8583: HTTP Error 500: Internal Server Error\n",
      "Error opening URL for tournament 8588: HTTP Error 500: Internal Server Error\n",
      "Error opening URL for tournament 8584: HTTP Error 500: Internal Server Error\n",
      "Error opening URL for tournament 8586: HTTP Error 500: Internal Server Error\n",
      "Error opening URL for tournament 8585: HTTP Error 500: Internal Server Error\n",
      "Error opening URL for tournament 8587: HTTP Error 500: Internal Server Error\n"
     ]
    },
    {
     "name": "stderr",
     "output_type": "stream",
     "text": [
      "Processing tournaments:  81%|████████  | 8589/10608 [29:32<03:27,  9.71it/s]"
     ]
    },
    {
     "name": "stdout",
     "output_type": "stream",
     "text": [
      "Error opening URL for tournament 8590: HTTP Error 500: Internal Server ErrorError opening URL for tournament 8589: HTTP Error 500: Internal Server Error\n",
      "\n"
     ]
    },
    {
     "name": "stderr",
     "output_type": "stream",
     "text": [
      "Processing tournaments:  81%|████████  | 8591/10608 [29:33<04:07,  8.16it/s]"
     ]
    },
    {
     "name": "stdout",
     "output_type": "stream",
     "text": [
      "Error opening URL for tournament 8592: HTTP Error 500: Internal Server Error\n",
      "Error opening URL for tournament 8591: HTTP Error 500: Internal Server Error\n",
      "Error opening URL for tournament 8594: HTTP Error 500: Internal Server Error\n"
     ]
    },
    {
     "name": "stderr",
     "output_type": "stream",
     "text": [
      "Processing tournaments:  81%|████████  | 8597/10608 [29:33<03:00, 11.13it/s]"
     ]
    },
    {
     "name": "stdout",
     "output_type": "stream",
     "text": [
      "Error opening URL for tournament 8593: HTTP Error 500: Internal Server ErrorError opening URL for tournament 8595: HTTP Error 500: Internal Server Error\n",
      "\n",
      "Error opening URL for tournament 8597: HTTP Error 500: Internal Server Error\n",
      "Error opening URL for tournament 8598: HTTP Error 500: Internal Server Error\n"
     ]
    },
    {
     "name": "stderr",
     "output_type": "stream",
     "text": [
      "Processing tournaments:  81%|████████  | 8599/10608 [29:33<03:18, 10.10it/s]"
     ]
    },
    {
     "name": "stdout",
     "output_type": "stream",
     "text": [
      "Error opening URL for tournament 8596: HTTP Error 500: Internal Server Error\n",
      "Error opening URL for tournament 8599: HTTP Error 500: Internal Server Error\n"
     ]
    },
    {
     "name": "stderr",
     "output_type": "stream",
     "text": [
      "Processing tournaments:  81%|████████  | 8601/10608 [29:34<03:47,  8.84it/s]"
     ]
    },
    {
     "name": "stdout",
     "output_type": "stream",
     "text": [
      "Error opening URL for tournament 8600: HTTP Error 500: Internal Server Error\n",
      "Error opening URL for tournament 8601: HTTP Error 500: Internal Server Error\n"
     ]
    },
    {
     "name": "stderr",
     "output_type": "stream",
     "text": [
      "Processing tournaments:  81%|████████  | 8603/10608 [29:34<03:47,  8.80it/s]"
     ]
    },
    {
     "name": "stdout",
     "output_type": "stream",
     "text": [
      "Error opening URL for tournament 8602: HTTP Error 500: Internal Server Error\n",
      "Error opening URL for tournament 8604: HTTP Error 500: Internal Server Error\n",
      "Error opening URL for tournament 8603: HTTP Error 500: Internal Server Error\n"
     ]
    },
    {
     "name": "stderr",
     "output_type": "stream",
     "text": [
      "Processing tournaments:  81%|████████  | 8605/10608 [29:34<03:29,  9.56it/s]"
     ]
    },
    {
     "name": "stdout",
     "output_type": "stream",
     "text": [
      "Error opening URL for tournament 8605: HTTP Error 500: Internal Server Error\n",
      "Error opening URL for tournament 8607: HTTP Error 500: Internal Server Error\n"
     ]
    },
    {
     "name": "stderr",
     "output_type": "stream",
     "text": [
      "Processing tournaments:  81%|████████  | 8609/10608 [29:35<04:02,  8.25it/s]"
     ]
    },
    {
     "name": "stdout",
     "output_type": "stream",
     "text": [
      "Error opening URL for tournament 8606: HTTP Error 500: Internal Server Error\n",
      "Error opening URL for tournament 8611: HTTP Error 500: Internal Server Error\n",
      "Error opening URL for tournament 8612: HTTP Error 500: Internal Server Error\n"
     ]
    },
    {
     "name": "stderr",
     "output_type": "stream",
     "text": [
      "Processing tournaments:  81%|████████  | 8612/10608 [29:35<03:27,  9.62it/s]"
     ]
    },
    {
     "name": "stdout",
     "output_type": "stream",
     "text": [
      "Error opening URL for tournament 8610: HTTP Error 500: Internal Server Error\n",
      "Error opening URL for tournament 8609: HTTP Error 500: Internal Server Error\n",
      "Error opening URL for tournament 8608: HTTP Error 500: Internal Server Error\n"
     ]
    },
    {
     "name": "stderr",
     "output_type": "stream",
     "text": [
      "Processing tournaments:  81%|████████  | 8614/10608 [29:35<02:57, 11.21it/s]"
     ]
    },
    {
     "name": "stdout",
     "output_type": "stream",
     "text": [
      "Error opening URL for tournament 8614: HTTP Error 500: Internal Server Error\n",
      "Error opening URL for tournament 8613: HTTP Error 500: Internal Server Error\n"
     ]
    },
    {
     "name": "stderr",
     "output_type": "stream",
     "text": [
      "Processing tournaments:  81%|████████  | 8616/10608 [29:36<04:37,  7.18it/s]"
     ]
    },
    {
     "name": "stdout",
     "output_type": "stream",
     "text": [
      "Error opening URL for tournament 8615: HTTP Error 500: Internal Server Error\n",
      "Error opening URL for tournament 8617: HTTP Error 500: Internal Server Error\n",
      "Error opening URL for tournament 8618: HTTP Error 500: Internal Server Error\n",
      "Error opening URL for tournament 8619: HTTP Error 500: Internal Server Error\n"
     ]
    },
    {
     "name": "stderr",
     "output_type": "stream",
     "text": [
      "Processing tournaments:  81%|████████▏ | 8619/10608 [29:36<04:11,  7.91it/s]"
     ]
    },
    {
     "name": "stdout",
     "output_type": "stream",
     "text": [
      "Error opening URL for tournament 8616: HTTP Error 500: Internal Server Error\n",
      "Error opening URL for tournament 8620: HTTP Error 500: Internal Server Error\n",
      "Error opening URL for tournament 8622: HTTP Error 500: Internal Server Error\n",
      "Error opening URL for tournament 8621: HTTP Error 500: Internal Server Error\n"
     ]
    },
    {
     "name": "stderr",
     "output_type": "stream",
     "text": [
      "Processing tournaments:  81%|████████▏ | 8625/10608 [29:36<03:28,  9.52it/s]"
     ]
    },
    {
     "name": "stdout",
     "output_type": "stream",
     "text": [
      "Error opening URL for tournament 8626: HTTP Error 500: Internal Server Error\n",
      "Error opening URL for tournament 8624: HTTP Error 500: Internal Server Error\n",
      "Error opening URL for tournament 8623: HTTP Error 500: Internal Server Error\n"
     ]
    },
    {
     "name": "stderr",
     "output_type": "stream",
     "text": [
      "Processing tournaments:  81%|████████▏ | 8627/10608 [29:37<03:24,  9.67it/s]"
     ]
    },
    {
     "name": "stdout",
     "output_type": "stream",
     "text": [
      "Error opening URL for tournament 8628: HTTP Error 500: Internal Server Error\n",
      "Error opening URL for tournament 8630: HTTP Error 500: Internal Server Error\n",
      "Error opening URL for tournament 8629: HTTP Error 500: Internal Server Error\n",
      "Error opening URL for tournament 8625: HTTP Error 500: Internal Server Error\n"
     ]
    },
    {
     "name": "stderr",
     "output_type": "stream",
     "text": [
      "Processing tournaments:  81%|████████▏ | 8630/10608 [29:37<03:48,  8.66it/s]"
     ]
    },
    {
     "name": "stdout",
     "output_type": "stream",
     "text": [
      "Error opening URL for tournament 8627: HTTP Error 500: Internal Server Error\n",
      "Error opening URL for tournament 8633: HTTP Error 500: Internal Server Error\n"
     ]
    },
    {
     "name": "stderr",
     "output_type": "stream",
     "text": [
      "Processing tournaments:  81%|████████▏ | 8634/10608 [29:37<03:30,  9.39it/s]"
     ]
    },
    {
     "name": "stdout",
     "output_type": "stream",
     "text": [
      "Error opening URL for tournament 8631: HTTP Error 500: Internal Server Error\n",
      "Error opening URL for tournament 8634: HTTP Error 500: Internal Server Error\n",
      "Error opening URL for tournament 8632: HTTP Error 500: Internal Server Error\n",
      "Error opening URL for tournament 8636: HTTP Error 500: Internal Server Error\n",
      "Error opening URL for tournament 8635: HTTP Error 500: Internal Server Error\n"
     ]
    },
    {
     "name": "stderr",
     "output_type": "stream",
     "text": [
      "Processing tournaments:  81%|████████▏ | 8637/10608 [29:38<02:57, 11.09it/s]"
     ]
    },
    {
     "name": "stdout",
     "output_type": "stream",
     "text": [
      "Error opening URL for tournament 8637: HTTP Error 500: Internal Server Error\n"
     ]
    },
    {
     "name": "stderr",
     "output_type": "stream",
     "text": [
      "Processing tournaments:  81%|████████▏ | 8639/10608 [29:38<03:27,  9.51it/s]"
     ]
    },
    {
     "name": "stdout",
     "output_type": "stream",
     "text": [
      "Error opening URL for tournament 8638: HTTP Error 500: Internal Server Error\n",
      "Error opening URL for tournament 8640: HTTP Error 500: Internal Server Error\n",
      "Error opening URL for tournament 8639: HTTP Error 500: Internal Server Error\n"
     ]
    },
    {
     "name": "stderr",
     "output_type": "stream",
     "text": [
      "Processing tournaments:  81%|████████▏ | 8643/10608 [29:38<03:08, 10.43it/s]"
     ]
    },
    {
     "name": "stdout",
     "output_type": "stream",
     "text": [
      "Error opening URL for tournament 8641: HTTP Error 500: Internal Server Error\n",
      "Error opening URL for tournament 8642: HTTP Error 500: Internal Server Error\n",
      "Error opening URL for tournament 8643: HTTP Error 500: Internal Server Error\n"
     ]
    },
    {
     "name": "stderr",
     "output_type": "stream",
     "text": [
      "Processing tournaments:  81%|████████▏ | 8645/10608 [29:38<03:23,  9.67it/s]"
     ]
    },
    {
     "name": "stdout",
     "output_type": "stream",
     "text": [
      "Error opening URL for tournament 8645: HTTP Error 500: Internal Server Error\n",
      "Error opening URL for tournament 8648: HTTP Error 500: Internal Server Error\n",
      "Error opening URL for tournament 8644: HTTP Error 500: Internal Server Error\n"
     ]
    },
    {
     "name": "stderr",
     "output_type": "stream",
     "text": [
      "Processing tournaments:  82%|████████▏ | 8647/10608 [29:39<03:20,  9.80it/s]"
     ]
    },
    {
     "name": "stdout",
     "output_type": "stream",
     "text": [
      "Error opening URL for tournament 8647: HTTP Error 500: Internal Server Error\n",
      "Error opening URL for tournament 8646: HTTP Error 500: Internal Server Error\n"
     ]
    },
    {
     "name": "stderr",
     "output_type": "stream",
     "text": [
      "Processing tournaments:  82%|████████▏ | 8652/10608 [29:39<03:16,  9.96it/s]"
     ]
    },
    {
     "name": "stdout",
     "output_type": "stream",
     "text": [
      "Error opening URL for tournament 8649: HTTP Error 500: Internal Server Error\n",
      "Error opening URL for tournament 8650: HTTP Error 500: Internal Server Error\n",
      "Error opening URL for tournament 8653: HTTP Error 500: Internal Server Error\n",
      "Error opening URL for tournament 8652: HTTP Error 500: Internal Server Error\n"
     ]
    },
    {
     "name": "stderr",
     "output_type": "stream",
     "text": [
      "Processing tournaments:  82%|████████▏ | 8654/10608 [29:39<03:20,  9.73it/s]"
     ]
    },
    {
     "name": "stdout",
     "output_type": "stream",
     "text": [
      "Error opening URL for tournament 8654: HTTP Error 500: Internal Server Error\n",
      "Error opening URL for tournament 8651: HTTP Error 500: Internal Server Error\n",
      "Error opening URL for tournament 8655: HTTP Error 500: Internal Server Error\n"
     ]
    },
    {
     "name": "stderr",
     "output_type": "stream",
     "text": [
      "Processing tournaments:  82%|████████▏ | 8656/10608 [29:40<02:59, 10.89it/s]"
     ]
    },
    {
     "name": "stdout",
     "output_type": "stream",
     "text": [
      "Error opening URL for tournament 8656: HTTP Error 500: Internal Server Error\n"
     ]
    },
    {
     "name": "stderr",
     "output_type": "stream",
     "text": [
      "Processing tournaments:  82%|████████▏ | 8658/10608 [29:40<03:18,  9.84it/s]"
     ]
    },
    {
     "name": "stdout",
     "output_type": "stream",
     "text": [
      "Error opening URL for tournament 8657: HTTP Error 500: Internal Server Error\n",
      "Error opening URL for tournament 8659: HTTP Error 500: Internal Server Error\n",
      "Error opening URL for tournament 8658: HTTP Error 500: Internal Server Error\n",
      "Error opening URL for tournament 8660: HTTP Error 500: Internal Server Error\n"
     ]
    },
    {
     "name": "stderr",
     "output_type": "stream",
     "text": [
      "Processing tournaments:  82%|████████▏ | 8663/10608 [29:40<03:03, 10.61it/s]"
     ]
    },
    {
     "name": "stdout",
     "output_type": "stream",
     "text": [
      "Error opening URL for tournament 8662: HTTP Error 500: Internal Server Error\n",
      "Error opening URL for tournament 8661: HTTP Error 500: Internal Server Error\n",
      "Error opening URL for tournament 8663: HTTP Error 500: Internal Server Error\n",
      "Error opening URL for tournament 8664: HTTP Error 500: Internal Server Error\n"
     ]
    },
    {
     "name": "stderr",
     "output_type": "stream",
     "text": [
      "Processing tournaments:  82%|████████▏ | 8667/10608 [29:41<03:17,  9.83it/s]"
     ]
    },
    {
     "name": "stdout",
     "output_type": "stream",
     "text": [
      "Error opening URL for tournament 8666: HTTP Error 500: Internal Server Error\n",
      "Error opening URL for tournament 8665: HTTP Error 500: Internal Server Error\n",
      "Error opening URL for tournament 8667: HTTP Error 500: Internal Server Error\n",
      "Error opening URL for tournament 8668: HTTP Error 500: Internal Server Error\n",
      "Error opening URL for tournament 8669: HTTP Error 500: Internal Server Error\n"
     ]
    },
    {
     "name": "stderr",
     "output_type": "stream",
     "text": [
      "Processing tournaments:  82%|████████▏ | 8671/10608 [29:41<03:12, 10.05it/s]"
     ]
    },
    {
     "name": "stdout",
     "output_type": "stream",
     "text": [
      "Error opening URL for tournament 8672: HTTP Error 500: Internal Server Error\n",
      "Error opening URL for tournament 8671: HTTP Error 500: Internal Server Error\n",
      "Error opening URL for tournament 8670: HTTP Error 500: Internal Server Error\n"
     ]
    },
    {
     "name": "stderr",
     "output_type": "stream",
     "text": [
      "Processing tournaments:  82%|████████▏ | 8673/10608 [29:41<03:10, 10.14it/s]"
     ]
    },
    {
     "name": "stdout",
     "output_type": "stream",
     "text": [
      "Error opening URL for tournament 8673: HTTP Error 500: Internal Server Error\n"
     ]
    },
    {
     "name": "stderr",
     "output_type": "stream",
     "text": [
      "Processing tournaments:  82%|████████▏ | 8676/10608 [29:42<03:43,  8.63it/s]"
     ]
    },
    {
     "name": "stdout",
     "output_type": "stream",
     "text": [
      "Error opening URL for tournament 8674: HTTP Error 500: Internal Server Error\n",
      "Error opening URL for tournament 8675: HTTP Error 500: Internal Server Error\n",
      "Error opening URL for tournament 8676: HTTP Error 500: Internal Server Error\n"
     ]
    },
    {
     "name": "stderr",
     "output_type": "stream",
     "text": [
      "Processing tournaments:  82%|████████▏ | 8678/10608 [29:42<03:51,  8.32it/s]"
     ]
    },
    {
     "name": "stdout",
     "output_type": "stream",
     "text": [
      "Error opening URL for tournament 8677: HTTP Error 500: Internal Server Error\n",
      "Error opening URL for tournament 8681: HTTP Error 500: Internal Server Error\n",
      "Error opening URL for tournament 8678: HTTP Error 500: Internal Server Error\n"
     ]
    },
    {
     "name": "stderr",
     "output_type": "stream",
     "text": [
      "Processing tournaments:  82%|████████▏ | 8682/10608 [29:42<02:43, 11.79it/s]"
     ]
    },
    {
     "name": "stdout",
     "output_type": "stream",
     "text": [
      "Error opening URL for tournament 8680: HTTP Error 500: Internal Server Error\n",
      "Error opening URL for tournament 8679: HTTP Error 500: Internal Server Error\n",
      "Error opening URL for tournament 8683: HTTP Error 500: Internal Server Error\n"
     ]
    },
    {
     "name": "stderr",
     "output_type": "stream",
     "text": [
      "Processing tournaments:  82%|████████▏ | 8684/10608 [29:42<02:52, 11.12it/s]"
     ]
    },
    {
     "name": "stdout",
     "output_type": "stream",
     "text": [
      "Error opening URL for tournament 8682: HTTP Error 500: Internal Server Error\n",
      "Error opening URL for tournament 8684: HTTP Error 500: Internal Server Error\n"
     ]
    },
    {
     "name": "stderr",
     "output_type": "stream",
     "text": [
      "Processing tournaments:  82%|████████▏ | 8686/10608 [29:43<03:11, 10.02it/s]"
     ]
    },
    {
     "name": "stdout",
     "output_type": "stream",
     "text": [
      "Error opening URL for tournament 8685: HTTP Error 500: Internal Server Error\n",
      "Error opening URL for tournament 8687: HTTP Error 500: Internal Server Error\n",
      "Error opening URL for tournament 8686: HTTP Error 500: Internal Server Error\n"
     ]
    },
    {
     "name": "stderr",
     "output_type": "stream",
     "text": [
      "Processing tournaments:  82%|████████▏ | 8688/10608 [29:43<03:16,  9.78it/s]"
     ]
    },
    {
     "name": "stdout",
     "output_type": "stream",
     "text": [
      "Error opening URL for tournament 8688: HTTP Error 500: Internal Server Error\n",
      "Error opening URL for tournament 8689: HTTP Error 500: Internal Server Error\n",
      "Error opening URL for tournament 8690: HTTP Error 500: Internal Server Error\n"
     ]
    },
    {
     "name": "stderr",
     "output_type": "stream",
     "text": [
      "Processing tournaments:  82%|████████▏ | 8691/10608 [29:43<03:08, 10.19it/s]"
     ]
    },
    {
     "name": "stdout",
     "output_type": "stream",
     "text": [
      "Error opening URL for tournament 8691: HTTP Error 500: Internal Server Error\n",
      "Error opening URL for tournament 8692: HTTP Error 500: Internal Server Error\n"
     ]
    },
    {
     "name": "stderr",
     "output_type": "stream",
     "text": [
      "Processing tournaments:  82%|████████▏ | 8697/10608 [29:44<02:50, 11.23it/s]"
     ]
    },
    {
     "name": "stdout",
     "output_type": "stream",
     "text": [
      "Error opening URL for tournament 8693: HTTP Error 500: Internal Server Error\n",
      "Error opening URL for tournament 8697: HTTP Error 500: Internal Server Error\n",
      "Error opening URL for tournament 8694: HTTP Error 500: Internal Server Error\n",
      "Error opening URL for tournament 8696: HTTP Error 500: Internal Server Error\n",
      "Error opening URL for tournament 8695: HTTP Error 500: Internal Server Error\n"
     ]
    },
    {
     "name": "stderr",
     "output_type": "stream",
     "text": [
      "Processing tournaments:  82%|████████▏ | 8699/10608 [29:44<03:10, 10.02it/s]"
     ]
    },
    {
     "name": "stdout",
     "output_type": "stream",
     "text": [
      "Error opening URL for tournament 8700: HTTP Error 500: Internal Server Error\n",
      "Error opening URL for tournament 8698: HTTP Error 500: Internal Server Error\n"
     ]
    },
    {
     "name": "stderr",
     "output_type": "stream",
     "text": [
      "Processing tournaments:  82%|████████▏ | 8701/10608 [29:44<04:07,  7.70it/s]"
     ]
    },
    {
     "name": "stdout",
     "output_type": "stream",
     "text": [
      "Error opening URL for tournament 8699: HTTP Error 500: Internal Server Error\n",
      "Error opening URL for tournament 8703: HTTP Error 500: Internal Server Error\n",
      "Error opening URL for tournament 8702: HTTP Error 500: Internal Server Error\n"
     ]
    },
    {
     "name": "stderr",
     "output_type": "stream",
     "text": [
      "Processing tournaments:  82%|████████▏ | 8706/10608 [29:45<02:52, 11.02it/s]"
     ]
    },
    {
     "name": "stdout",
     "output_type": "stream",
     "text": [
      "Error opening URL for tournament 8701: HTTP Error 500: Internal Server Error\n",
      "Error opening URL for tournament 8705: HTTP Error 500: Internal Server Error\n",
      "Error opening URL for tournament 8704: HTTP Error 500: Internal Server Error\n",
      "Error opening URL for tournament 8706: HTTP Error 500: Internal Server Error\n",
      "Error opening URL for tournament 8707: HTTP Error 500: Internal Server Error\n"
     ]
    },
    {
     "name": "stderr",
     "output_type": "stream",
     "text": [
      "Processing tournaments:  82%|████████▏ | 8713/10608 [29:46<03:03, 10.31it/s]"
     ]
    },
    {
     "name": "stdout",
     "output_type": "stream",
     "text": [
      "Error opening URL for tournament 8708: HTTP Error 500: Internal Server ErrorError opening URL for tournament 8711: HTTP Error 500: Internal Server Error\n",
      "\n",
      "Error opening URL for tournament 8712: HTTP Error 500: Internal Server Error\n",
      "Error opening URL for tournament 8709: HTTP Error 500: Internal Server Error\n",
      "Error opening URL for tournament 8710: HTTP Error 500: Internal Server Error\n",
      "Error opening URL for tournament 8713: HTTP Error 500: Internal Server Error\n",
      "Error opening URL for tournament 8715: HTTP Error 500: Internal Server Error\n",
      "Error opening URL for tournament 8714: HTTP Error 500: Internal Server Error\n"
     ]
    },
    {
     "name": "stderr",
     "output_type": "stream",
     "text": [
      "Processing tournaments:  82%|████████▏ | 8718/10608 [29:47<03:52,  8.13it/s]"
     ]
    },
    {
     "name": "stdout",
     "output_type": "stream",
     "text": [
      "Error opening URL for tournament 8716: HTTP Error 500: Internal Server Error\n",
      "Error opening URL for tournament 8717: HTTP Error 500: Internal Server Error\n",
      "Error opening URL for tournament 8718: HTTP Error 500: Internal Server Error\n"
     ]
    },
    {
     "name": "stderr",
     "output_type": "stream",
     "text": [
      "Processing tournaments:  82%|████████▏ | 8721/10608 [29:47<03:20,  9.39it/s]"
     ]
    },
    {
     "name": "stdout",
     "output_type": "stream",
     "text": [
      "Error opening URL for tournament 8721: HTTP Error 500: Internal Server Error\n",
      "Error opening URL for tournament 8720: HTTP Error 500: Internal Server Error\n",
      "Error opening URL for tournament 8719: HTTP Error 500: Internal Server Error\n",
      "Error opening URL for tournament 8723: HTTP Error 500: Internal Server Error\n",
      "Error opening URL for tournament 8722: HTTP Error 500: Internal Server Error\n"
     ]
    },
    {
     "name": "stderr",
     "output_type": "stream",
     "text": [
      "Processing tournaments:  82%|████████▏ | 8724/10608 [29:47<04:02,  7.77it/s]"
     ]
    },
    {
     "name": "stdout",
     "output_type": "stream",
     "text": [
      "Error opening URL for tournament 8724: HTTP Error 500: Internal Server Error\n",
      "Error opening URL for tournament 8725: HTTP Error 500: Internal Server Error\n",
      "Error opening URL for tournament 8726: HTTP Error 500: Internal Server Error\n"
     ]
    },
    {
     "name": "stderr",
     "output_type": "stream",
     "text": [
      "Processing tournaments:  82%|████████▏ | 8731/10608 [29:48<02:40, 11.69it/s]"
     ]
    },
    {
     "name": "stdout",
     "output_type": "stream",
     "text": [
      "Error opening URL for tournament 8727: HTTP Error 500: Internal Server Error\n",
      "Error opening URL for tournament 8729: HTTP Error 500: Internal Server Error\n",
      "Error opening URL for tournament 8730: HTTP Error 500: Internal Server Error\n",
      "Error opening URL for tournament 8728: HTTP Error 500: Internal Server Error\n",
      "Error opening URL for tournament 8731: HTTP Error 500: Internal Server Error\n"
     ]
    },
    {
     "name": "stderr",
     "output_type": "stream",
     "text": [
      "Processing tournaments:  82%|████████▏ | 8735/10608 [29:48<03:12,  9.73it/s]"
     ]
    },
    {
     "name": "stdout",
     "output_type": "stream",
     "text": [
      "Error opening URL for tournament 8734: HTTP Error 500: Internal Server Error\n",
      "Error opening URL for tournament 8733: HTTP Error 500: Internal Server Error\n",
      "Error opening URL for tournament 8732: HTTP Error 500: Internal Server Error\n",
      "Error opening URL for tournament 8735: HTTP Error 500: Internal Server Error\n"
     ]
    },
    {
     "name": "stderr",
     "output_type": "stream",
     "text": [
      "Processing tournaments:  82%|████████▏ | 8737/10608 [29:49<03:39,  8.52it/s]"
     ]
    },
    {
     "name": "stdout",
     "output_type": "stream",
     "text": [
      "Error opening URL for tournament 8737: HTTP Error 500: Internal Server Error\n",
      "Error opening URL for tournament 8738: HTTP Error 500: Internal Server Error\n"
     ]
    },
    {
     "name": "stderr",
     "output_type": "stream",
     "text": [
      "Processing tournaments:  82%|████████▏ | 8739/10608 [29:49<03:15,  9.55it/s]"
     ]
    },
    {
     "name": "stdout",
     "output_type": "stream",
     "text": [
      "Error opening URL for tournament 8739: HTTP Error 500: Internal Server Error\n",
      "Error opening URL for tournament 8736: HTTP Error 500: Internal Server Error\n",
      "Error opening URL for tournament 8740: HTTP Error 500: Internal Server Error\n"
     ]
    },
    {
     "name": "stderr",
     "output_type": "stream",
     "text": [
      "Processing tournaments:  82%|████████▏ | 8741/10608 [29:49<03:33,  8.73it/s]"
     ]
    },
    {
     "name": "stdout",
     "output_type": "stream",
     "text": [
      "Error opening URL for tournament 8741: HTTP Error 500: Internal Server Error\n",
      "Error opening URL for tournament 8743: HTTP Error 500: Internal Server Error\n",
      "Error opening URL for tournament 8742: HTTP Error 500: Internal Server Error\n"
     ]
    },
    {
     "name": "stderr",
     "output_type": "stream",
     "text": [
      "Processing tournaments:  82%|████████▏ | 8746/10608 [29:49<03:09,  9.84it/s]"
     ]
    },
    {
     "name": "stdout",
     "output_type": "stream",
     "text": [
      "Error opening URL for tournament 8744: HTTP Error 500: Internal Server Error\n",
      "Error opening URL for tournament 8745: HTTP Error 500: Internal Server Error\n",
      "Error opening URL for tournament 8747: HTTP Error 500: Internal Server Error\n"
     ]
    },
    {
     "name": "stderr",
     "output_type": "stream",
     "text": [
      "Processing tournaments:  82%|████████▏ | 8748/10608 [29:50<03:02, 10.21it/s]"
     ]
    },
    {
     "name": "stdout",
     "output_type": "stream",
     "text": [
      "Error opening URL for tournament 8746: HTTP Error 500: Internal Server Error\n",
      "Error opening URL for tournament 8748: HTTP Error 500: Internal Server Error\n"
     ]
    },
    {
     "name": "stderr",
     "output_type": "stream",
     "text": [
      "Processing tournaments:  82%|████████▏ | 8750/10608 [29:50<03:22,  9.16it/s]"
     ]
    },
    {
     "name": "stdout",
     "output_type": "stream",
     "text": [
      "Error opening URL for tournament 8749: HTTP Error 500: Internal Server Error\n",
      "Error opening URL for tournament 8750: HTTP Error 500: Internal Server Error\n",
      "Error opening URL for tournament 8751: HTTP Error 500: Internal Server Error\n"
     ]
    },
    {
     "name": "stderr",
     "output_type": "stream",
     "text": [
      "Processing tournaments:  83%|████████▎ | 8755/10608 [29:50<02:50, 10.88it/s]"
     ]
    },
    {
     "name": "stdout",
     "output_type": "stream",
     "text": [
      "Error opening URL for tournament 8754: HTTP Error 500: Internal Server Error\n",
      "Error opening URL for tournament 8752: HTTP Error 500: Internal Server Error\n",
      "Error opening URL for tournament 8753: HTTP Error 500: Internal Server Error\n",
      "Error opening URL for tournament 8755: HTTP Error 500: Internal Server Error\n",
      "Error opening URL for tournament 8756: HTTP Error 500: Internal Server Error\n"
     ]
    },
    {
     "name": "stderr",
     "output_type": "stream",
     "text": [
      "Processing tournaments:  83%|████████▎ | 8757/10608 [29:51<03:14,  9.53it/s]"
     ]
    },
    {
     "name": "stdout",
     "output_type": "stream",
     "text": [
      "Error opening URL for tournament 8758: HTTP Error 500: Internal Server Error\n"
     ]
    },
    {
     "name": "stderr",
     "output_type": "stream",
     "text": [
      "Processing tournaments:  83%|████████▎ | 8759/10608 [29:51<03:58,  7.75it/s]"
     ]
    },
    {
     "name": "stdout",
     "output_type": "stream",
     "text": [
      "Error opening URL for tournament 8760: HTTP Error 500: Internal Server Error\n",
      "Error opening URL for tournament 8761: HTTP Error 500: Internal Server Error\n",
      "Error opening URL for tournament 8757: HTTP Error 500: Internal Server Error\n",
      "Error opening URL for tournament 8762: HTTP Error 500: Internal Server Error\n"
     ]
    },
    {
     "name": "stderr",
     "output_type": "stream",
     "text": [
      "Processing tournaments:  83%|████████▎ | 8763/10608 [29:51<02:36, 11.79it/s]"
     ]
    },
    {
     "name": "stdout",
     "output_type": "stream",
     "text": [
      "Error opening URL for tournament 8763: HTTP Error 500: Internal Server Error\n",
      "Error opening URL for tournament 8759: HTTP Error 500: Internal Server Error\n",
      "Error opening URL for tournament 8764: HTTP Error 500: Internal Server Error\n"
     ]
    },
    {
     "name": "stderr",
     "output_type": "stream",
     "text": [
      "Processing tournaments:  83%|████████▎ | 8765/10608 [29:51<02:58, 10.32it/s]"
     ]
    },
    {
     "name": "stdout",
     "output_type": "stream",
     "text": [
      "Error opening URL for tournament 8765: HTTP Error 500: Internal Server Error\n",
      "Error opening URL for tournament 8766: HTTP Error 500: Internal Server Error\n"
     ]
    },
    {
     "name": "stderr",
     "output_type": "stream",
     "text": [
      "Processing tournaments:  83%|████████▎ | 8769/10608 [29:52<03:38,  8.41it/s]"
     ]
    },
    {
     "name": "stdout",
     "output_type": "stream",
     "text": [
      "Error opening URL for tournament 8768: HTTP Error 500: Internal Server ErrorError opening URL for tournament 8767: HTTP Error 500: Internal Server Error\n",
      "\n",
      "Error opening URL for tournament 8769: HTTP Error 500: Internal Server Error\n",
      "Error opening URL for tournament 8771: HTTP Error 500: Internal Server Error\n",
      "Error opening URL for tournament 8770: HTTP Error 500: Internal Server Error\n",
      "Error opening URL for tournament 8772: HTTP Error 500: Internal Server Error\n"
     ]
    },
    {
     "name": "stderr",
     "output_type": "stream",
     "text": [
      "Processing tournaments:  83%|████████▎ | 8773/10608 [29:52<02:49, 10.85it/s]"
     ]
    },
    {
     "name": "stdout",
     "output_type": "stream",
     "text": [
      "Error opening URL for tournament 8773: HTTP Error 500: Internal Server Error\n"
     ]
    },
    {
     "name": "stderr",
     "output_type": "stream",
     "text": [
      "Processing tournaments:  83%|████████▎ | 8775/10608 [29:53<03:36,  8.45it/s]"
     ]
    },
    {
     "name": "stdout",
     "output_type": "stream",
     "text": [
      "Error opening URL for tournament 8774: HTTP Error 500: Internal Server Error\n",
      "Error opening URL for tournament 8776: HTTP Error 500: Internal Server Error\n"
     ]
    },
    {
     "name": "stderr",
     "output_type": "stream",
     "text": [
      "Processing tournaments:  83%|████████▎ | 8780/10608 [29:53<02:29, 12.22it/s]"
     ]
    },
    {
     "name": "stdout",
     "output_type": "stream",
     "text": [
      "Error opening URL for tournament 8780: HTTP Error 500: Internal Server Error\n",
      "Error opening URL for tournament 8775: HTTP Error 500: Internal Server Error\n",
      "Error opening URL for tournament 8778: HTTP Error 500: Internal Server Error\n",
      "Error opening URL for tournament 8777: HTTP Error 500: Internal Server Error\n",
      "Error opening URL for tournament 8779: HTTP Error 500: Internal Server Error\n"
     ]
    },
    {
     "name": "stderr",
     "output_type": "stream",
     "text": [
      "Processing tournaments:  83%|████████▎ | 8782/10608 [29:53<03:14,  9.38it/s]"
     ]
    },
    {
     "name": "stdout",
     "output_type": "stream",
     "text": [
      "Error opening URL for tournament 8781: HTTP Error 500: Internal Server Error\n",
      "Error opening URL for tournament 8782: HTTP Error 500: Internal Server Error\n",
      "Error opening URL for tournament 8783: HTTP Error 500: Internal Server Error\n"
     ]
    },
    {
     "name": "stderr",
     "output_type": "stream",
     "text": [
      "Processing tournaments:  83%|████████▎ | 8786/10608 [29:54<03:43,  8.14it/s]"
     ]
    },
    {
     "name": "stdout",
     "output_type": "stream",
     "text": [
      "Error opening URL for tournament 8786: HTTP Error 500: Internal Server Error\n",
      "Error opening URL for tournament 8787: HTTP Error 500: Internal Server Error\n",
      "Error opening URL for tournament 8785: HTTP Error 500: Internal Server Error\n",
      "Error opening URL for tournament 8784: HTTP Error 500: Internal Server Error\n"
     ]
    },
    {
     "name": "stderr",
     "output_type": "stream",
     "text": [
      "Processing tournaments:  83%|████████▎ | 8788/10608 [29:54<03:08,  9.64it/s]"
     ]
    },
    {
     "name": "stdout",
     "output_type": "stream",
     "text": [
      "Error opening URL for tournament 8789: HTTP Error 500: Internal Server Error\n",
      "Error opening URL for tournament 8788: HTTP Error 500: Internal Server Error\n",
      "Error opening URL for tournament 8790: HTTP Error 500: Internal Server Error\n"
     ]
    },
    {
     "name": "stderr",
     "output_type": "stream",
     "text": [
      "Processing tournaments:  83%|████████▎ | 8791/10608 [29:54<03:17,  9.21it/s]"
     ]
    },
    {
     "name": "stdout",
     "output_type": "stream",
     "text": [
      "Error opening URL for tournament 8791: HTTP Error 500: Internal Server Error\n"
     ]
    },
    {
     "name": "stderr",
     "output_type": "stream",
     "text": [
      "Processing tournaments:  83%|████████▎ | 8793/10608 [29:55<04:12,  7.19it/s]"
     ]
    },
    {
     "name": "stdout",
     "output_type": "stream",
     "text": [
      "Error opening URL for tournament 8792: HTTP Error 500: Internal Server Error\n",
      "Error opening URL for tournament 8795: HTTP Error 500: Internal Server Error\n",
      "Error opening URL for tournament 8794: HTTP Error 500: Internal Server Error\n"
     ]
    },
    {
     "name": "stderr",
     "output_type": "stream",
     "text": [
      "Processing tournaments:  83%|████████▎ | 8799/10608 [29:55<02:59, 10.07it/s]"
     ]
    },
    {
     "name": "stdout",
     "output_type": "stream",
     "text": [
      "Error opening URL for tournament 8797: HTTP Error 500: Internal Server ErrorError opening URL for tournament 8798: HTTP Error 500: Internal Server Error\n",
      "\n",
      "Error opening URL for tournament 8793: HTTP Error 500: Internal Server Error\n",
      "Error opening URL for tournament 8796: HTTP Error 500: Internal Server Error\n",
      "Error opening URL for tournament 8799: HTTP Error 500: Internal Server Error\n"
     ]
    },
    {
     "name": "stderr",
     "output_type": "stream",
     "text": [
      "Processing tournaments:  83%|████████▎ | 8803/10608 [29:56<04:07,  7.30it/s]"
     ]
    },
    {
     "name": "stdout",
     "output_type": "stream",
     "text": [
      "Error opening URL for tournament 8800: HTTP Error 500: Internal Server ErrorError opening URL for tournament 8805: HTTP Error 500: Internal Server Error\n",
      "\n",
      "Error opening URL for tournament 8801: HTTP Error 500: Internal Server Error\n",
      "Error opening URL for tournament 8804: HTTP Error 500: Internal Server Error\n",
      "Error opening URL for tournament 8806: HTTP Error 500: Internal Server Error\n",
      "Error opening URL for tournament 8802: HTTP Error 500: Internal Server Error\n"
     ]
    },
    {
     "name": "stderr",
     "output_type": "stream",
     "text": [
      "Processing tournaments:  83%|████████▎ | 8807/10608 [29:56<03:04,  9.74it/s]"
     ]
    },
    {
     "name": "stdout",
     "output_type": "stream",
     "text": [
      "Error opening URL for tournament 8803: HTTP Error 500: Internal Server Error\n",
      "Error opening URL for tournament 8807: HTTP Error 500: Internal Server Error\n"
     ]
    },
    {
     "name": "stderr",
     "output_type": "stream",
     "text": [
      "Processing tournaments:  83%|████████▎ | 8811/10608 [29:57<03:49,  7.84it/s]"
     ]
    },
    {
     "name": "stdout",
     "output_type": "stream",
     "text": [
      "Error opening URL for tournament 8808: HTTP Error 500: Internal Server Error\n",
      "Error opening URL for tournament 8810: HTTP Error 500: Internal Server Error\n",
      "Error opening URL for tournament 8811: HTTP Error 500: Internal Server Error\n",
      "Error opening URL for tournament 8809: HTTP Error 500: Internal Server Error\n"
     ]
    },
    {
     "name": "stderr",
     "output_type": "stream",
     "text": [
      "Processing tournaments:  83%|████████▎ | 8815/10608 [29:57<03:04,  9.74it/s]"
     ]
    },
    {
     "name": "stdout",
     "output_type": "stream",
     "text": [
      "Error opening URL for tournament 8815: HTTP Error 500: Internal Server Error\n",
      "Error opening URL for tournament 8812: HTTP Error 500: Internal Server Error\n",
      "Error opening URL for tournament 8814: HTTP Error 500: Internal Server Error\n",
      "Error opening URL for tournament 8813: HTTP Error 500: Internal Server Error\n"
     ]
    },
    {
     "name": "stderr",
     "output_type": "stream",
     "text": [
      "Processing tournaments:  83%|████████▎ | 8821/10608 [29:58<03:30,  8.49it/s]"
     ]
    },
    {
     "name": "stdout",
     "output_type": "stream",
     "text": [
      "Error opening URL for tournament 8816: HTTP Error 500: Internal Server Error\n",
      "Error opening URL for tournament 8820: HTTP Error 500: Internal Server Error\n",
      "Error opening URL for tournament 8818: HTTP Error 500: Internal Server Error\n",
      "Error opening URL for tournament 8817: HTTP Error 500: Internal Server Error\n",
      "Error opening URL for tournament 8821: HTTP Error 500: Internal Server Error\n",
      "Error opening URL for tournament 8819: HTTP Error 500: Internal Server Error\n",
      "Error opening URL for tournament 8822: HTTP Error 500: Internal Server Error\n"
     ]
    },
    {
     "name": "stderr",
     "output_type": "stream",
     "text": [
      "Processing tournaments:  83%|████████▎ | 8825/10608 [29:59<04:40,  6.35it/s]"
     ]
    },
    {
     "name": "stdout",
     "output_type": "stream",
     "text": [
      "Error opening URL for tournament 8823: HTTP Error 500: Internal Server Error\n",
      "Error opening URL for tournament 8829: HTTP Error 500: Internal Server Error\n",
      "Error opening URL for tournament 8825: HTTP Error 500: Internal Server Error\n",
      "Error opening URL for tournament 8826: HTTP Error 500: Internal Server Error\n",
      "Error opening URL for tournament 8824: HTTP Error 500: Internal Server Error\n"
     ]
    },
    {
     "name": "stderr",
     "output_type": "stream",
     "text": [
      "Processing tournaments:  83%|████████▎ | 8828/10608 [29:59<03:37,  8.20it/s]"
     ]
    },
    {
     "name": "stdout",
     "output_type": "stream",
     "text": [
      "Error opening URL for tournament 8828: HTTP Error 500: Internal Server Error\n",
      "Error opening URL for tournament 8827: HTTP Error 500: Internal Server Error\n"
     ]
    },
    {
     "name": "stderr",
     "output_type": "stream",
     "text": [
      "Processing tournaments:  83%|████████▎ | 8830/10608 [30:00<03:43,  7.97it/s]"
     ]
    },
    {
     "name": "stdout",
     "output_type": "stream",
     "text": [
      "Error opening URL for tournament 8830: HTTP Error 500: Internal Server Error\n"
     ]
    },
    {
     "name": "stderr",
     "output_type": "stream",
     "text": [
      "Processing tournaments:  83%|████████▎ | 8832/10608 [30:00<04:46,  6.19it/s]"
     ]
    },
    {
     "name": "stdout",
     "output_type": "stream",
     "text": [
      "Error opening URL for tournament 8831: HTTP Error 500: Internal Server Error\n",
      "Error opening URL for tournament 8835: HTTP Error 500: Internal Server Error\n",
      "Error opening URL for tournament 8834: HTTP Error 500: Internal Server Error\n",
      "Error opening URL for tournament 8832: HTTP Error 500: Internal Server Error\n",
      "Error opening URL for tournament 8836: HTTP Error 500: Internal Server Error\n",
      "Error opening URL for tournament 8833: HTTP Error 500: Internal Server Error\n"
     ]
    },
    {
     "name": "stderr",
     "output_type": "stream",
     "text": [
      "Processing tournaments:  83%|████████▎ | 8837/10608 [30:01<03:19,  8.88it/s]"
     ]
    },
    {
     "name": "stdout",
     "output_type": "stream",
     "text": [
      "Error opening URL for tournament 8837: HTTP Error 500: Internal Server Error\n",
      "Error opening URL for tournament 8838: HTTP Error 500: Internal Server Error\n"
     ]
    },
    {
     "name": "stderr",
     "output_type": "stream",
     "text": [
      "Processing tournaments:  83%|████████▎ | 8843/10608 [30:01<03:17,  8.92it/s]"
     ]
    },
    {
     "name": "stdout",
     "output_type": "stream",
     "text": [
      "Error opening URL for tournament 8841: HTTP Error 500: Internal Server Error\n",
      "Error opening URL for tournament 8839: HTTP Error 500: Internal Server Error\n",
      "Error opening URL for tournament 8840: HTTP Error 500: Internal Server Error\n",
      "Error opening URL for tournament 8842: HTTP Error 500: Internal Server Error\n",
      "Error opening URL for tournament 8844: HTTP Error 500: Internal Server Error\n",
      "Error opening URL for tournament 8843: HTTP Error 500: Internal Server Error\n"
     ]
    },
    {
     "name": "stderr",
     "output_type": "stream",
     "text": [
      "Processing tournaments:  83%|████████▎ | 8845/10608 [30:02<03:06,  9.44it/s]"
     ]
    },
    {
     "name": "stdout",
     "output_type": "stream",
     "text": [
      "Error opening URL for tournament 8845: HTTP Error 500: Internal Server Error\n"
     ]
    },
    {
     "name": "stderr",
     "output_type": "stream",
     "text": [
      "Processing tournaments:  83%|████████▎ | 8849/10608 [30:02<03:41,  7.94it/s]"
     ]
    },
    {
     "name": "stdout",
     "output_type": "stream",
     "text": [
      "Error opening URL for tournament 8846: HTTP Error 500: Internal Server ErrorError opening URL for tournament 8849: HTTP Error 500: Internal Server Error\n",
      "\n",
      "Error opening URL for tournament 8847: HTTP Error 500: Internal Server Error\n",
      "Error opening URL for tournament 8848: HTTP Error 500: Internal Server Error\n",
      "Error opening URL for tournament 8850: HTTP Error 500: Internal Server Error\n"
     ]
    },
    {
     "name": "stderr",
     "output_type": "stream",
     "text": [
      "Processing tournaments:  83%|████████▎ | 8851/10608 [30:03<03:55,  7.47it/s]"
     ]
    },
    {
     "name": "stdout",
     "output_type": "stream",
     "text": [
      "Error opening URL for tournament 8853: HTTP Error 500: Internal Server Error\n",
      "Error opening URL for tournament 8851: HTTP Error 500: Internal Server Error\n",
      "Error opening URL for tournament 8852: HTTP Error 500: Internal Server Error\n"
     ]
    },
    {
     "name": "stderr",
     "output_type": "stream",
     "text": [
      "Processing tournaments:  83%|████████▎ | 8856/10608 [30:03<03:33,  8.20it/s]"
     ]
    },
    {
     "name": "stdout",
     "output_type": "stream",
     "text": [
      "Error opening URL for tournament 8856: HTTP Error 500: Internal Server Error\n",
      "Error opening URL for tournament 8855: HTTP Error 500: Internal Server Error\n",
      "Error opening URL for tournament 8857: HTTP Error 500: Internal Server Error\n",
      "Error opening URL for tournament 8854: HTTP Error 500: Internal Server Error\n",
      "Error opening URL for tournament 8858: HTTP Error 500: Internal Server Error\n"
     ]
    },
    {
     "name": "stderr",
     "output_type": "stream",
     "text": [
      "Processing tournaments:  84%|████████▎ | 8859/10608 [30:03<02:44, 10.65it/s]"
     ]
    },
    {
     "name": "stdout",
     "output_type": "stream",
     "text": [
      "Error opening URL for tournament 8860: HTTP Error 500: Internal Server Error\n",
      "Error opening URL for tournament 8859: HTTP Error 500: Internal Server Error\n"
     ]
    },
    {
     "name": "stderr",
     "output_type": "stream",
     "text": [
      "Processing tournaments:  84%|████████▎ | 8861/10608 [30:04<03:09,  9.20it/s]"
     ]
    },
    {
     "name": "stdout",
     "output_type": "stream",
     "text": [
      "Error opening URL for tournament 8861: HTTP Error 500: Internal Server Error\n",
      "Error opening URL for tournament 8862: HTTP Error 500: Internal Server Error\n"
     ]
    },
    {
     "name": "stderr",
     "output_type": "stream",
     "text": [
      "Processing tournaments:  84%|████████▎ | 8866/10608 [30:04<02:49, 10.29it/s]"
     ]
    },
    {
     "name": "stdout",
     "output_type": "stream",
     "text": [
      "Error opening URL for tournament 8865: HTTP Error 500: Internal Server ErrorError opening URL for tournament 8863: HTTP Error 500: Internal Server Error\n",
      "\n",
      "Error opening URL for tournament 8866: HTTP Error 500: Internal Server Error\n",
      "Error opening URL for tournament 8864: HTTP Error 500: Internal Server Error\n"
     ]
    },
    {
     "name": "stderr",
     "output_type": "stream",
     "text": [
      "Processing tournaments:  84%|████████▎ | 8868/10608 [30:04<02:42, 10.73it/s]"
     ]
    },
    {
     "name": "stdout",
     "output_type": "stream",
     "text": [
      "Error opening URL for tournament 8867: HTTP Error 500: Internal Server Error\n",
      "Error opening URL for tournament 8868: HTTP Error 500: Internal Server Error\n"
     ]
    },
    {
     "name": "stderr",
     "output_type": "stream",
     "text": [
      "Processing tournaments:  84%|████████▎ | 8870/10608 [30:04<03:06,  9.30it/s]"
     ]
    },
    {
     "name": "stdout",
     "output_type": "stream",
     "text": [
      "Error opening URL for tournament 8869: HTTP Error 500: Internal Server Error\n",
      "Error opening URL for tournament 8870: HTTP Error 500: Internal Server Error\n",
      "Error opening URL for tournament 8872: HTTP Error 500: Internal Server Error\n"
     ]
    },
    {
     "name": "stderr",
     "output_type": "stream",
     "text": [
      "Processing tournaments:  84%|████████▎ | 8872/10608 [30:05<03:20,  8.64it/s]"
     ]
    },
    {
     "name": "stdout",
     "output_type": "stream",
     "text": [
      "Error opening URL for tournament 8874: HTTP Error 500: Internal Server Error\n",
      "Error opening URL for tournament 8873: HTTP Error 500: Internal Server Error\n"
     ]
    },
    {
     "name": "stderr",
     "output_type": "stream",
     "text": [
      "Processing tournaments:  84%|████████▎ | 8874/10608 [30:05<03:19,  8.71it/s]"
     ]
    },
    {
     "name": "stdout",
     "output_type": "stream",
     "text": [
      "Error opening URL for tournament 8871: HTTP Error 500: Internal Server Error\n",
      "Error opening URL for tournament 8876: HTTP Error 500: Internal Server Error\n"
     ]
    },
    {
     "name": "stderr",
     "output_type": "stream",
     "text": [
      "Processing tournaments:  84%|████████▎ | 8876/10608 [30:05<03:16,  8.81it/s]"
     ]
    },
    {
     "name": "stdout",
     "output_type": "stream",
     "text": [
      "Error opening URL for tournament 8875: HTTP Error 500: Internal Server Error\n",
      "Error opening URL for tournament 8877: HTTP Error 500: Internal Server Error\n"
     ]
    },
    {
     "name": "stderr",
     "output_type": "stream",
     "text": [
      "Processing tournaments:  84%|████████▎ | 8879/10608 [30:06<03:35,  8.02it/s]"
     ]
    },
    {
     "name": "stdout",
     "output_type": "stream",
     "text": [
      "Error opening URL for tournament 8880: HTTP Error 500: Internal Server Error\n",
      "Error opening URL for tournament 8879: HTTP Error 500: Internal Server Error\n"
     ]
    },
    {
     "name": "stderr",
     "output_type": "stream",
     "text": [
      "Processing tournaments:  84%|████████▎ | 8884/10608 [30:06<02:26, 11.75it/s]"
     ]
    },
    {
     "name": "stdout",
     "output_type": "stream",
     "text": [
      "Error opening URL for tournament 8882: HTTP Error 500: Internal Server Error\n",
      "Error opening URL for tournament 8878: HTTP Error 500: Internal Server Error\n",
      "Error opening URL for tournament 8883: HTTP Error 500: Internal Server Error\n",
      "Error opening URL for tournament 8884: HTTP Error 500: Internal Server Error\n",
      "Error opening URL for tournament 8881: HTTP Error 500: Internal Server Error\n"
     ]
    },
    {
     "name": "stderr",
     "output_type": "stream",
     "text": [
      "Processing tournaments:  84%|████████▍ | 8886/10608 [30:06<03:12,  8.93it/s]"
     ]
    },
    {
     "name": "stdout",
     "output_type": "stream",
     "text": [
      "Error opening URL for tournament 8885: HTTP Error 500: Internal Server Error\n",
      "Error opening URL for tournament 8886: HTTP Error 500: Internal Server Error\n",
      "Error opening URL for tournament 8887: HTTP Error 500: Internal Server Error\n"
     ]
    },
    {
     "name": "stderr",
     "output_type": "stream",
     "text": [
      "Processing tournaments:  84%|████████▍ | 8890/10608 [30:07<02:37, 10.93it/s]"
     ]
    },
    {
     "name": "stdout",
     "output_type": "stream",
     "text": [
      "Error opening URL for tournament 8888: HTTP Error 500: Internal Server Error\n",
      "Error opening URL for tournament 8890: HTTP Error 500: Internal Server Error\n",
      "Error opening URL for tournament 8889: HTTP Error 500: Internal Server Error\n",
      "Error opening URL for tournament 8891: HTTP Error 500: Internal Server Error\n"
     ]
    },
    {
     "name": "stderr",
     "output_type": "stream",
     "text": [
      "Processing tournaments:  84%|████████▍ | 8892/10608 [30:07<03:06,  9.18it/s]"
     ]
    },
    {
     "name": "stdout",
     "output_type": "stream",
     "text": [
      "Error opening URL for tournament 8893: HTTP Error 500: Internal Server Error\n"
     ]
    },
    {
     "name": "stderr",
     "output_type": "stream",
     "text": [
      "Processing tournaments:  84%|████████▍ | 8894/10608 [30:07<03:24,  8.40it/s]"
     ]
    },
    {
     "name": "stdout",
     "output_type": "stream",
     "text": [
      "Error opening URL for tournament 8892: HTTP Error 500: Internal Server Error\n",
      "Error opening URL for tournament 8895: HTTP Error 500: Internal Server Error\n",
      "Error opening URL for tournament 8894: HTTP Error 500: Internal Server Error\n",
      "Error opening URL for tournament 8897: HTTP Error 500: Internal Server Error\n"
     ]
    },
    {
     "name": "stderr",
     "output_type": "stream",
     "text": [
      "Processing tournaments:  84%|████████▍ | 8897/10608 [30:07<02:45, 10.33it/s]"
     ]
    },
    {
     "name": "stdout",
     "output_type": "stream",
     "text": [
      "Error opening URL for tournament 8898: HTTP Error 500: Internal Server Error\n",
      "Error opening URL for tournament 8896: HTTP Error 500: Internal Server Error\n"
     ]
    },
    {
     "name": "stderr",
     "output_type": "stream",
     "text": [
      "Processing tournaments:  84%|████████▍ | 8900/10608 [30:08<03:39,  7.79it/s]"
     ]
    },
    {
     "name": "stdout",
     "output_type": "stream",
     "text": [
      "Error opening URL for tournament 8900: HTTP Error 500: Internal Server Error\n",
      "Error opening URL for tournament 8901: HTTP Error 500: Internal Server Error\n",
      "Error opening URL for tournament 8899: HTTP Error 500: Internal Server Error\n"
     ]
    },
    {
     "name": "stderr",
     "output_type": "stream",
     "text": [
      "Processing tournaments:  84%|████████▍ | 8905/10608 [30:08<02:30, 11.29it/s]"
     ]
    },
    {
     "name": "stdout",
     "output_type": "stream",
     "text": [
      "Error opening URL for tournament 8903: HTTP Error 500: Internal Server Error\n",
      "Error opening URL for tournament 8905: HTTP Error 500: Internal Server Error\n",
      "Error opening URL for tournament 8902: HTTP Error 500: Internal Server Error\n",
      "Error opening URL for tournament 8904: HTTP Error 500: Internal Server Error\n",
      "Error opening URL for tournament 8906: HTTP Error 500: Internal Server Error\n"
     ]
    },
    {
     "name": "stderr",
     "output_type": "stream",
     "text": [
      "Processing tournaments:  84%|████████▍ | 8911/10608 [30:09<02:39, 10.67it/s]"
     ]
    },
    {
     "name": "stdout",
     "output_type": "stream",
     "text": [
      "Error opening URL for tournament 8907: HTTP Error 500: Internal Server Error\n",
      "Error opening URL for tournament 8908: HTTP Error 500: Internal Server Error\n",
      "Error opening URL for tournament 8909: HTTP Error 500: Internal Server Error\n",
      "Error opening URL for tournament 8910: HTTP Error 500: Internal Server Error\n",
      "Error opening URL for tournament 8912: HTTP Error 500: Internal Server Error\n"
     ]
    },
    {
     "name": "stderr",
     "output_type": "stream",
     "text": [
      "Processing tournaments:  84%|████████▍ | 8913/10608 [30:09<03:04,  9.19it/s]"
     ]
    },
    {
     "name": "stdout",
     "output_type": "stream",
     "text": [
      "Error opening URL for tournament 8913: HTTP Error 500: Internal Server Error\n",
      "Error opening URL for tournament 8911: HTTP Error 500: Internal Server Error\n",
      "Error opening URL for tournament 8914: HTTP Error 500: Internal Server Error\n"
     ]
    },
    {
     "name": "stderr",
     "output_type": "stream",
     "text": [
      "Processing tournaments:  84%|████████▍ | 8915/10608 [30:09<03:03,  9.23it/s]"
     ]
    },
    {
     "name": "stdout",
     "output_type": "stream",
     "text": [
      "Error opening URL for tournament 8916: HTTP Error 500: Internal Server Error\n",
      "Error opening URL for tournament 8918: HTTP Error 500: Internal Server Error\n"
     ]
    },
    {
     "name": "stderr",
     "output_type": "stream",
     "text": [
      "Processing tournaments:  84%|████████▍ | 8919/10608 [30:10<02:47, 10.08it/s]"
     ]
    },
    {
     "name": "stdout",
     "output_type": "stream",
     "text": [
      "Error opening URL for tournament 8915: HTTP Error 500: Internal Server Error\n",
      "Error opening URL for tournament 8920: HTTP Error 500: Internal Server Error\n",
      "Error opening URL for tournament 8917: HTTP Error 500: Internal Server Error\n",
      "Error opening URL for tournament 8919: HTTP Error 500: Internal Server Error\n"
     ]
    },
    {
     "name": "stderr",
     "output_type": "stream",
     "text": [
      "Processing tournaments:  84%|████████▍ | 8921/10608 [30:10<02:51,  9.81it/s]"
     ]
    },
    {
     "name": "stdout",
     "output_type": "stream",
     "text": [
      "Error opening URL for tournament 8921: HTTP Error 500: Internal Server Error\n",
      "Error opening URL for tournament 8922: HTTP Error 500: Internal Server Error\n"
     ]
    },
    {
     "name": "stderr",
     "output_type": "stream",
     "text": [
      "Processing tournaments:  84%|████████▍ | 8923/10608 [30:10<02:59,  9.41it/s]"
     ]
    },
    {
     "name": "stdout",
     "output_type": "stream",
     "text": [
      "Error opening URL for tournament 8924: HTTP Error 500: Internal Server Error\n",
      "Error opening URL for tournament 8923: HTTP Error 500: Internal Server Error\n"
     ]
    },
    {
     "name": "stderr",
     "output_type": "stream",
     "text": [
      "Processing tournaments:  84%|████████▍ | 8925/10608 [30:10<03:09,  8.86it/s]"
     ]
    },
    {
     "name": "stdout",
     "output_type": "stream",
     "text": [
      "Error opening URL for tournament 8926: HTTP Error 500: Internal Server Error\n",
      "Error opening URL for tournament 8925: HTTP Error 500: Internal Server Error\n"
     ]
    },
    {
     "name": "stderr",
     "output_type": "stream",
     "text": [
      "Processing tournaments:  84%|████████▍ | 8928/10608 [30:11<03:21,  8.33it/s]"
     ]
    },
    {
     "name": "stdout",
     "output_type": "stream",
     "text": [
      "Error opening URL for tournament 8929: HTTP Error 500: Internal Server Error\n",
      "Error opening URL for tournament 8927: HTTP Error 500: Internal Server Error\n",
      "Error opening URL for tournament 8928: HTTP Error 500: Internal Server Error\n"
     ]
    },
    {
     "name": "stderr",
     "output_type": "stream",
     "text": [
      "Processing tournaments:  84%|████████▍ | 8933/10608 [30:11<02:09, 12.95it/s]"
     ]
    },
    {
     "name": "stdout",
     "output_type": "stream",
     "text": [
      "Error opening URL for tournament 8930: HTTP Error 500: Internal Server Error\n",
      "Error opening URL for tournament 8931: HTTP Error 500: Internal Server Error\n",
      "Error opening URL for tournament 8933: HTTP Error 500: Internal Server Error\n",
      "Error opening URL for tournament 8932: HTTP Error 500: Internal Server Error\n",
      "Error opening URL for tournament 8934: HTTP Error 500: Internal Server Error\n"
     ]
    },
    {
     "name": "stderr",
     "output_type": "stream",
     "text": [
      "Processing tournaments:  84%|████████▍ | 8937/10608 [30:12<02:37, 10.62it/s]"
     ]
    },
    {
     "name": "stdout",
     "output_type": "stream",
     "text": [
      "Error opening URL for tournament 8936: HTTP Error 500: Internal Server Error\n",
      "Error opening URL for tournament 8935: HTTP Error 500: Internal Server Error\n",
      "Error opening URL for tournament 8937: HTTP Error 500: Internal Server Error\n"
     ]
    },
    {
     "name": "stderr",
     "output_type": "stream",
     "text": [
      "Processing tournaments:  84%|████████▍ | 8939/10608 [30:12<02:41, 10.36it/s]"
     ]
    },
    {
     "name": "stdout",
     "output_type": "stream",
     "text": [
      "Error opening URL for tournament 8938: HTTP Error 500: Internal Server Error\n",
      "Error opening URL for tournament 8941: HTTP Error 500: Internal Server Error\n"
     ]
    },
    {
     "name": "stderr",
     "output_type": "stream",
     "text": [
      "Processing tournaments:  84%|████████▍ | 8941/10608 [30:12<03:07,  8.87it/s]"
     ]
    },
    {
     "name": "stdout",
     "output_type": "stream",
     "text": [
      "Error opening URL for tournament 8942: HTTP Error 500: Internal Server Error\n",
      "Error opening URL for tournament 8943: HTTP Error 500: Internal Server Error\n",
      "Error opening URL for tournament 8940: HTTP Error 500: Internal Server Error\n",
      "Error opening URL for tournament 8944: HTTP Error 500: Internal Server Error\n"
     ]
    },
    {
     "name": "stderr",
     "output_type": "stream",
     "text": [
      "Processing tournaments:  84%|████████▍ | 8944/10608 [30:12<02:22, 11.70it/s]"
     ]
    },
    {
     "name": "stdout",
     "output_type": "stream",
     "text": [
      "Error opening URL for tournament 8945: HTTP Error 500: Internal Server Error\n",
      "Error opening URL for tournament 8946: HTTP Error 500: Internal Server Error\n"
     ]
    },
    {
     "name": "stderr",
     "output_type": "stream",
     "text": [
      "Processing tournaments:  84%|████████▍ | 8949/10608 [30:13<02:36, 10.58it/s]"
     ]
    },
    {
     "name": "stdout",
     "output_type": "stream",
     "text": [
      "Error opening URL for tournament 8939: HTTP Error 500: Internal Server Error\n",
      "Error opening URL for tournament 8948: HTTP Error 500: Internal Server Error\n",
      "Error opening URL for tournament 8950: HTTP Error 500: Internal Server Error\n",
      "Error opening URL for tournament 8949: HTTP Error 500: Internal Server Error\n",
      "Error opening URL for tournament 8947: HTTP Error 500: Internal Server Error\n",
      "Error opening URL for tournament 8952: HTTP Error 500: Internal Server Error\n"
     ]
    },
    {
     "name": "stderr",
     "output_type": "stream",
     "text": [
      "Processing tournaments:  84%|████████▍ | 8952/10608 [30:13<02:07, 12.94it/s]"
     ]
    },
    {
     "name": "stdout",
     "output_type": "stream",
     "text": [
      "Error opening URL for tournament 8951: HTTP Error 500: Internal Server Error\n",
      "Error opening URL for tournament 8953: HTTP Error 500: Internal Server Error\n"
     ]
    },
    {
     "name": "stderr",
     "output_type": "stream",
     "text": [
      "Processing tournaments:  84%|████████▍ | 8957/10608 [30:13<02:23, 11.51it/s]"
     ]
    },
    {
     "name": "stdout",
     "output_type": "stream",
     "text": [
      "Error opening URL for tournament 8954: HTTP Error 500: Internal Server Error\n",
      "Error opening URL for tournament 8955: HTTP Error 500: Internal Server Error\n",
      "Error opening URL for tournament 8956: HTTP Error 500: Internal Server Error\n",
      "Error opening URL for tournament 8958: HTTP Error 500: Internal Server Error\n",
      "Error opening URL for tournament 8960: HTTP Error 500: Internal Server Error\n",
      "Error opening URL for tournament 8957: HTTP Error 500: Internal Server Error\n",
      "Error opening URL for tournament 8959: HTTP Error 500: Internal Server Error\n"
     ]
    },
    {
     "name": "stderr",
     "output_type": "stream",
     "text": [
      "Processing tournaments:  84%|████████▍ | 8961/10608 [30:14<02:01, 13.60it/s]"
     ]
    },
    {
     "name": "stdout",
     "output_type": "stream",
     "text": [
      "Error opening URL for tournament 8961: HTTP Error 500: Internal Server Error\n"
     ]
    },
    {
     "name": "stderr",
     "output_type": "stream",
     "text": [
      "Processing tournaments:  85%|████████▍ | 8965/10608 [30:14<02:31, 10.88it/s]"
     ]
    },
    {
     "name": "stdout",
     "output_type": "stream",
     "text": [
      "Error opening URL for tournament 8963: HTTP Error 500: Internal Server Error\n",
      "Error opening URL for tournament 8964: HTTP Error 500: Internal Server Error\n",
      "Error opening URL for tournament 8962: HTTP Error 500: Internal Server Error\n",
      "Error opening URL for tournament 8965: HTTP Error 500: Internal Server Error\n",
      "Error opening URL for tournament 8968: HTTP Error 500: Internal Server Error\n",
      "Error opening URL for tournament 8967: HTTP Error 500: Internal Server Error\n",
      "Error opening URL for tournament 8966: HTTP Error 500: Internal Server Error\n"
     ]
    },
    {
     "name": "stderr",
     "output_type": "stream",
     "text": [
      "Processing tournaments:  85%|████████▍ | 8969/10608 [30:15<02:23, 11.40it/s]"
     ]
    },
    {
     "name": "stdout",
     "output_type": "stream",
     "text": [
      "Error opening URL for tournament 8969: HTTP Error 500: Internal Server Error\n"
     ]
    },
    {
     "name": "stderr",
     "output_type": "stream",
     "text": [
      "Processing tournaments:  85%|████████▍ | 8971/10608 [30:15<02:37, 10.41it/s]"
     ]
    },
    {
     "name": "stdout",
     "output_type": "stream",
     "text": [
      "Error opening URL for tournament 8971: HTTP Error 500: Internal Server Error\n",
      "Error opening URL for tournament 8976: HTTP Error 500: Internal Server Error\n",
      "Error opening URL for tournament 8970: HTTP Error 500: Internal Server Error\n"
     ]
    },
    {
     "name": "stderr",
     "output_type": "stream",
     "text": [
      "Processing tournaments:  85%|████████▍ | 8973/10608 [30:15<02:41, 10.10it/s]"
     ]
    },
    {
     "name": "stdout",
     "output_type": "stream",
     "text": [
      "Error opening URL for tournament 8973: HTTP Error 500: Internal Server Error\n",
      "Error opening URL for tournament 8975: HTTP Error 500: Internal Server Error\n",
      "Error opening URL for tournament 8972: HTTP Error 500: Internal Server Error\n",
      "Error opening URL for tournament 8974: HTTP Error 500: Internal Server Error\n"
     ]
    },
    {
     "name": "stderr",
     "output_type": "stream",
     "text": [
      "Processing tournaments:  85%|████████▍ | 8977/10608 [30:15<02:13, 12.24it/s]"
     ]
    },
    {
     "name": "stdout",
     "output_type": "stream",
     "text": [
      "Error opening URL for tournament 8977: HTTP Error 500: Internal Server Error\n",
      "Error opening URL for tournament 8978: HTTP Error 500: Internal Server Error\n"
     ]
    },
    {
     "name": "stderr",
     "output_type": "stream",
     "text": [
      "Processing tournaments:  85%|████████▍ | 8979/10608 [30:16<02:44,  9.89it/s]"
     ]
    },
    {
     "name": "stdout",
     "output_type": "stream",
     "text": [
      "Error opening URL for tournament 8979: HTTP Error 500: Internal Server Error\n",
      "Error opening URL for tournament 8980: HTTP Error 500: Internal Server Error\n"
     ]
    },
    {
     "name": "stderr",
     "output_type": "stream",
     "text": [
      "Processing tournaments:  85%|████████▍ | 8984/10608 [30:16<02:18, 11.71it/s]"
     ]
    },
    {
     "name": "stdout",
     "output_type": "stream",
     "text": [
      "Error opening URL for tournament 8984: HTTP Error 500: Internal Server Error\n",
      "Error opening URL for tournament 8982: HTTP Error 500: Internal Server Error\n",
      "Error opening URL for tournament 8983: HTTP Error 500: Internal Server Error\n",
      "Error opening URL for tournament 8985: HTTP Error 500: Internal Server Error\n",
      "Error opening URL for tournament 8981: HTTP Error 500: Internal Server Error\n"
     ]
    },
    {
     "name": "stderr",
     "output_type": "stream",
     "text": [
      "Processing tournaments:  85%|████████▍ | 8986/10608 [30:16<02:07, 12.72it/s]"
     ]
    },
    {
     "name": "stdout",
     "output_type": "stream",
     "text": [
      "Error opening URL for tournament 8986: HTTP Error 500: Internal Server Error\n"
     ]
    },
    {
     "name": "stderr",
     "output_type": "stream",
     "text": [
      "Processing tournaments:  85%|████████▍ | 8988/10608 [30:16<02:50,  9.53it/s]"
     ]
    },
    {
     "name": "stdout",
     "output_type": "stream",
     "text": [
      "Error opening URL for tournament 8987: HTTP Error 500: Internal Server Error\n",
      "Error opening URL for tournament 8988: HTTP Error 500: Internal Server Error\n",
      "Error opening URL for tournament 8993: HTTP Error 500: Internal Server Error\n"
     ]
    },
    {
     "name": "stderr",
     "output_type": "stream",
     "text": [
      "Processing tournaments:  85%|████████▍ | 8990/10608 [30:17<02:38, 10.24it/s]"
     ]
    },
    {
     "name": "stdout",
     "output_type": "stream",
     "text": [
      "Error opening URL for tournament 8992: HTTP Error 500: Internal Server Error\n",
      "Error opening URL for tournament 8990: HTTP Error 500: Internal Server Error\n",
      "Error opening URL for tournament 8989: HTTP Error 500: Internal Server Error\n",
      "Error opening URL for tournament 8991: HTTP Error 500: Internal Server Error\n"
     ]
    },
    {
     "name": "stderr",
     "output_type": "stream",
     "text": [
      "Processing tournaments:  85%|████████▍ | 8998/10608 [30:17<02:25, 11.07it/s]"
     ]
    },
    {
     "name": "stdout",
     "output_type": "stream",
     "text": [
      "Error opening URL for tournament 8994: HTTP Error 500: Internal Server Error\n",
      "Error opening URL for tournament 8995: HTTP Error 500: Internal Server Error\n",
      "Error opening URL for tournament 8997: HTTP Error 500: Internal Server Error\n",
      "Error opening URL for tournament 8996: HTTP Error 500: Internal Server Error\n",
      "Error opening URL for tournament 8999: HTTP Error 500: Internal Server Error\n",
      "Error opening URL for tournament 8998: HTTP Error 500: Internal Server Error\n",
      "Error opening URL for tournament 9001: HTTP Error 500: Internal Server Error\n",
      "Error opening URL for tournament 9000: HTTP Error 500: Internal Server Error\n"
     ]
    },
    {
     "name": "stderr",
     "output_type": "stream",
     "text": [
      "Processing tournaments:  85%|████████▍ | 9006/10608 [30:18<02:22, 11.24it/s]"
     ]
    },
    {
     "name": "stdout",
     "output_type": "stream",
     "text": [
      "Error opening URL for tournament 9003: HTTP Error 500: Internal Server Error\n",
      "Error opening URL for tournament 9004: HTTP Error 500: Internal Server Error\n",
      "Error opening URL for tournament 9007: HTTP Error 500: Internal Server Error\n",
      "Error opening URL for tournament 9008: HTTP Error 500: Internal Server Error\n",
      "Error opening URL for tournament 9009: HTTP Error 500: Internal Server Error\n",
      "Error opening URL for tournament 9002: HTTP Error 500: Internal Server Error\n",
      "Error opening URL for tournament 9005: HTTP Error 500: Internal Server ErrorError opening URL for tournament 9006: HTTP Error 500: Internal Server Error\n",
      "\n"
     ]
    },
    {
     "name": "stderr",
     "output_type": "stream",
     "text": [
      "Processing tournaments:  85%|████████▍ | 9013/10608 [30:19<02:18, 11.49it/s]"
     ]
    },
    {
     "name": "stdout",
     "output_type": "stream",
     "text": [
      "Error opening URL for tournament 9011: HTTP Error 500: Internal Server Error\n",
      "Error opening URL for tournament 9010: HTTP Error 500: Internal Server Error\n",
      "Error opening URL for tournament 9013: HTTP Error 500: Internal Server Error\n",
      "Error opening URL for tournament 9014: HTTP Error 500: Internal Server Error\n"
     ]
    },
    {
     "name": "stderr",
     "output_type": "stream",
     "text": [
      "Processing tournaments:  85%|████████▌ | 9017/10608 [30:19<02:24, 11.00it/s]"
     ]
    },
    {
     "name": "stdout",
     "output_type": "stream",
     "text": [
      "Error opening URL for tournament 9012: HTTP Error 500: Internal Server Error\n",
      "Error opening URL for tournament 9017: HTTP Error 500: Internal Server Error\n",
      "Error opening URL for tournament 9015: HTTP Error 500: Internal Server Error\n",
      "Error opening URL for tournament 9016: HTTP Error 500: Internal Server Error\n"
     ]
    },
    {
     "name": "stderr",
     "output_type": "stream",
     "text": [
      "Processing tournaments:  85%|████████▌ | 9021/10608 [30:20<02:19, 11.34it/s]"
     ]
    },
    {
     "name": "stdout",
     "output_type": "stream",
     "text": [
      "Error opening URL for tournament 9018: HTTP Error 500: Internal Server Error\n",
      "Error opening URL for tournament 9019: HTTP Error 500: Internal Server Error\n",
      "Error opening URL for tournament 9020: HTTP Error 500: Internal Server Error\n",
      "Error opening URL for tournament 9021: HTTP Error 500: Internal Server Error\n"
     ]
    },
    {
     "name": "stderr",
     "output_type": "stream",
     "text": [
      "Processing tournaments:  85%|████████▌ | 9023/10608 [30:20<02:06, 12.54it/s]"
     ]
    },
    {
     "name": "stdout",
     "output_type": "stream",
     "text": [
      "Error opening URL for tournament 9023: HTTP Error 500: Internal Server Error\n",
      "Error opening URL for tournament 9022: HTTP Error 500: Internal Server Error\n",
      "Error opening URL for tournament 9024: HTTP Error 500: Internal Server Error\n"
     ]
    },
    {
     "name": "stderr",
     "output_type": "stream",
     "text": [
      "Processing tournaments:  85%|████████▌ | 9025/10608 [30:20<02:19, 11.32it/s]"
     ]
    },
    {
     "name": "stdout",
     "output_type": "stream",
     "text": [
      "Error opening URL for tournament 9025: HTTP Error 500: Internal Server Error\n",
      "Error opening URL for tournament 9027: HTTP Error 500: Internal Server Error\n"
     ]
    },
    {
     "name": "stderr",
     "output_type": "stream",
     "text": [
      "Processing tournaments:  85%|████████▌ | 9027/10608 [30:20<02:35, 10.17it/s]"
     ]
    },
    {
     "name": "stdout",
     "output_type": "stream",
     "text": [
      "Error opening URL for tournament 9026: HTTP Error 500: Internal Server Error\n"
     ]
    },
    {
     "name": "stderr",
     "output_type": "stream",
     "text": [
      "Processing tournaments:  85%|████████▌ | 9033/10608 [30:21<02:20, 11.24it/s]"
     ]
    },
    {
     "name": "stdout",
     "output_type": "stream",
     "text": [
      "Error opening URL for tournament 9028: HTTP Error 500: Internal Server Error\n",
      "Error opening URL for tournament 9031: HTTP Error 500: Internal Server Error\n",
      "Error opening URL for tournament 9030: HTTP Error 500: Internal Server Error\n",
      "Error opening URL for tournament 9029: HTTP Error 500: Internal Server Error\n",
      "Error opening URL for tournament 9033: HTTP Error 500: Internal Server Error\n",
      "Error opening URL for tournament 9034: HTTP Error 500: Internal Server Error\n",
      "Error opening URL for tournament 9032: HTTP Error 500: Internal Server Error\n"
     ]
    },
    {
     "name": "stderr",
     "output_type": "stream",
     "text": [
      "Processing tournaments:  85%|████████▌ | 9037/10608 [30:21<03:00,  8.72it/s]"
     ]
    },
    {
     "name": "stdout",
     "output_type": "stream",
     "text": [
      "Error opening URL for tournament 9036: HTTP Error 500: Internal Server Error\n",
      "Error opening URL for tournament 9035: HTTP Error 500: Internal Server Error\n",
      "Error opening URL for tournament 9037: HTTP Error 500: Internal Server Error\n",
      "Error opening URL for tournament 9040: HTTP Error 500: Internal Server Error\n"
     ]
    },
    {
     "name": "stderr",
     "output_type": "stream",
     "text": [
      "Processing tournaments:  85%|████████▌ | 9042/10608 [30:22<02:11, 11.92it/s]"
     ]
    },
    {
     "name": "stdout",
     "output_type": "stream",
     "text": [
      "Error opening URL for tournament 9039: HTTP Error 500: Internal Server Error\n",
      "Error opening URL for tournament 9041: HTTP Error 500: Internal Server Error\n",
      "Error opening URL for tournament 9042: HTTP Error 500: Internal Server Error\n",
      "Error opening URL for tournament 9038: HTTP Error 500: Internal Server Error\n",
      "Error opening URL for tournament 9043: HTTP Error 500: Internal Server Error\n"
     ]
    },
    {
     "name": "stderr",
     "output_type": "stream",
     "text": [
      "Processing tournaments:  85%|████████▌ | 9046/10608 [30:22<02:45,  9.42it/s]"
     ]
    },
    {
     "name": "stdout",
     "output_type": "stream",
     "text": [
      "Error opening URL for tournament 9044: HTTP Error 500: Internal Server Error\n",
      "Error opening URL for tournament 9045: HTTP Error 500: Internal Server Error\n",
      "Error opening URL for tournament 9046: HTTP Error 500: Internal Server Error\n",
      "Error opening URL for tournament 9048: HTTP Error 500: Internal Server Error\n",
      "Error opening URL for tournament 9047: HTTP Error 500: Internal Server Error\n"
     ]
    },
    {
     "name": "stderr",
     "output_type": "stream",
     "text": [
      "Processing tournaments:  85%|████████▌ | 9051/10608 [30:22<01:59, 12.98it/s]"
     ]
    },
    {
     "name": "stdout",
     "output_type": "stream",
     "text": [
      "Error opening URL for tournament 9051: HTTP Error 500: Internal Server Error\n",
      "Error opening URL for tournament 9049: HTTP Error 500: Internal Server Error\n",
      "Error opening URL for tournament 9050: HTTP Error 500: Internal Server Error\n",
      "Error opening URL for tournament 9052: HTTP Error 500: Internal Server Error\n"
     ]
    },
    {
     "name": "stderr",
     "output_type": "stream",
     "text": [
      "Processing tournaments:  85%|████████▌ | 9053/10608 [30:23<02:58,  8.70it/s]"
     ]
    },
    {
     "name": "stdout",
     "output_type": "stream",
     "text": [
      "Error opening URL for tournament 9053: HTTP Error 500: Internal Server Error\n",
      "Error opening URL for tournament 9054: HTTP Error 500: Internal Server Error\n",
      "Error opening URL for tournament 9056: HTTP Error 500: Internal Server Error\n",
      "Error opening URL for tournament 9057: HTTP Error 500: Internal Server Error\n",
      "Error opening URL for tournament 9055: HTTP Error 500: Internal Server Error\n",
      "Error opening URL for tournament 9058: HTTP Error 500: Internal Server Error\n"
     ]
    },
    {
     "name": "stderr",
     "output_type": "stream",
     "text": [
      "Processing tournaments:  85%|████████▌ | 9059/10608 [30:23<02:20, 11.02it/s]"
     ]
    },
    {
     "name": "stdout",
     "output_type": "stream",
     "text": [
      "Error opening URL for tournament 9059: HTTP Error 500: Internal Server Error\n",
      "Error opening URL for tournament 9060: HTTP Error 500: Internal Server Error\n"
     ]
    },
    {
     "name": "stderr",
     "output_type": "stream",
     "text": [
      "Processing tournaments:  85%|████████▌ | 9065/10608 [30:24<02:01, 12.71it/s]"
     ]
    },
    {
     "name": "stdout",
     "output_type": "stream",
     "text": [
      "Error opening URL for tournament 9066: HTTP Error 500: Internal Server Error\n",
      "Error opening URL for tournament 9065: HTTP Error 500: Internal Server Error\n",
      "Error opening URL for tournament 9062: HTTP Error 500: Internal Server Error\n",
      "Error opening URL for tournament 9061: HTTP Error 500: Internal Server Error\n",
      "Error opening URL for tournament 9063: HTTP Error 500: Internal Server Error\n",
      "Error opening URL for tournament 9064: HTTP Error 500: Internal Server Error\n",
      "Error opening URL for tournament 9067: HTTP Error 500: Internal Server Error\n"
     ]
    },
    {
     "name": "stderr",
     "output_type": "stream",
     "text": [
      "Processing tournaments:  86%|████████▌ | 9070/10608 [30:24<02:33, 10.00it/s]"
     ]
    },
    {
     "name": "stdout",
     "output_type": "stream",
     "text": [
      "Error opening URL for tournament 9068: HTTP Error 500: Internal Server ErrorError opening URL for tournament 9072: HTTP Error 500: Internal Server Error\n",
      "\n",
      "Error opening URL for tournament 9070: HTTP Error 500: Internal Server Error\n",
      "Error opening URL for tournament 9071: HTTP Error 500: Internal Server Error\n"
     ]
    },
    {
     "name": "stderr",
     "output_type": "stream",
     "text": [
      "Processing tournaments:  86%|████████▌ | 9072/10608 [30:25<02:16, 11.22it/s]"
     ]
    },
    {
     "name": "stdout",
     "output_type": "stream",
     "text": [
      "Error opening URL for tournament 9073: HTTP Error 500: Internal Server Error\n",
      "Error opening URL for tournament 9069: HTTP Error 500: Internal Server Error\n",
      "Error opening URL for tournament 9074: HTTP Error 500: Internal Server Error\n",
      "Error opening URL for tournament 9075: HTTP Error 500: Internal Server Error\n"
     ]
    },
    {
     "name": "stderr",
     "output_type": "stream",
     "text": [
      "Processing tournaments:  86%|████████▌ | 9078/10608 [30:25<02:18, 11.05it/s]"
     ]
    },
    {
     "name": "stdout",
     "output_type": "stream",
     "text": [
      "Error opening URL for tournament 9076: HTTP Error 500: Internal Server Error\n",
      "Error opening URL for tournament 9080: HTTP Error 500: Internal Server Error\n",
      "Error opening URL for tournament 9077: HTTP Error 500: Internal Server Error\n"
     ]
    },
    {
     "name": "stderr",
     "output_type": "stream",
     "text": [
      "Processing tournaments:  86%|████████▌ | 9081/10608 [30:25<02:05, 12.13it/s]"
     ]
    },
    {
     "name": "stdout",
     "output_type": "stream",
     "text": [
      "Error opening URL for tournament 9078: HTTP Error 500: Internal Server Error\n",
      "Error opening URL for tournament 9081: HTTP Error 500: Internal Server Error\n",
      "Error opening URL for tournament 9082: HTTP Error 500: Internal Server Error\n",
      "Error opening URL for tournament 9079: HTTP Error 500: Internal Server Error\n",
      "Error opening URL for tournament 9083: HTTP Error 500: Internal Server Error\n"
     ]
    },
    {
     "name": "stderr",
     "output_type": "stream",
     "text": [
      "Processing tournaments:  86%|████████▌ | 9088/10608 [30:26<02:00, 12.59it/s]"
     ]
    },
    {
     "name": "stdout",
     "output_type": "stream",
     "text": [
      "Error opening URL for tournament 9088: HTTP Error 500: Internal Server Error\n",
      "Error opening URL for tournament 9084: HTTP Error 500: Internal Server Error\n",
      "Error opening URL for tournament 9086: HTTP Error 500: Internal Server Error\n",
      "Error opening URL for tournament 9085: HTTP Error 500: Internal Server Error\n",
      "Error opening URL for tournament 9090: HTTP Error 500: Internal Server Error\n",
      "Error opening URL for tournament 9087: HTTP Error 500: Internal Server Error\n"
     ]
    },
    {
     "name": "stderr",
     "output_type": "stream",
     "text": [
      "Processing tournaments:  86%|████████▌ | 9090/10608 [30:26<02:03, 12.34it/s]"
     ]
    },
    {
     "name": "stdout",
     "output_type": "stream",
     "text": [
      "Error opening URL for tournament 9091: HTTP Error 500: Internal Server Error\n",
      "Error opening URL for tournament 9089: HTTP Error 500: Internal Server Error\n"
     ]
    },
    {
     "name": "stderr",
     "output_type": "stream",
     "text": [
      "Processing tournaments:  86%|████████▌ | 9094/10608 [30:27<02:14, 11.25it/s]"
     ]
    },
    {
     "name": "stdout",
     "output_type": "stream",
     "text": [
      "Error opening URL for tournament 9093: HTTP Error 500: Internal Server ErrorError opening URL for tournament 9092: HTTP Error 500: Internal Server Error\n",
      "\n",
      "Error opening URL for tournament 9096: HTTP Error 500: Internal Server Error\n"
     ]
    },
    {
     "name": "stderr",
     "output_type": "stream",
     "text": [
      "Processing tournaments:  86%|████████▌ | 9098/10608 [30:27<02:02, 12.33it/s]"
     ]
    },
    {
     "name": "stdout",
     "output_type": "stream",
     "text": [
      "Error opening URL for tournament 9094: HTTP Error 500: Internal Server ErrorError opening URL for tournament 9095: HTTP Error 500: Internal Server Error\n",
      "\n",
      "Error opening URL for tournament 9097: HTTP Error 500: Internal Server Error\n",
      "Error opening URL for tournament 9098: HTTP Error 500: Internal Server Error\n",
      "Error opening URL for tournament 9099: HTTP Error 500: Internal Server Error\n"
     ]
    },
    {
     "name": "stderr",
     "output_type": "stream",
     "text": [
      "Processing tournaments:  86%|████████▌ | 9100/10608 [30:27<02:48,  8.96it/s]"
     ]
    },
    {
     "name": "stdout",
     "output_type": "stream",
     "text": [
      "Error opening URL for tournament 9100: HTTP Error 500: Internal Server Error\n",
      "Error opening URL for tournament 9101: HTTP Error 500: Internal Server Error\n"
     ]
    },
    {
     "name": "stderr",
     "output_type": "stream",
     "text": [
      "Processing tournaments:  86%|████████▌ | 9105/10608 [30:28<02:06, 11.84it/s]"
     ]
    },
    {
     "name": "stdout",
     "output_type": "stream",
     "text": [
      "Error opening URL for tournament 9104: HTTP Error 500: Internal Server Error\n",
      "Error opening URL for tournament 9103: HTTP Error 500: Internal Server Error\n",
      "Error opening URL for tournament 9102: HTTP Error 500: Internal Server Error\n",
      "Error opening URL for tournament 9105: HTTP Error 500: Internal Server Error\n",
      "Error opening URL for tournament 9106: HTTP Error 500: Internal Server Error\n"
     ]
    },
    {
     "name": "stderr",
     "output_type": "stream",
     "text": [
      "Processing tournaments:  86%|████████▌ | 9107/10608 [30:28<01:54, 13.12it/s]"
     ]
    },
    {
     "name": "stdout",
     "output_type": "stream",
     "text": [
      "Error opening URL for tournament 9107: HTTP Error 500: Internal Server Error\n",
      "Error opening URL for tournament 9108: HTTP Error 500: Internal Server Error\n"
     ]
    },
    {
     "name": "stderr",
     "output_type": "stream",
     "text": [
      "Processing tournaments:  86%|████████▌ | 9109/10608 [30:28<02:22, 10.50it/s]"
     ]
    },
    {
     "name": "stdout",
     "output_type": "stream",
     "text": [
      "Error opening URL for tournament 9109: HTTP Error 500: Internal Server Error\n",
      "Error opening URL for tournament 9110: HTTP Error 500: Internal Server Error\n",
      "Error opening URL for tournament 9111: HTTP Error 500: Internal Server Error\n"
     ]
    },
    {
     "name": "stderr",
     "output_type": "stream",
     "text": [
      "Processing tournaments:  86%|████████▌ | 9116/10608 [30:28<01:39, 14.96it/s]"
     ]
    },
    {
     "name": "stdout",
     "output_type": "stream",
     "text": [
      "Error opening URL for tournament 9114: HTTP Error 500: Internal Server Error\n",
      "Error opening URL for tournament 9113: HTTP Error 500: Internal Server Error\n",
      "Error opening URL for tournament 9112: HTTP Error 500: Internal Server Error\n",
      "Error opening URL for tournament 9115: HTTP Error 500: Internal Server Error\n",
      "Error opening URL for tournament 9116: HTTP Error 500: Internal Server Error\n"
     ]
    },
    {
     "name": "stderr",
     "output_type": "stream",
     "text": [
      "Processing tournaments:  86%|████████▌ | 9122/10608 [30:29<02:01, 12.21it/s]"
     ]
    },
    {
     "name": "stdout",
     "output_type": "stream",
     "text": [
      "Error opening URL for tournament 9117: HTTP Error 500: Internal Server Error\n",
      "Error opening URL for tournament 9119: HTTP Error 500: Internal Server Error\n",
      "Error opening URL for tournament 9118: HTTP Error 500: Internal Server Error\n",
      "Error opening URL for tournament 9120: HTTP Error 500: Internal Server Error\n",
      "Error opening URL for tournament 9121: HTTP Error 500: Internal Server Error\n",
      "Error opening URL for tournament 9122: HTTP Error 500: Internal Server Error\n",
      "Error opening URL for tournament 9123: HTTP Error 500: Internal Server Error\n"
     ]
    },
    {
     "name": "stderr",
     "output_type": "stream",
     "text": [
      "Processing tournaments:  86%|████████▌ | 9124/10608 [30:29<01:54, 12.95it/s]"
     ]
    },
    {
     "name": "stdout",
     "output_type": "stream",
     "text": [
      "Error opening URL for tournament 9124: HTTP Error 500: Internal Server Error\n"
     ]
    },
    {
     "name": "stderr",
     "output_type": "stream",
     "text": [
      "Processing tournaments:  86%|████████▌ | 9126/10608 [30:30<02:33,  9.67it/s]"
     ]
    },
    {
     "name": "stdout",
     "output_type": "stream",
     "text": [
      "Error opening URL for tournament 9128: HTTP Error 500: Internal Server Error\n",
      "Error opening URL for tournament 9126: HTTP Error 500: Internal Server Error\n",
      "Error opening URL for tournament 9131: HTTP Error 500: Internal Server Error\n"
     ]
    },
    {
     "name": "stderr",
     "output_type": "stream",
     "text": [
      "Processing tournaments:  86%|████████▌ | 9128/10608 [30:30<02:30,  9.83it/s]"
     ]
    },
    {
     "name": "stdout",
     "output_type": "stream",
     "text": [
      "Error opening URL for tournament 9125: HTTP Error 500: Internal Server Error\n",
      "Error opening URL for tournament 9127: HTTP Error 500: Internal Server Error\n"
     ]
    },
    {
     "name": "stderr",
     "output_type": "stream",
     "text": [
      "Processing tournaments:  86%|████████▌ | 9132/10608 [30:30<02:19, 10.59it/s]"
     ]
    },
    {
     "name": "stdout",
     "output_type": "stream",
     "text": [
      "Error opening URL for tournament 9132: HTTP Error 500: Internal Server Error\n",
      "Error opening URL for tournament 9133: HTTP Error 500: Internal Server Error\n",
      "Error opening URL for tournament 9134: HTTP Error 500: Internal Server Error\n"
     ]
    },
    {
     "name": "stderr",
     "output_type": "stream",
     "text": [
      "Processing tournaments:  86%|████████▌ | 9134/10608 [30:31<03:16,  7.51it/s]"
     ]
    },
    {
     "name": "stdout",
     "output_type": "stream",
     "text": [
      "Error opening URL for tournament 9135: HTTP Error 500: Internal Server Error\n",
      "Error opening URL for tournament 9138: HTTP Error 500: Internal Server Error\n"
     ]
    },
    {
     "name": "stderr",
     "output_type": "stream",
     "text": [
      "Processing tournaments:  86%|████████▌ | 9136/10608 [30:31<03:10,  7.71it/s]"
     ]
    },
    {
     "name": "stdout",
     "output_type": "stream",
     "text": [
      "Error opening URL for tournament 9136: HTTP Error 500: Internal Server Error\n",
      "Error opening URL for tournament 9129: HTTP Error 500: Internal Server Error\n",
      "Error opening URL for tournament 9137: HTTP Error 500: Internal Server Error\n",
      "Error opening URL for tournament 9139: HTTP Error 500: Internal Server Error\n"
     ]
    },
    {
     "name": "stderr",
     "output_type": "stream",
     "text": [
      "Processing tournaments:  86%|████████▌ | 9139/10608 [30:31<02:21, 10.35it/s]"
     ]
    },
    {
     "name": "stdout",
     "output_type": "stream",
     "text": [
      "Error opening URL for tournament 9141: HTTP Error 500: Internal Server Error\n",
      "Error opening URL for tournament 9130: HTTP Error 500: Internal Server Error\n"
     ]
    },
    {
     "name": "stderr",
     "output_type": "stream",
     "text": [
      "Processing tournaments:  86%|████████▌ | 9143/10608 [30:31<02:15, 10.84it/s]"
     ]
    },
    {
     "name": "stdout",
     "output_type": "stream",
     "text": [
      "Error opening URL for tournament 9140: HTTP Error 500: Internal Server Error\n",
      "Error opening URL for tournament 9142: HTTP Error 500: Internal Server Error\n",
      "Error opening URL for tournament 9143: HTTP Error 500: Internal Server Error\n"
     ]
    },
    {
     "name": "stderr",
     "output_type": "stream",
     "text": [
      "Processing tournaments:  86%|████████▌ | 9148/10608 [30:32<01:52, 12.98it/s]"
     ]
    },
    {
     "name": "stdout",
     "output_type": "stream",
     "text": [
      "Error opening URL for tournament 9145: HTTP Error 500: Internal Server Error\n",
      "Error opening URL for tournament 9144: HTTP Error 500: Internal Server Error\n",
      "Error opening URL for tournament 9146: HTTP Error 500: Internal Server Error\n",
      "Error opening URL for tournament 9147: HTTP Error 500: Internal Server Error\n",
      "Error opening URL for tournament 9148: HTTP Error 500: Internal Server Error\n",
      "Error opening URL for tournament 9149: HTTP Error 500: Internal Server Error\n"
     ]
    },
    {
     "name": "stderr",
     "output_type": "stream",
     "text": [
      "Processing tournaments:  86%|████████▋ | 9152/10608 [30:32<02:13, 10.92it/s]"
     ]
    },
    {
     "name": "stdout",
     "output_type": "stream",
     "text": [
      "Error opening URL for tournament 9151: HTTP Error 500: Internal Server Error\n",
      "Error opening URL for tournament 9153: HTTP Error 500: Internal Server Error\n",
      "Error opening URL for tournament 9150: HTTP Error 500: Internal Server Error\n"
     ]
    },
    {
     "name": "stderr",
     "output_type": "stream",
     "text": [
      "Processing tournaments:  86%|████████▋ | 9154/10608 [30:32<02:07, 11.42it/s]"
     ]
    },
    {
     "name": "stdout",
     "output_type": "stream",
     "text": [
      "Error opening URL for tournament 9152: HTTP Error 500: Internal Server Error\n",
      "Error opening URL for tournament 9154: HTTP Error 500: Internal Server Error\n",
      "Error opening URL for tournament 9157: HTTP Error 500: Internal Server Error\n"
     ]
    },
    {
     "name": "stderr",
     "output_type": "stream",
     "text": [
      "Processing tournaments:  86%|████████▋ | 9156/10608 [30:32<01:55, 12.56it/s]"
     ]
    },
    {
     "name": "stdout",
     "output_type": "stream",
     "text": [
      "Error opening URL for tournament 9156: HTTP Error 500: Internal Server Error\n",
      "Error opening URL for tournament 9155: HTTP Error 500: Internal Server Error\n"
     ]
    },
    {
     "name": "stderr",
     "output_type": "stream",
     "text": [
      "Processing tournaments:  86%|████████▋ | 9158/10608 [30:33<03:06,  7.77it/s]"
     ]
    },
    {
     "name": "stdout",
     "output_type": "stream",
     "text": [
      "Error opening URL for tournament 9160: HTTP Error 500: Internal Server Error\n",
      "Error opening URL for tournament 9158: HTTP Error 500: Internal Server Error\n"
     ]
    },
    {
     "name": "stderr",
     "output_type": "stream",
     "text": [
      "Processing tournaments:  86%|████████▋ | 9165/10608 [30:33<01:59, 12.08it/s]"
     ]
    },
    {
     "name": "stdout",
     "output_type": "stream",
     "text": [
      "Error opening URL for tournament 9161: HTTP Error 500: Internal Server ErrorError opening URL for tournament 9163: HTTP Error 500: Internal Server Error\n",
      "\n",
      "Error opening URL for tournament 9164: HTTP Error 500: Internal Server Error\n",
      "Error opening URL for tournament 9159: HTTP Error 500: Internal Server Error\n",
      "Error opening URL for tournament 9162: HTTP Error 500: Internal Server Error\n",
      "Error opening URL for tournament 9165: HTTP Error 500: Internal Server Error\n"
     ]
    },
    {
     "name": "stderr",
     "output_type": "stream",
     "text": [
      "Processing tournaments:  86%|████████▋ | 9167/10608 [30:34<02:25,  9.92it/s]"
     ]
    },
    {
     "name": "stdout",
     "output_type": "stream",
     "text": [
      "Error opening URL for tournament 9167: HTTP Error 500: Internal Server Error\n",
      "Error opening URL for tournament 9166: HTTP Error 500: Internal Server Error\n",
      "Error opening URL for tournament 9172: HTTP Error 500: Internal Server Error\n"
     ]
    },
    {
     "name": "stderr",
     "output_type": "stream",
     "text": [
      "Processing tournaments:  86%|████████▋ | 9169/10608 [30:34<02:30,  9.58it/s]"
     ]
    },
    {
     "name": "stdout",
     "output_type": "stream",
     "text": [
      "Error opening URL for tournament 9170: HTTP Error 500: Internal Server Error\n",
      "Error opening URL for tournament 9168: HTTP Error 500: Internal Server Error\n",
      "Error opening URL for tournament 9169: HTTP Error 500: Internal Server Error\n",
      "Error opening URL for tournament 9171: HTTP Error 500: Internal Server Error\n"
     ]
    },
    {
     "name": "stderr",
     "output_type": "stream",
     "text": [
      "Processing tournaments:  86%|████████▋ | 9173/10608 [30:34<02:01, 11.81it/s]"
     ]
    },
    {
     "name": "stdout",
     "output_type": "stream",
     "text": [
      "Error opening URL for tournament 9173: HTTP Error 500: Internal Server Error\n"
     ]
    },
    {
     "name": "stderr",
     "output_type": "stream",
     "text": [
      "Processing tournaments:  86%|████████▋ | 9175/10608 [30:34<02:28,  9.63it/s]"
     ]
    },
    {
     "name": "stdout",
     "output_type": "stream",
     "text": [
      "Error opening URL for tournament 9175: HTTP Error 500: Internal Server Error\n",
      "Error opening URL for tournament 9174: HTTP Error 500: Internal Server Error\n",
      "Error opening URL for tournament 9176: HTTP Error 500: Internal Server Error\n",
      "Error opening URL for tournament 9179: HTTP Error 500: Internal Server Error\n"
     ]
    },
    {
     "name": "stderr",
     "output_type": "stream",
     "text": [
      "Processing tournaments:  87%|████████▋ | 9178/10608 [30:35<02:06, 11.31it/s]"
     ]
    },
    {
     "name": "stdout",
     "output_type": "stream",
     "text": [
      "Error opening URL for tournament 9180: HTTP Error 500: Internal Server Error\n",
      "Error opening URL for tournament 9177: HTTP Error 500: Internal Server Error\n"
     ]
    },
    {
     "name": "stderr",
     "output_type": "stream",
     "text": [
      "Processing tournaments:  87%|████████▋ | 9182/10608 [30:35<02:15, 10.55it/s]"
     ]
    },
    {
     "name": "stdout",
     "output_type": "stream",
     "text": [
      "Error opening URL for tournament 9181: HTTP Error 500: Internal Server Error\n",
      "Error opening URL for tournament 9178: HTTP Error 500: Internal Server Error\n",
      "Error opening URL for tournament 9184: HTTP Error 500: Internal Server Error\n"
     ]
    },
    {
     "name": "stderr",
     "output_type": "stream",
     "text": [
      "Processing tournaments:  87%|████████▋ | 9185/10608 [30:35<01:52, 12.65it/s]"
     ]
    },
    {
     "name": "stdout",
     "output_type": "stream",
     "text": [
      "Error opening URL for tournament 9183: HTTP Error 500: Internal Server Error\n",
      "Error opening URL for tournament 9185: HTTP Error 500: Internal Server Error\n",
      "Error opening URL for tournament 9186: HTTP Error 500: Internal Server Error\n",
      "Error opening URL for tournament 9182: HTTP Error 500: Internal Server Error\n"
     ]
    },
    {
     "name": "stderr",
     "output_type": "stream",
     "text": [
      "Processing tournaments:  87%|████████▋ | 9187/10608 [30:35<01:58, 12.04it/s]"
     ]
    },
    {
     "name": "stdout",
     "output_type": "stream",
     "text": [
      "Error opening URL for tournament 9187: HTTP Error 500: Internal Server Error\n"
     ]
    },
    {
     "name": "stderr",
     "output_type": "stream",
     "text": [
      "Processing tournaments:  87%|████████▋ | 9207/10608 [30:40<03:26,  6.78it/s]"
     ]
    },
    {
     "name": "stdout",
     "output_type": "stream",
     "text": [
      "Error opening URL for tournament 9210: HTTP Error 500: Internal Server Error\n"
     ]
    },
    {
     "name": "stderr",
     "output_type": "stream",
     "text": [
      "Processing tournaments:  87%|████████▋ | 9209/10608 [30:41<05:40,  4.10it/s]"
     ]
    },
    {
     "name": "stdout",
     "output_type": "stream",
     "text": [
      "Error opening URL for tournament 9213: HTTP Error 500: Internal Server Error\n"
     ]
    },
    {
     "name": "stderr",
     "output_type": "stream",
     "text": [
      "Processing tournaments:  87%|████████▋ | 9213/10608 [30:42<06:13,  3.73it/s]"
     ]
    },
    {
     "name": "stdout",
     "output_type": "stream",
     "text": [
      "Error opening URL for tournament 9218: HTTP Error 500: Internal Server Error\n"
     ]
    },
    {
     "name": "stderr",
     "output_type": "stream",
     "text": [
      "Processing tournaments:  87%|████████▋ | 9220/10608 [30:43<04:03,  5.70it/s]"
     ]
    },
    {
     "name": "stdout",
     "output_type": "stream",
     "text": [
      "Error opening URL for tournament 9223: HTTP Error 500: Internal Server Error\n"
     ]
    },
    {
     "name": "stderr",
     "output_type": "stream",
     "text": [
      "Processing tournaments:  87%|████████▋ | 9231/10608 [30:45<04:45,  4.83it/s]"
     ]
    },
    {
     "name": "stdout",
     "output_type": "stream",
     "text": [
      "Error opening URL for tournament 9237: HTTP Error 500: Internal Server Error\n"
     ]
    },
    {
     "name": "stderr",
     "output_type": "stream",
     "text": [
      "Processing tournaments:  87%|████████▋ | 9233/10608 [30:46<04:21,  5.25it/s]"
     ]
    },
    {
     "name": "stdout",
     "output_type": "stream",
     "text": [
      "Error opening URL for tournament 9235: HTTP Error 500: Internal Server Error\n"
     ]
    },
    {
     "name": "stderr",
     "output_type": "stream",
     "text": [
      "Processing tournaments:  87%|████████▋ | 9256/10608 [30:51<03:51,  5.85it/s]"
     ]
    },
    {
     "name": "stdout",
     "output_type": "stream",
     "text": [
      "Error opening URL for tournament 9259: HTTP Error 500: Internal Server Error\n"
     ]
    },
    {
     "name": "stderr",
     "output_type": "stream",
     "text": [
      "Processing tournaments:  87%|████████▋ | 9259/10608 [30:51<03:33,  6.32it/s]"
     ]
    },
    {
     "name": "stdout",
     "output_type": "stream",
     "text": [
      "Error opening URL for tournament 9260: HTTP Error 500: Internal Server Error\n"
     ]
    },
    {
     "name": "stderr",
     "output_type": "stream",
     "text": [
      "Processing tournaments:  87%|████████▋ | 9277/10608 [30:54<03:24,  6.52it/s]"
     ]
    },
    {
     "name": "stdout",
     "output_type": "stream",
     "text": [
      "Error opening URL for tournament 9280: HTTP Error 500: Internal Server Error\n"
     ]
    },
    {
     "name": "stderr",
     "output_type": "stream",
     "text": [
      "Processing tournaments:  87%|████████▋ | 9279/10608 [30:55<04:05,  5.42it/s]"
     ]
    },
    {
     "name": "stdout",
     "output_type": "stream",
     "text": [
      "Error opening URL for tournament 9284: HTTP Error 500: Internal Server Error\n"
     ]
    },
    {
     "name": "stderr",
     "output_type": "stream",
     "text": [
      "Processing tournaments:  87%|████████▋ | 9280/10608 [30:55<03:53,  5.68it/s]"
     ]
    },
    {
     "name": "stdout",
     "output_type": "stream",
     "text": [
      "Error opening URL for tournament 9282: HTTP Error 500: Internal Server Error\n"
     ]
    },
    {
     "name": "stderr",
     "output_type": "stream",
     "text": [
      "Processing tournaments:  88%|████████▊ | 9283/10608 [30:55<03:04,  7.16it/s]"
     ]
    },
    {
     "name": "stdout",
     "output_type": "stream",
     "text": [
      "Error opening URL for tournament 9286: HTTP Error 500: Internal Server Error\n"
     ]
    },
    {
     "name": "stderr",
     "output_type": "stream",
     "text": [
      "Processing tournaments:  88%|████████▊ | 9288/10608 [30:56<02:49,  7.79it/s]"
     ]
    },
    {
     "name": "stdout",
     "output_type": "stream",
     "text": [
      "Error opening URL for tournament 9290: HTTP Error 500: Internal Server Error\n",
      "Error opening URL for tournament 9291: HTTP Error 500: Internal Server Error\n"
     ]
    },
    {
     "name": "stderr",
     "output_type": "stream",
     "text": [
      "Processing tournaments:  88%|████████▊ | 9297/10608 [30:58<04:59,  4.37it/s]"
     ]
    },
    {
     "name": "stdout",
     "output_type": "stream",
     "text": [
      "Error opening URL for tournament 9301: HTTP Error 500: Internal Server Error\n"
     ]
    },
    {
     "name": "stderr",
     "output_type": "stream",
     "text": [
      "Processing tournaments:  88%|████████▊ | 9303/10608 [30:59<03:14,  6.72it/s]"
     ]
    },
    {
     "name": "stdout",
     "output_type": "stream",
     "text": [
      "Error opening URL for tournament 9306: HTTP Error 500: Internal Server Error\n"
     ]
    },
    {
     "name": "stderr",
     "output_type": "stream",
     "text": [
      "Processing tournaments:  88%|████████▊ | 9313/10608 [31:01<03:16,  6.58it/s]"
     ]
    },
    {
     "name": "stdout",
     "output_type": "stream",
     "text": [
      "Error opening URL for tournament 9317: HTTP Error 500: Internal Server Error\n"
     ]
    },
    {
     "name": "stderr",
     "output_type": "stream",
     "text": [
      "Processing tournaments:  88%|████████▊ | 9341/10608 [31:06<03:17,  6.41it/s]"
     ]
    },
    {
     "name": "stdout",
     "output_type": "stream",
     "text": [
      "Error opening URL for tournament 9344: HTTP Error 500: Internal Server Error\n"
     ]
    },
    {
     "name": "stderr",
     "output_type": "stream",
     "text": [
      "Processing tournaments:  88%|████████▊ | 9349/10608 [31:08<02:52,  7.30it/s]"
     ]
    },
    {
     "name": "stdout",
     "output_type": "stream",
     "text": [
      "Error opening URL for tournament 9351: HTTP Error 500: Internal Server Error\n"
     ]
    },
    {
     "name": "stderr",
     "output_type": "stream",
     "text": [
      "Processing tournaments:  88%|████████▊ | 9362/10608 [31:10<05:28,  3.79it/s]"
     ]
    },
    {
     "name": "stdout",
     "output_type": "stream",
     "text": [
      "Error opening URL for tournament 9368: HTTP Error 500: Internal Server Error\n"
     ]
    },
    {
     "name": "stderr",
     "output_type": "stream",
     "text": [
      "Processing tournaments:  88%|████████▊ | 9367/10608 [31:11<04:05,  5.05it/s]"
     ]
    },
    {
     "name": "stdout",
     "output_type": "stream",
     "text": [
      "Error opening URL for tournament 9369: HTTP Error 500: Internal Server Error\n"
     ]
    },
    {
     "name": "stderr",
     "output_type": "stream",
     "text": [
      "Processing tournaments:  88%|████████▊ | 9378/10608 [31:13<03:49,  5.37it/s]"
     ]
    },
    {
     "name": "stdout",
     "output_type": "stream",
     "text": [
      "Error opening URL for tournament 9381: HTTP Error 500: Internal Server Error\n",
      "Error opening URL for tournament 9384: HTTP Error 500: Internal Server Error\n",
      "Error opening URL for tournament 9382: HTTP Error 500: Internal Server Error\n"
     ]
    },
    {
     "name": "stderr",
     "output_type": "stream",
     "text": [
      "Processing tournaments:  88%|████████▊ | 9382/10608 [31:14<04:09,  4.92it/s]"
     ]
    },
    {
     "name": "stdout",
     "output_type": "stream",
     "text": [
      "Error opening URL for tournament 9385: HTTP Error 500: Internal Server Error\n",
      "Error opening URL for tournament 9386: HTTP Error 500: Internal Server Error\n",
      "Error opening URL for tournament 9388: HTTP Error 500: Internal Server Error\n",
      "Error opening URL for tournament 9387: HTTP Error 500: Internal Server Error\n"
     ]
    },
    {
     "name": "stderr",
     "output_type": "stream",
     "text": [
      "Processing tournaments:  89%|████████▊ | 9389/10608 [31:15<03:20,  6.08it/s]"
     ]
    },
    {
     "name": "stdout",
     "output_type": "stream",
     "text": [
      "Error opening URL for tournament 9393: HTTP Error 500: Internal Server Error\n"
     ]
    },
    {
     "name": "stderr",
     "output_type": "stream",
     "text": [
      "Processing tournaments:  89%|████████▊ | 9399/10608 [31:17<04:16,  4.70it/s]"
     ]
    },
    {
     "name": "stdout",
     "output_type": "stream",
     "text": [
      "Error opening URL for tournament 9404: HTTP Error 500: Internal Server Error\n"
     ]
    },
    {
     "name": "stderr",
     "output_type": "stream",
     "text": [
      "Processing tournaments:  89%|████████▉ | 9471/10608 [31:35<03:29,  5.43it/s]"
     ]
    },
    {
     "name": "stdout",
     "output_type": "stream",
     "text": [
      "Error opening URL for tournament 9474: HTTP Error 500: Internal Server Error\n"
     ]
    },
    {
     "name": "stderr",
     "output_type": "stream",
     "text": [
      "Processing tournaments:  89%|████████▉ | 9492/10608 [31:40<04:06,  4.53it/s]"
     ]
    },
    {
     "name": "stdout",
     "output_type": "stream",
     "text": [
      "Error opening URL for tournament 9497: HTTP Error 500: Internal Server Error\n"
     ]
    },
    {
     "name": "stderr",
     "output_type": "stream",
     "text": [
      "Processing tournaments:  90%|████████▉ | 9530/10608 [31:49<03:51,  4.65it/s]"
     ]
    },
    {
     "name": "stdout",
     "output_type": "stream",
     "text": [
      "Error opening URL for tournament 9534: HTTP Error 500: Internal Server Error\n"
     ]
    },
    {
     "name": "stderr",
     "output_type": "stream",
     "text": [
      "Processing tournaments:  90%|█████████ | 9571/10608 [32:00<03:16,  5.27it/s]"
     ]
    },
    {
     "name": "stdout",
     "output_type": "stream",
     "text": [
      "Error opening URL for tournament 9573: HTTP Error 500: Internal Server Error\n",
      "Error opening URL for tournament 9574: HTTP Error 500: Internal Server Error\n"
     ]
    },
    {
     "name": "stderr",
     "output_type": "stream",
     "text": [
      "Processing tournaments:  90%|█████████ | 9575/10608 [32:01<04:49,  3.57it/s]"
     ]
    },
    {
     "name": "stdout",
     "output_type": "stream",
     "text": [
      "Error opening URL for tournament 9581: HTTP Error 500: Internal Server Error\n"
     ]
    },
    {
     "name": "stderr",
     "output_type": "stream",
     "text": [
      "Processing tournaments:  90%|█████████ | 9581/10608 [32:02<03:11,  5.36it/s]"
     ]
    },
    {
     "name": "stdout",
     "output_type": "stream",
     "text": [
      "Error opening URL for tournament 9583: HTTP Error 500: Internal Server Error\n"
     ]
    },
    {
     "name": "stderr",
     "output_type": "stream",
     "text": [
      "Processing tournaments:  90%|█████████ | 9600/10608 [32:07<03:15,  5.16it/s]"
     ]
    },
    {
     "name": "stdout",
     "output_type": "stream",
     "text": [
      "Error opening URL for tournament 9602: HTTP Error 500: Internal Server Error\n"
     ]
    },
    {
     "name": "stderr",
     "output_type": "stream",
     "text": [
      "Processing tournaments:  91%|█████████ | 9608/10608 [32:09<04:29,  3.70it/s]"
     ]
    },
    {
     "name": "stdout",
     "output_type": "stream",
     "text": [
      "Error opening URL for tournament 9615: HTTP Error 500: Internal Server Error\n"
     ]
    },
    {
     "name": "stderr",
     "output_type": "stream",
     "text": [
      "Processing tournaments:  91%|█████████ | 9645/10608 [32:18<03:19,  4.83it/s]"
     ]
    },
    {
     "name": "stdout",
     "output_type": "stream",
     "text": [
      "Error opening URL for tournament 9648: HTTP Error 500: Internal Server Error\n"
     ]
    },
    {
     "name": "stderr",
     "output_type": "stream",
     "text": [
      "Processing tournaments:  91%|█████████ | 9647/10608 [32:18<02:32,  6.31it/s]"
     ]
    },
    {
     "name": "stdout",
     "output_type": "stream",
     "text": [
      "Error opening URL for tournament 9649: HTTP Error 500: Internal Server Error\n"
     ]
    },
    {
     "name": "stderr",
     "output_type": "stream",
     "text": [
      "Processing tournaments:  91%|█████████ | 9650/10608 [32:19<03:11,  5.00it/s]"
     ]
    },
    {
     "name": "stdout",
     "output_type": "stream",
     "text": [
      "Error opening URL for tournament 9655: HTTP Error 500: Internal Server Error\n"
     ]
    },
    {
     "name": "stderr",
     "output_type": "stream",
     "text": [
      "Processing tournaments:  91%|█████████ | 9660/10608 [32:21<02:14,  7.03it/s]"
     ]
    },
    {
     "name": "stdout",
     "output_type": "stream",
     "text": [
      "Error opening URL for tournament 9660: HTTP Error 500: Internal Server Error\n",
      "Error opening URL for tournament 9661: HTTP Error 500: Internal Server Error\n"
     ]
    },
    {
     "name": "stderr",
     "output_type": "stream",
     "text": [
      "Processing tournaments:  91%|█████████▏| 9684/10608 [32:27<03:03,  5.03it/s]"
     ]
    },
    {
     "name": "stdout",
     "output_type": "stream",
     "text": [
      "Error opening URL for tournament 9689: HTTP Error 500: Internal Server Error\n",
      "Error opening URL for tournament 9688: HTTP Error 500: Internal Server Error\n"
     ]
    },
    {
     "name": "stderr",
     "output_type": "stream",
     "text": [
      "Processing tournaments:  91%|█████████▏| 9688/10608 [32:27<02:12,  6.97it/s]"
     ]
    },
    {
     "name": "stdout",
     "output_type": "stream",
     "text": [
      "Error opening URL for tournament 9687: HTTP Error 500: Internal Server Error\n",
      "Error opening URL for tournament 9691: HTTP Error 500: Internal Server Error\n"
     ]
    },
    {
     "name": "stderr",
     "output_type": "stream",
     "text": [
      "Processing tournaments:  91%|█████████▏| 9691/10608 [32:28<01:55,  7.92it/s]"
     ]
    },
    {
     "name": "stdout",
     "output_type": "stream",
     "text": [
      "Error opening URL for tournament 9690: HTTP Error 500: Internal Server Error\n"
     ]
    },
    {
     "name": "stderr",
     "output_type": "stream",
     "text": [
      "Processing tournaments:  91%|█████████▏| 9694/10608 [32:28<01:24, 10.82it/s]"
     ]
    },
    {
     "name": "stdout",
     "output_type": "stream",
     "text": [
      "Error opening URL for tournament 9694: HTTP Error 500: Internal Server Error\n",
      "Error opening URL for tournament 9692: HTTP Error 500: Internal Server Error\n",
      "Error opening URL for tournament 9695: HTTP Error 500: Internal Server Error\n"
     ]
    },
    {
     "name": "stderr",
     "output_type": "stream",
     "text": [
      "Processing tournaments:  91%|█████████▏| 9696/10608 [32:28<01:39,  9.19it/s]"
     ]
    },
    {
     "name": "stdout",
     "output_type": "stream",
     "text": [
      "Error opening URL for tournament 9696: HTTP Error 500: Internal Server Error\n",
      "Error opening URL for tournament 9693: HTTP Error 500: Internal Server Error\n"
     ]
    },
    {
     "name": "stderr",
     "output_type": "stream",
     "text": [
      "Processing tournaments:  92%|█████████▏| 9707/10608 [32:32<04:14,  3.54it/s]"
     ]
    },
    {
     "name": "stdout",
     "output_type": "stream",
     "text": [
      "Error opening URL for tournament 9710: HTTP Error 500: Internal Server Error\n"
     ]
    },
    {
     "name": "stderr",
     "output_type": "stream",
     "text": [
      "Processing tournaments:  92%|█████████▏| 9723/10608 [32:36<02:55,  5.05it/s]"
     ]
    },
    {
     "name": "stdout",
     "output_type": "stream",
     "text": [
      "Error opening URL for tournament 9728: HTTP Error 500: Internal Server Error\n"
     ]
    },
    {
     "name": "stderr",
     "output_type": "stream",
     "text": [
      "Processing tournaments:  92%|█████████▏| 9744/10608 [32:41<02:46,  5.20it/s]"
     ]
    },
    {
     "name": "stdout",
     "output_type": "stream",
     "text": [
      "Error opening URL for tournament 9747: HTTP Error 500: Internal Server Error\n"
     ]
    },
    {
     "name": "stderr",
     "output_type": "stream",
     "text": [
      "Processing tournaments:  92%|█████████▏| 9794/10608 [32:53<02:51,  4.76it/s]"
     ]
    },
    {
     "name": "stdout",
     "output_type": "stream",
     "text": [
      "Error opening URL for tournament 9798: HTTP Error 500: Internal Server Error\n",
      "Error opening URL for tournament 9799: HTTP Error 500: Internal Server Error\n"
     ]
    },
    {
     "name": "stderr",
     "output_type": "stream",
     "text": [
      "Processing tournaments:  92%|█████████▏| 9801/10608 [32:54<02:43,  4.93it/s]"
     ]
    },
    {
     "name": "stdout",
     "output_type": "stream",
     "text": [
      "Error opening URL for tournament 9803: HTTP Error 500: Internal Server Error\n"
     ]
    },
    {
     "name": "stderr",
     "output_type": "stream",
     "text": [
      "Processing tournaments:  93%|█████████▎| 9818/10608 [32:58<02:01,  6.53it/s]"
     ]
    },
    {
     "name": "stdout",
     "output_type": "stream",
     "text": [
      "Error opening URL for tournament 9822: HTTP Error 500: Internal Server Error\n"
     ]
    },
    {
     "name": "stderr",
     "output_type": "stream",
     "text": [
      "Processing tournaments:  93%|█████████▎| 9823/10608 [32:58<01:36,  8.16it/s]"
     ]
    },
    {
     "name": "stdout",
     "output_type": "stream",
     "text": [
      "Error opening URL for tournament 9821: HTTP Error 500: Internal Server Error\n",
      "Error opening URL for tournament 9823: HTTP Error 500: Internal Server Error\n"
     ]
    },
    {
     "name": "stderr",
     "output_type": "stream",
     "text": [
      "Processing tournaments:  93%|█████████▎| 9825/10608 [32:59<02:36,  5.01it/s]"
     ]
    },
    {
     "name": "stdout",
     "output_type": "stream",
     "text": [
      "Error opening URL for tournament 9831: HTTP Error 500: Internal Server Error\n"
     ]
    },
    {
     "name": "stderr",
     "output_type": "stream",
     "text": [
      "Processing tournaments:  93%|█████████▎| 9848/10608 [33:04<02:14,  5.64it/s]"
     ]
    },
    {
     "name": "stdout",
     "output_type": "stream",
     "text": [
      "Error opening URL for tournament 9851: HTTP Error 500: Internal Server Error\n"
     ]
    },
    {
     "name": "stderr",
     "output_type": "stream",
     "text": [
      "Processing tournaments:  93%|█████████▎| 9867/10608 [33:09<01:58,  6.24it/s]"
     ]
    },
    {
     "name": "stdout",
     "output_type": "stream",
     "text": [
      "Error opening URL for tournament 9868: HTTP Error 500: Internal Server Error\n"
     ]
    },
    {
     "name": "stderr",
     "output_type": "stream",
     "text": [
      "Processing tournaments:  94%|█████████▎| 9936/10608 [33:27<02:17,  4.88it/s]"
     ]
    },
    {
     "name": "stdout",
     "output_type": "stream",
     "text": [
      "Error opening URL for tournament 9941: HTTP Error 500: Internal Server Error\n"
     ]
    },
    {
     "name": "stderr",
     "output_type": "stream",
     "text": [
      "Processing tournaments:  94%|█████████▍| 9987/10608 [33:40<02:03,  5.04it/s]"
     ]
    },
    {
     "name": "stdout",
     "output_type": "stream",
     "text": [
      "Error opening URL for tournament 9990: HTTP Error 500: Internal Server Error\n"
     ]
    },
    {
     "name": "stderr",
     "output_type": "stream",
     "text": [
      "Processing tournaments:  94%|█████████▍| 10015/10608 [33:47<02:39,  3.73it/s]"
     ]
    },
    {
     "name": "stdout",
     "output_type": "stream",
     "text": [
      "Error opening URL for tournament 10022: HTTP Error 500: Internal Server Error\n"
     ]
    },
    {
     "name": "stderr",
     "output_type": "stream",
     "text": [
      "Processing tournaments:  95%|█████████▌| 10084/10608 [34:06<01:47,  4.87it/s]"
     ]
    },
    {
     "name": "stdout",
     "output_type": "stream",
     "text": [
      "Error opening URL for tournament 10087: HTTP Error 500: Internal Server Error\n"
     ]
    },
    {
     "name": "stderr",
     "output_type": "stream",
     "text": [
      "Processing tournaments:  95%|█████████▌| 10113/10608 [34:13<01:21,  6.08it/s]"
     ]
    },
    {
     "name": "stdout",
     "output_type": "stream",
     "text": [
      "Error opening URL for tournament 10116: HTTP Error 500: Internal Server Error\n"
     ]
    },
    {
     "name": "stderr",
     "output_type": "stream",
     "text": [
      "Processing tournaments:  95%|█████████▌| 10128/10608 [34:18<01:40,  4.76it/s]"
     ]
    },
    {
     "name": "stdout",
     "output_type": "stream",
     "text": [
      "Error opening URL for tournament 10132: HTTP Error 500: Internal Server Error\n"
     ]
    },
    {
     "name": "stderr",
     "output_type": "stream",
     "text": [
      "Processing tournaments:  96%|█████████▌| 10206/10608 [34:35<01:09,  5.77it/s]"
     ]
    },
    {
     "name": "stdout",
     "output_type": "stream",
     "text": [
      "Error opening URL for tournament 10210: HTTP Error 500: Internal Server Error\n",
      "Error opening URL for tournament 10211: HTTP Error 500: Internal Server Error\n",
      "Error opening URL for tournament 10209: HTTP Error 500: Internal Server Error\n"
     ]
    },
    {
     "name": "stderr",
     "output_type": "stream",
     "text": [
      "Processing tournaments:  97%|█████████▋| 10337/10608 [35:08<00:55,  4.92it/s]"
     ]
    },
    {
     "name": "stdout",
     "output_type": "stream",
     "text": [
      "Error opening URL for tournament 10341: HTTP Error 500: Internal Server Error\n"
     ]
    },
    {
     "name": "stderr",
     "output_type": "stream",
     "text": [
      "Processing tournaments:  98%|█████████▊| 10353/10608 [35:12<01:02,  4.11it/s]"
     ]
    },
    {
     "name": "stdout",
     "output_type": "stream",
     "text": [
      "Error opening URL for tournament 10359: HTTP Error 500: Internal Server Error\n"
     ]
    },
    {
     "name": "stderr",
     "output_type": "stream",
     "text": [
      "Processing tournaments:  98%|█████████▊| 10408/10608 [35:26<00:45,  4.37it/s]"
     ]
    },
    {
     "name": "stdout",
     "output_type": "stream",
     "text": [
      "Error opening URL for tournament 10412: HTTP Error 500: Internal Server Error\n"
     ]
    },
    {
     "name": "stderr",
     "output_type": "stream",
     "text": [
      "Processing tournaments:  98%|█████████▊| 10429/10608 [35:32<00:38,  4.70it/s]"
     ]
    },
    {
     "name": "stdout",
     "output_type": "stream",
     "text": [
      "Error opening URL for tournament 10433: HTTP Error 500: Internal Server Error\n"
     ]
    },
    {
     "name": "stderr",
     "output_type": "stream",
     "text": [
      "Processing tournaments: 100%|█████████▉| 10560/10608 [36:05<00:10,  4.76it/s]"
     ]
    },
    {
     "name": "stdout",
     "output_type": "stream",
     "text": [
      "Error opening URL for tournament 10562: HTTP Error 500: Internal Server Error\n"
     ]
    },
    {
     "name": "stderr",
     "output_type": "stream",
     "text": [
      "Processing tournaments: 100%|█████████▉| 10562/10608 [36:06<00:08,  5.31it/s]"
     ]
    },
    {
     "name": "stdout",
     "output_type": "stream",
     "text": [
      "Error opening URL for tournament 10564: HTTP Error 500: Internal Server Error\n"
     ]
    },
    {
     "name": "stderr",
     "output_type": "stream",
     "text": [
      "Processing tournaments: 100%|█████████▉| 10575/10608 [36:09<00:09,  3.50it/s]"
     ]
    },
    {
     "name": "stdout",
     "output_type": "stream",
     "text": [
      "Error opening URL for tournament 10577: HTTP Error 500: Internal Server Error\n"
     ]
    },
    {
     "name": "stderr",
     "output_type": "stream",
     "text": [
      "Processing tournaments: 100%|██████████| 10608/10608 [36:18<00:00,  4.87it/s]\n"
     ]
    },
    {
     "data": {
      "text/html": [
       "<div>\n",
       "<style scoped>\n",
       "    .dataframe tbody tr th:only-of-type {\n",
       "        vertical-align: middle;\n",
       "    }\n",
       "\n",
       "    .dataframe tbody tr th {\n",
       "        vertical-align: top;\n",
       "    }\n",
       "\n",
       "    .dataframe thead th {\n",
       "        text-align: right;\n",
       "    }\n",
       "</style>\n",
       "<table border=\"1\" class=\"dataframe\">\n",
       "  <thead>\n",
       "    <tr style=\"text-align: right;\">\n",
       "      <th></th>\n",
       "      <th>Finish Pos.</th>\n",
       "      <th>CTRY</th>\n",
       "      <th>player_id</th>\n",
       "      <th>NAME</th>\n",
       "      <th>POINTS WON</th>\n",
       "      <th>RANK FROM</th>\n",
       "      <th>RANK TO</th>\n",
       "      <th>tournament_id</th>\n",
       "      <th>R1</th>\n",
       "      <th>R2</th>\n",
       "      <th>R3</th>\n",
       "      <th>R4</th>\n",
       "      <th>AGG</th>\n",
       "      <th>R5</th>\n",
       "    </tr>\n",
       "  </thead>\n",
       "  <tbody>\n",
       "    <tr>\n",
       "      <th>0</th>\n",
       "      <td>1</td>\n",
       "      <td></td>\n",
       "      <td>449</td>\n",
       "      <td>Mark McNulty</td>\n",
       "      <td>10.00000</td>\n",
       "      <td>-</td>\n",
       "      <td>-</td>\n",
       "      <td>7</td>\n",
       "      <td>NaN</td>\n",
       "      <td>NaN</td>\n",
       "      <td>NaN</td>\n",
       "      <td>NaN</td>\n",
       "      <td>NaN</td>\n",
       "      <td>NaN</td>\n",
       "    </tr>\n",
       "    <tr>\n",
       "      <th>1</th>\n",
       "      <td>2</td>\n",
       "      <td></td>\n",
       "      <td>440</td>\n",
       "      <td>David Frost</td>\n",
       "      <td>6.00000</td>\n",
       "      <td>-</td>\n",
       "      <td>-</td>\n",
       "      <td>7</td>\n",
       "      <td>NaN</td>\n",
       "      <td>NaN</td>\n",
       "      <td>NaN</td>\n",
       "      <td>NaN</td>\n",
       "      <td>NaN</td>\n",
       "      <td>NaN</td>\n",
       "    </tr>\n",
       "    <tr>\n",
       "      <th>2</th>\n",
       "      <td>3</td>\n",
       "      <td></td>\n",
       "      <td>446</td>\n",
       "      <td>Tony Johnstone</td>\n",
       "      <td>4.00000</td>\n",
       "      <td>-</td>\n",
       "      <td>-</td>\n",
       "      <td>7</td>\n",
       "      <td>NaN</td>\n",
       "      <td>NaN</td>\n",
       "      <td>NaN</td>\n",
       "      <td>NaN</td>\n",
       "      <td>NaN</td>\n",
       "      <td>NaN</td>\n",
       "    </tr>\n",
       "    <tr>\n",
       "      <th>3</th>\n",
       "      <td>T4</td>\n",
       "      <td></td>\n",
       "      <td>95</td>\n",
       "      <td>Rick Hartmann</td>\n",
       "      <td>4.00000</td>\n",
       "      <td>-</td>\n",
       "      <td>-</td>\n",
       "      <td>7</td>\n",
       "      <td>NaN</td>\n",
       "      <td>NaN</td>\n",
       "      <td>NaN</td>\n",
       "      <td>NaN</td>\n",
       "      <td>NaN</td>\n",
       "      <td>NaN</td>\n",
       "    </tr>\n",
       "    <tr>\n",
       "      <th>4</th>\n",
       "      <td>T4</td>\n",
       "      <td></td>\n",
       "      <td>265</td>\n",
       "      <td>David Feherty</td>\n",
       "      <td>4.00000</td>\n",
       "      <td>-</td>\n",
       "      <td>-</td>\n",
       "      <td>7</td>\n",
       "      <td>NaN</td>\n",
       "      <td>NaN</td>\n",
       "      <td>NaN</td>\n",
       "      <td>NaN</td>\n",
       "      <td>NaN</td>\n",
       "      <td>NaN</td>\n",
       "    </tr>\n",
       "    <tr>\n",
       "      <th>...</th>\n",
       "      <td>...</td>\n",
       "      <td>...</td>\n",
       "      <td>...</td>\n",
       "      <td>...</td>\n",
       "      <td>...</td>\n",
       "      <td>...</td>\n",
       "      <td>...</td>\n",
       "      <td>...</td>\n",
       "      <td>...</td>\n",
       "      <td>...</td>\n",
       "      <td>...</td>\n",
       "      <td>...</td>\n",
       "      <td>...</td>\n",
       "      <td>...</td>\n",
       "    </tr>\n",
       "    <tr>\n",
       "      <th>1138859</th>\n",
       "      <td>MC</td>\n",
       "      <td></td>\n",
       "      <td>24639</td>\n",
       "      <td>Thabiso Ngcobo</td>\n",
       "      <td>0.00000</td>\n",
       "      <td>2728</td>\n",
       "      <td>2735</td>\n",
       "      <td>10608</td>\n",
       "      <td>81</td>\n",
       "      <td>79</td>\n",
       "      <td>-</td>\n",
       "      <td>NaN</td>\n",
       "      <td>160</td>\n",
       "      <td>NaN</td>\n",
       "    </tr>\n",
       "    <tr>\n",
       "      <th>1138860</th>\n",
       "      <td>MC</td>\n",
       "      <td></td>\n",
       "      <td>22040</td>\n",
       "      <td>Steven Le Roux</td>\n",
       "      <td>0.00000</td>\n",
       "      <td>2811</td>\n",
       "      <td>2815</td>\n",
       "      <td>10608</td>\n",
       "      <td>83</td>\n",
       "      <td>78</td>\n",
       "      <td>-</td>\n",
       "      <td>NaN</td>\n",
       "      <td>161</td>\n",
       "      <td>NaN</td>\n",
       "    </tr>\n",
       "    <tr>\n",
       "      <th>1138861</th>\n",
       "      <td>MC</td>\n",
       "      <td></td>\n",
       "      <td>27951</td>\n",
       "      <td>Ricco Motsa</td>\n",
       "      <td>0.00000</td>\n",
       "      <td>4606</td>\n",
       "      <td>4603</td>\n",
       "      <td>10608</td>\n",
       "      <td>86</td>\n",
       "      <td>78</td>\n",
       "      <td>-</td>\n",
       "      <td>NaN</td>\n",
       "      <td>164</td>\n",
       "      <td>NaN</td>\n",
       "    </tr>\n",
       "    <tr>\n",
       "      <th>1138862</th>\n",
       "      <td>MC</td>\n",
       "      <td></td>\n",
       "      <td>16894</td>\n",
       "      <td>Terence Boardman</td>\n",
       "      <td>0.00000</td>\n",
       "      <td>4031</td>\n",
       "      <td>4027</td>\n",
       "      <td>10608</td>\n",
       "      <td>84</td>\n",
       "      <td>81</td>\n",
       "      <td>-</td>\n",
       "      <td>NaN</td>\n",
       "      <td>165</td>\n",
       "      <td>NaN</td>\n",
       "    </tr>\n",
       "    <tr>\n",
       "      <th>1138863</th>\n",
       "      <td>MC</td>\n",
       "      <td></td>\n",
       "      <td>15123</td>\n",
       "      <td>Shaun Coetzee</td>\n",
       "      <td>0.00000</td>\n",
       "      <td>-</td>\n",
       "      <td>4603</td>\n",
       "      <td>10608</td>\n",
       "      <td>85</td>\n",
       "      <td>89</td>\n",
       "      <td>-</td>\n",
       "      <td>NaN</td>\n",
       "      <td>174</td>\n",
       "      <td>NaN</td>\n",
       "    </tr>\n",
       "  </tbody>\n",
       "</table>\n",
       "<p>1138864 rows × 14 columns</p>\n",
       "</div>"
      ],
      "text/plain": [
       "        Finish Pos. CTRY player_id              NAME POINTS WON RANK FROM  \\\n",
       "0                 1            449      Mark McNulty   10.00000         -   \n",
       "1                 2            440       David Frost    6.00000         -   \n",
       "2                 3            446    Tony Johnstone    4.00000         -   \n",
       "3                T4             95     Rick Hartmann    4.00000         -   \n",
       "4                T4            265     David Feherty    4.00000         -   \n",
       "...             ...  ...       ...               ...        ...       ...   \n",
       "1138859          MC          24639    Thabiso Ngcobo    0.00000      2728   \n",
       "1138860          MC          22040    Steven Le Roux    0.00000      2811   \n",
       "1138861          MC          27951       Ricco Motsa    0.00000      4606   \n",
       "1138862          MC          16894  Terence Boardman    0.00000      4031   \n",
       "1138863          MC          15123     Shaun Coetzee    0.00000         -   \n",
       "\n",
       "        RANK TO tournament_id   R1   R2   R3   R4  AGG   R5  \n",
       "0             -             7  NaN  NaN  NaN  NaN  NaN  NaN  \n",
       "1             -             7  NaN  NaN  NaN  NaN  NaN  NaN  \n",
       "2             -             7  NaN  NaN  NaN  NaN  NaN  NaN  \n",
       "3             -             7  NaN  NaN  NaN  NaN  NaN  NaN  \n",
       "4             -             7  NaN  NaN  NaN  NaN  NaN  NaN  \n",
       "...         ...           ...  ...  ...  ...  ...  ...  ...  \n",
       "1138859    2735         10608   81   79    -  NaN  160  NaN  \n",
       "1138860    2815         10608   83   78    -  NaN  161  NaN  \n",
       "1138861    4603         10608   86   78    -  NaN  164  NaN  \n",
       "1138862    4027         10608   84   81    -  NaN  165  NaN  \n",
       "1138863    4603         10608   85   89    -  NaN  174  NaN  \n",
       "\n",
       "[1138864 rows x 14 columns]"
      ]
     },
     "execution_count": 4,
     "metadata": {},
     "output_type": "execute_result"
    }
   ],
   "source": [
    "tournament_ids = list(range(1, 10609))  # All tournaments as of October 6, 2024\n",
    "\n",
    "tournament_scores, metadata = process_tournaments(tournament_ids)\n",
    "tournament_scores"
   ]
  },
  {
   "cell_type": "markdown",
   "metadata": {},
   "source": [
    "# Gathering LIV Data"
   ]
  },
  {
   "cell_type": "code",
   "execution_count": 18,
   "metadata": {},
   "outputs": [],
   "source": [
    "def process_tournament_liv(tournament_id):\n",
    "    tournament_id = str(tournament_id)\n",
    "    url = \"https://web-common.livgolf.com/api/leaderboard/players/\" + tournament_id\n",
    "\n",
    "    html = urlopen(url)\n",
    "    soup = BeautifulSoup(html, 'lxml')\n",
    "    \n",
    "    # Extract the text from the <p> tag containing the JSON-like content\n",
    "    json_text = soup.find('p').get_text()\n",
    "\n",
    "    # Convert the JSON text to a Python dictionary\n",
    "    data = json.loads(json_text)\n",
    "\n",
    "    player_results = []\n",
    "\n",
    "    for player_dict in data[\"players\"]:\n",
    "        # List of keys to keep\n",
    "        keys_to_keep = ['id', 'name', 'position', 'totalScore']\n",
    "\n",
    "        # Create a new dictionary with only the keys you want\n",
    "        new_d = {key: player_dict[key] for key in keys_to_keep if key in player_dict}\n",
    "\n",
    "        new_d['player_id_liv'] = new_d.pop('id')\n",
    "\n",
    "        # Add round scores as separate keys in the new dictionary\n",
    "        for idx, round_info in enumerate(player_dict['rounds'], start=1):\n",
    "            new_d[f'R{idx}_topar'] = round_info['score']\n",
    "\n",
    "        player_results.append(new_d)\n",
    "\n",
    "    tournament_results = pd.DataFrame(player_results)\n",
    "    \n",
    "    tournament_results[\"tournament_id_liv\"] = tournament_id\n",
    "    \n",
    "    # gather tournament par information\n",
    "    url = \"https://web-common.livgolf.com/api/leaderboard/courses/\" + tournament_id\n",
    "\n",
    "    html = urlopen(url)\n",
    "    soup = BeautifulSoup(html, 'lxml')\n",
    "\n",
    "    # Extract the text from the <p> tag containing the JSON-like content\n",
    "    json_text = soup.find('p').get_text()\n",
    "\n",
    "    # Convert the JSON text to a Python dictionary\n",
    "    data = json.loads(json_text)\n",
    "\n",
    "    round_par = int(data[\"rounds\"][0][\"totalPar\"])\n",
    "    \n",
    "    for key in [\"R1\", \"R2\", \"R3\"]:\n",
    "        tournament_results[f\"{key}_topar\"] = tournament_results[f\"{key}_topar\"].replace('E', '0')\n",
    "        tournament_results[f\"{key}_topar\"] = np.where(tournament_results[f\"{key}_topar\"] == '',\n",
    "                                                            np.nan,\n",
    "                                                            tournament_results[f\"{key}_topar\"])\n",
    "\n",
    "        tournament_results[f\"{key}_topar\"] = tournament_results[f\"{key}_topar\"].astype(float)\n",
    "        tournament_results[key] = tournament_results[f\"{key}_topar\"] + round_par\n",
    "\n",
    "    tournament_results[\"AGG\"] = tournament_results[\"R1\"] + tournament_results[\"R2\"] + tournament_results[\"R3\"]\n",
    "    return tournament_results\n",
    "\n",
    "def process_tournaments_liv(tournament_ids):\n",
    "    all_table_data = []\n",
    "\n",
    "    # Using ThreadPoolExecutor for multithreading\n",
    "    with ThreadPoolExecutor(max_workers=8) as executor:\n",
    "        futures = {executor.submit(process_tournament_liv, tid): tid for tid in tournament_ids}\n",
    "\n",
    "        # Use tqdm to show progress\n",
    "        for future in tqdm(as_completed(futures), total=len(futures), desc=\"Processing tournaments\"):\n",
    "            try:\n",
    "                table_data = future.result()\n",
    "                all_table_data.append(table_data)\n",
    "            except Exception as e:\n",
    "                print(f\"Error processing tournament: {e}\")\n",
    "\n",
    "    # Concatenate all DataFrames collected\n",
    "    concatenated_table_data = pd.concat(all_table_data, ignore_index=True) if all_table_data else pd.DataFrame()\n",
    "\n",
    "    return concatenated_table_data\n",
    "\n",
    "# for LIV you can get all the tournaments from one year at once\n",
    "def get_tournament_info_liv(year):\n",
    "    year = str(year)\n",
    "    url = \"https://web-common.livgolf.com/api/events/\" + year\n",
    "\n",
    "    html = urlopen(url)\n",
    "    soup = BeautifulSoup(html, 'lxml')\n",
    "    \n",
    "    # Extract the text from the <p> tag containing the JSON-like content\n",
    "    json_text = soup.find('p').get_text()\n",
    "\n",
    "    # Convert the JSON text to a Python dictionary\n",
    "    data = json.loads(json_text)\n",
    "\n",
    "    tournaments = []\n",
    "\n",
    "    for tournament_dict in data[\"events\"]:\n",
    "        # List of keys to keep\n",
    "        keys_to_keep = ['eventId', 'eventLivId', 'eventTitle', 'endDate']\n",
    "\n",
    "        # Create a new dictionary with only the keys you want\n",
    "        new_d = {key: tournament_dict[key] for key in keys_to_keep if key in tournament_dict}\n",
    "\n",
    "        tournaments.append(new_d)\n",
    "\n",
    "    tournament_info = pd.DataFrame(tournaments)\n",
    "    \n",
    "    return tournament_info"
   ]
  },
  {
   "cell_type": "code",
   "execution_count": 19,
   "metadata": {},
   "outputs": [
    {
     "name": "stderr",
     "output_type": "stream",
     "text": [
      "Processing tournaments: 100%|██████████| 33/33 [00:02<00:00, 12.27it/s]\n"
     ]
    },
    {
     "data": {
      "text/html": [
       "<div>\n",
       "<style scoped>\n",
       "    .dataframe tbody tr th:only-of-type {\n",
       "        vertical-align: middle;\n",
       "    }\n",
       "\n",
       "    .dataframe tbody tr th {\n",
       "        vertical-align: top;\n",
       "    }\n",
       "\n",
       "    .dataframe thead th {\n",
       "        text-align: right;\n",
       "    }\n",
       "</style>\n",
       "<table border=\"1\" class=\"dataframe\">\n",
       "  <thead>\n",
       "    <tr style=\"text-align: right;\">\n",
       "      <th></th>\n",
       "      <th>name</th>\n",
       "      <th>position</th>\n",
       "      <th>totalScore</th>\n",
       "      <th>player_id_liv</th>\n",
       "      <th>R1_topar</th>\n",
       "      <th>R2_topar</th>\n",
       "      <th>R3_topar</th>\n",
       "      <th>tournament_id_liv</th>\n",
       "      <th>R1</th>\n",
       "      <th>R2</th>\n",
       "      <th>R3</th>\n",
       "      <th>AGG</th>\n",
       "      <th>R4_topar</th>\n",
       "    </tr>\n",
       "  </thead>\n",
       "  <tbody>\n",
       "    <tr>\n",
       "      <th>0</th>\n",
       "      <td>Eugenio Chacarra</td>\n",
       "      <td>1.0</td>\n",
       "      <td>-19</td>\n",
       "      <td>57</td>\n",
       "      <td>-7.0</td>\n",
       "      <td>-9.0</td>\n",
       "      <td>-3.0</td>\n",
       "      <td>6</td>\n",
       "      <td>65.0</td>\n",
       "      <td>63.0</td>\n",
       "      <td>69.0</td>\n",
       "      <td>197.0</td>\n",
       "      <td>NaN</td>\n",
       "    </tr>\n",
       "    <tr>\n",
       "      <th>1</th>\n",
       "      <td>Patrick Reed</td>\n",
       "      <td>2.0</td>\n",
       "      <td>-16</td>\n",
       "      <td>54</td>\n",
       "      <td>-4.0</td>\n",
       "      <td>-7.0</td>\n",
       "      <td>-5.0</td>\n",
       "      <td>6</td>\n",
       "      <td>68.0</td>\n",
       "      <td>65.0</td>\n",
       "      <td>67.0</td>\n",
       "      <td>200.0</td>\n",
       "      <td>NaN</td>\n",
       "    </tr>\n",
       "    <tr>\n",
       "      <th>2</th>\n",
       "      <td>Paul Casey</td>\n",
       "      <td>3.0</td>\n",
       "      <td>-15</td>\n",
       "      <td>58</td>\n",
       "      <td>-1.0</td>\n",
       "      <td>-7.0</td>\n",
       "      <td>-7.0</td>\n",
       "      <td>6</td>\n",
       "      <td>71.0</td>\n",
       "      <td>65.0</td>\n",
       "      <td>65.0</td>\n",
       "      <td>201.0</td>\n",
       "      <td>NaN</td>\n",
       "    </tr>\n",
       "    <tr>\n",
       "      <th>3</th>\n",
       "      <td>Richard Bland</td>\n",
       "      <td>4.0</td>\n",
       "      <td>-15</td>\n",
       "      <td>2</td>\n",
       "      <td>-7.0</td>\n",
       "      <td>-4.0</td>\n",
       "      <td>-4.0</td>\n",
       "      <td>6</td>\n",
       "      <td>65.0</td>\n",
       "      <td>68.0</td>\n",
       "      <td>68.0</td>\n",
       "      <td>201.0</td>\n",
       "      <td>NaN</td>\n",
       "    </tr>\n",
       "    <tr>\n",
       "      <th>4</th>\n",
       "      <td>Sihwan Kim</td>\n",
       "      <td>5.0</td>\n",
       "      <td>-15</td>\n",
       "      <td>17</td>\n",
       "      <td>-5.0</td>\n",
       "      <td>-6.0</td>\n",
       "      <td>-4.0</td>\n",
       "      <td>6</td>\n",
       "      <td>67.0</td>\n",
       "      <td>66.0</td>\n",
       "      <td>68.0</td>\n",
       "      <td>201.0</td>\n",
       "      <td>NaN</td>\n",
       "    </tr>\n",
       "    <tr>\n",
       "      <th>...</th>\n",
       "      <td>...</td>\n",
       "      <td>...</td>\n",
       "      <td>...</td>\n",
       "      <td>...</td>\n",
       "      <td>...</td>\n",
       "      <td>...</td>\n",
       "      <td>...</td>\n",
       "      <td>...</td>\n",
       "      <td>...</td>\n",
       "      <td>...</td>\n",
       "      <td>...</td>\n",
       "      <td>...</td>\n",
       "      <td>...</td>\n",
       "    </tr>\n",
       "    <tr>\n",
       "      <th>1666</th>\n",
       "      <td>Mito Pereira</td>\n",
       "      <td>50.0</td>\n",
       "      <td>+5</td>\n",
       "      <td>74</td>\n",
       "      <td>3.0</td>\n",
       "      <td>1.0</td>\n",
       "      <td>1.0</td>\n",
       "      <td>36</td>\n",
       "      <td>73.0</td>\n",
       "      <td>71.0</td>\n",
       "      <td>71.0</td>\n",
       "      <td>215.0</td>\n",
       "      <td>NaN</td>\n",
       "    </tr>\n",
       "    <tr>\n",
       "      <th>1667</th>\n",
       "      <td>Jason Kokrak</td>\n",
       "      <td>51.0</td>\n",
       "      <td>+6</td>\n",
       "      <td>60</td>\n",
       "      <td>3.0</td>\n",
       "      <td>3.0</td>\n",
       "      <td>0.0</td>\n",
       "      <td>36</td>\n",
       "      <td>73.0</td>\n",
       "      <td>73.0</td>\n",
       "      <td>70.0</td>\n",
       "      <td>216.0</td>\n",
       "      <td>NaN</td>\n",
       "    </tr>\n",
       "    <tr>\n",
       "      <th>1668</th>\n",
       "      <td>Cameron Smith</td>\n",
       "      <td>52.0</td>\n",
       "      <td>+10</td>\n",
       "      <td>63</td>\n",
       "      <td>3.0</td>\n",
       "      <td>3.0</td>\n",
       "      <td>4.0</td>\n",
       "      <td>36</td>\n",
       "      <td>73.0</td>\n",
       "      <td>73.0</td>\n",
       "      <td>74.0</td>\n",
       "      <td>220.0</td>\n",
       "      <td>NaN</td>\n",
       "    </tr>\n",
       "    <tr>\n",
       "      <th>1669</th>\n",
       "      <td>Hudson Swafford</td>\n",
       "      <td>53.0</td>\n",
       "      <td>+13</td>\n",
       "      <td>36</td>\n",
       "      <td>8.0</td>\n",
       "      <td>8.0</td>\n",
       "      <td>-3.0</td>\n",
       "      <td>36</td>\n",
       "      <td>78.0</td>\n",
       "      <td>78.0</td>\n",
       "      <td>67.0</td>\n",
       "      <td>223.0</td>\n",
       "      <td>NaN</td>\n",
       "    </tr>\n",
       "    <tr>\n",
       "      <th>1670</th>\n",
       "      <td>Caleb Surratt</td>\n",
       "      <td>54.0</td>\n",
       "      <td>+18</td>\n",
       "      <td>149</td>\n",
       "      <td>10.0</td>\n",
       "      <td>3.0</td>\n",
       "      <td>5.0</td>\n",
       "      <td>36</td>\n",
       "      <td>80.0</td>\n",
       "      <td>73.0</td>\n",
       "      <td>75.0</td>\n",
       "      <td>228.0</td>\n",
       "      <td>NaN</td>\n",
       "    </tr>\n",
       "  </tbody>\n",
       "</table>\n",
       "<p>1671 rows × 13 columns</p>\n",
       "</div>"
      ],
      "text/plain": [
       "                  name  position totalScore player_id_liv  R1_topar  R2_topar  \\\n",
       "0     Eugenio Chacarra       1.0        -19            57      -7.0      -9.0   \n",
       "1         Patrick Reed       2.0        -16            54      -4.0      -7.0   \n",
       "2           Paul Casey       3.0        -15            58      -1.0      -7.0   \n",
       "3        Richard Bland       4.0        -15             2      -7.0      -4.0   \n",
       "4           Sihwan Kim       5.0        -15            17      -5.0      -6.0   \n",
       "...                ...       ...        ...           ...       ...       ...   \n",
       "1666      Mito Pereira      50.0         +5            74       3.0       1.0   \n",
       "1667      Jason Kokrak      51.0         +6            60       3.0       3.0   \n",
       "1668     Cameron Smith      52.0        +10            63       3.0       3.0   \n",
       "1669   Hudson Swafford      53.0        +13            36       8.0       8.0   \n",
       "1670     Caleb Surratt      54.0        +18           149      10.0       3.0   \n",
       "\n",
       "      R3_topar tournament_id_liv    R1    R2    R3    AGG R4_topar  \n",
       "0         -3.0                 6  65.0  63.0  69.0  197.0      NaN  \n",
       "1         -5.0                 6  68.0  65.0  67.0  200.0      NaN  \n",
       "2         -7.0                 6  71.0  65.0  65.0  201.0      NaN  \n",
       "3         -4.0                 6  65.0  68.0  68.0  201.0      NaN  \n",
       "4         -4.0                 6  67.0  66.0  68.0  201.0      NaN  \n",
       "...        ...               ...   ...   ...   ...    ...      ...  \n",
       "1666       1.0                36  73.0  71.0  71.0  215.0      NaN  \n",
       "1667       0.0                36  73.0  73.0  70.0  216.0      NaN  \n",
       "1668       4.0                36  73.0  73.0  74.0  220.0      NaN  \n",
       "1669      -3.0                36  78.0  78.0  67.0  223.0      NaN  \n",
       "1670       5.0                36  80.0  73.0  75.0  228.0      NaN  \n",
       "\n",
       "[1671 rows x 13 columns]"
      ]
     },
     "execution_count": 19,
     "metadata": {},
     "output_type": "execute_result"
    }
   ],
   "source": [
    "# gathering all liv tournaments for 2022 - 2024 excluing events 8 and 37 which are some team championships and 23 which is a promotion event\n",
    "tournament_ids = list(range(1, 37))\n",
    "tournament_ids.remove(8)\n",
    "tournament_ids.remove(21)\n",
    "tournament_ids.remove(23)\n",
    "\n",
    "liv_results = process_tournaments_liv(tournament_ids)\n",
    "liv_results"
   ]
  },
  {
   "cell_type": "code",
   "execution_count": 20,
   "metadata": {},
   "outputs": [
    {
     "data": {
      "text/html": [
       "<div>\n",
       "<style scoped>\n",
       "    .dataframe tbody tr th:only-of-type {\n",
       "        vertical-align: middle;\n",
       "    }\n",
       "\n",
       "    .dataframe tbody tr th {\n",
       "        vertical-align: top;\n",
       "    }\n",
       "\n",
       "    .dataframe thead th {\n",
       "        text-align: right;\n",
       "    }\n",
       "</style>\n",
       "<table border=\"1\" class=\"dataframe\">\n",
       "  <thead>\n",
       "    <tr style=\"text-align: right;\">\n",
       "      <th></th>\n",
       "      <th>eventId</th>\n",
       "      <th>eventLivId</th>\n",
       "      <th>eventTitle</th>\n",
       "      <th>endDate</th>\n",
       "    </tr>\n",
       "  </thead>\n",
       "  <tbody>\n",
       "    <tr>\n",
       "      <th>0</th>\n",
       "      <td>1</td>\n",
       "      <td>None</td>\n",
       "      <td>London</td>\n",
       "      <td>2022-06-11T18:00:00.000+01:00</td>\n",
       "    </tr>\n",
       "    <tr>\n",
       "      <th>1</th>\n",
       "      <td>2</td>\n",
       "      <td>None</td>\n",
       "      <td>Portland</td>\n",
       "      <td>2022-07-02T19:00:00.000-05:00</td>\n",
       "    </tr>\n",
       "    <tr>\n",
       "      <th>2</th>\n",
       "      <td>3</td>\n",
       "      <td>None</td>\n",
       "      <td>Bedminster</td>\n",
       "      <td>2022-07-31T19:00:00.000-06:00</td>\n",
       "    </tr>\n",
       "    <tr>\n",
       "      <th>3</th>\n",
       "      <td>4</td>\n",
       "      <td>None</td>\n",
       "      <td>Boston</td>\n",
       "      <td>2022-09-04T19:00:00.000-05:00</td>\n",
       "    </tr>\n",
       "    <tr>\n",
       "      <th>4</th>\n",
       "      <td>5</td>\n",
       "      <td>None</td>\n",
       "      <td>Chicago</td>\n",
       "      <td>2022-09-18T19:00:00.000-06:00</td>\n",
       "    </tr>\n",
       "    <tr>\n",
       "      <th>5</th>\n",
       "      <td>6</td>\n",
       "      <td>None</td>\n",
       "      <td>Bangkok</td>\n",
       "      <td>2022-10-09T18:00:00.000+07:00</td>\n",
       "    </tr>\n",
       "    <tr>\n",
       "      <th>6</th>\n",
       "      <td>7</td>\n",
       "      <td>None</td>\n",
       "      <td>Jeddah</td>\n",
       "      <td>2022-10-16T18:00:00.000+03:00</td>\n",
       "    </tr>\n",
       "    <tr>\n",
       "      <th>7</th>\n",
       "      <td>9</td>\n",
       "      <td>None</td>\n",
       "      <td>Mayakoba</td>\n",
       "      <td>2023-02-26T23:59:00.000-05:00</td>\n",
       "    </tr>\n",
       "    <tr>\n",
       "      <th>8</th>\n",
       "      <td>10</td>\n",
       "      <td>None</td>\n",
       "      <td>Tucson</td>\n",
       "      <td>2023-03-19T18:00:00.000-07:00</td>\n",
       "    </tr>\n",
       "    <tr>\n",
       "      <th>9</th>\n",
       "      <td>11</td>\n",
       "      <td>None</td>\n",
       "      <td>Orlando</td>\n",
       "      <td>2023-04-02T21:00:00.000-05:00</td>\n",
       "    </tr>\n",
       "    <tr>\n",
       "      <th>10</th>\n",
       "      <td>12</td>\n",
       "      <td>None</td>\n",
       "      <td>Adelaide</td>\n",
       "      <td>2023-04-23T17:00:00.000+09:30</td>\n",
       "    </tr>\n",
       "    <tr>\n",
       "      <th>11</th>\n",
       "      <td>13</td>\n",
       "      <td>None</td>\n",
       "      <td>Singapore</td>\n",
       "      <td>2023-04-30T15:00:00.000+08:00</td>\n",
       "    </tr>\n",
       "    <tr>\n",
       "      <th>12</th>\n",
       "      <td>14</td>\n",
       "      <td>None</td>\n",
       "      <td>Tulsa</td>\n",
       "      <td>2023-05-14T18:00:00.000-05:00</td>\n",
       "    </tr>\n",
       "    <tr>\n",
       "      <th>13</th>\n",
       "      <td>15</td>\n",
       "      <td>None</td>\n",
       "      <td>DC</td>\n",
       "      <td>2023-05-28T18:00:00.000-04:00</td>\n",
       "    </tr>\n",
       "    <tr>\n",
       "      <th>14</th>\n",
       "      <td>16</td>\n",
       "      <td>None</td>\n",
       "      <td>Andalucía</td>\n",
       "      <td>2023-07-02T17:00:00.000+02:00</td>\n",
       "    </tr>\n",
       "    <tr>\n",
       "      <th>15</th>\n",
       "      <td>17</td>\n",
       "      <td>None</td>\n",
       "      <td>London</td>\n",
       "      <td>2023-07-09T19:00:00.000+01:00</td>\n",
       "    </tr>\n",
       "    <tr>\n",
       "      <th>16</th>\n",
       "      <td>18</td>\n",
       "      <td>None</td>\n",
       "      <td>Greenbrier</td>\n",
       "      <td>2023-08-06T13:45:00.000-04:00</td>\n",
       "    </tr>\n",
       "    <tr>\n",
       "      <th>17</th>\n",
       "      <td>19</td>\n",
       "      <td>None</td>\n",
       "      <td>Bedminster</td>\n",
       "      <td>2023-08-13T18:30:00.000-04:00</td>\n",
       "    </tr>\n",
       "    <tr>\n",
       "      <th>18</th>\n",
       "      <td>20</td>\n",
       "      <td>None</td>\n",
       "      <td>Chicago</td>\n",
       "      <td>2023-09-24T18:00:00.000-05:00</td>\n",
       "    </tr>\n",
       "    <tr>\n",
       "      <th>19</th>\n",
       "      <td>22</td>\n",
       "      <td>None</td>\n",
       "      <td>Jeddah</td>\n",
       "      <td>2023-10-15T16:30:00.000+03:00</td>\n",
       "    </tr>\n",
       "    <tr>\n",
       "      <th>20</th>\n",
       "      <td>23</td>\n",
       "      <td>None</td>\n",
       "      <td>Promotions Event</td>\n",
       "      <td>2023-12-10T17:00:00.000+04:00</td>\n",
       "    </tr>\n",
       "    <tr>\n",
       "      <th>21</th>\n",
       "      <td>24</td>\n",
       "      <td>10022</td>\n",
       "      <td>Mayakoba</td>\n",
       "      <td>2024-02-04T18:00:00.000-05:00</td>\n",
       "    </tr>\n",
       "    <tr>\n",
       "      <th>22</th>\n",
       "      <td>25</td>\n",
       "      <td>10021</td>\n",
       "      <td>Las Vegas</td>\n",
       "      <td>2024-02-10T15:40:00.000-08:00</td>\n",
       "    </tr>\n",
       "    <tr>\n",
       "      <th>23</th>\n",
       "      <td>26</td>\n",
       "      <td>10024</td>\n",
       "      <td>Jeddah</td>\n",
       "      <td>2024-03-03T16:00:00.000+03:00</td>\n",
       "    </tr>\n",
       "    <tr>\n",
       "      <th>24</th>\n",
       "      <td>27</td>\n",
       "      <td>10019</td>\n",
       "      <td>Hong Kong</td>\n",
       "      <td>2024-03-10T17:30:00.000+08:00</td>\n",
       "    </tr>\n",
       "    <tr>\n",
       "      <th>25</th>\n",
       "      <td>28</td>\n",
       "      <td>10028</td>\n",
       "      <td>Miami</td>\n",
       "      <td>2024-04-07T18:00:00.000-04:00</td>\n",
       "    </tr>\n",
       "    <tr>\n",
       "      <th>26</th>\n",
       "      <td>29</td>\n",
       "      <td>10016</td>\n",
       "      <td>Adelaide</td>\n",
       "      <td>2024-04-28T16:30:00.000+09:30</td>\n",
       "    </tr>\n",
       "    <tr>\n",
       "      <th>27</th>\n",
       "      <td>30</td>\n",
       "      <td>10025</td>\n",
       "      <td>Singapore</td>\n",
       "      <td>2024-05-05T13:15:00.000+08:00</td>\n",
       "    </tr>\n",
       "    <tr>\n",
       "      <th>28</th>\n",
       "      <td>31</td>\n",
       "      <td>10020</td>\n",
       "      <td>Houston</td>\n",
       "      <td>2024-06-09T17:00:00.000-06:00</td>\n",
       "    </tr>\n",
       "    <tr>\n",
       "      <th>29</th>\n",
       "      <td>32</td>\n",
       "      <td>10023</td>\n",
       "      <td>Nashville</td>\n",
       "      <td>2024-06-23T17:30:00.000-05:00</td>\n",
       "    </tr>\n",
       "    <tr>\n",
       "      <th>30</th>\n",
       "      <td>33</td>\n",
       "      <td>10017</td>\n",
       "      <td>Andalucía</td>\n",
       "      <td>2024-07-14T18:15:00.000+02:00</td>\n",
       "    </tr>\n",
       "    <tr>\n",
       "      <th>31</th>\n",
       "      <td>34</td>\n",
       "      <td>10026</td>\n",
       "      <td>United Kingdom</td>\n",
       "      <td>2024-07-28T19:15:00.000+01:00</td>\n",
       "    </tr>\n",
       "    <tr>\n",
       "      <th>32</th>\n",
       "      <td>35</td>\n",
       "      <td>10018</td>\n",
       "      <td>Greenbrier</td>\n",
       "      <td>2024-08-18T18:15:00.000-04:00</td>\n",
       "    </tr>\n",
       "    <tr>\n",
       "      <th>33</th>\n",
       "      <td>36</td>\n",
       "      <td>10027</td>\n",
       "      <td>Chicago</td>\n",
       "      <td>2024-09-15T18:00:00.000-05:00</td>\n",
       "    </tr>\n",
       "  </tbody>\n",
       "</table>\n",
       "</div>"
      ],
      "text/plain": [
       "    eventId eventLivId        eventTitle                        endDate\n",
       "0         1       None            London  2022-06-11T18:00:00.000+01:00\n",
       "1         2       None          Portland  2022-07-02T19:00:00.000-05:00\n",
       "2         3       None        Bedminster  2022-07-31T19:00:00.000-06:00\n",
       "3         4       None            Boston  2022-09-04T19:00:00.000-05:00\n",
       "4         5       None           Chicago  2022-09-18T19:00:00.000-06:00\n",
       "5         6       None           Bangkok  2022-10-09T18:00:00.000+07:00\n",
       "6         7       None            Jeddah  2022-10-16T18:00:00.000+03:00\n",
       "7         9       None          Mayakoba  2023-02-26T23:59:00.000-05:00\n",
       "8        10       None            Tucson  2023-03-19T18:00:00.000-07:00\n",
       "9        11       None           Orlando  2023-04-02T21:00:00.000-05:00\n",
       "10       12       None          Adelaide  2023-04-23T17:00:00.000+09:30\n",
       "11       13       None         Singapore  2023-04-30T15:00:00.000+08:00\n",
       "12       14       None             Tulsa  2023-05-14T18:00:00.000-05:00\n",
       "13       15       None                DC  2023-05-28T18:00:00.000-04:00\n",
       "14       16       None         Andalucía  2023-07-02T17:00:00.000+02:00\n",
       "15       17       None            London  2023-07-09T19:00:00.000+01:00\n",
       "16       18       None        Greenbrier  2023-08-06T13:45:00.000-04:00\n",
       "17       19       None        Bedminster  2023-08-13T18:30:00.000-04:00\n",
       "18       20       None           Chicago  2023-09-24T18:00:00.000-05:00\n",
       "19       22       None            Jeddah  2023-10-15T16:30:00.000+03:00\n",
       "20       23       None  Promotions Event  2023-12-10T17:00:00.000+04:00\n",
       "21       24      10022          Mayakoba  2024-02-04T18:00:00.000-05:00\n",
       "22       25      10021         Las Vegas  2024-02-10T15:40:00.000-08:00\n",
       "23       26      10024            Jeddah  2024-03-03T16:00:00.000+03:00\n",
       "24       27      10019         Hong Kong  2024-03-10T17:30:00.000+08:00\n",
       "25       28      10028             Miami  2024-04-07T18:00:00.000-04:00\n",
       "26       29      10016          Adelaide  2024-04-28T16:30:00.000+09:30\n",
       "27       30      10025         Singapore  2024-05-05T13:15:00.000+08:00\n",
       "28       31      10020           Houston  2024-06-09T17:00:00.000-06:00\n",
       "29       32      10023         Nashville  2024-06-23T17:30:00.000-05:00\n",
       "30       33      10017         Andalucía  2024-07-14T18:15:00.000+02:00\n",
       "31       34      10026    United Kingdom  2024-07-28T19:15:00.000+01:00\n",
       "32       35      10018       Greenbrier   2024-08-18T18:15:00.000-04:00\n",
       "33       36      10027           Chicago  2024-09-15T18:00:00.000-05:00"
      ]
     },
     "execution_count": 20,
     "metadata": {},
     "output_type": "execute_result"
    }
   ],
   "source": [
    "years = [2022, 2023, 2024]\n",
    "\n",
    "liv_info = []\n",
    "for year in years:\n",
    "    liv_info.append(get_tournament_info_liv(year))\n",
    "\n",
    "liv_info_df = pd.concat(liv_info)\n",
    "liv_info_df[\"eventId\"] = liv_info_df[\"eventId\"].astype(int)\n",
    "\n",
    "# remove team championships\n",
    "liv_info_df = liv_info_df[liv_info_df[\"eventId\"] != 21]\n",
    "liv_info_df = liv_info_df[liv_info_df[\"eventId\"] != 37]\n",
    "\n",
    "liv_info_df = liv_info_df.sort_values(by=\"eventId\").reset_index(drop=True)\n",
    "liv_info_df"
   ]
  },
  {
   "cell_type": "markdown",
   "metadata": {},
   "source": [
    "# Merge the datasets"
   ]
  },
  {
   "cell_type": "code",
   "execution_count": 84,
   "metadata": {},
   "outputs": [
    {
     "data": {
      "text/html": [
       "<div>\n",
       "<style scoped>\n",
       "    .dataframe tbody tr th:only-of-type {\n",
       "        vertical-align: middle;\n",
       "    }\n",
       "\n",
       "    .dataframe tbody tr th {\n",
       "        vertical-align: top;\n",
       "    }\n",
       "\n",
       "    .dataframe thead th {\n",
       "        text-align: right;\n",
       "    }\n",
       "</style>\n",
       "<table border=\"1\" class=\"dataframe\">\n",
       "  <thead>\n",
       "    <tr style=\"text-align: right;\">\n",
       "      <th></th>\n",
       "      <th>name</th>\n",
       "      <th>player_id_liv</th>\n",
       "      <th>NAME</th>\n",
       "      <th>player_id</th>\n",
       "    </tr>\n",
       "  </thead>\n",
       "  <tbody>\n",
       "    <tr>\n",
       "      <th>0</th>\n",
       "      <td>Oliver Bekker</td>\n",
       "      <td>1</td>\n",
       "      <td>Oliver Bekker</td>\n",
       "      <td>12819</td>\n",
       "    </tr>\n",
       "    <tr>\n",
       "      <th>1</th>\n",
       "      <td>Richard Bland</td>\n",
       "      <td>2</td>\n",
       "      <td>Richard Bland</td>\n",
       "      <td>6516</td>\n",
       "    </tr>\n",
       "    <tr>\n",
       "      <th>2</th>\n",
       "      <td>Laurie Canter</td>\n",
       "      <td>3</td>\n",
       "      <td>Laurie Canter</td>\n",
       "      <td>14795</td>\n",
       "    </tr>\n",
       "    <tr>\n",
       "      <th>3</th>\n",
       "      <td>Ratchanon Chantananuwat</td>\n",
       "      <td>4</td>\n",
       "      <td>Ratchanon TK Chantananuwat(Am)</td>\n",
       "      <td>27275</td>\n",
       "    </tr>\n",
       "    <tr>\n",
       "      <th>4</th>\n",
       "      <td>Hennie Du Plessis</td>\n",
       "      <td>5</td>\n",
       "      <td>Hennie Du Plessis</td>\n",
       "      <td>19421</td>\n",
       "    </tr>\n",
       "    <tr>\n",
       "      <th>...</th>\n",
       "      <td>...</td>\n",
       "      <td>...</td>\n",
       "      <td>...</td>\n",
       "      <td>...</td>\n",
       "    </tr>\n",
       "    <tr>\n",
       "      <th>80</th>\n",
       "      <td>Caleb Surratt</td>\n",
       "      <td>149</td>\n",
       "      <td>Caleb Surratt</td>\n",
       "      <td>30463</td>\n",
       "    </tr>\n",
       "    <tr>\n",
       "      <th>81</th>\n",
       "      <td>Lucas Herbert</td>\n",
       "      <td>150</td>\n",
       "      <td>Lucas Herbert</td>\n",
       "      <td>17064</td>\n",
       "    </tr>\n",
       "    <tr>\n",
       "      <th>82</th>\n",
       "      <td>Anthony Kim</td>\n",
       "      <td>151</td>\n",
       "      <td>Anthony Kim</td>\n",
       "      <td>11641</td>\n",
       "    </tr>\n",
       "    <tr>\n",
       "      <th>83</th>\n",
       "      <td>Adrian Meronk</td>\n",
       "      <td>152</td>\n",
       "      <td>Adrian Meronk</td>\n",
       "      <td>14196</td>\n",
       "    </tr>\n",
       "    <tr>\n",
       "      <th>84</th>\n",
       "      <td>John Catlin</td>\n",
       "      <td>153</td>\n",
       "      <td>John Catlin</td>\n",
       "      <td>18524</td>\n",
       "    </tr>\n",
       "  </tbody>\n",
       "</table>\n",
       "<p>85 rows × 4 columns</p>\n",
       "</div>"
      ],
      "text/plain": [
       "                       name  player_id_liv                            NAME  \\\n",
       "0             Oliver Bekker              1                   Oliver Bekker   \n",
       "1             Richard Bland              2                   Richard Bland   \n",
       "2             Laurie Canter              3                   Laurie Canter   \n",
       "3   Ratchanon Chantananuwat              4  Ratchanon TK Chantananuwat(Am)   \n",
       "4         Hennie Du Plessis              5               Hennie Du Plessis   \n",
       "..                      ...            ...                             ...   \n",
       "80            Caleb Surratt            149                   Caleb Surratt   \n",
       "81            Lucas Herbert            150                   Lucas Herbert   \n",
       "82              Anthony Kim            151                     Anthony Kim   \n",
       "83            Adrian Meronk            152                   Adrian Meronk   \n",
       "84              John Catlin            153                     John Catlin   \n",
       "\n",
       "    player_id  \n",
       "0       12819  \n",
       "1        6516  \n",
       "2       14795  \n",
       "3       27275  \n",
       "4       19421  \n",
       "..        ...  \n",
       "80      30463  \n",
       "81      17064  \n",
       "82      11641  \n",
       "83      14196  \n",
       "84      18524  \n",
       "\n",
       "[85 rows x 4 columns]"
      ]
     },
     "execution_count": 84,
     "metadata": {},
     "output_type": "execute_result"
    }
   ],
   "source": [
    "liv_names = liv_results[[\"name\", \"player_id_liv\"]].drop_duplicates(\"name\")\n",
    "liv_names[\"player_id_liv\"] = liv_names[\"player_id_liv\"].astype(int)\n",
    "liv_names = liv_names.sort_values(\"player_id_liv\").reset_index(drop=True)\n",
    "\n",
    "# in dataset some names have a trailing space and two names are different\n",
    "def fix_name_liv(name):\n",
    "    if name[-1] == \" \":\n",
    "        return name[:-1]\n",
    "    # special cases\n",
    "    elif name == \"Mito Pereira\":\n",
    "        return \"Guillermo Mito Pereira\"\n",
    "    elif name == \"Ratchanon Chantananuwat\":\n",
    "        return \"Ratchanon TK Chantananuwat(Am)\"\n",
    "    else:\n",
    "        return name\n",
    "\n",
    "liv_names[\"NAME\"] = liv_names[\"name\"].apply(lambda x: fix_name_liv(x))\n",
    "liv_names\n",
    "\n",
    "# gather owgr names\n",
    "pga_names = tournament_scores[[\"NAME\", \"player_id\"]].drop_duplicates(\"NAME\")\n",
    "\n",
    "# bonus points get added as a name and mess things up\n",
    "pga_names = pga_names[pga_names[\"player_id\"] != \"\"]\n",
    "\n",
    "pga_names[\"player_id\"] = pga_names[\"player_id\"].astype(int)\n",
    "pga_names = pga_names.sort_values(\"player_id\").reset_index(drop=True)\n",
    "\n",
    "df_merged = liv_names.merge(pga_names, how=\"inner\", on=\"NAME\")\n",
    "\n",
    "# check that all are matches\n",
    "assert len(df_merged) == len(liv_names)\n",
    "\n",
    "df_merged"
   ]
  },
  {
   "cell_type": "code",
   "execution_count": 89,
   "metadata": {},
   "outputs": [
    {
     "data": {
      "text/plain": [
       "{'Oliver Bekker': 'Oliver Bekker',\n",
       " 'Richard Bland': 'Richard Bland',\n",
       " 'Laurie Canter': 'Laurie Canter',\n",
       " 'Ratchanon Chantananuwat': 'Ratchanon TK Chantananuwat(Am)',\n",
       " 'Hennie Du Plessis': 'Hennie Du Plessis',\n",
       " 'Oliver Fisher': 'Oliver Fisher',\n",
       " 'Sergio Garcia': 'Sergio Garcia',\n",
       " 'Talor Gooch': 'Talor Gooch',\n",
       " 'Branden Grace': 'Branden Grace',\n",
       " 'Justin Harding': 'Justin Harding',\n",
       " 'Sam Horsfield': 'Sam Horsfield',\n",
       " 'Dustin Johnson ': 'Dustin Johnson',\n",
       " 'Matt Jones': 'Matt Jones',\n",
       " 'Sadom Kaewkanjana': 'Sadom Kaewkanjana',\n",
       " 'Martin Kaymer': 'Martin Kaymer',\n",
       " 'Phachara Khongwatmai': 'Phachara Khongwatmai',\n",
       " 'Sihwan Kim': 'Sihwan Kim',\n",
       " 'Ryosuke Kinoshita': 'Ryosuke Kinoshita',\n",
       " 'Chase Koepka': 'Chase Koepka',\n",
       " 'Jinichiro Kozuma': 'Jinichiro Kozuma',\n",
       " 'Pablo Larrazabal': 'Pablo Larrazabal',\n",
       " 'Graeme McDowell ': 'Graeme McDowell',\n",
       " 'Jediah Morgan': 'Jediah Morgan',\n",
       " 'Kevin Na': 'Kevin Na',\n",
       " 'Shaun Norris': 'Shaun Norris',\n",
       " 'Andy Ogletree': 'Andy Ogletree',\n",
       " 'Louis Oosthuizen ': 'Louis Oosthuizen',\n",
       " 'Wade Ormsby': 'Wade Ormsby',\n",
       " 'Adrian Otaegui': 'Adrian Otaegui',\n",
       " 'Turk Pettit': 'Turk Pettit',\n",
       " 'James Piot': 'James Piot',\n",
       " 'Ian Poulter': 'Ian Poulter',\n",
       " 'David Puig': 'David Puig',\n",
       " 'JC Ritchie': 'JC Ritchie',\n",
       " 'Charl Schwartzel': 'Charl Schwartzel',\n",
       " 'Hudson Swafford': 'Hudson Swafford',\n",
       " 'Hideto Tanihara': 'Hideto Tanihara',\n",
       " 'Peter Uihlein': 'Peter Uihlein',\n",
       " 'Scott Vincent': 'Scott Vincent',\n",
       " 'Lee Westwood': 'Lee Westwood',\n",
       " 'Bernd Wiesberger': 'Bernd Wiesberger',\n",
       " 'Blake Windred': 'Blake Windred',\n",
       " 'Phil Mickelson': 'Phil Mickelson',\n",
       " 'Itthipat Buranatanyarat': 'Itthipat Buranatanyarat',\n",
       " 'Viraj Madappa': 'Viraj Madappa',\n",
       " 'Travis Smyth': 'Travis Smyth',\n",
       " 'Ian Snyman': 'Ian Snyman',\n",
       " 'Kevin Yuan': 'Kevin Yuan',\n",
       " 'Abraham Ancer': 'Abraham Ancer',\n",
       " 'Bryson DeChambeau': 'Bryson DeChambeau',\n",
       " 'Yuki Inamori': 'Yuki Inamori',\n",
       " 'Brooks Koepka': 'Brooks Koepka',\n",
       " 'Pat Perez': 'Pat Perez',\n",
       " 'Patrick Reed': 'Patrick Reed',\n",
       " 'Matthew Wolff ': 'Matthew Wolff',\n",
       " 'Carlos Ortiz': 'Carlos Ortiz',\n",
       " 'Eugenio Chacarra': 'Eugenio Chacarra',\n",
       " 'Paul Casey': 'Paul Casey',\n",
       " 'Charles Howell III': 'Charles Howell III',\n",
       " 'Jason Kokrak': 'Jason Kokrak',\n",
       " 'Henrik Stenson': 'Henrik Stenson',\n",
       " 'Anirban Lahiri': 'Anirban Lahiri',\n",
       " 'Cameron Smith': 'Cameron Smith',\n",
       " 'Joaquin Niemann': 'Joaquin Niemann',\n",
       " 'Harold Varner III': 'Harold Varner III',\n",
       " 'Marc Leishman ': 'Marc Leishman',\n",
       " 'Cameron Tringale': 'Cameron Tringale',\n",
       " 'Shergo Al Kurdi': 'Shergo Al Kurdi',\n",
       " 'Bubba Watson': 'Bubba Watson',\n",
       " 'Sebastian Munoz': 'Sebastian Munoz',\n",
       " 'Mito Pereira': 'Guillermo Mito Pereira',\n",
       " 'Dean Burmester': 'Dean Burmester',\n",
       " 'Danny Lee': 'Danny Lee',\n",
       " 'Brendan Steele': 'Brendan Steele',\n",
       " 'Thomas Pieters': 'Thomas Pieters',\n",
       " 'Kieran Vincent': 'Kieran Vincent',\n",
       " 'Ben Campbell': 'Ben Campbell',\n",
       " 'Kalle Samooja': 'Kalle Samooja',\n",
       " 'Jon Rahm': 'Jon Rahm',\n",
       " 'Tyrrell Hatton': 'Tyrrell Hatton',\n",
       " 'Caleb Surratt': 'Caleb Surratt',\n",
       " 'Lucas Herbert': 'Lucas Herbert',\n",
       " 'Anthony Kim': 'Anthony Kim',\n",
       " 'Adrian Meronk': 'Adrian Meronk',\n",
       " 'John Catlin': 'John Catlin'}"
      ]
     },
     "execution_count": 89,
     "metadata": {},
     "output_type": "execute_result"
    }
   ],
   "source": [
    "name_dict"
   ]
  },
  {
   "cell_type": "code",
   "execution_count": 88,
   "metadata": {},
   "outputs": [
    {
     "data": {
      "text/plain": [
       "'Eugenio Chacarra'"
      ]
     },
     "execution_count": 88,
     "metadata": {},
     "output_type": "execute_result"
    }
   ],
   "source": [
    "liv_results.name.values[0]"
   ]
  },
  {
   "cell_type": "code",
   "execution_count": 187,
   "metadata": {},
   "outputs": [
    {
     "name": "stderr",
     "output_type": "stream",
     "text": [
      "/var/folders/76/xwx2gdv102jgvj2y2l_m0n8w0000gn/T/ipykernel_1658/939438895.py:30: DeprecationWarning: DataFrameGroupBy.apply operated on the grouping columns. This behavior is deprecated, and in a future version of pandas the grouping columns will be excluded from the operation. Either pass `include_groups=False` to exclude the groupings or explicitly select the grouping columns after groupby to silence this warning.\n",
      "  return df.groupby('tournament_id', group_keys=False).apply(calculate_finish_pos).reset_index(drop=True)\n"
     ]
    },
    {
     "data": {
      "text/html": [
       "<div>\n",
       "<style scoped>\n",
       "    .dataframe tbody tr th:only-of-type {\n",
       "        vertical-align: middle;\n",
       "    }\n",
       "\n",
       "    .dataframe tbody tr th {\n",
       "        vertical-align: top;\n",
       "    }\n",
       "\n",
       "    .dataframe thead th {\n",
       "        text-align: right;\n",
       "    }\n",
       "</style>\n",
       "<table border=\"1\" class=\"dataframe\">\n",
       "  <thead>\n",
       "    <tr style=\"text-align: right;\">\n",
       "      <th></th>\n",
       "      <th>name</th>\n",
       "      <th>position</th>\n",
       "      <th>totalScore</th>\n",
       "      <th>player_id_liv</th>\n",
       "      <th>R1_topar</th>\n",
       "      <th>R2_topar</th>\n",
       "      <th>R3_topar</th>\n",
       "      <th>tournament_id_liv</th>\n",
       "      <th>R1</th>\n",
       "      <th>R2</th>\n",
       "      <th>R3</th>\n",
       "      <th>AGG</th>\n",
       "      <th>R4_topar</th>\n",
       "      <th>player_id</th>\n",
       "      <th>NAME</th>\n",
       "      <th>tournament_id</th>\n",
       "      <th>Finish Pos</th>\n",
       "      <th>Finish Pos.</th>\n",
       "    </tr>\n",
       "  </thead>\n",
       "  <tbody>\n",
       "    <tr>\n",
       "      <th>0</th>\n",
       "      <td>Eugenio Chacarra</td>\n",
       "      <td>1.0</td>\n",
       "      <td>-19</td>\n",
       "      <td>57</td>\n",
       "      <td>-7.0</td>\n",
       "      <td>-9.0</td>\n",
       "      <td>-3.0</td>\n",
       "      <td>6</td>\n",
       "      <td>65.0</td>\n",
       "      <td>63.0</td>\n",
       "      <td>69.0</td>\n",
       "      <td>197.0</td>\n",
       "      <td>NaN</td>\n",
       "      <td>26745</td>\n",
       "      <td>Eugenio Chacarra</td>\n",
       "      <td>6_liv</td>\n",
       "      <td>T1</td>\n",
       "      <td>1</td>\n",
       "    </tr>\n",
       "    <tr>\n",
       "      <th>1</th>\n",
       "      <td>Patrick Reed</td>\n",
       "      <td>2.0</td>\n",
       "      <td>-16</td>\n",
       "      <td>54</td>\n",
       "      <td>-4.0</td>\n",
       "      <td>-7.0</td>\n",
       "      <td>-5.0</td>\n",
       "      <td>6</td>\n",
       "      <td>68.0</td>\n",
       "      <td>65.0</td>\n",
       "      <td>67.0</td>\n",
       "      <td>200.0</td>\n",
       "      <td>NaN</td>\n",
       "      <td>14838</td>\n",
       "      <td>Patrick Reed</td>\n",
       "      <td>6_liv</td>\n",
       "      <td>T1</td>\n",
       "      <td>2</td>\n",
       "    </tr>\n",
       "    <tr>\n",
       "      <th>2</th>\n",
       "      <td>Paul Casey</td>\n",
       "      <td>3.0</td>\n",
       "      <td>-15</td>\n",
       "      <td>58</td>\n",
       "      <td>-1.0</td>\n",
       "      <td>-7.0</td>\n",
       "      <td>-7.0</td>\n",
       "      <td>6</td>\n",
       "      <td>71.0</td>\n",
       "      <td>65.0</td>\n",
       "      <td>65.0</td>\n",
       "      <td>201.0</td>\n",
       "      <td>NaN</td>\n",
       "      <td>7108</td>\n",
       "      <td>Paul Casey</td>\n",
       "      <td>6_liv</td>\n",
       "      <td>T1</td>\n",
       "      <td>T3</td>\n",
       "    </tr>\n",
       "    <tr>\n",
       "      <th>3</th>\n",
       "      <td>Richard Bland</td>\n",
       "      <td>4.0</td>\n",
       "      <td>-15</td>\n",
       "      <td>2</td>\n",
       "      <td>-7.0</td>\n",
       "      <td>-4.0</td>\n",
       "      <td>-4.0</td>\n",
       "      <td>6</td>\n",
       "      <td>65.0</td>\n",
       "      <td>68.0</td>\n",
       "      <td>68.0</td>\n",
       "      <td>201.0</td>\n",
       "      <td>NaN</td>\n",
       "      <td>6516</td>\n",
       "      <td>Richard Bland</td>\n",
       "      <td>6_liv</td>\n",
       "      <td>T1</td>\n",
       "      <td>T3</td>\n",
       "    </tr>\n",
       "    <tr>\n",
       "      <th>4</th>\n",
       "      <td>Sihwan Kim</td>\n",
       "      <td>5.0</td>\n",
       "      <td>-15</td>\n",
       "      <td>17</td>\n",
       "      <td>-5.0</td>\n",
       "      <td>-6.0</td>\n",
       "      <td>-4.0</td>\n",
       "      <td>6</td>\n",
       "      <td>67.0</td>\n",
       "      <td>66.0</td>\n",
       "      <td>68.0</td>\n",
       "      <td>201.0</td>\n",
       "      <td>NaN</td>\n",
       "      <td>13307</td>\n",
       "      <td>Sihwan Kim</td>\n",
       "      <td>6_liv</td>\n",
       "      <td>T1</td>\n",
       "      <td>T3</td>\n",
       "    </tr>\n",
       "    <tr>\n",
       "      <th>...</th>\n",
       "      <td>...</td>\n",
       "      <td>...</td>\n",
       "      <td>...</td>\n",
       "      <td>...</td>\n",
       "      <td>...</td>\n",
       "      <td>...</td>\n",
       "      <td>...</td>\n",
       "      <td>...</td>\n",
       "      <td>...</td>\n",
       "      <td>...</td>\n",
       "      <td>...</td>\n",
       "      <td>...</td>\n",
       "      <td>...</td>\n",
       "      <td>...</td>\n",
       "      <td>...</td>\n",
       "      <td>...</td>\n",
       "      <td>...</td>\n",
       "      <td>...</td>\n",
       "    </tr>\n",
       "    <tr>\n",
       "      <th>1666</th>\n",
       "      <td>Mito Pereira</td>\n",
       "      <td>50.0</td>\n",
       "      <td>+5</td>\n",
       "      <td>74</td>\n",
       "      <td>3.0</td>\n",
       "      <td>1.0</td>\n",
       "      <td>1.0</td>\n",
       "      <td>36</td>\n",
       "      <td>73.0</td>\n",
       "      <td>71.0</td>\n",
       "      <td>71.0</td>\n",
       "      <td>215.0</td>\n",
       "      <td>NaN</td>\n",
       "      <td>19455</td>\n",
       "      <td>Guillermo Mito Pereira</td>\n",
       "      <td>36_liv</td>\n",
       "      <td>T11</td>\n",
       "      <td>T47</td>\n",
       "    </tr>\n",
       "    <tr>\n",
       "      <th>1667</th>\n",
       "      <td>Jason Kokrak</td>\n",
       "      <td>51.0</td>\n",
       "      <td>+6</td>\n",
       "      <td>60</td>\n",
       "      <td>3.0</td>\n",
       "      <td>3.0</td>\n",
       "      <td>0.0</td>\n",
       "      <td>36</td>\n",
       "      <td>73.0</td>\n",
       "      <td>73.0</td>\n",
       "      <td>70.0</td>\n",
       "      <td>216.0</td>\n",
       "      <td>NaN</td>\n",
       "      <td>12337</td>\n",
       "      <td>Jason Kokrak</td>\n",
       "      <td>36_liv</td>\n",
       "      <td>T16</td>\n",
       "      <td>51</td>\n",
       "    </tr>\n",
       "    <tr>\n",
       "      <th>1668</th>\n",
       "      <td>Cameron Smith</td>\n",
       "      <td>52.0</td>\n",
       "      <td>+10</td>\n",
       "      <td>63</td>\n",
       "      <td>3.0</td>\n",
       "      <td>3.0</td>\n",
       "      <td>4.0</td>\n",
       "      <td>36</td>\n",
       "      <td>73.0</td>\n",
       "      <td>73.0</td>\n",
       "      <td>74.0</td>\n",
       "      <td>220.0</td>\n",
       "      <td>NaN</td>\n",
       "      <td>15856</td>\n",
       "      <td>Cameron Smith</td>\n",
       "      <td>36_liv</td>\n",
       "      <td>T26</td>\n",
       "      <td>52</td>\n",
       "    </tr>\n",
       "    <tr>\n",
       "      <th>1669</th>\n",
       "      <td>Hudson Swafford</td>\n",
       "      <td>53.0</td>\n",
       "      <td>+13</td>\n",
       "      <td>36</td>\n",
       "      <td>8.0</td>\n",
       "      <td>8.0</td>\n",
       "      <td>-3.0</td>\n",
       "      <td>36</td>\n",
       "      <td>78.0</td>\n",
       "      <td>78.0</td>\n",
       "      <td>67.0</td>\n",
       "      <td>223.0</td>\n",
       "      <td>NaN</td>\n",
       "      <td>14706</td>\n",
       "      <td>Hudson Swafford</td>\n",
       "      <td>36_liv</td>\n",
       "      <td>T35</td>\n",
       "      <td>53</td>\n",
       "    </tr>\n",
       "    <tr>\n",
       "      <th>1670</th>\n",
       "      <td>Caleb Surratt</td>\n",
       "      <td>54.0</td>\n",
       "      <td>+18</td>\n",
       "      <td>149</td>\n",
       "      <td>10.0</td>\n",
       "      <td>3.0</td>\n",
       "      <td>5.0</td>\n",
       "      <td>36</td>\n",
       "      <td>80.0</td>\n",
       "      <td>73.0</td>\n",
       "      <td>75.0</td>\n",
       "      <td>228.0</td>\n",
       "      <td>NaN</td>\n",
       "      <td>30463</td>\n",
       "      <td>Caleb Surratt</td>\n",
       "      <td>36_liv</td>\n",
       "      <td>T46</td>\n",
       "      <td>54</td>\n",
       "    </tr>\n",
       "  </tbody>\n",
       "</table>\n",
       "<p>1671 rows × 18 columns</p>\n",
       "</div>"
      ],
      "text/plain": [
       "                  name  position totalScore  player_id_liv  R1_topar  \\\n",
       "0     Eugenio Chacarra       1.0        -19             57      -7.0   \n",
       "1         Patrick Reed       2.0        -16             54      -4.0   \n",
       "2           Paul Casey       3.0        -15             58      -1.0   \n",
       "3        Richard Bland       4.0        -15              2      -7.0   \n",
       "4           Sihwan Kim       5.0        -15             17      -5.0   \n",
       "...                ...       ...        ...            ...       ...   \n",
       "1666      Mito Pereira      50.0         +5             74       3.0   \n",
       "1667      Jason Kokrak      51.0         +6             60       3.0   \n",
       "1668     Cameron Smith      52.0        +10             63       3.0   \n",
       "1669   Hudson Swafford      53.0        +13             36       8.0   \n",
       "1670     Caleb Surratt      54.0        +18            149      10.0   \n",
       "\n",
       "      R2_topar  R3_topar tournament_id_liv    R1    R2    R3    AGG R4_topar  \\\n",
       "0         -9.0      -3.0                 6  65.0  63.0  69.0  197.0      NaN   \n",
       "1         -7.0      -5.0                 6  68.0  65.0  67.0  200.0      NaN   \n",
       "2         -7.0      -7.0                 6  71.0  65.0  65.0  201.0      NaN   \n",
       "3         -4.0      -4.0                 6  65.0  68.0  68.0  201.0      NaN   \n",
       "4         -6.0      -4.0                 6  67.0  66.0  68.0  201.0      NaN   \n",
       "...        ...       ...               ...   ...   ...   ...    ...      ...   \n",
       "1666       1.0       1.0                36  73.0  71.0  71.0  215.0      NaN   \n",
       "1667       3.0       0.0                36  73.0  73.0  70.0  216.0      NaN   \n",
       "1668       3.0       4.0                36  73.0  73.0  74.0  220.0      NaN   \n",
       "1669       8.0      -3.0                36  78.0  78.0  67.0  223.0      NaN   \n",
       "1670       3.0       5.0                36  80.0  73.0  75.0  228.0      NaN   \n",
       "\n",
       "      player_id                    NAME tournament_id Finish Pos Finish Pos.  \n",
       "0         26745        Eugenio Chacarra         6_liv         T1           1  \n",
       "1         14838            Patrick Reed         6_liv         T1           2  \n",
       "2          7108              Paul Casey         6_liv         T1          T3  \n",
       "3          6516           Richard Bland         6_liv         T1          T3  \n",
       "4         13307              Sihwan Kim         6_liv         T1          T3  \n",
       "...         ...                     ...           ...        ...         ...  \n",
       "1666      19455  Guillermo Mito Pereira        36_liv        T11         T47  \n",
       "1667      12337            Jason Kokrak        36_liv        T16          51  \n",
       "1668      15856           Cameron Smith        36_liv        T26          52  \n",
       "1669      14706         Hudson Swafford        36_liv        T35          53  \n",
       "1670      30463           Caleb Surratt        36_liv        T46          54  \n",
       "\n",
       "[1671 rows x 18 columns]"
      ]
     },
     "execution_count": 187,
     "metadata": {},
     "output_type": "execute_result"
    }
   ],
   "source": [
    "name_dict = dict(zip(df_merged[\"name\"], df_merged[\"NAME\"]))\n",
    "id_dict = dict(zip(df_merged[\"player_id_liv\"], df_merged[\"player_id\"]))\n",
    "\n",
    "liv_results[\"player_id_liv\"] = liv_results[\"player_id_liv\"].astype(int)\n",
    "liv_results[\"player_id\"] = liv_results[\"player_id_liv\"].map(id_dict)\n",
    "liv_results[\"NAME\"] = liv_results[\"name\"].map(name_dict)\n",
    "\n",
    "liv_results[\"tournament_id\"] = liv_results[\"tournament_id_liv\"] + \"_liv\"\n",
    "\n",
    "# Function to calculate 'Finish Pos', handling NaN values as 'WD'\n",
    "def calculate_finish_pos(df):\n",
    "    # Convert NaN in 'position' to 'WD' for withdrawals\n",
    "    df['Finish Pos.'] = df['position'].apply(lambda x: 'WD' if pd.isna(x) else str(int(x)))\n",
    "    \n",
    "    # Find ties (ignoring NaN/withdrawals)\n",
    "    tied_positions = df[df['Finish Pos'] != 'WD'].groupby('AGG').filter(lambda x: len(x) > 1)\n",
    "    \n",
    "    # Process ties\n",
    "    for agg_value in tied_positions['AGG'].unique():\n",
    "        tied_rows = df[(df['AGG'] == agg_value) & (df['Finish Pos'] != 'WD')]\n",
    "        min_pos = tied_rows['position'].min()\n",
    "        tied_finish = f'T{int(min_pos)}'\n",
    "        df.loc[(df['AGG'] == agg_value) & (df['Finish Pos'] != 'WD'), 'Finish Pos.'] = tied_finish\n",
    "    \n",
    "    return df\n",
    "\n",
    "# Function to group by 'tournament_id', apply finish pos calculation, and re-aggregate\n",
    "def fix_finish_pos_liv(df):\n",
    "    # Apply the finish position calculation for each tournament\n",
    "    return df.groupby('tournament_id', group_keys=False).apply(calculate_finish_pos).reset_index(drop=True)\n",
    "\n",
    "liv_results = fix_finish_pos_liv(liv_results)\n",
    "liv_results"
   ]
  },
  {
   "cell_type": "code",
   "execution_count": 188,
   "metadata": {},
   "outputs": [
    {
     "data": {
      "text/html": [
       "<div>\n",
       "<style scoped>\n",
       "    .dataframe tbody tr th:only-of-type {\n",
       "        vertical-align: middle;\n",
       "    }\n",
       "\n",
       "    .dataframe tbody tr th {\n",
       "        vertical-align: top;\n",
       "    }\n",
       "\n",
       "    .dataframe thead th {\n",
       "        text-align: right;\n",
       "    }\n",
       "</style>\n",
       "<table border=\"1\" class=\"dataframe\">\n",
       "  <thead>\n",
       "    <tr style=\"text-align: right;\">\n",
       "      <th></th>\n",
       "      <th>player_id</th>\n",
       "      <th>name</th>\n",
       "      <th>position</th>\n",
       "      <th>points_won</th>\n",
       "      <th>start_rank</th>\n",
       "      <th>end_rank</th>\n",
       "      <th>tournament_id</th>\n",
       "      <th>R1</th>\n",
       "      <th>R2</th>\n",
       "      <th>R3</th>\n",
       "      <th>R4</th>\n",
       "      <th>R5</th>\n",
       "      <th>total</th>\n",
       "    </tr>\n",
       "  </thead>\n",
       "  <tbody>\n",
       "    <tr>\n",
       "      <th>0</th>\n",
       "      <td>449</td>\n",
       "      <td>Mark McNulty</td>\n",
       "      <td>1</td>\n",
       "      <td>10.0</td>\n",
       "      <td>NaN</td>\n",
       "      <td>NaN</td>\n",
       "      <td>7</td>\n",
       "      <td>NaN</td>\n",
       "      <td>NaN</td>\n",
       "      <td>NaN</td>\n",
       "      <td>NaN</td>\n",
       "      <td>NaN</td>\n",
       "      <td>NaN</td>\n",
       "    </tr>\n",
       "    <tr>\n",
       "      <th>1</th>\n",
       "      <td>440</td>\n",
       "      <td>David Frost</td>\n",
       "      <td>2</td>\n",
       "      <td>6.0</td>\n",
       "      <td>NaN</td>\n",
       "      <td>NaN</td>\n",
       "      <td>7</td>\n",
       "      <td>NaN</td>\n",
       "      <td>NaN</td>\n",
       "      <td>NaN</td>\n",
       "      <td>NaN</td>\n",
       "      <td>NaN</td>\n",
       "      <td>NaN</td>\n",
       "    </tr>\n",
       "    <tr>\n",
       "      <th>2</th>\n",
       "      <td>446</td>\n",
       "      <td>Tony Johnstone</td>\n",
       "      <td>3</td>\n",
       "      <td>4.0</td>\n",
       "      <td>NaN</td>\n",
       "      <td>NaN</td>\n",
       "      <td>7</td>\n",
       "      <td>NaN</td>\n",
       "      <td>NaN</td>\n",
       "      <td>NaN</td>\n",
       "      <td>NaN</td>\n",
       "      <td>NaN</td>\n",
       "      <td>NaN</td>\n",
       "    </tr>\n",
       "    <tr>\n",
       "      <th>3</th>\n",
       "      <td>95</td>\n",
       "      <td>Rick Hartmann</td>\n",
       "      <td>T4</td>\n",
       "      <td>4.0</td>\n",
       "      <td>NaN</td>\n",
       "      <td>NaN</td>\n",
       "      <td>7</td>\n",
       "      <td>NaN</td>\n",
       "      <td>NaN</td>\n",
       "      <td>NaN</td>\n",
       "      <td>NaN</td>\n",
       "      <td>NaN</td>\n",
       "      <td>NaN</td>\n",
       "    </tr>\n",
       "    <tr>\n",
       "      <th>4</th>\n",
       "      <td>265</td>\n",
       "      <td>David Feherty</td>\n",
       "      <td>T4</td>\n",
       "      <td>4.0</td>\n",
       "      <td>NaN</td>\n",
       "      <td>NaN</td>\n",
       "      <td>7</td>\n",
       "      <td>NaN</td>\n",
       "      <td>NaN</td>\n",
       "      <td>NaN</td>\n",
       "      <td>NaN</td>\n",
       "      <td>NaN</td>\n",
       "      <td>NaN</td>\n",
       "    </tr>\n",
       "    <tr>\n",
       "      <th>...</th>\n",
       "      <td>...</td>\n",
       "      <td>...</td>\n",
       "      <td>...</td>\n",
       "      <td>...</td>\n",
       "      <td>...</td>\n",
       "      <td>...</td>\n",
       "      <td>...</td>\n",
       "      <td>...</td>\n",
       "      <td>...</td>\n",
       "      <td>...</td>\n",
       "      <td>...</td>\n",
       "      <td>...</td>\n",
       "      <td>...</td>\n",
       "    </tr>\n",
       "    <tr>\n",
       "      <th>1666</th>\n",
       "      <td>19455</td>\n",
       "      <td>Guillermo Mito Pereira</td>\n",
       "      <td>T47</td>\n",
       "      <td>NaN</td>\n",
       "      <td>NaN</td>\n",
       "      <td>NaN</td>\n",
       "      <td>36_liv</td>\n",
       "      <td>73.0</td>\n",
       "      <td>71.0</td>\n",
       "      <td>71.0</td>\n",
       "      <td>NaN</td>\n",
       "      <td>NaN</td>\n",
       "      <td>215.0</td>\n",
       "    </tr>\n",
       "    <tr>\n",
       "      <th>1667</th>\n",
       "      <td>12337</td>\n",
       "      <td>Jason Kokrak</td>\n",
       "      <td>51</td>\n",
       "      <td>NaN</td>\n",
       "      <td>NaN</td>\n",
       "      <td>NaN</td>\n",
       "      <td>36_liv</td>\n",
       "      <td>73.0</td>\n",
       "      <td>73.0</td>\n",
       "      <td>70.0</td>\n",
       "      <td>NaN</td>\n",
       "      <td>NaN</td>\n",
       "      <td>216.0</td>\n",
       "    </tr>\n",
       "    <tr>\n",
       "      <th>1668</th>\n",
       "      <td>15856</td>\n",
       "      <td>Cameron Smith</td>\n",
       "      <td>52</td>\n",
       "      <td>NaN</td>\n",
       "      <td>NaN</td>\n",
       "      <td>NaN</td>\n",
       "      <td>36_liv</td>\n",
       "      <td>73.0</td>\n",
       "      <td>73.0</td>\n",
       "      <td>74.0</td>\n",
       "      <td>NaN</td>\n",
       "      <td>NaN</td>\n",
       "      <td>220.0</td>\n",
       "    </tr>\n",
       "    <tr>\n",
       "      <th>1669</th>\n",
       "      <td>14706</td>\n",
       "      <td>Hudson Swafford</td>\n",
       "      <td>53</td>\n",
       "      <td>NaN</td>\n",
       "      <td>NaN</td>\n",
       "      <td>NaN</td>\n",
       "      <td>36_liv</td>\n",
       "      <td>78.0</td>\n",
       "      <td>78.0</td>\n",
       "      <td>67.0</td>\n",
       "      <td>NaN</td>\n",
       "      <td>NaN</td>\n",
       "      <td>223.0</td>\n",
       "    </tr>\n",
       "    <tr>\n",
       "      <th>1670</th>\n",
       "      <td>30463</td>\n",
       "      <td>Caleb Surratt</td>\n",
       "      <td>54</td>\n",
       "      <td>NaN</td>\n",
       "      <td>NaN</td>\n",
       "      <td>NaN</td>\n",
       "      <td>36_liv</td>\n",
       "      <td>80.0</td>\n",
       "      <td>73.0</td>\n",
       "      <td>75.0</td>\n",
       "      <td>NaN</td>\n",
       "      <td>NaN</td>\n",
       "      <td>228.0</td>\n",
       "    </tr>\n",
       "  </tbody>\n",
       "</table>\n",
       "<p>1140535 rows × 13 columns</p>\n",
       "</div>"
      ],
      "text/plain": [
       "     player_id                    name position  points_won  start_rank  \\\n",
       "0          449            Mark McNulty        1        10.0         NaN   \n",
       "1          440             David Frost        2         6.0         NaN   \n",
       "2          446          Tony Johnstone        3         4.0         NaN   \n",
       "3           95           Rick Hartmann       T4         4.0         NaN   \n",
       "4          265           David Feherty       T4         4.0         NaN   \n",
       "...        ...                     ...      ...         ...         ...   \n",
       "1666     19455  Guillermo Mito Pereira      T47         NaN         NaN   \n",
       "1667     12337            Jason Kokrak       51         NaN         NaN   \n",
       "1668     15856           Cameron Smith       52         NaN         NaN   \n",
       "1669     14706         Hudson Swafford       53         NaN         NaN   \n",
       "1670     30463           Caleb Surratt       54         NaN         NaN   \n",
       "\n",
       "      end_rank tournament_id    R1    R2    R3   R4   R5  total  \n",
       "0          NaN             7   NaN   NaN   NaN  NaN  NaN    NaN  \n",
       "1          NaN             7   NaN   NaN   NaN  NaN  NaN    NaN  \n",
       "2          NaN             7   NaN   NaN   NaN  NaN  NaN    NaN  \n",
       "3          NaN             7   NaN   NaN   NaN  NaN  NaN    NaN  \n",
       "4          NaN             7   NaN   NaN   NaN  NaN  NaN    NaN  \n",
       "...        ...           ...   ...   ...   ...  ...  ...    ...  \n",
       "1666       NaN        36_liv  73.0  71.0  71.0  NaN  NaN  215.0  \n",
       "1667       NaN        36_liv  73.0  73.0  70.0  NaN  NaN  216.0  \n",
       "1668       NaN        36_liv  73.0  73.0  74.0  NaN  NaN  220.0  \n",
       "1669       NaN        36_liv  78.0  78.0  67.0  NaN  NaN  223.0  \n",
       "1670       NaN        36_liv  80.0  73.0  75.0  NaN  NaN  228.0  \n",
       "\n",
       "[1140535 rows x 13 columns]"
      ]
     },
     "execution_count": 188,
     "metadata": {},
     "output_type": "execute_result"
    }
   ],
   "source": [
    "df_combined = pd.concat([tournament_scores, liv_results[[\"NAME\", \"player_id\", \"R1\", \"R2\", \"R3\", \"AGG\", \"tournament_id\", \"Finish Pos.\"]]])\n",
    "\n",
    "df_combined[\"points_won\"] = df_combined[\"POINTS WON\"].astype(float)\n",
    "df_combined[\"start_rank\"] = pd.to_numeric(df_combined['RANK FROM'].replace('-', np.nan), errors='coerce')\n",
    "df_combined[\"end_rank\"] = pd.to_numeric(df_combined['RANK TO'].replace('-', np.nan), errors='coerce')\n",
    "\n",
    "df_combined = df_combined[[\"player_id\", \"NAME\", \"Finish Pos.\", \"points_won\", \"start_rank\", \"end_rank\", \"tournament_id\", \"R1\", \"R2\", \"R3\", \"R4\", \"R5\", \"AGG\"]].rename(columns={\"NAME\": \"name\", \"Finish Pos.\": \"position\", \"AGG\": \"total\"})\n",
    "df_combined"
   ]
  },
  {
   "cell_type": "code",
   "execution_count": 193,
   "metadata": {},
   "outputs": [
    {
     "name": "stderr",
     "output_type": "stream",
     "text": [
      "/var/folders/76/xwx2gdv102jgvj2y2l_m0n8w0000gn/T/ipykernel_1658/1150902869.py:1: UserWarning: Could not infer format, so each element will be parsed individually, falling back to `dateutil`. To ensure parsing is consistent and as-expected, please specify a format.\n",
      "  metadata[\"date\"] = pd.to_datetime(metadata[\"Event Date\"])\n"
     ]
    },
    {
     "data": {
      "text/html": [
       "<div>\n",
       "<style scoped>\n",
       "    .dataframe tbody tr th:only-of-type {\n",
       "        vertical-align: middle;\n",
       "    }\n",
       "\n",
       "    .dataframe tbody tr th {\n",
       "        vertical-align: top;\n",
       "    }\n",
       "\n",
       "    .dataframe thead th {\n",
       "        text-align: right;\n",
       "    }\n",
       "</style>\n",
       "<table border=\"1\" class=\"dataframe\">\n",
       "  <thead>\n",
       "    <tr style=\"text-align: right;\">\n",
       "      <th></th>\n",
       "      <th>week</th>\n",
       "      <th>year</th>\n",
       "      <th>date</th>\n",
       "      <th>event</th>\n",
       "      <th>field_rating</th>\n",
       "      <th>tournament_id</th>\n",
       "      <th>tour_id</th>\n",
       "      <th>tour_name</th>\n",
       "      <th>tour_code</th>\n",
       "      <th>is_eligible</th>\n",
       "    </tr>\n",
       "  </thead>\n",
       "  <tbody>\n",
       "    <tr>\n",
       "      <th>0</th>\n",
       "      <td>5</td>\n",
       "      <td>1986</td>\n",
       "      <td>1986-02-02</td>\n",
       "      <td>Wild Coast Class</td>\n",
       "      <td>0.00000</td>\n",
       "      <td>7</td>\n",
       "      <td>2</td>\n",
       "      <td>Sunshine Tour</td>\n",
       "      <td>Afr</td>\n",
       "      <td>True</td>\n",
       "    </tr>\n",
       "    <tr>\n",
       "      <th>1</th>\n",
       "      <td>2</td>\n",
       "      <td>1986</td>\n",
       "      <td>1986-01-12</td>\n",
       "      <td>Tourn. of Champ.</td>\n",
       "      <td>116.00000</td>\n",
       "      <td>1</td>\n",
       "      <td>23</td>\n",
       "      <td>PGA Tour</td>\n",
       "      <td>PGAT</td>\n",
       "      <td>True</td>\n",
       "    </tr>\n",
       "    <tr>\n",
       "      <th>2</th>\n",
       "      <td>5</td>\n",
       "      <td>1986</td>\n",
       "      <td>1986-02-02</td>\n",
       "      <td>Tasmanian Open</td>\n",
       "      <td>0.00000</td>\n",
       "      <td>8</td>\n",
       "      <td>4</td>\n",
       "      <td>PGA Tour of Australasia</td>\n",
       "      <td>ANZ</td>\n",
       "      <td>True</td>\n",
       "    </tr>\n",
       "    <tr>\n",
       "      <th>3</th>\n",
       "      <td>4</td>\n",
       "      <td>1986</td>\n",
       "      <td>1986-01-26</td>\n",
       "      <td>Lexington PGA</td>\n",
       "      <td>0.00000</td>\n",
       "      <td>5</td>\n",
       "      <td>2</td>\n",
       "      <td>Sunshine Tour</td>\n",
       "      <td>Afr</td>\n",
       "      <td>True</td>\n",
       "    </tr>\n",
       "    <tr>\n",
       "      <th>4</th>\n",
       "      <td>3</td>\n",
       "      <td>1986</td>\n",
       "      <td>1986-01-19</td>\n",
       "      <td>ICL Internat'nal</td>\n",
       "      <td>0.00000</td>\n",
       "      <td>3</td>\n",
       "      <td>2</td>\n",
       "      <td>Sunshine Tour</td>\n",
       "      <td>Afr</td>\n",
       "      <td>True</td>\n",
       "    </tr>\n",
       "    <tr>\n",
       "      <th>...</th>\n",
       "      <td>...</td>\n",
       "      <td>...</td>\n",
       "      <td>...</td>\n",
       "      <td>...</td>\n",
       "      <td>...</td>\n",
       "      <td>...</td>\n",
       "      <td>...</td>\n",
       "      <td>...</td>\n",
       "      <td>...</td>\n",
       "      <td>...</td>\n",
       "    </tr>\n",
       "    <tr>\n",
       "      <th>29</th>\n",
       "      <td>25</td>\n",
       "      <td>2024</td>\n",
       "      <td>2024-06-23</td>\n",
       "      <td>Nashville_liv</td>\n",
       "      <td>NaN</td>\n",
       "      <td>32_liv</td>\n",
       "      <td>41</td>\n",
       "      <td>Liv Golf</td>\n",
       "      <td>liv</td>\n",
       "      <td>False</td>\n",
       "    </tr>\n",
       "    <tr>\n",
       "      <th>30</th>\n",
       "      <td>28</td>\n",
       "      <td>2024</td>\n",
       "      <td>2024-07-14</td>\n",
       "      <td>Andalucía_liv</td>\n",
       "      <td>NaN</td>\n",
       "      <td>33_liv</td>\n",
       "      <td>41</td>\n",
       "      <td>Liv Golf</td>\n",
       "      <td>liv</td>\n",
       "      <td>False</td>\n",
       "    </tr>\n",
       "    <tr>\n",
       "      <th>31</th>\n",
       "      <td>30</td>\n",
       "      <td>2024</td>\n",
       "      <td>2024-07-28</td>\n",
       "      <td>United Kingdom_liv</td>\n",
       "      <td>NaN</td>\n",
       "      <td>34_liv</td>\n",
       "      <td>41</td>\n",
       "      <td>Liv Golf</td>\n",
       "      <td>liv</td>\n",
       "      <td>False</td>\n",
       "    </tr>\n",
       "    <tr>\n",
       "      <th>32</th>\n",
       "      <td>33</td>\n",
       "      <td>2024</td>\n",
       "      <td>2024-08-18</td>\n",
       "      <td>Greenbrier _liv</td>\n",
       "      <td>NaN</td>\n",
       "      <td>35_liv</td>\n",
       "      <td>41</td>\n",
       "      <td>Liv Golf</td>\n",
       "      <td>liv</td>\n",
       "      <td>False</td>\n",
       "    </tr>\n",
       "    <tr>\n",
       "      <th>33</th>\n",
       "      <td>37</td>\n",
       "      <td>2024</td>\n",
       "      <td>2024-09-15</td>\n",
       "      <td>Chicago_liv</td>\n",
       "      <td>NaN</td>\n",
       "      <td>36_liv</td>\n",
       "      <td>41</td>\n",
       "      <td>Liv Golf</td>\n",
       "      <td>liv</td>\n",
       "      <td>False</td>\n",
       "    </tr>\n",
       "  </tbody>\n",
       "</table>\n",
       "<p>9188 rows × 10 columns</p>\n",
       "</div>"
      ],
      "text/plain": [
       "    week  year        date               event field_rating tournament_id  \\\n",
       "0      5  1986  1986-02-02    Wild Coast Class      0.00000             7   \n",
       "1      2  1986  1986-01-12    Tourn. of Champ.    116.00000             1   \n",
       "2      5  1986  1986-02-02      Tasmanian Open      0.00000             8   \n",
       "3      4  1986  1986-01-26       Lexington PGA      0.00000             5   \n",
       "4      3  1986  1986-01-19    ICL Internat'nal      0.00000             3   \n",
       "..   ...   ...         ...                 ...          ...           ...   \n",
       "29    25  2024  2024-06-23       Nashville_liv          NaN        32_liv   \n",
       "30    28  2024  2024-07-14       Andalucía_liv          NaN        33_liv   \n",
       "31    30  2024  2024-07-28  United Kingdom_liv          NaN        34_liv   \n",
       "32    33  2024  2024-08-18     Greenbrier _liv          NaN        35_liv   \n",
       "33    37  2024  2024-09-15         Chicago_liv          NaN        36_liv   \n",
       "\n",
       "    tour_id                tour_name tour_code  is_eligible  \n",
       "0         2            Sunshine Tour       Afr         True  \n",
       "1        23                 PGA Tour      PGAT         True  \n",
       "2         4  PGA Tour of Australasia       ANZ         True  \n",
       "3         2            Sunshine Tour       Afr         True  \n",
       "4         2            Sunshine Tour       Afr         True  \n",
       "..      ...                      ...       ...          ...  \n",
       "29       41                 Liv Golf       liv        False  \n",
       "30       41                 Liv Golf       liv        False  \n",
       "31       41                 Liv Golf       liv        False  \n",
       "32       41                 Liv Golf       liv        False  \n",
       "33       41                 Liv Golf       liv        False  \n",
       "\n",
       "[9188 rows x 10 columns]"
      ]
     },
     "execution_count": 193,
     "metadata": {},
     "output_type": "execute_result"
    }
   ],
   "source": [
    "metadata[\"date\"] = pd.to_datetime(metadata[\"Event Date\"])\n",
    "metadata[\"date\"] = pd.to_datetime(metadata[\"date\"])\n",
    "\n",
    "metadata[\"week\"] = metadata[\"date\"].dt.isocalendar().week\n",
    "metadata[\"year\"] = metadata[\"date\"].dt.isocalendar().year\n",
    "\n",
    "metadata[\"date\"] = metadata[\"date\"].dt.date\n",
    "\n",
    "# metadata['week'] = metadata['Week'].str.extract('(\\d+)').astype(int)\n",
    "\n",
    "liv_info_df[\"date\"] = pd.to_datetime(liv_info_df[\"endDate\"], format='%Y-%m-%dT%H:%M:%S.%f%z', utc=True)\n",
    "liv_info_df[\"week\"] = liv_info_df[\"date\"].dt.isocalendar().week\n",
    "liv_info_df[\"year\"] = liv_info_df[\"date\"].dt.isocalendar().year\n",
    "\n",
    "liv_info_df[\"date\"] = liv_info_df[\"date\"].dt.date\n",
    "\n",
    "liv_info_df[\"tournament_id\"] = liv_info_df[\"eventId\"].astype(str) + \"_liv\"\n",
    "liv_info_df[\"Event Title\"] = liv_info_df[\"eventTitle\"] + \"_liv\"\n",
    "liv_info_df[\"name\"] = \"Liv Golf\"\n",
    "liv_info_df[\"tourId\"] = metadata.tourId.max() + 1\n",
    "liv_info_df[\"code\"] = \"liv\"\n",
    "liv_info_df[\"isEligible\"] = False\n",
    "\n",
    "events = pd.concat([metadata[[\"week\", \"year\", \"date\", \"Event Title\", \"Field Rating\", \"tournament_id\", \"tourId\", \"name\", \"code\", \"isEligible\"]], liv_info_df[[\"date\", \"week\", \"year\", \"Event Title\", \"tournament_id\", \"tourId\", \"name\", \"code\", \"isEligible\"]]])\n",
    "events = events.rename(columns={\"Event Title\": \"event\", \"Field Rating\": \"field_rating\", \"tourId\": \"tour_id\", \"name\": \"tour_name\", \"isEligible\": \"is_eligible\", \"code\": \"tour_code\"})\n",
    "events"
   ]
  },
  {
   "cell_type": "code",
   "execution_count": 195,
   "metadata": {},
   "outputs": [
    {
     "data": {
      "text/html": [
       "<div>\n",
       "<style scoped>\n",
       "    .dataframe tbody tr th:only-of-type {\n",
       "        vertical-align: middle;\n",
       "    }\n",
       "\n",
       "    .dataframe tbody tr th {\n",
       "        vertical-align: top;\n",
       "    }\n",
       "\n",
       "    .dataframe thead th {\n",
       "        text-align: right;\n",
       "    }\n",
       "</style>\n",
       "<table border=\"1\" class=\"dataframe\">\n",
       "  <thead>\n",
       "    <tr style=\"text-align: right;\">\n",
       "      <th></th>\n",
       "      <th>player_id</th>\n",
       "      <th>name</th>\n",
       "      <th>position</th>\n",
       "      <th>points_won</th>\n",
       "      <th>start_rank</th>\n",
       "      <th>end_rank</th>\n",
       "      <th>tournament_id</th>\n",
       "      <th>R1</th>\n",
       "      <th>R2</th>\n",
       "      <th>R3</th>\n",
       "      <th>...</th>\n",
       "      <th>total</th>\n",
       "      <th>week</th>\n",
       "      <th>year</th>\n",
       "      <th>date</th>\n",
       "      <th>event</th>\n",
       "      <th>field_rating</th>\n",
       "      <th>tour_id</th>\n",
       "      <th>tour_name</th>\n",
       "      <th>tour_code</th>\n",
       "      <th>is_eligible</th>\n",
       "    </tr>\n",
       "  </thead>\n",
       "  <tbody>\n",
       "    <tr>\n",
       "      <th>0</th>\n",
       "      <td>449</td>\n",
       "      <td>Mark McNulty</td>\n",
       "      <td>1</td>\n",
       "      <td>10.0</td>\n",
       "      <td>NaN</td>\n",
       "      <td>NaN</td>\n",
       "      <td>7</td>\n",
       "      <td>NaN</td>\n",
       "      <td>NaN</td>\n",
       "      <td>NaN</td>\n",
       "      <td>...</td>\n",
       "      <td>NaN</td>\n",
       "      <td>5</td>\n",
       "      <td>1986</td>\n",
       "      <td>1986-02-02</td>\n",
       "      <td>Wild Coast Class</td>\n",
       "      <td>0.00000</td>\n",
       "      <td>2</td>\n",
       "      <td>Sunshine Tour</td>\n",
       "      <td>Afr</td>\n",
       "      <td>True</td>\n",
       "    </tr>\n",
       "    <tr>\n",
       "      <th>1</th>\n",
       "      <td>440</td>\n",
       "      <td>David Frost</td>\n",
       "      <td>2</td>\n",
       "      <td>6.0</td>\n",
       "      <td>NaN</td>\n",
       "      <td>NaN</td>\n",
       "      <td>7</td>\n",
       "      <td>NaN</td>\n",
       "      <td>NaN</td>\n",
       "      <td>NaN</td>\n",
       "      <td>...</td>\n",
       "      <td>NaN</td>\n",
       "      <td>5</td>\n",
       "      <td>1986</td>\n",
       "      <td>1986-02-02</td>\n",
       "      <td>Wild Coast Class</td>\n",
       "      <td>0.00000</td>\n",
       "      <td>2</td>\n",
       "      <td>Sunshine Tour</td>\n",
       "      <td>Afr</td>\n",
       "      <td>True</td>\n",
       "    </tr>\n",
       "    <tr>\n",
       "      <th>2</th>\n",
       "      <td>446</td>\n",
       "      <td>Tony Johnstone</td>\n",
       "      <td>3</td>\n",
       "      <td>4.0</td>\n",
       "      <td>NaN</td>\n",
       "      <td>NaN</td>\n",
       "      <td>7</td>\n",
       "      <td>NaN</td>\n",
       "      <td>NaN</td>\n",
       "      <td>NaN</td>\n",
       "      <td>...</td>\n",
       "      <td>NaN</td>\n",
       "      <td>5</td>\n",
       "      <td>1986</td>\n",
       "      <td>1986-02-02</td>\n",
       "      <td>Wild Coast Class</td>\n",
       "      <td>0.00000</td>\n",
       "      <td>2</td>\n",
       "      <td>Sunshine Tour</td>\n",
       "      <td>Afr</td>\n",
       "      <td>True</td>\n",
       "    </tr>\n",
       "    <tr>\n",
       "      <th>3</th>\n",
       "      <td>95</td>\n",
       "      <td>Rick Hartmann</td>\n",
       "      <td>T4</td>\n",
       "      <td>4.0</td>\n",
       "      <td>NaN</td>\n",
       "      <td>NaN</td>\n",
       "      <td>7</td>\n",
       "      <td>NaN</td>\n",
       "      <td>NaN</td>\n",
       "      <td>NaN</td>\n",
       "      <td>...</td>\n",
       "      <td>NaN</td>\n",
       "      <td>5</td>\n",
       "      <td>1986</td>\n",
       "      <td>1986-02-02</td>\n",
       "      <td>Wild Coast Class</td>\n",
       "      <td>0.00000</td>\n",
       "      <td>2</td>\n",
       "      <td>Sunshine Tour</td>\n",
       "      <td>Afr</td>\n",
       "      <td>True</td>\n",
       "    </tr>\n",
       "    <tr>\n",
       "      <th>4</th>\n",
       "      <td>265</td>\n",
       "      <td>David Feherty</td>\n",
       "      <td>T4</td>\n",
       "      <td>4.0</td>\n",
       "      <td>NaN</td>\n",
       "      <td>NaN</td>\n",
       "      <td>7</td>\n",
       "      <td>NaN</td>\n",
       "      <td>NaN</td>\n",
       "      <td>NaN</td>\n",
       "      <td>...</td>\n",
       "      <td>NaN</td>\n",
       "      <td>5</td>\n",
       "      <td>1986</td>\n",
       "      <td>1986-02-02</td>\n",
       "      <td>Wild Coast Class</td>\n",
       "      <td>0.00000</td>\n",
       "      <td>2</td>\n",
       "      <td>Sunshine Tour</td>\n",
       "      <td>Afr</td>\n",
       "      <td>True</td>\n",
       "    </tr>\n",
       "    <tr>\n",
       "      <th>...</th>\n",
       "      <td>...</td>\n",
       "      <td>...</td>\n",
       "      <td>...</td>\n",
       "      <td>...</td>\n",
       "      <td>...</td>\n",
       "      <td>...</td>\n",
       "      <td>...</td>\n",
       "      <td>...</td>\n",
       "      <td>...</td>\n",
       "      <td>...</td>\n",
       "      <td>...</td>\n",
       "      <td>...</td>\n",
       "      <td>...</td>\n",
       "      <td>...</td>\n",
       "      <td>...</td>\n",
       "      <td>...</td>\n",
       "      <td>...</td>\n",
       "      <td>...</td>\n",
       "      <td>...</td>\n",
       "      <td>...</td>\n",
       "      <td>...</td>\n",
       "    </tr>\n",
       "    <tr>\n",
       "      <th>1140530</th>\n",
       "      <td>19455</td>\n",
       "      <td>Guillermo Mito Pereira</td>\n",
       "      <td>T47</td>\n",
       "      <td>NaN</td>\n",
       "      <td>NaN</td>\n",
       "      <td>NaN</td>\n",
       "      <td>36_liv</td>\n",
       "      <td>73.0</td>\n",
       "      <td>71.0</td>\n",
       "      <td>71.0</td>\n",
       "      <td>...</td>\n",
       "      <td>215.0</td>\n",
       "      <td>37</td>\n",
       "      <td>2024</td>\n",
       "      <td>2024-09-15</td>\n",
       "      <td>Chicago_liv</td>\n",
       "      <td>NaN</td>\n",
       "      <td>41</td>\n",
       "      <td>Liv Golf</td>\n",
       "      <td>liv</td>\n",
       "      <td>False</td>\n",
       "    </tr>\n",
       "    <tr>\n",
       "      <th>1140531</th>\n",
       "      <td>12337</td>\n",
       "      <td>Jason Kokrak</td>\n",
       "      <td>51</td>\n",
       "      <td>NaN</td>\n",
       "      <td>NaN</td>\n",
       "      <td>NaN</td>\n",
       "      <td>36_liv</td>\n",
       "      <td>73.0</td>\n",
       "      <td>73.0</td>\n",
       "      <td>70.0</td>\n",
       "      <td>...</td>\n",
       "      <td>216.0</td>\n",
       "      <td>37</td>\n",
       "      <td>2024</td>\n",
       "      <td>2024-09-15</td>\n",
       "      <td>Chicago_liv</td>\n",
       "      <td>NaN</td>\n",
       "      <td>41</td>\n",
       "      <td>Liv Golf</td>\n",
       "      <td>liv</td>\n",
       "      <td>False</td>\n",
       "    </tr>\n",
       "    <tr>\n",
       "      <th>1140532</th>\n",
       "      <td>15856</td>\n",
       "      <td>Cameron Smith</td>\n",
       "      <td>52</td>\n",
       "      <td>NaN</td>\n",
       "      <td>NaN</td>\n",
       "      <td>NaN</td>\n",
       "      <td>36_liv</td>\n",
       "      <td>73.0</td>\n",
       "      <td>73.0</td>\n",
       "      <td>74.0</td>\n",
       "      <td>...</td>\n",
       "      <td>220.0</td>\n",
       "      <td>37</td>\n",
       "      <td>2024</td>\n",
       "      <td>2024-09-15</td>\n",
       "      <td>Chicago_liv</td>\n",
       "      <td>NaN</td>\n",
       "      <td>41</td>\n",
       "      <td>Liv Golf</td>\n",
       "      <td>liv</td>\n",
       "      <td>False</td>\n",
       "    </tr>\n",
       "    <tr>\n",
       "      <th>1140533</th>\n",
       "      <td>14706</td>\n",
       "      <td>Hudson Swafford</td>\n",
       "      <td>53</td>\n",
       "      <td>NaN</td>\n",
       "      <td>NaN</td>\n",
       "      <td>NaN</td>\n",
       "      <td>36_liv</td>\n",
       "      <td>78.0</td>\n",
       "      <td>78.0</td>\n",
       "      <td>67.0</td>\n",
       "      <td>...</td>\n",
       "      <td>223.0</td>\n",
       "      <td>37</td>\n",
       "      <td>2024</td>\n",
       "      <td>2024-09-15</td>\n",
       "      <td>Chicago_liv</td>\n",
       "      <td>NaN</td>\n",
       "      <td>41</td>\n",
       "      <td>Liv Golf</td>\n",
       "      <td>liv</td>\n",
       "      <td>False</td>\n",
       "    </tr>\n",
       "    <tr>\n",
       "      <th>1140534</th>\n",
       "      <td>30463</td>\n",
       "      <td>Caleb Surratt</td>\n",
       "      <td>54</td>\n",
       "      <td>NaN</td>\n",
       "      <td>NaN</td>\n",
       "      <td>NaN</td>\n",
       "      <td>36_liv</td>\n",
       "      <td>80.0</td>\n",
       "      <td>73.0</td>\n",
       "      <td>75.0</td>\n",
       "      <td>...</td>\n",
       "      <td>228.0</td>\n",
       "      <td>37</td>\n",
       "      <td>2024</td>\n",
       "      <td>2024-09-15</td>\n",
       "      <td>Chicago_liv</td>\n",
       "      <td>NaN</td>\n",
       "      <td>41</td>\n",
       "      <td>Liv Golf</td>\n",
       "      <td>liv</td>\n",
       "      <td>False</td>\n",
       "    </tr>\n",
       "  </tbody>\n",
       "</table>\n",
       "<p>1140535 rows × 22 columns</p>\n",
       "</div>"
      ],
      "text/plain": [
       "        player_id                    name position  points_won  start_rank  \\\n",
       "0             449            Mark McNulty        1        10.0         NaN   \n",
       "1             440             David Frost        2         6.0         NaN   \n",
       "2             446          Tony Johnstone        3         4.0         NaN   \n",
       "3              95           Rick Hartmann       T4         4.0         NaN   \n",
       "4             265           David Feherty       T4         4.0         NaN   \n",
       "...           ...                     ...      ...         ...         ...   \n",
       "1140530     19455  Guillermo Mito Pereira      T47         NaN         NaN   \n",
       "1140531     12337            Jason Kokrak       51         NaN         NaN   \n",
       "1140532     15856           Cameron Smith       52         NaN         NaN   \n",
       "1140533     14706         Hudson Swafford       53         NaN         NaN   \n",
       "1140534     30463           Caleb Surratt       54         NaN         NaN   \n",
       "\n",
       "         end_rank tournament_id    R1    R2    R3  ...  total week  year  \\\n",
       "0             NaN             7   NaN   NaN   NaN  ...    NaN    5  1986   \n",
       "1             NaN             7   NaN   NaN   NaN  ...    NaN    5  1986   \n",
       "2             NaN             7   NaN   NaN   NaN  ...    NaN    5  1986   \n",
       "3             NaN             7   NaN   NaN   NaN  ...    NaN    5  1986   \n",
       "4             NaN             7   NaN   NaN   NaN  ...    NaN    5  1986   \n",
       "...           ...           ...   ...   ...   ...  ...    ...  ...   ...   \n",
       "1140530       NaN        36_liv  73.0  71.0  71.0  ...  215.0   37  2024   \n",
       "1140531       NaN        36_liv  73.0  73.0  70.0  ...  216.0   37  2024   \n",
       "1140532       NaN        36_liv  73.0  73.0  74.0  ...  220.0   37  2024   \n",
       "1140533       NaN        36_liv  78.0  78.0  67.0  ...  223.0   37  2024   \n",
       "1140534       NaN        36_liv  80.0  73.0  75.0  ...  228.0   37  2024   \n",
       "\n",
       "               date             event field_rating tour_id      tour_name  \\\n",
       "0        1986-02-02  Wild Coast Class      0.00000       2  Sunshine Tour   \n",
       "1        1986-02-02  Wild Coast Class      0.00000       2  Sunshine Tour   \n",
       "2        1986-02-02  Wild Coast Class      0.00000       2  Sunshine Tour   \n",
       "3        1986-02-02  Wild Coast Class      0.00000       2  Sunshine Tour   \n",
       "4        1986-02-02  Wild Coast Class      0.00000       2  Sunshine Tour   \n",
       "...             ...               ...          ...     ...            ...   \n",
       "1140530  2024-09-15       Chicago_liv          NaN      41       Liv Golf   \n",
       "1140531  2024-09-15       Chicago_liv          NaN      41       Liv Golf   \n",
       "1140532  2024-09-15       Chicago_liv          NaN      41       Liv Golf   \n",
       "1140533  2024-09-15       Chicago_liv          NaN      41       Liv Golf   \n",
       "1140534  2024-09-15       Chicago_liv          NaN      41       Liv Golf   \n",
       "\n",
       "         tour_code is_eligible  \n",
       "0              Afr        True  \n",
       "1              Afr        True  \n",
       "2              Afr        True  \n",
       "3              Afr        True  \n",
       "4              Afr        True  \n",
       "...            ...         ...  \n",
       "1140530        liv       False  \n",
       "1140531        liv       False  \n",
       "1140532        liv       False  \n",
       "1140533        liv       False  \n",
       "1140534        liv       False  \n",
       "\n",
       "[1140535 rows x 22 columns]"
      ]
     },
     "execution_count": 195,
     "metadata": {},
     "output_type": "execute_result"
    }
   ],
   "source": [
    "merged_df = pd.merge(df_combined, events, on=\"tournament_id\", how=\"left\")\n",
    "merged_df"
   ]
  },
  {
   "cell_type": "code",
   "execution_count": 196,
   "metadata": {},
   "outputs": [],
   "source": [
    "merged_df.to_csv(\"project_data.csv\", index=False)"
   ]
  },
  {
   "cell_type": "code",
   "execution_count": 178,
   "metadata": {},
   "outputs": [
    {
     "data": {
      "text/html": [
       "<div>\n",
       "<style scoped>\n",
       "    .dataframe tbody tr th:only-of-type {\n",
       "        vertical-align: middle;\n",
       "    }\n",
       "\n",
       "    .dataframe tbody tr th {\n",
       "        vertical-align: top;\n",
       "    }\n",
       "\n",
       "    .dataframe thead th {\n",
       "        text-align: right;\n",
       "    }\n",
       "</style>\n",
       "<table border=\"1\" class=\"dataframe\">\n",
       "  <thead>\n",
       "    <tr style=\"text-align: right;\">\n",
       "      <th></th>\n",
       "      <th>Week</th>\n",
       "      <th>Event Date</th>\n",
       "      <th>Event Title</th>\n",
       "      <th>Field Rating</th>\n",
       "      <th>tournament_id</th>\n",
       "      <th>tourId</th>\n",
       "      <th>currencyId</th>\n",
       "      <th>name</th>\n",
       "      <th>fullName</th>\n",
       "      <th>code</th>\n",
       "      <th>isEligible</th>\n",
       "      <th>date</th>\n",
       "      <th>week</th>\n",
       "      <th>year</th>\n",
       "    </tr>\n",
       "  </thead>\n",
       "  <tbody>\n",
       "    <tr>\n",
       "      <th>0</th>\n",
       "      <td>5</td>\n",
       "      <td>2ND FEBRUARY 1986</td>\n",
       "      <td>Wild Coast Class</td>\n",
       "      <td>0.00000</td>\n",
       "      <td>7</td>\n",
       "      <td>2</td>\n",
       "      <td>0</td>\n",
       "      <td>Sunshine Tour</td>\n",
       "      <td>Sunshine Tour</td>\n",
       "      <td>Afr</td>\n",
       "      <td>True</td>\n",
       "      <td>1986-02-02</td>\n",
       "      <td>5</td>\n",
       "      <td>1986</td>\n",
       "    </tr>\n",
       "    <tr>\n",
       "      <th>1</th>\n",
       "      <td>2</td>\n",
       "      <td>12TH JANUARY 1986</td>\n",
       "      <td>Tourn. of Champ.</td>\n",
       "      <td>116.00000</td>\n",
       "      <td>1</td>\n",
       "      <td>23</td>\n",
       "      <td>0</td>\n",
       "      <td>PGA Tour</td>\n",
       "      <td>PGA Tour</td>\n",
       "      <td>PGAT</td>\n",
       "      <td>True</td>\n",
       "      <td>1986-01-12</td>\n",
       "      <td>2</td>\n",
       "      <td>1986</td>\n",
       "    </tr>\n",
       "    <tr>\n",
       "      <th>2</th>\n",
       "      <td>5</td>\n",
       "      <td>2ND FEBRUARY 1986</td>\n",
       "      <td>Tasmanian Open</td>\n",
       "      <td>0.00000</td>\n",
       "      <td>8</td>\n",
       "      <td>4</td>\n",
       "      <td>0</td>\n",
       "      <td>PGA Tour of Australasia</td>\n",
       "      <td>PGA Tour of Australasia</td>\n",
       "      <td>ANZ</td>\n",
       "      <td>True</td>\n",
       "      <td>1986-02-02</td>\n",
       "      <td>5</td>\n",
       "      <td>1986</td>\n",
       "    </tr>\n",
       "    <tr>\n",
       "      <th>3</th>\n",
       "      <td>4</td>\n",
       "      <td>26TH JANUARY 1986</td>\n",
       "      <td>Lexington PGA</td>\n",
       "      <td>0.00000</td>\n",
       "      <td>5</td>\n",
       "      <td>2</td>\n",
       "      <td>0</td>\n",
       "      <td>Sunshine Tour</td>\n",
       "      <td>Sunshine Tour</td>\n",
       "      <td>Afr</td>\n",
       "      <td>True</td>\n",
       "      <td>1986-01-26</td>\n",
       "      <td>4</td>\n",
       "      <td>1986</td>\n",
       "    </tr>\n",
       "    <tr>\n",
       "      <th>4</th>\n",
       "      <td>3</td>\n",
       "      <td>19TH JANUARY 1986</td>\n",
       "      <td>ICL Internat'nal</td>\n",
       "      <td>0.00000</td>\n",
       "      <td>3</td>\n",
       "      <td>2</td>\n",
       "      <td>0</td>\n",
       "      <td>Sunshine Tour</td>\n",
       "      <td>Sunshine Tour</td>\n",
       "      <td>Afr</td>\n",
       "      <td>True</td>\n",
       "      <td>1986-01-19</td>\n",
       "      <td>3</td>\n",
       "      <td>1986</td>\n",
       "    </tr>\n",
       "    <tr>\n",
       "      <th>...</th>\n",
       "      <td>...</td>\n",
       "      <td>...</td>\n",
       "      <td>...</td>\n",
       "      <td>...</td>\n",
       "      <td>...</td>\n",
       "      <td>...</td>\n",
       "      <td>...</td>\n",
       "      <td>...</td>\n",
       "      <td>...</td>\n",
       "      <td>...</td>\n",
       "      <td>...</td>\n",
       "      <td>...</td>\n",
       "      <td>...</td>\n",
       "      <td>...</td>\n",
       "    </tr>\n",
       "    <tr>\n",
       "      <th>9149</th>\n",
       "      <td>40</td>\n",
       "      <td>6TH OCTOBER 2024</td>\n",
       "      <td>Vizag Open</td>\n",
       "      <td>4.99762</td>\n",
       "      <td>10606</td>\n",
       "      <td>25</td>\n",
       "      <td>0</td>\n",
       "      <td>Professional Golf Tour of India</td>\n",
       "      <td>Professional Golf Tour of India</td>\n",
       "      <td>PGTI</td>\n",
       "      <td>True</td>\n",
       "      <td>2024-10-06</td>\n",
       "      <td>40</td>\n",
       "      <td>2024</td>\n",
       "    </tr>\n",
       "    <tr>\n",
       "      <th>9150</th>\n",
       "      <td>40</td>\n",
       "      <td>6TH OCTOBER 2024</td>\n",
       "      <td>Ryo Ishikawa everyone PROJECT Challenge</td>\n",
       "      <td>7.23574</td>\n",
       "      <td>10604</td>\n",
       "      <td>7</td>\n",
       "      <td>0</td>\n",
       "      <td>Abema TV Tour</td>\n",
       "      <td>Abema TV Tour</td>\n",
       "      <td>ATVT</td>\n",
       "      <td>True</td>\n",
       "      <td>2024-10-06</td>\n",
       "      <td>40</td>\n",
       "      <td>2024</td>\n",
       "    </tr>\n",
       "    <tr>\n",
       "      <th>9151</th>\n",
       "      <td>40</td>\n",
       "      <td>6TH OCTOBER 2024</td>\n",
       "      <td>ACN Championship Golf Tournament</td>\n",
       "      <td>33.52272</td>\n",
       "      <td>10603</td>\n",
       "      <td>15</td>\n",
       "      <td>0</td>\n",
       "      <td>Japan Golf Tour</td>\n",
       "      <td>Japan Golf Tour</td>\n",
       "      <td>Jpn</td>\n",
       "      <td>True</td>\n",
       "      <td>2024-10-06</td>\n",
       "      <td>40</td>\n",
       "      <td>2024</td>\n",
       "    </tr>\n",
       "    <tr>\n",
       "      <th>9152</th>\n",
       "      <td>40</td>\n",
       "      <td>6TH OCTOBER 2024</td>\n",
       "      <td>Mercuries Taiwan Masters</td>\n",
       "      <td>24.52166</td>\n",
       "      <td>10605</td>\n",
       "      <td>5</td>\n",
       "      <td>0</td>\n",
       "      <td>Asian Tour</td>\n",
       "      <td>Asian Tour</td>\n",
       "      <td>Asa</td>\n",
       "      <td>True</td>\n",
       "      <td>2024-10-06</td>\n",
       "      <td>40</td>\n",
       "      <td>2024</td>\n",
       "    </tr>\n",
       "    <tr>\n",
       "      <th>9153</th>\n",
       "      <td>40</td>\n",
       "      <td>6TH OCTOBER 2024</td>\n",
       "      <td>SunBet Challenge hosted by Sun Sibaya</td>\n",
       "      <td>10.50679</td>\n",
       "      <td>10608</td>\n",
       "      <td>2</td>\n",
       "      <td>0</td>\n",
       "      <td>Sunshine Tour</td>\n",
       "      <td>Sunshine Tour</td>\n",
       "      <td>Afr</td>\n",
       "      <td>True</td>\n",
       "      <td>2024-10-06</td>\n",
       "      <td>40</td>\n",
       "      <td>2024</td>\n",
       "    </tr>\n",
       "  </tbody>\n",
       "</table>\n",
       "<p>9154 rows × 14 columns</p>\n",
       "</div>"
      ],
      "text/plain": [
       "      Week         Event Date                              Event Title  \\\n",
       "0        5  2ND FEBRUARY 1986                         Wild Coast Class   \n",
       "1        2  12TH JANUARY 1986                         Tourn. of Champ.   \n",
       "2        5  2ND FEBRUARY 1986                           Tasmanian Open   \n",
       "3        4  26TH JANUARY 1986                            Lexington PGA   \n",
       "4        3  19TH JANUARY 1986                         ICL Internat'nal   \n",
       "...    ...                ...                                      ...   \n",
       "9149    40   6TH OCTOBER 2024                               Vizag Open   \n",
       "9150    40   6TH OCTOBER 2024  Ryo Ishikawa everyone PROJECT Challenge   \n",
       "9151    40   6TH OCTOBER 2024         ACN Championship Golf Tournament   \n",
       "9152    40   6TH OCTOBER 2024                 Mercuries Taiwan Masters   \n",
       "9153    40   6TH OCTOBER 2024    SunBet Challenge hosted by Sun Sibaya   \n",
       "\n",
       "     Field Rating tournament_id  tourId  currencyId  \\\n",
       "0         0.00000             7       2           0   \n",
       "1       116.00000             1      23           0   \n",
       "2         0.00000             8       4           0   \n",
       "3         0.00000             5       2           0   \n",
       "4         0.00000             3       2           0   \n",
       "...           ...           ...     ...         ...   \n",
       "9149      4.99762         10606      25           0   \n",
       "9150      7.23574         10604       7           0   \n",
       "9151     33.52272         10603      15           0   \n",
       "9152     24.52166         10605       5           0   \n",
       "9153     10.50679         10608       2           0   \n",
       "\n",
       "                                 name                         fullName  code  \\\n",
       "0                       Sunshine Tour                    Sunshine Tour   Afr   \n",
       "1                            PGA Tour                         PGA Tour  PGAT   \n",
       "2             PGA Tour of Australasia          PGA Tour of Australasia   ANZ   \n",
       "3                       Sunshine Tour                    Sunshine Tour   Afr   \n",
       "4                       Sunshine Tour                    Sunshine Tour   Afr   \n",
       "...                               ...                              ...   ...   \n",
       "9149  Professional Golf Tour of India  Professional Golf Tour of India  PGTI   \n",
       "9150                    Abema TV Tour                    Abema TV Tour  ATVT   \n",
       "9151                  Japan Golf Tour                  Japan Golf Tour   Jpn   \n",
       "9152                       Asian Tour                       Asian Tour   Asa   \n",
       "9153                    Sunshine Tour                    Sunshine Tour   Afr   \n",
       "\n",
       "      isEligible        date  week  year  \n",
       "0           True  1986-02-02     5  1986  \n",
       "1           True  1986-01-12     2  1986  \n",
       "2           True  1986-02-02     5  1986  \n",
       "3           True  1986-01-26     4  1986  \n",
       "4           True  1986-01-19     3  1986  \n",
       "...          ...         ...   ...   ...  \n",
       "9149        True  2024-10-06    40  2024  \n",
       "9150        True  2024-10-06    40  2024  \n",
       "9151        True  2024-10-06    40  2024  \n",
       "9152        True  2024-10-06    40  2024  \n",
       "9153        True  2024-10-06    40  2024  \n",
       "\n",
       "[9154 rows x 14 columns]"
      ]
     },
     "execution_count": 178,
     "metadata": {},
     "output_type": "execute_result"
    }
   ],
   "source": [
    "metadata"
   ]
  },
  {
   "cell_type": "code",
   "execution_count": 179,
   "metadata": {},
   "outputs": [
    {
     "name": "stderr",
     "output_type": "stream",
     "text": [
      "/var/folders/76/xwx2gdv102jgvj2y2l_m0n8w0000gn/T/ipykernel_1658/2347864032.py:1: UserWarning: Could not infer format, so each element will be parsed individually, falling back to `dateutil`. To ensure parsing is consistent and as-expected, please specify a format.\n",
      "  metadata[\"date\"] = pd.to_datetime(metadata[\"Event Date\"])\n"
     ]
    },
    {
     "data": {
      "text/html": [
       "<div>\n",
       "<style scoped>\n",
       "    .dataframe tbody tr th:only-of-type {\n",
       "        vertical-align: middle;\n",
       "    }\n",
       "\n",
       "    .dataframe tbody tr th {\n",
       "        vertical-align: top;\n",
       "    }\n",
       "\n",
       "    .dataframe thead th {\n",
       "        text-align: right;\n",
       "    }\n",
       "</style>\n",
       "<table border=\"1\" class=\"dataframe\">\n",
       "  <thead>\n",
       "    <tr style=\"text-align: right;\">\n",
       "      <th></th>\n",
       "      <th>Week</th>\n",
       "      <th>Event Date</th>\n",
       "      <th>Event Title</th>\n",
       "      <th>Field Rating</th>\n",
       "      <th>tournament_id</th>\n",
       "      <th>tourId</th>\n",
       "      <th>currencyId</th>\n",
       "      <th>name</th>\n",
       "      <th>fullName</th>\n",
       "      <th>code</th>\n",
       "      <th>isEligible</th>\n",
       "      <th>date</th>\n",
       "      <th>week</th>\n",
       "      <th>year</th>\n",
       "    </tr>\n",
       "  </thead>\n",
       "  <tbody>\n",
       "    <tr>\n",
       "      <th>0</th>\n",
       "      <td>5</td>\n",
       "      <td>2ND FEBRUARY 1986</td>\n",
       "      <td>Wild Coast Class</td>\n",
       "      <td>0.00000</td>\n",
       "      <td>7</td>\n",
       "      <td>2</td>\n",
       "      <td>0</td>\n",
       "      <td>Sunshine Tour</td>\n",
       "      <td>Sunshine Tour</td>\n",
       "      <td>Afr</td>\n",
       "      <td>True</td>\n",
       "      <td>1986-02-02</td>\n",
       "      <td>5</td>\n",
       "      <td>1986</td>\n",
       "    </tr>\n",
       "    <tr>\n",
       "      <th>1</th>\n",
       "      <td>2</td>\n",
       "      <td>12TH JANUARY 1986</td>\n",
       "      <td>Tourn. of Champ.</td>\n",
       "      <td>116.00000</td>\n",
       "      <td>1</td>\n",
       "      <td>23</td>\n",
       "      <td>0</td>\n",
       "      <td>PGA Tour</td>\n",
       "      <td>PGA Tour</td>\n",
       "      <td>PGAT</td>\n",
       "      <td>True</td>\n",
       "      <td>1986-01-12</td>\n",
       "      <td>2</td>\n",
       "      <td>1986</td>\n",
       "    </tr>\n",
       "    <tr>\n",
       "      <th>2</th>\n",
       "      <td>5</td>\n",
       "      <td>2ND FEBRUARY 1986</td>\n",
       "      <td>Tasmanian Open</td>\n",
       "      <td>0.00000</td>\n",
       "      <td>8</td>\n",
       "      <td>4</td>\n",
       "      <td>0</td>\n",
       "      <td>PGA Tour of Australasia</td>\n",
       "      <td>PGA Tour of Australasia</td>\n",
       "      <td>ANZ</td>\n",
       "      <td>True</td>\n",
       "      <td>1986-02-02</td>\n",
       "      <td>5</td>\n",
       "      <td>1986</td>\n",
       "    </tr>\n",
       "    <tr>\n",
       "      <th>3</th>\n",
       "      <td>4</td>\n",
       "      <td>26TH JANUARY 1986</td>\n",
       "      <td>Lexington PGA</td>\n",
       "      <td>0.00000</td>\n",
       "      <td>5</td>\n",
       "      <td>2</td>\n",
       "      <td>0</td>\n",
       "      <td>Sunshine Tour</td>\n",
       "      <td>Sunshine Tour</td>\n",
       "      <td>Afr</td>\n",
       "      <td>True</td>\n",
       "      <td>1986-01-26</td>\n",
       "      <td>4</td>\n",
       "      <td>1986</td>\n",
       "    </tr>\n",
       "    <tr>\n",
       "      <th>4</th>\n",
       "      <td>3</td>\n",
       "      <td>19TH JANUARY 1986</td>\n",
       "      <td>ICL Internat'nal</td>\n",
       "      <td>0.00000</td>\n",
       "      <td>3</td>\n",
       "      <td>2</td>\n",
       "      <td>0</td>\n",
       "      <td>Sunshine Tour</td>\n",
       "      <td>Sunshine Tour</td>\n",
       "      <td>Afr</td>\n",
       "      <td>True</td>\n",
       "      <td>1986-01-19</td>\n",
       "      <td>3</td>\n",
       "      <td>1986</td>\n",
       "    </tr>\n",
       "    <tr>\n",
       "      <th>...</th>\n",
       "      <td>...</td>\n",
       "      <td>...</td>\n",
       "      <td>...</td>\n",
       "      <td>...</td>\n",
       "      <td>...</td>\n",
       "      <td>...</td>\n",
       "      <td>...</td>\n",
       "      <td>...</td>\n",
       "      <td>...</td>\n",
       "      <td>...</td>\n",
       "      <td>...</td>\n",
       "      <td>...</td>\n",
       "      <td>...</td>\n",
       "      <td>...</td>\n",
       "    </tr>\n",
       "    <tr>\n",
       "      <th>9149</th>\n",
       "      <td>40</td>\n",
       "      <td>6TH OCTOBER 2024</td>\n",
       "      <td>Vizag Open</td>\n",
       "      <td>4.99762</td>\n",
       "      <td>10606</td>\n",
       "      <td>25</td>\n",
       "      <td>0</td>\n",
       "      <td>Professional Golf Tour of India</td>\n",
       "      <td>Professional Golf Tour of India</td>\n",
       "      <td>PGTI</td>\n",
       "      <td>True</td>\n",
       "      <td>2024-10-06</td>\n",
       "      <td>40</td>\n",
       "      <td>2024</td>\n",
       "    </tr>\n",
       "    <tr>\n",
       "      <th>9150</th>\n",
       "      <td>40</td>\n",
       "      <td>6TH OCTOBER 2024</td>\n",
       "      <td>Ryo Ishikawa everyone PROJECT Challenge</td>\n",
       "      <td>7.23574</td>\n",
       "      <td>10604</td>\n",
       "      <td>7</td>\n",
       "      <td>0</td>\n",
       "      <td>Abema TV Tour</td>\n",
       "      <td>Abema TV Tour</td>\n",
       "      <td>ATVT</td>\n",
       "      <td>True</td>\n",
       "      <td>2024-10-06</td>\n",
       "      <td>40</td>\n",
       "      <td>2024</td>\n",
       "    </tr>\n",
       "    <tr>\n",
       "      <th>9151</th>\n",
       "      <td>40</td>\n",
       "      <td>6TH OCTOBER 2024</td>\n",
       "      <td>ACN Championship Golf Tournament</td>\n",
       "      <td>33.52272</td>\n",
       "      <td>10603</td>\n",
       "      <td>15</td>\n",
       "      <td>0</td>\n",
       "      <td>Japan Golf Tour</td>\n",
       "      <td>Japan Golf Tour</td>\n",
       "      <td>Jpn</td>\n",
       "      <td>True</td>\n",
       "      <td>2024-10-06</td>\n",
       "      <td>40</td>\n",
       "      <td>2024</td>\n",
       "    </tr>\n",
       "    <tr>\n",
       "      <th>9152</th>\n",
       "      <td>40</td>\n",
       "      <td>6TH OCTOBER 2024</td>\n",
       "      <td>Mercuries Taiwan Masters</td>\n",
       "      <td>24.52166</td>\n",
       "      <td>10605</td>\n",
       "      <td>5</td>\n",
       "      <td>0</td>\n",
       "      <td>Asian Tour</td>\n",
       "      <td>Asian Tour</td>\n",
       "      <td>Asa</td>\n",
       "      <td>True</td>\n",
       "      <td>2024-10-06</td>\n",
       "      <td>40</td>\n",
       "      <td>2024</td>\n",
       "    </tr>\n",
       "    <tr>\n",
       "      <th>9153</th>\n",
       "      <td>40</td>\n",
       "      <td>6TH OCTOBER 2024</td>\n",
       "      <td>SunBet Challenge hosted by Sun Sibaya</td>\n",
       "      <td>10.50679</td>\n",
       "      <td>10608</td>\n",
       "      <td>2</td>\n",
       "      <td>0</td>\n",
       "      <td>Sunshine Tour</td>\n",
       "      <td>Sunshine Tour</td>\n",
       "      <td>Afr</td>\n",
       "      <td>True</td>\n",
       "      <td>2024-10-06</td>\n",
       "      <td>40</td>\n",
       "      <td>2024</td>\n",
       "    </tr>\n",
       "  </tbody>\n",
       "</table>\n",
       "<p>9154 rows × 14 columns</p>\n",
       "</div>"
      ],
      "text/plain": [
       "      Week         Event Date                              Event Title  \\\n",
       "0        5  2ND FEBRUARY 1986                         Wild Coast Class   \n",
       "1        2  12TH JANUARY 1986                         Tourn. of Champ.   \n",
       "2        5  2ND FEBRUARY 1986                           Tasmanian Open   \n",
       "3        4  26TH JANUARY 1986                            Lexington PGA   \n",
       "4        3  19TH JANUARY 1986                         ICL Internat'nal   \n",
       "...    ...                ...                                      ...   \n",
       "9149    40   6TH OCTOBER 2024                               Vizag Open   \n",
       "9150    40   6TH OCTOBER 2024  Ryo Ishikawa everyone PROJECT Challenge   \n",
       "9151    40   6TH OCTOBER 2024         ACN Championship Golf Tournament   \n",
       "9152    40   6TH OCTOBER 2024                 Mercuries Taiwan Masters   \n",
       "9153    40   6TH OCTOBER 2024    SunBet Challenge hosted by Sun Sibaya   \n",
       "\n",
       "     Field Rating tournament_id  tourId  currencyId  \\\n",
       "0         0.00000             7       2           0   \n",
       "1       116.00000             1      23           0   \n",
       "2         0.00000             8       4           0   \n",
       "3         0.00000             5       2           0   \n",
       "4         0.00000             3       2           0   \n",
       "...           ...           ...     ...         ...   \n",
       "9149      4.99762         10606      25           0   \n",
       "9150      7.23574         10604       7           0   \n",
       "9151     33.52272         10603      15           0   \n",
       "9152     24.52166         10605       5           0   \n",
       "9153     10.50679         10608       2           0   \n",
       "\n",
       "                                 name                         fullName  code  \\\n",
       "0                       Sunshine Tour                    Sunshine Tour   Afr   \n",
       "1                            PGA Tour                         PGA Tour  PGAT   \n",
       "2             PGA Tour of Australasia          PGA Tour of Australasia   ANZ   \n",
       "3                       Sunshine Tour                    Sunshine Tour   Afr   \n",
       "4                       Sunshine Tour                    Sunshine Tour   Afr   \n",
       "...                               ...                              ...   ...   \n",
       "9149  Professional Golf Tour of India  Professional Golf Tour of India  PGTI   \n",
       "9150                    Abema TV Tour                    Abema TV Tour  ATVT   \n",
       "9151                  Japan Golf Tour                  Japan Golf Tour   Jpn   \n",
       "9152                       Asian Tour                       Asian Tour   Asa   \n",
       "9153                    Sunshine Tour                    Sunshine Tour   Afr   \n",
       "\n",
       "      isEligible        date  week  year  \n",
       "0           True  1986-02-02     5  1986  \n",
       "1           True  1986-01-12     2  1986  \n",
       "2           True  1986-02-02     5  1986  \n",
       "3           True  1986-01-26     4  1986  \n",
       "4           True  1986-01-19     3  1986  \n",
       "...          ...         ...   ...   ...  \n",
       "9149        True  2024-10-06    40  2024  \n",
       "9150        True  2024-10-06    40  2024  \n",
       "9151        True  2024-10-06    40  2024  \n",
       "9152        True  2024-10-06    40  2024  \n",
       "9153        True  2024-10-06    40  2024  \n",
       "\n",
       "[9154 rows x 14 columns]"
      ]
     },
     "execution_count": 179,
     "metadata": {},
     "output_type": "execute_result"
    }
   ],
   "source": [
    "metadata[\"date\"] = pd.to_datetime(metadata[\"Event Date\"])\n",
    "metadata[\"date\"] = pd.to_datetime(metadata[\"date\"])\n",
    "\n",
    "metadata[\"week\"] = metadata[\"date\"].dt.isocalendar().week\n",
    "metadata[\"year\"] = metadata[\"date\"].dt.isocalendar().year\n",
    "\n",
    "metadata[\"date\"] = metadata[\"date\"].dt.date\n",
    "\n",
    "# metadata['week'] = metadata['Week'].str.extract('(\\d+)').astype(int)\n",
    "metadata"
   ]
  },
  {
   "cell_type": "code",
   "execution_count": 186,
   "metadata": {},
   "outputs": [
    {
     "name": "stderr",
     "output_type": "stream",
     "text": [
      "/var/folders/76/xwx2gdv102jgvj2y2l_m0n8w0000gn/T/ipykernel_1658/2274815483.py:1: UserWarning: Could not infer format, so each element will be parsed individually, falling back to `dateutil`. To ensure parsing is consistent and as-expected, please specify a format.\n",
      "  metadata[\"date\"] = pd.to_datetime(metadata[\"Event Date\"])\n"
     ]
    },
    {
     "data": {
      "text/html": [
       "<div>\n",
       "<style scoped>\n",
       "    .dataframe tbody tr th:only-of-type {\n",
       "        vertical-align: middle;\n",
       "    }\n",
       "\n",
       "    .dataframe tbody tr th {\n",
       "        vertical-align: top;\n",
       "    }\n",
       "\n",
       "    .dataframe thead th {\n",
       "        text-align: right;\n",
       "    }\n",
       "</style>\n",
       "<table border=\"1\" class=\"dataframe\">\n",
       "  <thead>\n",
       "    <tr style=\"text-align: right;\">\n",
       "      <th></th>\n",
       "      <th>week</th>\n",
       "      <th>year</th>\n",
       "      <th>date</th>\n",
       "      <th>event</th>\n",
       "      <th>field_rating</th>\n",
       "      <th>tournament_id</th>\n",
       "      <th>tourId</th>\n",
       "      <th>name</th>\n",
       "      <th>code</th>\n",
       "      <th>isEligible</th>\n",
       "    </tr>\n",
       "  </thead>\n",
       "  <tbody>\n",
       "    <tr>\n",
       "      <th>0</th>\n",
       "      <td>5</td>\n",
       "      <td>1986</td>\n",
       "      <td>1986-02-02</td>\n",
       "      <td>Wild Coast Class</td>\n",
       "      <td>0.00000</td>\n",
       "      <td>7</td>\n",
       "      <td>2</td>\n",
       "      <td>Sunshine Tour</td>\n",
       "      <td>Afr</td>\n",
       "      <td>True</td>\n",
       "    </tr>\n",
       "    <tr>\n",
       "      <th>1</th>\n",
       "      <td>2</td>\n",
       "      <td>1986</td>\n",
       "      <td>1986-01-12</td>\n",
       "      <td>Tourn. of Champ.</td>\n",
       "      <td>116.00000</td>\n",
       "      <td>1</td>\n",
       "      <td>23</td>\n",
       "      <td>PGA Tour</td>\n",
       "      <td>PGAT</td>\n",
       "      <td>True</td>\n",
       "    </tr>\n",
       "    <tr>\n",
       "      <th>2</th>\n",
       "      <td>5</td>\n",
       "      <td>1986</td>\n",
       "      <td>1986-02-02</td>\n",
       "      <td>Tasmanian Open</td>\n",
       "      <td>0.00000</td>\n",
       "      <td>8</td>\n",
       "      <td>4</td>\n",
       "      <td>PGA Tour of Australasia</td>\n",
       "      <td>ANZ</td>\n",
       "      <td>True</td>\n",
       "    </tr>\n",
       "    <tr>\n",
       "      <th>3</th>\n",
       "      <td>4</td>\n",
       "      <td>1986</td>\n",
       "      <td>1986-01-26</td>\n",
       "      <td>Lexington PGA</td>\n",
       "      <td>0.00000</td>\n",
       "      <td>5</td>\n",
       "      <td>2</td>\n",
       "      <td>Sunshine Tour</td>\n",
       "      <td>Afr</td>\n",
       "      <td>True</td>\n",
       "    </tr>\n",
       "    <tr>\n",
       "      <th>4</th>\n",
       "      <td>3</td>\n",
       "      <td>1986</td>\n",
       "      <td>1986-01-19</td>\n",
       "      <td>ICL Internat'nal</td>\n",
       "      <td>0.00000</td>\n",
       "      <td>3</td>\n",
       "      <td>2</td>\n",
       "      <td>Sunshine Tour</td>\n",
       "      <td>Afr</td>\n",
       "      <td>True</td>\n",
       "    </tr>\n",
       "    <tr>\n",
       "      <th>...</th>\n",
       "      <td>...</td>\n",
       "      <td>...</td>\n",
       "      <td>...</td>\n",
       "      <td>...</td>\n",
       "      <td>...</td>\n",
       "      <td>...</td>\n",
       "      <td>...</td>\n",
       "      <td>...</td>\n",
       "      <td>...</td>\n",
       "      <td>...</td>\n",
       "    </tr>\n",
       "    <tr>\n",
       "      <th>29</th>\n",
       "      <td>25</td>\n",
       "      <td>2024</td>\n",
       "      <td>2024-06-23</td>\n",
       "      <td>Nashville_liv</td>\n",
       "      <td>NaN</td>\n",
       "      <td>32_liv</td>\n",
       "      <td>41</td>\n",
       "      <td>Liv Golf</td>\n",
       "      <td>liv</td>\n",
       "      <td>False</td>\n",
       "    </tr>\n",
       "    <tr>\n",
       "      <th>30</th>\n",
       "      <td>28</td>\n",
       "      <td>2024</td>\n",
       "      <td>2024-07-14</td>\n",
       "      <td>Andalucía_liv</td>\n",
       "      <td>NaN</td>\n",
       "      <td>33_liv</td>\n",
       "      <td>41</td>\n",
       "      <td>Liv Golf</td>\n",
       "      <td>liv</td>\n",
       "      <td>False</td>\n",
       "    </tr>\n",
       "    <tr>\n",
       "      <th>31</th>\n",
       "      <td>30</td>\n",
       "      <td>2024</td>\n",
       "      <td>2024-07-28</td>\n",
       "      <td>United Kingdom_liv</td>\n",
       "      <td>NaN</td>\n",
       "      <td>34_liv</td>\n",
       "      <td>41</td>\n",
       "      <td>Liv Golf</td>\n",
       "      <td>liv</td>\n",
       "      <td>False</td>\n",
       "    </tr>\n",
       "    <tr>\n",
       "      <th>32</th>\n",
       "      <td>33</td>\n",
       "      <td>2024</td>\n",
       "      <td>2024-08-18</td>\n",
       "      <td>Greenbrier _liv</td>\n",
       "      <td>NaN</td>\n",
       "      <td>35_liv</td>\n",
       "      <td>41</td>\n",
       "      <td>Liv Golf</td>\n",
       "      <td>liv</td>\n",
       "      <td>False</td>\n",
       "    </tr>\n",
       "    <tr>\n",
       "      <th>33</th>\n",
       "      <td>37</td>\n",
       "      <td>2024</td>\n",
       "      <td>2024-09-15</td>\n",
       "      <td>Chicago_liv</td>\n",
       "      <td>NaN</td>\n",
       "      <td>36_liv</td>\n",
       "      <td>41</td>\n",
       "      <td>Liv Golf</td>\n",
       "      <td>liv</td>\n",
       "      <td>False</td>\n",
       "    </tr>\n",
       "  </tbody>\n",
       "</table>\n",
       "<p>9188 rows × 10 columns</p>\n",
       "</div>"
      ],
      "text/plain": [
       "    week  year        date               event field_rating tournament_id  \\\n",
       "0      5  1986  1986-02-02    Wild Coast Class      0.00000             7   \n",
       "1      2  1986  1986-01-12    Tourn. of Champ.    116.00000             1   \n",
       "2      5  1986  1986-02-02      Tasmanian Open      0.00000             8   \n",
       "3      4  1986  1986-01-26       Lexington PGA      0.00000             5   \n",
       "4      3  1986  1986-01-19    ICL Internat'nal      0.00000             3   \n",
       "..   ...   ...         ...                 ...          ...           ...   \n",
       "29    25  2024  2024-06-23       Nashville_liv          NaN        32_liv   \n",
       "30    28  2024  2024-07-14       Andalucía_liv          NaN        33_liv   \n",
       "31    30  2024  2024-07-28  United Kingdom_liv          NaN        34_liv   \n",
       "32    33  2024  2024-08-18     Greenbrier _liv          NaN        35_liv   \n",
       "33    37  2024  2024-09-15         Chicago_liv          NaN        36_liv   \n",
       "\n",
       "    tourId                     name  code  isEligible  \n",
       "0        2            Sunshine Tour   Afr        True  \n",
       "1       23                 PGA Tour  PGAT        True  \n",
       "2        4  PGA Tour of Australasia   ANZ        True  \n",
       "3        2            Sunshine Tour   Afr        True  \n",
       "4        2            Sunshine Tour   Afr        True  \n",
       "..     ...                      ...   ...         ...  \n",
       "29      41                 Liv Golf   liv       False  \n",
       "30      41                 Liv Golf   liv       False  \n",
       "31      41                 Liv Golf   liv       False  \n",
       "32      41                 Liv Golf   liv       False  \n",
       "33      41                 Liv Golf   liv       False  \n",
       "\n",
       "[9188 rows x 10 columns]"
      ]
     },
     "execution_count": 186,
     "metadata": {},
     "output_type": "execute_result"
    }
   ],
   "source": []
  },
  {
   "cell_type": "code",
   "execution_count": 182,
   "metadata": {},
   "outputs": [
    {
     "data": {
      "text/plain": [
       "np.float64(40.0)"
      ]
     },
     "execution_count": 182,
     "metadata": {},
     "output_type": "execute_result"
    }
   ],
   "source": [
    "events.tourId.max()"
   ]
  },
  {
   "cell_type": "code",
   "execution_count": 149,
   "metadata": {},
   "outputs": [],
   "source": [
    "events.to_csv(\"proejct_events.csv\", index=False)"
   ]
  }
 ],
 "metadata": {
  "kernelspec": {
   "display_name": "Python 3",
   "language": "python",
   "name": "python3"
  },
  "language_info": {
   "codemirror_mode": {
    "name": "ipython",
    "version": 3
   },
   "file_extension": ".py",
   "mimetype": "text/x-python",
   "name": "python",
   "nbconvert_exporter": "python",
   "pygments_lexer": "ipython3",
   "version": "3.9.6"
  }
 },
 "nbformat": 4,
 "nbformat_minor": 2
}
